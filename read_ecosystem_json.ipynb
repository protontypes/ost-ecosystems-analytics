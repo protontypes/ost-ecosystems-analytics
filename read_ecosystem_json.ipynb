{
 "cells": [
  {
   "cell_type": "code",
   "execution_count": 2,
   "id": "4405547e",
   "metadata": {},
   "outputs": [],
   "source": [
    "import requests\n",
    "import pandas as pd\n",
    "from opensustainTemplate import *\n",
    "\n",
    "URL = \"https://ost.ecosyste.ms/api/v1/projects/packages\"\n",
    "FILE_TO_SAVE_AS = \"ecosystems_downloads.json\" # the name you want to save file as\n",
    "\n",
    "\n",
    "resp = requests.get(URL) # making requests to server\n",
    "\n",
    "with open(FILE_TO_SAVE_AS, \"wb\") as f: # opening a file handler to create new file \n",
    "    f.write(resp.content) # writing content to file"
   ]
  },
  {
   "cell_type": "code",
   "execution_count": 3,
   "id": "61707d43",
   "metadata": {},
   "outputs": [
    {
     "data": {
      "text/html": [
       "<div>\n",
       "<style scoped>\n",
       "    .dataframe tbody tr th:only-of-type {\n",
       "        vertical-align: middle;\n",
       "    }\n",
       "\n",
       "    .dataframe tbody tr th {\n",
       "        vertical-align: top;\n",
       "    }\n",
       "\n",
       "    .dataframe thead th {\n",
       "        text-align: right;\n",
       "    }\n",
       "</style>\n",
       "<table border=\"1\" class=\"dataframe\">\n",
       "  <thead>\n",
       "    <tr style=\"text-align: right;\">\n",
       "      <th></th>\n",
       "      <th>id</th>\n",
       "      <th>name</th>\n",
       "      <th>description</th>\n",
       "      <th>url</th>\n",
       "      <th>last_synced_at</th>\n",
       "      <th>repository</th>\n",
       "      <th>owner</th>\n",
       "      <th>packages</th>\n",
       "      <th>commits</th>\n",
       "      <th>issues_stats</th>\n",
       "      <th>...</th>\n",
       "      <th>dependencies</th>\n",
       "      <th>score</th>\n",
       "      <th>created_at</th>\n",
       "      <th>updated_at</th>\n",
       "      <th>avatar_url</th>\n",
       "      <th>language</th>\n",
       "      <th>category</th>\n",
       "      <th>sub_category</th>\n",
       "      <th>project_url</th>\n",
       "      <th>html_url</th>\n",
       "    </tr>\n",
       "  </thead>\n",
       "  <tbody>\n",
       "    <tr>\n",
       "      <th>0</th>\n",
       "      <td>20618</td>\n",
       "      <td>netcdf-python</td>\n",
       "      <td>The Unidata network Common Data Form (netCDF) ...</td>\n",
       "      <td>https://github.com/Unidata/netcdf4-python</td>\n",
       "      <td>2023-12-07 01:19:20.097000+00:00</td>\n",
       "      <td>{'uuid': '15884459', 'full_name': 'Unidata/net...</td>\n",
       "      <td>{'login': 'Unidata', 'name': 'Unidata', 'uuid'...</td>\n",
       "      <td>[{'name': 'netcdf4', 'ecosystem': 'pypi', 'des...</td>\n",
       "      <td>{'full_name': 'Unidata/netcdf4-python', 'defau...</td>\n",
       "      <td>{'full_name': 'Unidata/netcdf4-python', 'html_...</td>\n",
       "      <td>...</td>\n",
       "      <td>[{'ecosystem': 'actions', 'filepath': '.github...</td>\n",
       "      <td>25.510734</td>\n",
       "      <td>2023-09-11 14:52:14.006000+00:00</td>\n",
       "      <td>2023-12-07 01:19:20.100000+00:00</td>\n",
       "      <td>https://github.com/Unidata.png</td>\n",
       "      <td>Cython</td>\n",
       "      <td>Climate Change</td>\n",
       "      <td>Climate Data Standards</td>\n",
       "      <td>https://ost.ecosyste.ms/api/v1/projects/20618</td>\n",
       "      <td>https://ost.ecosyste.ms/projects/20618</td>\n",
       "    </tr>\n",
       "    <tr>\n",
       "      <th>1</th>\n",
       "      <td>19753</td>\n",
       "      <td>pvlib-python</td>\n",
       "      <td>A set of documented functions for simulating t...</td>\n",
       "      <td>https://github.com/pvlib/pvlib-python</td>\n",
       "      <td>2023-12-07 00:53:31.605000+00:00</td>\n",
       "      <td>{'uuid': '30895522', 'full_name': 'pvlib/pvlib...</td>\n",
       "      <td>{'login': 'pvlib', 'name': 'pvlib', 'uuid': '1...</td>\n",
       "      <td>[{'name': 'pvlib', 'ecosystem': 'pypi', 'descr...</td>\n",
       "      <td>{'full_name': 'pvlib/pvlib-python', 'default_b...</td>\n",
       "      <td>{'full_name': 'pvlib/pvlib-python', 'html_url'...</td>\n",
       "      <td>...</td>\n",
       "      <td>[{'ecosystem': 'actions', 'filepath': '.github...</td>\n",
       "      <td>24.248670</td>\n",
       "      <td>2023-09-11 14:52:06.879000+00:00</td>\n",
       "      <td>2023-12-07 00:53:31.610000+00:00</td>\n",
       "      <td>https://github.com/pvlib.png</td>\n",
       "      <td>Python</td>\n",
       "      <td>Renewable Energy</td>\n",
       "      <td>Photovoltaics and Solar Energy</td>\n",
       "      <td>https://ost.ecosyste.ms/api/v1/projects/19753</td>\n",
       "      <td>https://ost.ecosyste.ms/projects/19753</td>\n",
       "    </tr>\n",
       "    <tr>\n",
       "      <th>2</th>\n",
       "      <td>20183</td>\n",
       "      <td>kube-green</td>\n",
       "      <td>A k8s operator to reduce CO2 footprint of your...</td>\n",
       "      <td>https://github.com/kube-green/kube-green</td>\n",
       "      <td>2023-12-08 05:15:16.153000+00:00</td>\n",
       "      <td>{'uuid': '340965344', 'full_name': 'kube-green...</td>\n",
       "      <td>{'login': 'kube-green', 'name': 'kube-green', ...</td>\n",
       "      <td>[{'name': 'kubegreen/kube-green', 'ecosystem':...</td>\n",
       "      <td>{'full_name': 'kube-green/kube-green', 'defaul...</td>\n",
       "      <td>{'full_name': 'kube-green/kube-green', 'html_u...</td>\n",
       "      <td>...</td>\n",
       "      <td>[{'ecosystem': 'actions', 'filepath': '.github...</td>\n",
       "      <td>21.249127</td>\n",
       "      <td>2023-09-11 14:52:10.530000+00:00</td>\n",
       "      <td>2023-12-08 05:15:16.167000+00:00</td>\n",
       "      <td>https://github.com/kube-green.png</td>\n",
       "      <td>Go</td>\n",
       "      <td>Consumption</td>\n",
       "      <td>Computation and Communication</td>\n",
       "      <td>https://ost.ecosyste.ms/api/v1/projects/20183</td>\n",
       "      <td>https://ost.ecosyste.ms/projects/20183</td>\n",
       "    </tr>\n",
       "    <tr>\n",
       "      <th>3</th>\n",
       "      <td>764</td>\n",
       "      <td>eeweather</td>\n",
       "      <td>Fetch NCDC ISD, TMY3, or CZ2010 weather data t...</td>\n",
       "      <td>https://github.com/openeemeter/eeweather</td>\n",
       "      <td>2023-12-07 00:50:29.800000+00:00</td>\n",
       "      <td>{'uuid': '119442616', 'full_name': 'openeemete...</td>\n",
       "      <td>{'login': 'openeemeter', 'name': 'OpenEEmeter'...</td>\n",
       "      <td>[{'name': 'eeweather', 'ecosystem': 'pypi', 'd...</td>\n",
       "      <td>{'full_name': 'openeemeter/eeweather', 'defaul...</td>\n",
       "      <td>{'full_name': 'openeemeter/eeweather', 'html_u...</td>\n",
       "      <td>...</td>\n",
       "      <td>[{'ecosystem': 'pypi', 'filepath': 'Pipfile', ...</td>\n",
       "      <td>18.043913</td>\n",
       "      <td>2023-09-11 11:54:35.868000+00:00</td>\n",
       "      <td>2023-12-07 00:50:29.813000+00:00</td>\n",
       "      <td>https://github.com/openeemeter.png</td>\n",
       "      <td>HTML</td>\n",
       "      <td>Atmosphere</td>\n",
       "      <td>Meteorological Observation and Forecast</td>\n",
       "      <td>https://ost.ecosyste.ms/api/v1/projects/764</td>\n",
       "      <td>https://ost.ecosyste.ms/projects/764</td>\n",
       "    </tr>\n",
       "    <tr>\n",
       "      <th>4</th>\n",
       "      <td>899</td>\n",
       "      <td>cfgrib</td>\n",
       "      <td>A Python interface to map GRIB files to the Ne...</td>\n",
       "      <td>https://github.com/ecmwf/cfgrib</td>\n",
       "      <td>2023-12-07 00:52:34.924000+00:00</td>\n",
       "      <td>{'uuid': '141110423', 'full_name': 'ecmwf/cfgr...</td>\n",
       "      <td>{'login': 'ecmwf', 'name': 'European Centre fo...</td>\n",
       "      <td>[{'name': 'cfgrib', 'ecosystem': 'pypi', 'desc...</td>\n",
       "      <td>{'full_name': 'ecmwf/cfgrib', 'default_branch'...</td>\n",
       "      <td>{'full_name': 'ecmwf/cfgrib', 'html_url': 'htt...</td>\n",
       "      <td>...</td>\n",
       "      <td>[{'ecosystem': 'pypi', 'filepath': 'ci/require...</td>\n",
       "      <td>20.712966</td>\n",
       "      <td>2023-09-11 11:54:36.281000+00:00</td>\n",
       "      <td>2023-12-07 00:52:34.927000+00:00</td>\n",
       "      <td>https://github.com/ecmwf.png</td>\n",
       "      <td>Python</td>\n",
       "      <td>Climate Change</td>\n",
       "      <td>Climate Data Processing and Analysis</td>\n",
       "      <td>https://ost.ecosyste.ms/api/v1/projects/899</td>\n",
       "      <td>https://ost.ecosyste.ms/projects/899</td>\n",
       "    </tr>\n",
       "    <tr>\n",
       "      <th>...</th>\n",
       "      <td>...</td>\n",
       "      <td>...</td>\n",
       "      <td>...</td>\n",
       "      <td>...</td>\n",
       "      <td>...</td>\n",
       "      <td>...</td>\n",
       "      <td>...</td>\n",
       "      <td>...</td>\n",
       "      <td>...</td>\n",
       "      <td>...</td>\n",
       "      <td>...</td>\n",
       "      <td>...</td>\n",
       "      <td>...</td>\n",
       "      <td>...</td>\n",
       "      <td>...</td>\n",
       "      <td>...</td>\n",
       "      <td>...</td>\n",
       "      <td>...</td>\n",
       "      <td>...</td>\n",
       "      <td>...</td>\n",
       "      <td>...</td>\n",
       "    </tr>\n",
       "    <tr>\n",
       "      <th>663</th>\n",
       "      <td>686</td>\n",
       "      <td>Bergen Layered Ocean Model</td>\n",
       "      <td>Employs an isopycnic vertical coordinate, with...</td>\n",
       "      <td>https://github.com/NorESMhub/BLOM</td>\n",
       "      <td>2023-12-07 07:09:14.413000+00:00</td>\n",
       "      <td>{'uuid': '238252428', 'full_name': 'NorESMhub/...</td>\n",
       "      <td>{'login': 'NorESMhub', 'name': 'Norwegian Eart...</td>\n",
       "      <td>[{'name': 'github.com/noresmhub/blom', 'ecosys...</td>\n",
       "      <td>{'full_name': 'NorESMhub/BLOM', 'default_branc...</td>\n",
       "      <td>{'full_name': 'NorESMhub/BLOM', 'html_url': 'h...</td>\n",
       "      <td>...</td>\n",
       "      <td>[{'ecosystem': 'actions', 'filepath': '.github...</td>\n",
       "      <td>NaN</td>\n",
       "      <td>2023-09-11 11:54:35.656000+00:00</td>\n",
       "      <td>2023-12-07 07:09:14.415000+00:00</td>\n",
       "      <td>https://github.com/NorESMhub.png</td>\n",
       "      <td>Fortran</td>\n",
       "      <td>Hydrosphere</td>\n",
       "      <td>Ocean Circulation Models</td>\n",
       "      <td>https://ost.ecosyste.ms/api/v1/projects/686</td>\n",
       "      <td>https://ost.ecosyste.ms/projects/686</td>\n",
       "    </tr>\n",
       "    <tr>\n",
       "      <th>664</th>\n",
       "      <td>19978</td>\n",
       "      <td>OperatorFabric</td>\n",
       "      <td>A modular, extensible, industrial-strength and...</td>\n",
       "      <td>https://github.com/opfab/operatorfabric-core</td>\n",
       "      <td>2023-12-08 05:14:13.785000+00:00</td>\n",
       "      <td>{'uuid': '150563405', 'full_name': 'opfab/oper...</td>\n",
       "      <td>{'login': 'opfab', 'name': 'OperatorFabric', '...</td>\n",
       "      <td>[{'name': 'org.opfab:cards-client-data', 'ecos...</td>\n",
       "      <td>{'full_name': 'opfab/operatorfabric-core', 'de...</td>\n",
       "      <td>{'full_name': 'opfab/operatorfabric-core', 'ht...</td>\n",
       "      <td>...</td>\n",
       "      <td>[{'ecosystem': 'actions', 'filepath': '.github...</td>\n",
       "      <td>8.626944</td>\n",
       "      <td>2023-09-11 14:52:08.710000+00:00</td>\n",
       "      <td>2023-12-08 05:14:13.787000+00:00</td>\n",
       "      <td>https://github.com/opfab.png</td>\n",
       "      <td>TypeScript</td>\n",
       "      <td>Energy Systems</td>\n",
       "      <td>Energy Monitoring and Management</td>\n",
       "      <td>https://ost.ecosyste.ms/api/v1/projects/19978</td>\n",
       "      <td>https://ost.ecosyste.ms/projects/19978</td>\n",
       "    </tr>\n",
       "    <tr>\n",
       "      <th>665</th>\n",
       "      <td>19905</td>\n",
       "      <td>The Open Energy Ontology</td>\n",
       "      <td>A domain ontology of the energy-system modelin...</td>\n",
       "      <td>https://github.com/OpenEnergyPlatform/ontology</td>\n",
       "      <td>2023-12-08 05:13:47.736000+00:00</td>\n",
       "      <td>{'uuid': '136322941', 'full_name': 'OpenEnergy...</td>\n",
       "      <td>{'login': 'OpenEnergyPlatform', 'name': 'Open ...</td>\n",
       "      <td>[{'name': 'github.com/openenergyplatform/ontol...</td>\n",
       "      <td>{'full_name': 'OpenEnergyPlatform/ontology', '...</td>\n",
       "      <td>{'full_name': 'OpenEnergyPlatform/ontology', '...</td>\n",
       "      <td>...</td>\n",
       "      <td>[{'ecosystem': 'actions', 'filepath': '.github...</td>\n",
       "      <td>NaN</td>\n",
       "      <td>2023-09-11 14:52:07.981000+00:00</td>\n",
       "      <td>2023-12-08 05:13:47.737000+00:00</td>\n",
       "      <td>https://github.com/OpenEnergyPlatform.png</td>\n",
       "      <td>Python</td>\n",
       "      <td>Sustainable Development</td>\n",
       "      <td>Taxonomy and Ontology</td>\n",
       "      <td>https://ost.ecosyste.ms/api/v1/projects/19905</td>\n",
       "      <td>https://ost.ecosyste.ms/projects/19905</td>\n",
       "    </tr>\n",
       "    <tr>\n",
       "      <th>666</th>\n",
       "      <td>75764</td>\n",
       "      <td>xCDAT</td>\n",
       "      <td>An extension of xarray for climate data analys...</td>\n",
       "      <td>https://github.com/xCDAT/xcdat</td>\n",
       "      <td>2023-12-11 07:40:09.258000+00:00</td>\n",
       "      <td>{'uuid': '354103918', 'full_name': 'xCDAT/xcda...</td>\n",
       "      <td>{'login': 'xCDAT', 'name': 'xCDAT', 'uuid': '8...</td>\n",
       "      <td>[{'name': 'xcdat', 'ecosystem': 'conda', 'desc...</td>\n",
       "      <td>{'full_name': 'xCDAT/xcdat', 'default_branch':...</td>\n",
       "      <td>{'full_name': 'xCDAT/xcdat', 'html_url': 'http...</td>\n",
       "      <td>...</td>\n",
       "      <td>[{'ecosystem': 'actions', 'filepath': '.github...</td>\n",
       "      <td>7.426549</td>\n",
       "      <td>2023-09-19 00:00:39.704000+00:00</td>\n",
       "      <td>2023-12-11 07:40:09.261000+00:00</td>\n",
       "      <td>https://github.com/xCDAT.png</td>\n",
       "      <td>Python</td>\n",
       "      <td>Climate Change</td>\n",
       "      <td>Climate Data Processing and Analysis</td>\n",
       "      <td>https://ost.ecosyste.ms/api/v1/projects/75764</td>\n",
       "      <td>https://ost.ecosyste.ms/projects/75764</td>\n",
       "    </tr>\n",
       "    <tr>\n",
       "      <th>667</th>\n",
       "      <td>75619</td>\n",
       "      <td>BuildingSystems</td>\n",
       "      <td>The Modelica open source BuildingSystems libra...</td>\n",
       "      <td>https://github.com/UdK-VPT/BuildingSystems</td>\n",
       "      <td>2023-12-11 07:39:43.899000+00:00</td>\n",
       "      <td>{'uuid': '45827547', 'full_name': 'UdK-VPT/Bui...</td>\n",
       "      <td>{'login': 'UdK-VPT', 'name': 'UdK-VPT', 'uuid'...</td>\n",
       "      <td>[{'name': 'github.com/udk-vpt/buildingsystems'...</td>\n",
       "      <td>{'full_name': 'UdK-VPT/BuildingSystems', 'defa...</td>\n",
       "      <td>{'full_name': 'UdK-VPT/BuildingSystems', 'html...</td>\n",
       "      <td>...</td>\n",
       "      <td>[{'ecosystem': 'pypi', 'filepath': 'docs/requi...</td>\n",
       "      <td>NaN</td>\n",
       "      <td>2023-09-19 00:00:25.943000+00:00</td>\n",
       "      <td>2023-12-11 07:39:43.900000+00:00</td>\n",
       "      <td>https://github.com/UdK-VPT.png</td>\n",
       "      <td>Modelica</td>\n",
       "      <td>Consumption</td>\n",
       "      <td>Buildings and Heating</td>\n",
       "      <td>https://ost.ecosyste.ms/api/v1/projects/75619</td>\n",
       "      <td>https://ost.ecosyste.ms/projects/75619</td>\n",
       "    </tr>\n",
       "  </tbody>\n",
       "</table>\n",
       "<p>668 rows × 22 columns</p>\n",
       "</div>"
      ],
      "text/plain": [
       "        id                        name  \\\n",
       "0    20618               netcdf-python   \n",
       "1    19753                pvlib-python   \n",
       "2    20183                  kube-green   \n",
       "3      764                   eeweather   \n",
       "4      899                      cfgrib   \n",
       "..     ...                         ...   \n",
       "663    686  Bergen Layered Ocean Model   \n",
       "664  19978              OperatorFabric   \n",
       "665  19905    The Open Energy Ontology   \n",
       "666  75764                       xCDAT   \n",
       "667  75619             BuildingSystems   \n",
       "\n",
       "                                           description  \\\n",
       "0    The Unidata network Common Data Form (netCDF) ...   \n",
       "1    A set of documented functions for simulating t...   \n",
       "2    A k8s operator to reduce CO2 footprint of your...   \n",
       "3    Fetch NCDC ISD, TMY3, or CZ2010 weather data t...   \n",
       "4    A Python interface to map GRIB files to the Ne...   \n",
       "..                                                 ...   \n",
       "663  Employs an isopycnic vertical coordinate, with...   \n",
       "664  A modular, extensible, industrial-strength and...   \n",
       "665  A domain ontology of the energy-system modelin...   \n",
       "666  An extension of xarray for climate data analys...   \n",
       "667  The Modelica open source BuildingSystems libra...   \n",
       "\n",
       "                                                url  \\\n",
       "0         https://github.com/Unidata/netcdf4-python   \n",
       "1             https://github.com/pvlib/pvlib-python   \n",
       "2          https://github.com/kube-green/kube-green   \n",
       "3          https://github.com/openeemeter/eeweather   \n",
       "4                   https://github.com/ecmwf/cfgrib   \n",
       "..                                              ...   \n",
       "663               https://github.com/NorESMhub/BLOM   \n",
       "664    https://github.com/opfab/operatorfabric-core   \n",
       "665  https://github.com/OpenEnergyPlatform/ontology   \n",
       "666                  https://github.com/xCDAT/xcdat   \n",
       "667      https://github.com/UdK-VPT/BuildingSystems   \n",
       "\n",
       "                      last_synced_at  \\\n",
       "0   2023-12-07 01:19:20.097000+00:00   \n",
       "1   2023-12-07 00:53:31.605000+00:00   \n",
       "2   2023-12-08 05:15:16.153000+00:00   \n",
       "3   2023-12-07 00:50:29.800000+00:00   \n",
       "4   2023-12-07 00:52:34.924000+00:00   \n",
       "..                               ...   \n",
       "663 2023-12-07 07:09:14.413000+00:00   \n",
       "664 2023-12-08 05:14:13.785000+00:00   \n",
       "665 2023-12-08 05:13:47.736000+00:00   \n",
       "666 2023-12-11 07:40:09.258000+00:00   \n",
       "667 2023-12-11 07:39:43.899000+00:00   \n",
       "\n",
       "                                            repository  \\\n",
       "0    {'uuid': '15884459', 'full_name': 'Unidata/net...   \n",
       "1    {'uuid': '30895522', 'full_name': 'pvlib/pvlib...   \n",
       "2    {'uuid': '340965344', 'full_name': 'kube-green...   \n",
       "3    {'uuid': '119442616', 'full_name': 'openeemete...   \n",
       "4    {'uuid': '141110423', 'full_name': 'ecmwf/cfgr...   \n",
       "..                                                 ...   \n",
       "663  {'uuid': '238252428', 'full_name': 'NorESMhub/...   \n",
       "664  {'uuid': '150563405', 'full_name': 'opfab/oper...   \n",
       "665  {'uuid': '136322941', 'full_name': 'OpenEnergy...   \n",
       "666  {'uuid': '354103918', 'full_name': 'xCDAT/xcda...   \n",
       "667  {'uuid': '45827547', 'full_name': 'UdK-VPT/Bui...   \n",
       "\n",
       "                                                 owner  \\\n",
       "0    {'login': 'Unidata', 'name': 'Unidata', 'uuid'...   \n",
       "1    {'login': 'pvlib', 'name': 'pvlib', 'uuid': '1...   \n",
       "2    {'login': 'kube-green', 'name': 'kube-green', ...   \n",
       "3    {'login': 'openeemeter', 'name': 'OpenEEmeter'...   \n",
       "4    {'login': 'ecmwf', 'name': 'European Centre fo...   \n",
       "..                                                 ...   \n",
       "663  {'login': 'NorESMhub', 'name': 'Norwegian Eart...   \n",
       "664  {'login': 'opfab', 'name': 'OperatorFabric', '...   \n",
       "665  {'login': 'OpenEnergyPlatform', 'name': 'Open ...   \n",
       "666  {'login': 'xCDAT', 'name': 'xCDAT', 'uuid': '8...   \n",
       "667  {'login': 'UdK-VPT', 'name': 'UdK-VPT', 'uuid'...   \n",
       "\n",
       "                                              packages  \\\n",
       "0    [{'name': 'netcdf4', 'ecosystem': 'pypi', 'des...   \n",
       "1    [{'name': 'pvlib', 'ecosystem': 'pypi', 'descr...   \n",
       "2    [{'name': 'kubegreen/kube-green', 'ecosystem':...   \n",
       "3    [{'name': 'eeweather', 'ecosystem': 'pypi', 'd...   \n",
       "4    [{'name': 'cfgrib', 'ecosystem': 'pypi', 'desc...   \n",
       "..                                                 ...   \n",
       "663  [{'name': 'github.com/noresmhub/blom', 'ecosys...   \n",
       "664  [{'name': 'org.opfab:cards-client-data', 'ecos...   \n",
       "665  [{'name': 'github.com/openenergyplatform/ontol...   \n",
       "666  [{'name': 'xcdat', 'ecosystem': 'conda', 'desc...   \n",
       "667  [{'name': 'github.com/udk-vpt/buildingsystems'...   \n",
       "\n",
       "                                               commits  \\\n",
       "0    {'full_name': 'Unidata/netcdf4-python', 'defau...   \n",
       "1    {'full_name': 'pvlib/pvlib-python', 'default_b...   \n",
       "2    {'full_name': 'kube-green/kube-green', 'defaul...   \n",
       "3    {'full_name': 'openeemeter/eeweather', 'defaul...   \n",
       "4    {'full_name': 'ecmwf/cfgrib', 'default_branch'...   \n",
       "..                                                 ...   \n",
       "663  {'full_name': 'NorESMhub/BLOM', 'default_branc...   \n",
       "664  {'full_name': 'opfab/operatorfabric-core', 'de...   \n",
       "665  {'full_name': 'OpenEnergyPlatform/ontology', '...   \n",
       "666  {'full_name': 'xCDAT/xcdat', 'default_branch':...   \n",
       "667  {'full_name': 'UdK-VPT/BuildingSystems', 'defa...   \n",
       "\n",
       "                                          issues_stats  ...  \\\n",
       "0    {'full_name': 'Unidata/netcdf4-python', 'html_...  ...   \n",
       "1    {'full_name': 'pvlib/pvlib-python', 'html_url'...  ...   \n",
       "2    {'full_name': 'kube-green/kube-green', 'html_u...  ...   \n",
       "3    {'full_name': 'openeemeter/eeweather', 'html_u...  ...   \n",
       "4    {'full_name': 'ecmwf/cfgrib', 'html_url': 'htt...  ...   \n",
       "..                                                 ...  ...   \n",
       "663  {'full_name': 'NorESMhub/BLOM', 'html_url': 'h...  ...   \n",
       "664  {'full_name': 'opfab/operatorfabric-core', 'ht...  ...   \n",
       "665  {'full_name': 'OpenEnergyPlatform/ontology', '...  ...   \n",
       "666  {'full_name': 'xCDAT/xcdat', 'html_url': 'http...  ...   \n",
       "667  {'full_name': 'UdK-VPT/BuildingSystems', 'html...  ...   \n",
       "\n",
       "                                          dependencies      score  \\\n",
       "0    [{'ecosystem': 'actions', 'filepath': '.github...  25.510734   \n",
       "1    [{'ecosystem': 'actions', 'filepath': '.github...  24.248670   \n",
       "2    [{'ecosystem': 'actions', 'filepath': '.github...  21.249127   \n",
       "3    [{'ecosystem': 'pypi', 'filepath': 'Pipfile', ...  18.043913   \n",
       "4    [{'ecosystem': 'pypi', 'filepath': 'ci/require...  20.712966   \n",
       "..                                                 ...        ...   \n",
       "663  [{'ecosystem': 'actions', 'filepath': '.github...        NaN   \n",
       "664  [{'ecosystem': 'actions', 'filepath': '.github...   8.626944   \n",
       "665  [{'ecosystem': 'actions', 'filepath': '.github...        NaN   \n",
       "666  [{'ecosystem': 'actions', 'filepath': '.github...   7.426549   \n",
       "667  [{'ecosystem': 'pypi', 'filepath': 'docs/requi...        NaN   \n",
       "\n",
       "                          created_at                       updated_at  \\\n",
       "0   2023-09-11 14:52:14.006000+00:00 2023-12-07 01:19:20.100000+00:00   \n",
       "1   2023-09-11 14:52:06.879000+00:00 2023-12-07 00:53:31.610000+00:00   \n",
       "2   2023-09-11 14:52:10.530000+00:00 2023-12-08 05:15:16.167000+00:00   \n",
       "3   2023-09-11 11:54:35.868000+00:00 2023-12-07 00:50:29.813000+00:00   \n",
       "4   2023-09-11 11:54:36.281000+00:00 2023-12-07 00:52:34.927000+00:00   \n",
       "..                               ...                              ...   \n",
       "663 2023-09-11 11:54:35.656000+00:00 2023-12-07 07:09:14.415000+00:00   \n",
       "664 2023-09-11 14:52:08.710000+00:00 2023-12-08 05:14:13.787000+00:00   \n",
       "665 2023-09-11 14:52:07.981000+00:00 2023-12-08 05:13:47.737000+00:00   \n",
       "666 2023-09-19 00:00:39.704000+00:00 2023-12-11 07:40:09.261000+00:00   \n",
       "667 2023-09-19 00:00:25.943000+00:00 2023-12-11 07:39:43.900000+00:00   \n",
       "\n",
       "                                    avatar_url    language  \\\n",
       "0               https://github.com/Unidata.png      Cython   \n",
       "1                 https://github.com/pvlib.png      Python   \n",
       "2            https://github.com/kube-green.png          Go   \n",
       "3           https://github.com/openeemeter.png        HTML   \n",
       "4                 https://github.com/ecmwf.png      Python   \n",
       "..                                         ...         ...   \n",
       "663           https://github.com/NorESMhub.png     Fortran   \n",
       "664               https://github.com/opfab.png  TypeScript   \n",
       "665  https://github.com/OpenEnergyPlatform.png      Python   \n",
       "666               https://github.com/xCDAT.png      Python   \n",
       "667             https://github.com/UdK-VPT.png    Modelica   \n",
       "\n",
       "                    category                             sub_category  \\\n",
       "0             Climate Change                   Climate Data Standards   \n",
       "1           Renewable Energy           Photovoltaics and Solar Energy   \n",
       "2                Consumption            Computation and Communication   \n",
       "3                 Atmosphere  Meteorological Observation and Forecast   \n",
       "4             Climate Change     Climate Data Processing and Analysis   \n",
       "..                       ...                                      ...   \n",
       "663              Hydrosphere                 Ocean Circulation Models   \n",
       "664           Energy Systems         Energy Monitoring and Management   \n",
       "665  Sustainable Development                    Taxonomy and Ontology   \n",
       "666           Climate Change     Climate Data Processing and Analysis   \n",
       "667              Consumption                    Buildings and Heating   \n",
       "\n",
       "                                       project_url  \\\n",
       "0    https://ost.ecosyste.ms/api/v1/projects/20618   \n",
       "1    https://ost.ecosyste.ms/api/v1/projects/19753   \n",
       "2    https://ost.ecosyste.ms/api/v1/projects/20183   \n",
       "3      https://ost.ecosyste.ms/api/v1/projects/764   \n",
       "4      https://ost.ecosyste.ms/api/v1/projects/899   \n",
       "..                                             ...   \n",
       "663    https://ost.ecosyste.ms/api/v1/projects/686   \n",
       "664  https://ost.ecosyste.ms/api/v1/projects/19978   \n",
       "665  https://ost.ecosyste.ms/api/v1/projects/19905   \n",
       "666  https://ost.ecosyste.ms/api/v1/projects/75764   \n",
       "667  https://ost.ecosyste.ms/api/v1/projects/75619   \n",
       "\n",
       "                                   html_url  \n",
       "0    https://ost.ecosyste.ms/projects/20618  \n",
       "1    https://ost.ecosyste.ms/projects/19753  \n",
       "2    https://ost.ecosyste.ms/projects/20183  \n",
       "3      https://ost.ecosyste.ms/projects/764  \n",
       "4      https://ost.ecosyste.ms/projects/899  \n",
       "..                                      ...  \n",
       "663    https://ost.ecosyste.ms/projects/686  \n",
       "664  https://ost.ecosyste.ms/projects/19978  \n",
       "665  https://ost.ecosyste.ms/projects/19905  \n",
       "666  https://ost.ecosyste.ms/projects/75764  \n",
       "667  https://ost.ecosyste.ms/projects/75619  \n",
       "\n",
       "[668 rows x 22 columns]"
      ]
     },
     "execution_count": 2,
     "metadata": {},
     "output_type": "execute_result"
    }
   ],
   "source": [
    "df = pd.read_json(resp.content)\n",
    "df"
   ]
  },
  {
   "cell_type": "code",
   "execution_count": 4,
   "id": "e6c85dc5",
   "metadata": {},
   "outputs": [],
   "source": [
    "names = []\n",
    "download_counts = []\n",
    "url = []\n",
    "description = []\n",
    "category = []\n",
    "sub_category = []\n",
    "\n",
    "for index, row in df.iterrows():\n",
    "    names.append(row['name'])\n",
    "    package_downloads = 0\n",
    "    for package_manager in range(len(row['packages'])):\n",
    "        if row['packages'][package_manager]['downloads']:\n",
    "            package_downloads += row['packages'][package_manager]['downloads']  \n",
    "    download_counts.append(package_downloads)\n",
    "    url.append(row['url'])\n",
    "    description.append(row['description'])\n",
    "    category.append(row['category'])\n",
    "    sub_category.append(row['sub_category'])"
   ]
  },
  {
   "cell_type": "code",
   "execution_count": 5,
   "id": "e07725b3",
   "metadata": {},
   "outputs": [
    {
     "data": {
      "text/html": [
       "<div>\n",
       "<style scoped>\n",
       "    .dataframe tbody tr th:only-of-type {\n",
       "        vertical-align: middle;\n",
       "    }\n",
       "\n",
       "    .dataframe tbody tr th {\n",
       "        vertical-align: top;\n",
       "    }\n",
       "\n",
       "    .dataframe thead th {\n",
       "        text-align: right;\n",
       "    }\n",
       "</style>\n",
       "<table border=\"1\" class=\"dataframe\">\n",
       "  <thead>\n",
       "    <tr style=\"text-align: right;\">\n",
       "      <th></th>\n",
       "      <th>project_names</th>\n",
       "      <th>download_counts</th>\n",
       "      <th>git_url</th>\n",
       "      <th>description</th>\n",
       "      <th>category</th>\n",
       "      <th>sub_category</th>\n",
       "    </tr>\n",
       "  </thead>\n",
       "  <tbody>\n",
       "    <tr>\n",
       "      <th>0</th>\n",
       "      <td>netcdf-python</td>\n",
       "      <td>2010112</td>\n",
       "      <td>https://github.com/Unidata/netcdf4-python</td>\n",
       "      <td>The Unidata network Common Data Form (netCDF) ...</td>\n",
       "      <td>Climate Change</td>\n",
       "      <td>Climate Data Standards</td>\n",
       "    </tr>\n",
       "    <tr>\n",
       "      <th>1</th>\n",
       "      <td>pvlib-python</td>\n",
       "      <td>247853</td>\n",
       "      <td>https://github.com/pvlib/pvlib-python</td>\n",
       "      <td>A set of documented functions for simulating t...</td>\n",
       "      <td>Renewable Energy</td>\n",
       "      <td>Photovoltaics and Solar Energy</td>\n",
       "    </tr>\n",
       "    <tr>\n",
       "      <th>2</th>\n",
       "      <td>kube-green</td>\n",
       "      <td>233663</td>\n",
       "      <td>https://github.com/kube-green/kube-green</td>\n",
       "      <td>A k8s operator to reduce CO2 footprint of your...</td>\n",
       "      <td>Consumption</td>\n",
       "      <td>Computation and Communication</td>\n",
       "    </tr>\n",
       "    <tr>\n",
       "      <th>3</th>\n",
       "      <td>eeweather</td>\n",
       "      <td>116274</td>\n",
       "      <td>https://github.com/openeemeter/eeweather</td>\n",
       "      <td>Fetch NCDC ISD, TMY3, or CZ2010 weather data t...</td>\n",
       "      <td>Atmosphere</td>\n",
       "      <td>Meteorological Observation and Forecast</td>\n",
       "    </tr>\n",
       "    <tr>\n",
       "      <th>4</th>\n",
       "      <td>cfgrib</td>\n",
       "      <td>97874</td>\n",
       "      <td>https://github.com/ecmwf/cfgrib</td>\n",
       "      <td>A Python interface to map GRIB files to the Ne...</td>\n",
       "      <td>Climate Change</td>\n",
       "      <td>Climate Data Processing and Analysis</td>\n",
       "    </tr>\n",
       "    <tr>\n",
       "      <th>...</th>\n",
       "      <td>...</td>\n",
       "      <td>...</td>\n",
       "      <td>...</td>\n",
       "      <td>...</td>\n",
       "      <td>...</td>\n",
       "      <td>...</td>\n",
       "    </tr>\n",
       "    <tr>\n",
       "      <th>663</th>\n",
       "      <td>Bergen Layered Ocean Model</td>\n",
       "      <td>0</td>\n",
       "      <td>https://github.com/NorESMhub/BLOM</td>\n",
       "      <td>Employs an isopycnic vertical coordinate, with...</td>\n",
       "      <td>Hydrosphere</td>\n",
       "      <td>Ocean Circulation Models</td>\n",
       "    </tr>\n",
       "    <tr>\n",
       "      <th>664</th>\n",
       "      <td>OperatorFabric</td>\n",
       "      <td>0</td>\n",
       "      <td>https://github.com/opfab/operatorfabric-core</td>\n",
       "      <td>A modular, extensible, industrial-strength and...</td>\n",
       "      <td>Energy Systems</td>\n",
       "      <td>Energy Monitoring and Management</td>\n",
       "    </tr>\n",
       "    <tr>\n",
       "      <th>665</th>\n",
       "      <td>The Open Energy Ontology</td>\n",
       "      <td>0</td>\n",
       "      <td>https://github.com/OpenEnergyPlatform/ontology</td>\n",
       "      <td>A domain ontology of the energy-system modelin...</td>\n",
       "      <td>Sustainable Development</td>\n",
       "      <td>Taxonomy and Ontology</td>\n",
       "    </tr>\n",
       "    <tr>\n",
       "      <th>666</th>\n",
       "      <td>xCDAT</td>\n",
       "      <td>0</td>\n",
       "      <td>https://github.com/xCDAT/xcdat</td>\n",
       "      <td>An extension of xarray for climate data analys...</td>\n",
       "      <td>Climate Change</td>\n",
       "      <td>Climate Data Processing and Analysis</td>\n",
       "    </tr>\n",
       "    <tr>\n",
       "      <th>667</th>\n",
       "      <td>BuildingSystems</td>\n",
       "      <td>0</td>\n",
       "      <td>https://github.com/UdK-VPT/BuildingSystems</td>\n",
       "      <td>The Modelica open source BuildingSystems libra...</td>\n",
       "      <td>Consumption</td>\n",
       "      <td>Buildings and Heating</td>\n",
       "    </tr>\n",
       "  </tbody>\n",
       "</table>\n",
       "<p>668 rows × 6 columns</p>\n",
       "</div>"
      ],
      "text/plain": [
       "                  project_names  download_counts  \\\n",
       "0                 netcdf-python          2010112   \n",
       "1                  pvlib-python           247853   \n",
       "2                    kube-green           233663   \n",
       "3                     eeweather           116274   \n",
       "4                        cfgrib            97874   \n",
       "..                          ...              ...   \n",
       "663  Bergen Layered Ocean Model                0   \n",
       "664              OperatorFabric                0   \n",
       "665    The Open Energy Ontology                0   \n",
       "666                       xCDAT                0   \n",
       "667             BuildingSystems                0   \n",
       "\n",
       "                                            git_url  \\\n",
       "0         https://github.com/Unidata/netcdf4-python   \n",
       "1             https://github.com/pvlib/pvlib-python   \n",
       "2          https://github.com/kube-green/kube-green   \n",
       "3          https://github.com/openeemeter/eeweather   \n",
       "4                   https://github.com/ecmwf/cfgrib   \n",
       "..                                              ...   \n",
       "663               https://github.com/NorESMhub/BLOM   \n",
       "664    https://github.com/opfab/operatorfabric-core   \n",
       "665  https://github.com/OpenEnergyPlatform/ontology   \n",
       "666                  https://github.com/xCDAT/xcdat   \n",
       "667      https://github.com/UdK-VPT/BuildingSystems   \n",
       "\n",
       "                                           description  \\\n",
       "0    The Unidata network Common Data Form (netCDF) ...   \n",
       "1    A set of documented functions for simulating t...   \n",
       "2    A k8s operator to reduce CO2 footprint of your...   \n",
       "3    Fetch NCDC ISD, TMY3, or CZ2010 weather data t...   \n",
       "4    A Python interface to map GRIB files to the Ne...   \n",
       "..                                                 ...   \n",
       "663  Employs an isopycnic vertical coordinate, with...   \n",
       "664  A modular, extensible, industrial-strength and...   \n",
       "665  A domain ontology of the energy-system modelin...   \n",
       "666  An extension of xarray for climate data analys...   \n",
       "667  The Modelica open source BuildingSystems libra...   \n",
       "\n",
       "                    category                             sub_category  \n",
       "0             Climate Change                   Climate Data Standards  \n",
       "1           Renewable Energy           Photovoltaics and Solar Energy  \n",
       "2                Consumption            Computation and Communication  \n",
       "3                 Atmosphere  Meteorological Observation and Forecast  \n",
       "4             Climate Change     Climate Data Processing and Analysis  \n",
       "..                       ...                                      ...  \n",
       "663              Hydrosphere                 Ocean Circulation Models  \n",
       "664           Energy Systems         Energy Monitoring and Management  \n",
       "665  Sustainable Development                    Taxonomy and Ontology  \n",
       "666           Climate Change     Climate Data Processing and Analysis  \n",
       "667              Consumption                    Buildings and Heating  \n",
       "\n",
       "[668 rows x 6 columns]"
      ]
     },
     "execution_count": 4,
     "metadata": {},
     "output_type": "execute_result"
    }
   ],
   "source": [
    "df_extract = pd.DataFrame()\n",
    "df_extract['project_names'] = names\n",
    "df_extract['download_counts'] = download_counts\n",
    "df_extract['git_url'] = url\n",
    "df_extract['description'] = description\n",
    "df_extract['category'] = category\n",
    "df_extract['sub_category'] = sub_category\n",
    "df_extract\n"
   ]
  },
  {
   "cell_type": "code",
   "execution_count": 6,
   "id": "55be4c73",
   "metadata": {},
   "outputs": [
    {
     "data": {
      "text/html": [
       "<div>\n",
       "<style scoped>\n",
       "    .dataframe tbody tr th:only-of-type {\n",
       "        vertical-align: middle;\n",
       "    }\n",
       "\n",
       "    .dataframe tbody tr th {\n",
       "        vertical-align: top;\n",
       "    }\n",
       "\n",
       "    .dataframe thead th {\n",
       "        text-align: right;\n",
       "    }\n",
       "</style>\n",
       "<table border=\"1\" class=\"dataframe\">\n",
       "  <thead>\n",
       "    <tr style=\"text-align: right;\">\n",
       "      <th></th>\n",
       "      <th>project_names</th>\n",
       "      <th>download_counts</th>\n",
       "      <th>git_url</th>\n",
       "      <th>description</th>\n",
       "      <th>category</th>\n",
       "      <th>sub_category</th>\n",
       "    </tr>\n",
       "  </thead>\n",
       "  <tbody>\n",
       "    <tr>\n",
       "      <th>0</th>\n",
       "      <td>&lt;a href=\"https://github.com/Unidata/netcdf4-py...</td>\n",
       "      <td>2010112</td>\n",
       "      <td>https://github.com/Unidata/netcdf4-python</td>\n",
       "      <td>The Unidata network Common Data Form (netCDF) ...</td>\n",
       "      <td>Climate Change</td>\n",
       "      <td>Climate Data Standards</td>\n",
       "    </tr>\n",
       "    <tr>\n",
       "      <th>1</th>\n",
       "      <td>&lt;a href=\"https://github.com/pvlib/pvlib-python...</td>\n",
       "      <td>247853</td>\n",
       "      <td>https://github.com/pvlib/pvlib-python</td>\n",
       "      <td>A set of documented functions for simulating t...</td>\n",
       "      <td>Renewable Energy</td>\n",
       "      <td>Photovoltaics and Solar Energy</td>\n",
       "    </tr>\n",
       "    <tr>\n",
       "      <th>2</th>\n",
       "      <td>&lt;a href=\"https://github.com/kube-green/kube-gr...</td>\n",
       "      <td>233663</td>\n",
       "      <td>https://github.com/kube-green/kube-green</td>\n",
       "      <td>A k8s operator to reduce CO2 footprint of your...</td>\n",
       "      <td>Consumption</td>\n",
       "      <td>Computation and Communication</td>\n",
       "    </tr>\n",
       "    <tr>\n",
       "      <th>3</th>\n",
       "      <td>&lt;a href=\"https://github.com/openeemeter/eeweat...</td>\n",
       "      <td>116274</td>\n",
       "      <td>https://github.com/openeemeter/eeweather</td>\n",
       "      <td>Fetch NCDC ISD, TMY3, or CZ2010 weather data t...</td>\n",
       "      <td>Atmosphere</td>\n",
       "      <td>Meteorological Observation and Forecast</td>\n",
       "    </tr>\n",
       "    <tr>\n",
       "      <th>4</th>\n",
       "      <td>&lt;a href=\"https://github.com/ecmwf/cfgrib\" targ...</td>\n",
       "      <td>97874</td>\n",
       "      <td>https://github.com/ecmwf/cfgrib</td>\n",
       "      <td>A Python interface to map GRIB files to the Ne...</td>\n",
       "      <td>Climate Change</td>\n",
       "      <td>Climate Data Processing and Analysis</td>\n",
       "    </tr>\n",
       "    <tr>\n",
       "      <th>...</th>\n",
       "      <td>...</td>\n",
       "      <td>...</td>\n",
       "      <td>...</td>\n",
       "      <td>...</td>\n",
       "      <td>...</td>\n",
       "      <td>...</td>\n",
       "    </tr>\n",
       "    <tr>\n",
       "      <th>663</th>\n",
       "      <td>&lt;a href=\"https://github.com/NorESMhub/BLOM\" ta...</td>\n",
       "      <td>0</td>\n",
       "      <td>https://github.com/NorESMhub/BLOM</td>\n",
       "      <td>Employs an isopycnic vertical coordinate, with...</td>\n",
       "      <td>Hydrosphere</td>\n",
       "      <td>Ocean Circulation Models</td>\n",
       "    </tr>\n",
       "    <tr>\n",
       "      <th>664</th>\n",
       "      <td>&lt;a href=\"https://github.com/opfab/operatorfabr...</td>\n",
       "      <td>0</td>\n",
       "      <td>https://github.com/opfab/operatorfabric-core</td>\n",
       "      <td>A modular, extensible, industrial-strength and...</td>\n",
       "      <td>Energy Systems</td>\n",
       "      <td>Energy Monitoring and Management</td>\n",
       "    </tr>\n",
       "    <tr>\n",
       "      <th>665</th>\n",
       "      <td>&lt;a href=\"https://github.com/OpenEnergyPlatform...</td>\n",
       "      <td>0</td>\n",
       "      <td>https://github.com/OpenEnergyPlatform/ontology</td>\n",
       "      <td>A domain ontology of the energy-system modelin...</td>\n",
       "      <td>Sustainable Development</td>\n",
       "      <td>Taxonomy and Ontology</td>\n",
       "    </tr>\n",
       "    <tr>\n",
       "      <th>666</th>\n",
       "      <td>&lt;a href=\"https://github.com/xCDAT/xcdat\" targe...</td>\n",
       "      <td>0</td>\n",
       "      <td>https://github.com/xCDAT/xcdat</td>\n",
       "      <td>An extension of xarray for climate data analys...</td>\n",
       "      <td>Climate Change</td>\n",
       "      <td>Climate Data Processing and Analysis</td>\n",
       "    </tr>\n",
       "    <tr>\n",
       "      <th>667</th>\n",
       "      <td>&lt;a href=\"https://github.com/UdK-VPT/BuildingSy...</td>\n",
       "      <td>0</td>\n",
       "      <td>https://github.com/UdK-VPT/BuildingSystems</td>\n",
       "      <td>The Modelica open source BuildingSystems libra...</td>\n",
       "      <td>Consumption</td>\n",
       "      <td>Buildings and Heating</td>\n",
       "    </tr>\n",
       "  </tbody>\n",
       "</table>\n",
       "<p>668 rows × 6 columns</p>\n",
       "</div>"
      ],
      "text/plain": [
       "                                         project_names  download_counts  \\\n",
       "0    <a href=\"https://github.com/Unidata/netcdf4-py...          2010112   \n",
       "1    <a href=\"https://github.com/pvlib/pvlib-python...           247853   \n",
       "2    <a href=\"https://github.com/kube-green/kube-gr...           233663   \n",
       "3    <a href=\"https://github.com/openeemeter/eeweat...           116274   \n",
       "4    <a href=\"https://github.com/ecmwf/cfgrib\" targ...            97874   \n",
       "..                                                 ...              ...   \n",
       "663  <a href=\"https://github.com/NorESMhub/BLOM\" ta...                0   \n",
       "664  <a href=\"https://github.com/opfab/operatorfabr...                0   \n",
       "665  <a href=\"https://github.com/OpenEnergyPlatform...                0   \n",
       "666  <a href=\"https://github.com/xCDAT/xcdat\" targe...                0   \n",
       "667  <a href=\"https://github.com/UdK-VPT/BuildingSy...                0   \n",
       "\n",
       "                                            git_url  \\\n",
       "0         https://github.com/Unidata/netcdf4-python   \n",
       "1             https://github.com/pvlib/pvlib-python   \n",
       "2          https://github.com/kube-green/kube-green   \n",
       "3          https://github.com/openeemeter/eeweather   \n",
       "4                   https://github.com/ecmwf/cfgrib   \n",
       "..                                              ...   \n",
       "663               https://github.com/NorESMhub/BLOM   \n",
       "664    https://github.com/opfab/operatorfabric-core   \n",
       "665  https://github.com/OpenEnergyPlatform/ontology   \n",
       "666                  https://github.com/xCDAT/xcdat   \n",
       "667      https://github.com/UdK-VPT/BuildingSystems   \n",
       "\n",
       "                                           description  \\\n",
       "0    The Unidata network Common Data Form (netCDF) ...   \n",
       "1    A set of documented functions for simulating t...   \n",
       "2    A k8s operator to reduce CO2 footprint of your...   \n",
       "3    Fetch NCDC ISD, TMY3, or CZ2010 weather data t...   \n",
       "4    A Python interface to map GRIB files to the Ne...   \n",
       "..                                                 ...   \n",
       "663  Employs an isopycnic vertical coordinate, with...   \n",
       "664  A modular, extensible, industrial-strength and...   \n",
       "665  A domain ontology of the energy-system modelin...   \n",
       "666  An extension of xarray for climate data analys...   \n",
       "667  The Modelica open source BuildingSystems libra...   \n",
       "\n",
       "                    category                             sub_category  \n",
       "0             Climate Change                   Climate Data Standards  \n",
       "1           Renewable Energy           Photovoltaics and Solar Energy  \n",
       "2                Consumption            Computation and Communication  \n",
       "3                 Atmosphere  Meteorological Observation and Forecast  \n",
       "4             Climate Change     Climate Data Processing and Analysis  \n",
       "..                       ...                                      ...  \n",
       "663              Hydrosphere                 Ocean Circulation Models  \n",
       "664           Energy Systems         Energy Monitoring and Management  \n",
       "665  Sustainable Development                    Taxonomy and Ontology  \n",
       "666           Climate Change     Climate Data Processing and Analysis  \n",
       "667              Consumption                    Buildings and Heating  \n",
       "\n",
       "[668 rows x 6 columns]"
      ]
     },
     "execution_count": 5,
     "metadata": {},
     "output_type": "execute_result"
    }
   ],
   "source": [
    "import textwrap\n",
    "\n",
    "def text_to_link(project_name, git_url):\n",
    "    return '<a href=\"' + git_url + '\" target=\"_blank\" style = \"color: black\">' + str(project_name) + \"</a>\"\n",
    "\n",
    "def text_to_bolt(topic):\n",
    "    return \"<b>\" + topic + \"</b>\"\n",
    "\n",
    "def line_break_text(text):\n",
    "    wrapped_text = '<br>'.join(textwrap.wrap(text, 64))\n",
    "    return wrapped_text\n",
    "                               \n",
    "df_extract[\"description\"] = df_extract.apply(\n",
    "    lambda x: line_break_text(x.description), axis=1\n",
    ")                             \n",
    "                               \n",
    "df_extract[\"project_names\"] = df_extract.apply(\n",
    "    lambda x: text_to_bolt(x.project_names), axis=1\n",
    ")\n",
    "                               \n",
    "df_extract[\"project_names\"] = df_extract.apply(\n",
    "    lambda x: text_to_link(x.project_names, x.git_url), axis=1\n",
    ")\n",
    "df_extract"
   ]
  },
  {
   "cell_type": "code",
   "execution_count": 8,
   "id": "0cdb8937",
   "metadata": {
    "scrolled": false
   },
   "outputs": [
    {
     "data": {
      "application/vnd.plotly.v1+json": {
       "config": {
        "plotlyServerURL": "https://plot.ly",
        "responsive": "true",
        "toImageButtonOptions": {
         "format": "svg"
        }
       },
       "data": [
        {
         "alignmentgroup": "True",
         "customdata": [
          [
           "<a href=\"https://github.com/Unidata/netcdf4-python\" target=\"_blank\" style = \"color: black\"><b>netcdf-python</b></a>",
           2010112,
           "https://github.com/Unidata/netcdf4-python",
           "The Unidata network Common Data Form (netCDF) in Python is an<br>interface for scientific data access and a set of freely-<br>distributed software libraries that provide an implementation of<br>the interface.",
           "Climate Change",
           "Climate Data Standards"
          ],
          [
           "<a href=\"https://github.com/ecmwf/cfgrib\" target=\"_blank\" style = \"color: black\"><b>cfgrib</b></a>",
           97874,
           "https://github.com/ecmwf/cfgrib",
           "A Python interface to map GRIB files to the NetCDF Common Data<br>Model following the CF Convention using ecCodes.",
           "Climate Change",
           "Climate Data Processing and Analysis"
          ],
          [
           "<a href=\"https://github.com/ecmwf/cdsapi\" target=\"_blank\" style = \"color: black\"><b>cdsapi</b></a>",
           48101,
           "https://github.com/ecmwf/cdsapi",
           "Python API to access the Copernicus Climate Data Store.",
           "Climate Change",
           "Climate Data Visualization and Access"
          ],
          [
           "<a href=\"https://github.com/meteostat/meteostat-python\" target=\"_blank\" style = \"color: black\"><b>Meteostat Python</b></a>",
           45654,
           "https://github.com/meteostat/meteostat-python",
           "Access and analyze historical weather and climate data with<br>Python.",
           "Climate Change",
           "Climate Data Visualization and Access"
          ],
          [
           "<a href=\"https://github.com/intake/intake-esm\" target=\"_blank\" style = \"color: black\"><b>Intake-esm</b></a>",
           34211,
           "https://github.com/intake/intake-esm",
           "An intake plugin for parsing an Earth System Model catalog and<br>loading assets into xarray datasets.",
           "Climate Change",
           "Climate Data Visualization and Access"
          ],
          [
           "<a href=\"https://github.com/ouranosinc/xclim\" target=\"_blank\" style = \"color: black\"><b>xclim</b></a>",
           23555,
           "https://github.com/ouranosinc/xclim",
           "A library of derived climate variables, i.e. climate indicators,<br>based on xarray.",
           "Climate Change",
           "Climate Data Processing and Analysis"
          ],
          [
           "<a href=\"https://github.com/cerfacs-globc/icclim\" target=\"_blank\" style = \"color: black\"><b>icclim</b></a>",
           10723,
           "https://github.com/cerfacs-globc/icclim",
           "Python library for climate indices and climate indicators<br>calculation.",
           "Climate Change",
           "Climate Data Processing and Analysis"
          ],
          [
           "<a href=\"https://github.com/ladybug-tools/uwg\" target=\"_blank\" style = \"color: black\"><b>Urban Weather Generator</b></a>",
           8094,
           "https://github.com/ladybug-tools/uwg",
           "A Python application for modeling the urban heat island effect.",
           "Climate Change",
           "Earth and Climate Modeling"
          ],
          [
           "<a href=\"https://github.com/xarray-contrib/xskillscore\" target=\"_blank\" style = \"color: black\"><b>xskillscore</b></a>",
           7174,
           "https://github.com/xarray-contrib/xskillscore",
           "An open source project and Python package that provides<br>verification metrics of deterministic (and probabilistic from<br>properscoring) forecasts with xarray.",
           "Climate Change",
           "Climate Data Processing and Analysis"
          ],
          [
           "<a href=\"https://github.com/iamconsortium/pyam\" target=\"_blank\" style = \"color: black\"><b>pyam</b></a>",
           6337,
           "https://github.com/iamconsortium/pyam",
           "A Python package for data-wrangling, analysis and visualization<br>of integrated-assessment scenarios and energy systems modeling<br>results.",
           "Climate Change",
           "Integrated Assessment and Climate Policy"
          ],
          [
           "<a href=\"https://github.com/oms-netzero/fair\" target=\"_blank\" style = \"color: black\"><b>FAIR</b></a>",
           5287,
           "https://github.com/oms-netzero/fair",
           "Finite Amplitude Impulse-Response simple climate-carbon-cycle<br>model.",
           "Climate Change",
           "Earth and Climate Modeling"
          ],
          [
           "<a href=\"https://github.com/OasisLMF/oasislmf\" target=\"_blank\" style = \"color: black\"><b>OasisLMF</b></a>",
           4692,
           "https://github.com/OasisLMF/oasislmf",
           "An open source catastrophe modelling platform, free to use by<br>anyone.",
           "Climate Change",
           "Natural Hazard and Storm"
          ],
          [
           "<a href=\"https://github.com/ecmwf/ecmwf-opendata\" target=\"_blank\" style = \"color: black\"><b>ecmwf-opendata</b></a>",
           3342,
           "https://github.com/ecmwf/ecmwf-opendata",
           "A package to simplify the download of ECMWF open data.",
           "Climate Change",
           "Climate Data Visualization and Access"
          ],
          [
           "<a href=\"https://github.com/ecmwf/climetlab\" target=\"_blank\" style = \"color: black\"><b>climetlab</b></a>",
           3258,
           "https://github.com/ecmwf/climetlab",
           "A Python package aiming at simplifying access to climate and<br>meteorological datasets, allowing users to focus on science<br>instead of technical issues such as data access and data<br>formats.",
           "Climate Change",
           "Climate Data Visualization and Access"
          ],
          [
           "<a href=\"https://github.com/gem/oq-engine\" target=\"_blank\" style = \"color: black\"><b>OpenQuake</b></a>",
           2206,
           "https://github.com/gem/oq-engine",
           "Allows users to compute seismic hazard and seismic risk of<br>earthquakes on a global scale.",
           "Climate Change",
           "Natural Hazard and Storm"
          ],
          [
           "<a href=\"https://github.com/roocs/clisops\" target=\"_blank\" style = \"color: black\"><b>clisops</b></a>",
           1770,
           "https://github.com/roocs/clisops",
           "Climate simulation operations.",
           "Climate Change",
           "Climate Data Processing and Analysis"
          ],
          [
           "<a href=\"https://github.com/xgcm/xgcm\" target=\"_blank\" style = \"color: black\"><b>xgcm</b></a>",
           1489,
           "https://github.com/xgcm/xgcm",
           "A Python package for analyzing general circulation model output<br>data.",
           "Climate Change",
           "Climate Data Processing and Analysis"
          ],
          [
           "<a href=\"https://github.com/contrailcirrus/pycontrails\" target=\"_blank\" style = \"color: black\"><b>pycontrails</b></a>",
           1401,
           "https://github.com/contrailcirrus/pycontrails",
           "Python library for modeling aviation climate impacts.",
           "Climate Change",
           "Earth and Climate Modeling"
          ],
          [
           "<a href=\"https://github.com/SciTools/iris\" target=\"_blank\" style = \"color: black\"><b>Iris</b></a>",
           1389,
           "https://github.com/SciTools/iris",
           "A powerful, format-agnostic, community-driven Python package for<br>analyzing and visualizing Earth science data.",
           "Climate Change",
           "Climate Data Processing and Analysis"
          ]
         ],
         "hovertemplate": "Project Name: <b>%{customdata[0]}</b><br>Downloads: <b>%{customdata[1]}</b><br>Git URL: <b>%{customdata[2]}</b><br>Description: <b>%{customdata[3]}</b><br>Category: <b>%{customdata[4]}</b><br>Sub Category: <b>%{customdata[5]}</b><br><extra></extra>",
         "legendgroup": "Climate Change",
         "marker": {
          "color": "rgb(229, 134, 6)",
          "pattern": {
           "shape": ""
          }
         },
         "name": "Climate Change",
         "offsetgroup": "Climate Change",
         "orientation": "h",
         "showlegend": true,
         "textposition": "auto",
         "type": "bar",
         "x": [
          2010112,
          97874,
          48101,
          45654,
          34211,
          23555,
          10723,
          8094,
          7174,
          6337,
          5287,
          4692,
          3342,
          3258,
          2206,
          1770,
          1489,
          1401,
          1389
         ],
         "xaxis": "x",
         "y": [
          "<a href=\"https://github.com/Unidata/netcdf4-python\" target=\"_blank\" style = \"color: black\"><b>netcdf-python</b></a>",
          "<a href=\"https://github.com/ecmwf/cfgrib\" target=\"_blank\" style = \"color: black\"><b>cfgrib</b></a>",
          "<a href=\"https://github.com/ecmwf/cdsapi\" target=\"_blank\" style = \"color: black\"><b>cdsapi</b></a>",
          "<a href=\"https://github.com/meteostat/meteostat-python\" target=\"_blank\" style = \"color: black\"><b>Meteostat Python</b></a>",
          "<a href=\"https://github.com/intake/intake-esm\" target=\"_blank\" style = \"color: black\"><b>Intake-esm</b></a>",
          "<a href=\"https://github.com/ouranosinc/xclim\" target=\"_blank\" style = \"color: black\"><b>xclim</b></a>",
          "<a href=\"https://github.com/cerfacs-globc/icclim\" target=\"_blank\" style = \"color: black\"><b>icclim</b></a>",
          "<a href=\"https://github.com/ladybug-tools/uwg\" target=\"_blank\" style = \"color: black\"><b>Urban Weather Generator</b></a>",
          "<a href=\"https://github.com/xarray-contrib/xskillscore\" target=\"_blank\" style = \"color: black\"><b>xskillscore</b></a>",
          "<a href=\"https://github.com/iamconsortium/pyam\" target=\"_blank\" style = \"color: black\"><b>pyam</b></a>",
          "<a href=\"https://github.com/oms-netzero/fair\" target=\"_blank\" style = \"color: black\"><b>FAIR</b></a>",
          "<a href=\"https://github.com/OasisLMF/oasislmf\" target=\"_blank\" style = \"color: black\"><b>OasisLMF</b></a>",
          "<a href=\"https://github.com/ecmwf/ecmwf-opendata\" target=\"_blank\" style = \"color: black\"><b>ecmwf-opendata</b></a>",
          "<a href=\"https://github.com/ecmwf/climetlab\" target=\"_blank\" style = \"color: black\"><b>climetlab</b></a>",
          "<a href=\"https://github.com/gem/oq-engine\" target=\"_blank\" style = \"color: black\"><b>OpenQuake</b></a>",
          "<a href=\"https://github.com/roocs/clisops\" target=\"_blank\" style = \"color: black\"><b>clisops</b></a>",
          "<a href=\"https://github.com/xgcm/xgcm\" target=\"_blank\" style = \"color: black\"><b>xgcm</b></a>",
          "<a href=\"https://github.com/contrailcirrus/pycontrails\" target=\"_blank\" style = \"color: black\"><b>pycontrails</b></a>",
          "<a href=\"https://github.com/SciTools/iris\" target=\"_blank\" style = \"color: black\"><b>Iris</b></a>"
         ],
         "yaxis": "y"
        },
        {
         "alignmentgroup": "True",
         "customdata": [
          [
           "<a href=\"https://github.com/pvlib/pvlib-python\" target=\"_blank\" style = \"color: black\"><b>pvlib-python</b></a>",
           247853,
           "https://github.com/pvlib/pvlib-python",
           "A set of documented functions for simulating the performance of<br>photovoltaic energy systems.",
           "Renewable Energy",
           "Photovoltaics and Solar Energy"
          ],
          [
           "<a href=\"https://github.com/python-windrose/windrose\" target=\"_blank\" style = \"color: black\"><b>windrose</b></a>",
           8222,
           "https://github.com/python-windrose/windrose",
           "A graphic tool used by meteorologists to give a succinct view of<br>how wind speed and direction are typically distributed at a<br>particular location.",
           "Renewable Energy",
           "Wind Energy"
          ],
          [
           "<a href=\"https://github.com/CalebBell/thermo\" target=\"_blank\" style = \"color: black\"><b>thermo</b></a>",
           5713,
           "https://github.com/CalebBell/thermo",
           "Thermodynamics, phase equilibrium, transport properties and<br>chemical database component of Chemical Engineering Design<br>Library.",
           "Renewable Energy",
           "Geothermal Energy"
          ],
          [
           "<a href=\"https://github.com/squishykid/solax\" target=\"_blank\" style = \"color: black\"><b>solax</b></a>",
           3128,
           "https://github.com/squishykid/solax",
           "Read energy usage data from the real-time API on Solax solar<br>inverters.",
           "Renewable Energy",
           "Photovoltaics and Solar Energy"
          ],
          [
           "<a href=\"https://github.com/wind-python/windpowerlib\" target=\"_blank\" style = \"color: black\"><b>windpowerlib</b></a>",
           2321,
           "https://github.com/wind-python/windpowerlib",
           "A library to model the output of wind turbines and farms.",
           "Renewable Energy",
           "Wind Energy"
          ],
          [
           "<a href=\"https://github.com/NREL/floris\" target=\"_blank\" style = \"color: black\"><b>floris</b></a>",
           2274,
           "https://github.com/NREL/floris",
           "A controls-oriented engineering wake modeling framework for<br>evaluating the impact of wind farm controls on AEP and wind farm<br>design.",
           "Renewable Energy",
           "Wind Energy"
          ],
          [
           "<a href=\"https://gitlab.windenergy.dtu.dk/TOPFARM/PyWake\" target=\"_blank\" style = \"color: black\"><b>PyWake</b></a>",
           2028,
           "https://gitlab.windenergy.dtu.dk/TOPFARM/PyWake",
           "An AEP calculator for wind farms implemented in Python including<br>a collection of wake models.",
           "Renewable Energy",
           "Wind Energy"
          ],
          [
           "<a href=\"https://github.com/qpv-research-group/solcore5\" target=\"_blank\" style = \"color: black\"><b>solcore5</b></a>",
           2016,
           "https://github.com/qpv-research-group/solcore5",
           "A multi-scale, Python-based library for the modeling of solar<br>cells and semiconductor materials.",
           "Renewable Energy",
           "Photovoltaics and Solar Energy"
          ],
          [
           "<a href=\"https://gitlab.opengeosys.org/ogs/ogs\" target=\"_blank\" style = \"color: black\"><b>OpenGeoSys 6</b></a>",
           2013,
           "https://gitlab.opengeosys.org/ogs/ogs",
           "A scientific open source project for the development of<br>numerical methods for the simulation of thermo-hydro-mechanical-<br>chemical processes in porous and fractured media.",
           "Renewable Energy",
           "Geothermal Energy"
          ],
          [
           "<a href=\"https://github.com/MassimoCimmino/pygfunction\" target=\"_blank\" style = \"color: black\"><b>pygfunction</b></a>",
           1802,
           "https://github.com/MassimoCimmino/pygfunction",
           "An open source toolbox for the evaluation of thermal response<br>factors of geothermal borehole fields.",
           "Renewable Energy",
           "Geothermal Energy"
          ],
          [
           "<a href=\"https://github.com/sunpower/pvfactors\" target=\"_blank\" style = \"color: black\"><b>pvfactors</b></a>",
           1791,
           "https://github.com/sunpower/pvfactors",
           "Open source view-factor model for diffuse shading and bifacial<br>PV modeling.",
           "Renewable Energy",
           "Photovoltaics and Solar Energy"
          ],
          [
           "<a href=\"https://github.com/oscarperpinan/solar\" target=\"_blank\" style = \"color: black\"><b>solaR</b></a>",
           1677,
           "https://github.com/oscarperpinan/solar",
           "Allows for reproducible research both for photovoltaics systems<br>performance and solar radiation.",
           "Renewable Energy",
           "Photovoltaics and Solar Energy"
          ]
         ],
         "hovertemplate": "Project Name: <b>%{customdata[0]}</b><br>Downloads: <b>%{customdata[1]}</b><br>Git URL: <b>%{customdata[2]}</b><br>Description: <b>%{customdata[3]}</b><br>Category: <b>%{customdata[4]}</b><br>Sub Category: <b>%{customdata[5]}</b><br><extra></extra>",
         "legendgroup": "Renewable Energy",
         "marker": {
          "color": "rgb(93, 105, 177)",
          "pattern": {
           "shape": ""
          }
         },
         "name": "Renewable Energy",
         "offsetgroup": "Renewable Energy",
         "orientation": "h",
         "showlegend": true,
         "textposition": "auto",
         "type": "bar",
         "x": [
          247853,
          8222,
          5713,
          3128,
          2321,
          2274,
          2028,
          2016,
          2013,
          1802,
          1791,
          1677
         ],
         "xaxis": "x",
         "y": [
          "<a href=\"https://github.com/pvlib/pvlib-python\" target=\"_blank\" style = \"color: black\"><b>pvlib-python</b></a>",
          "<a href=\"https://github.com/python-windrose/windrose\" target=\"_blank\" style = \"color: black\"><b>windrose</b></a>",
          "<a href=\"https://github.com/CalebBell/thermo\" target=\"_blank\" style = \"color: black\"><b>thermo</b></a>",
          "<a href=\"https://github.com/squishykid/solax\" target=\"_blank\" style = \"color: black\"><b>solax</b></a>",
          "<a href=\"https://github.com/wind-python/windpowerlib\" target=\"_blank\" style = \"color: black\"><b>windpowerlib</b></a>",
          "<a href=\"https://github.com/NREL/floris\" target=\"_blank\" style = \"color: black\"><b>floris</b></a>",
          "<a href=\"https://gitlab.windenergy.dtu.dk/TOPFARM/PyWake\" target=\"_blank\" style = \"color: black\"><b>PyWake</b></a>",
          "<a href=\"https://github.com/qpv-research-group/solcore5\" target=\"_blank\" style = \"color: black\"><b>solcore5</b></a>",
          "<a href=\"https://gitlab.opengeosys.org/ogs/ogs\" target=\"_blank\" style = \"color: black\"><b>OpenGeoSys 6</b></a>",
          "<a href=\"https://github.com/MassimoCimmino/pygfunction\" target=\"_blank\" style = \"color: black\"><b>pygfunction</b></a>",
          "<a href=\"https://github.com/sunpower/pvfactors\" target=\"_blank\" style = \"color: black\"><b>pvfactors</b></a>",
          "<a href=\"https://github.com/oscarperpinan/solar\" target=\"_blank\" style = \"color: black\"><b>solaR</b></a>"
         ],
         "yaxis": "y"
        },
        {
         "alignmentgroup": "True",
         "customdata": [
          [
           "<a href=\"https://github.com/kube-green/kube-green\" target=\"_blank\" style = \"color: black\"><b>kube-green</b></a>",
           233663,
           "https://github.com/kube-green/kube-green",
           "A k8s operator to reduce CO2 footprint of your clusters.",
           "Consumption",
           "Computation and Communication"
          ],
          [
           "<a href=\"https://github.com/mobilityhouse/ocpp\" target=\"_blank\" style = \"color: black\"><b>ocpp</b></a>",
           83024,
           "https://github.com/mobilityhouse/ocpp",
           "Python implementation of the Open Charge Point Protocol.",
           "Consumption",
           "Mobility and Transportation"
          ],
          [
           "<a href=\"https://github.com/thegreenwebfoundation/co2.js\" target=\"_blank\" style = \"color: black\"><b>co2.js</b></a>",
           35917,
           "https://github.com/thegreenwebfoundation/co2.js",
           "A npm module for accessing the green web API, and estimating the<br>carbon emissions from using digital services.",
           "Consumption",
           "Computation and Communication"
          ],
          [
           "<a href=\"https://github.com/cloud-carbon-footprint/cloud-carbon-footprint\" target=\"_blank\" style = \"color: black\"><b>Cloud Carbon Footprint</b></a>",
           32798,
           "https://github.com/cloud-carbon-footprint/cloud-carbon-footprint",
           "A tool to estimate energy use (kilowatt-hours) and carbon<br>emissions (metric tons CO2e) from public cloud usage.",
           "Consumption",
           "Computation and Communication"
          ],
          [
           "<a href=\"https://github.com/CenterForTheBuiltEnvironment/pythermalcomfort\" target=\"_blank\" style = \"color: black\"><b>pythermalcomfort</b></a>",
           6611,
           "https://github.com/CenterForTheBuiltEnvironment/pythermalcomfort",
           "Package to calculate several thermal comfort indices (e.g. PMV,<br>PPD, SET, adaptive) and convert physical variables.",
           "Consumption",
           "Buildings and Heating"
          ],
          [
           "<a href=\"https://github.com/kwstat/agridat\" target=\"_blank\" style = \"color: black\"><b>Agridat</b></a>",
           2973,
           "https://github.com/kwstat/agridat",
           "An extensive collection of datasets from agricultural<br>experiments.",
           "Consumption",
           "Agriculture and Nutrition"
          ],
          [
           "<a href=\"https://github.com/maasglobal/maas-schemas\" target=\"_blank\" style = \"color: black\"><b>MaaS Global</b></a>",
           2168,
           "https://github.com/maasglobal/maas-schemas",
           "Mobility as a Service API - data model, tests and validation.",
           "Consumption",
           "Mobility and Transportation"
          ],
          [
           "<a href=\"https://github.com/jrester/tesla_powerwall\" target=\"_blank\" style = \"color: black\"><b>tesla_powerwall</b></a>",
           2115,
           "https://github.com/jrester/tesla_powerwall",
           "Python Tesla Powerwall API for consuming a local endpoint.",
           "Consumption",
           "Mobility and Transportation"
          ],
          [
           "<a href=\"https://github.com/blinktaginc/node-gtfs\" target=\"_blank\" style = \"color: black\"><b>node-gtfs</b></a>",
           1791,
           "https://github.com/blinktaginc/node-gtfs",
           "Import GTFS transit data into SQLite and query routes, stops,<br>times, fares and more.",
           "Consumption",
           "Mobility and Transportation"
          ],
          [
           "<a href=\"https://github.com/oemof/tespy\" target=\"_blank\" style = \"color: black\"><b>tespy</b></a>",
           1374,
           "https://github.com/oemof/tespy",
           "Provides a powerful simulation toolkit for thermal engineering<br>plants such as power plants, district heating systems or heat<br>pumps.",
           "Consumption",
           "Buildings and Heating"
          ]
         ],
         "hovertemplate": "Project Name: <b>%{customdata[0]}</b><br>Downloads: <b>%{customdata[1]}</b><br>Git URL: <b>%{customdata[2]}</b><br>Description: <b>%{customdata[3]}</b><br>Category: <b>%{customdata[4]}</b><br>Sub Category: <b>%{customdata[5]}</b><br><extra></extra>",
         "legendgroup": "Consumption",
         "marker": {
          "color": "rgb(82, 188, 163)",
          "pattern": {
           "shape": ""
          }
         },
         "name": "Consumption",
         "offsetgroup": "Consumption",
         "orientation": "h",
         "showlegend": true,
         "textposition": "auto",
         "type": "bar",
         "x": [
          233663,
          83024,
          35917,
          32798,
          6611,
          2973,
          2168,
          2115,
          1791,
          1374
         ],
         "xaxis": "x",
         "y": [
          "<a href=\"https://github.com/kube-green/kube-green\" target=\"_blank\" style = \"color: black\"><b>kube-green</b></a>",
          "<a href=\"https://github.com/mobilityhouse/ocpp\" target=\"_blank\" style = \"color: black\"><b>ocpp</b></a>",
          "<a href=\"https://github.com/thegreenwebfoundation/co2.js\" target=\"_blank\" style = \"color: black\"><b>co2.js</b></a>",
          "<a href=\"https://github.com/cloud-carbon-footprint/cloud-carbon-footprint\" target=\"_blank\" style = \"color: black\"><b>Cloud Carbon Footprint</b></a>",
          "<a href=\"https://github.com/CenterForTheBuiltEnvironment/pythermalcomfort\" target=\"_blank\" style = \"color: black\"><b>pythermalcomfort</b></a>",
          "<a href=\"https://github.com/kwstat/agridat\" target=\"_blank\" style = \"color: black\"><b>Agridat</b></a>",
          "<a href=\"https://github.com/maasglobal/maas-schemas\" target=\"_blank\" style = \"color: black\"><b>MaaS Global</b></a>",
          "<a href=\"https://github.com/jrester/tesla_powerwall\" target=\"_blank\" style = \"color: black\"><b>tesla_powerwall</b></a>",
          "<a href=\"https://github.com/blinktaginc/node-gtfs\" target=\"_blank\" style = \"color: black\"><b>node-gtfs</b></a>",
          "<a href=\"https://github.com/oemof/tespy\" target=\"_blank\" style = \"color: black\"><b>tespy</b></a>"
         ],
         "yaxis": "y"
        },
        {
         "alignmentgroup": "True",
         "customdata": [
          [
           "<a href=\"https://github.com/openeemeter/eeweather\" target=\"_blank\" style = \"color: black\"><b>eeweather</b></a>",
           116274,
           "https://github.com/openeemeter/eeweather",
           "Fetch NCDC ISD, TMY3, or CZ2010 weather data that corresponds to<br>ZIP Code Tabulation Areas or Latitude/Longitude.",
           "Atmosphere",
           "Meteorological Observation and Forecast"
          ],
          [
           "<a href=\"https://github.com/Unidata/MetPy\" target=\"_blank\" style = \"color: black\"><b>MetPy</b></a>",
           25551,
           "https://github.com/Unidata/MetPy",
           "A collection of tools in Python for reading, visualizing and<br>performing calculations with weather data.",
           "Atmosphere",
           "Meteorological Observation and Forecast"
          ],
          [
           "<a href=\"https://github.com/earthobservations/wetterdienst\" target=\"_blank\" style = \"color: black\"><b>wetterdienst</b></a>",
           4753,
           "https://github.com/earthobservations/wetterdienst",
           "Trying to make access to weather data in Python feel like a warm<br>summer breeze.",
           "Atmosphere",
           "Meteorological Observation and Forecast"
          ],
          [
           "<a href=\"https://github.com/eliocamp/metR\" target=\"_blank\" style = \"color: black\"><b>metR</b></a>",
           4172,
           "https://github.com/eliocamp/metR",
           "Several functions and utilities that make R better for handling<br>meteorological data in the tidy data paradigm.",
           "Atmosphere",
           "Meteorological Observation and Forecast"
          ],
          [
           "<a href=\"https://github.com/open-atmos/PySDM\" target=\"_blank\" style = \"color: black\"><b>PySDM</b></a>",
           2411,
           "https://github.com/open-atmos/PySDM",
           "Pythonic particle-based warm-rain/aqueous-chemistry cloud<br>microphysics package.",
           "Atmosphere",
           "Atmospheric Chemistry and Aerosol"
          ],
          [
           "<a href=\"https://github.com/NCAR/wrf-python\" target=\"_blank\" style = \"color: black\"><b>wrf-python</b></a>",
           2163,
           "https://github.com/NCAR/wrf-python",
           "A collection of diagnostic and interpolation routines for use<br>with output from the Weather Research and Forecasting Model.",
           "Atmosphere",
           "Meteorological Observation and Forecast"
          ],
          [
           "<a href=\"https://github.com/blaylockbk/Herbie\" target=\"_blank\" style = \"color: black\"><b>Herbie</b></a>",
           1910,
           "https://github.com/blaylockbk/Herbie",
           "A python package that downloads recent and archived numerical<br>weather prediction model output from different cloud archive<br>sources.",
           "Atmosphere",
           "Meteorological Observation and Forecast"
          ],
          [
           "<a href=\"https://github.com/arm-doe/act\" target=\"_blank\" style = \"color: black\"><b>ACT</b></a>",
           1485,
           "https://github.com/arm-doe/act",
           "The Atmospheric data Community Toolkit is an open source Python<br>toolkit for working with atmospheric time-series datasets of<br>varying dimensions.",
           "Atmosphere",
           "Atmospheric Composition and Dynamics"
          ]
         ],
         "hovertemplate": "Project Name: <b>%{customdata[0]}</b><br>Downloads: <b>%{customdata[1]}</b><br>Git URL: <b>%{customdata[2]}</b><br>Description: <b>%{customdata[3]}</b><br>Category: <b>%{customdata[4]}</b><br>Sub Category: <b>%{customdata[5]}</b><br><extra></extra>",
         "legendgroup": "Atmosphere",
         "marker": {
          "color": "rgb(153, 201, 69)",
          "pattern": {
           "shape": ""
          }
         },
         "name": "Atmosphere",
         "offsetgroup": "Atmosphere",
         "orientation": "h",
         "showlegend": true,
         "textposition": "auto",
         "type": "bar",
         "x": [
          116274,
          25551,
          4753,
          4172,
          2411,
          2163,
          1910,
          1485
         ],
         "xaxis": "x",
         "y": [
          "<a href=\"https://github.com/openeemeter/eeweather\" target=\"_blank\" style = \"color: black\"><b>eeweather</b></a>",
          "<a href=\"https://github.com/Unidata/MetPy\" target=\"_blank\" style = \"color: black\"><b>MetPy</b></a>",
          "<a href=\"https://github.com/earthobservations/wetterdienst\" target=\"_blank\" style = \"color: black\"><b>wetterdienst</b></a>",
          "<a href=\"https://github.com/eliocamp/metR\" target=\"_blank\" style = \"color: black\"><b>metR</b></a>",
          "<a href=\"https://github.com/open-atmos/PySDM\" target=\"_blank\" style = \"color: black\"><b>PySDM</b></a>",
          "<a href=\"https://github.com/NCAR/wrf-python\" target=\"_blank\" style = \"color: black\"><b>wrf-python</b></a>",
          "<a href=\"https://github.com/blaylockbk/Herbie\" target=\"_blank\" style = \"color: black\"><b>Herbie</b></a>",
          "<a href=\"https://github.com/arm-doe/act\" target=\"_blank\" style = \"color: black\"><b>ACT</b></a>"
         ],
         "yaxis": "y"
        },
        {
         "alignmentgroup": "True",
         "customdata": [
          [
           "<a href=\"https://github.com/energywebfoundation/origin\" target=\"_blank\" style = \"color: black\"><b>origin</b></a>",
           81160,
           "https://github.com/energywebfoundation/origin",
           "A set of toolkits that together provide a system for issuance<br>and management of Energy Attribute Certificates.",
           "Energy Systems",
           "Energy Distribution and Grids"
          ],
          [
           "<a href=\"https://github.com/EnergieID/entsoe-py\" target=\"_blank\" style = \"color: black\"><b>entsoe-py</b></a>",
           36438,
           "https://github.com/EnergieID/entsoe-py",
           "A Python client for the ENTSO-E API (European Network of<br>Transmission System Operators for Electricity).",
           "Energy Systems",
           "Energy System Data Access"
          ],
          [
           "<a href=\"https://github.com/openeemeter/eemeter\" target=\"_blank\" style = \"color: black\"><b>eemeter</b></a>",
           14889,
           "https://github.com/openeemeter/eemeter",
           "An open source Python package for implementing and developing<br>standard methods for calculating normalized metered energy<br>consumption and avoided energy use.",
           "Energy Systems",
           "Energy Monitoring and Management"
          ],
          [
           "<a href=\"https://github.com/PyPSA/PyPSA\" target=\"_blank\" style = \"color: black\"><b>PyPSA</b></a>",
           6921,
           "https://github.com/PyPSA/PyPSA",
           "A free software toolbox for simulating and optimizing modern<br>power systems that include features such as conventional<br>generators with unit commitment, variable wind and solar<br>generation, storage units, coupling to other energy sectors, and<br>mixed alternating and direct current networks.",
           "Energy Systems",
           "Energy Modeling and Optimization"
          ],
          [
           "<a href=\"https://github.com/grid-parity-exchange/Egret\" target=\"_blank\" style = \"color: black\"><b>Egret</b></a>",
           6127,
           "https://github.com/grid-parity-exchange/Egret",
           "A Python-based package for electrical grid optimization based on<br>the Pyomo optimization modeling language.",
           "Energy Systems",
           "Energy Distribution and Grids"
          ],
          [
           "<a href=\"https://github.com/kmax12/gridstatus\" target=\"_blank\" style = \"color: black\"><b>gridstatus</b></a>",
           4260,
           "https://github.com/kmax12/gridstatus",
           "Provides standardized API to access energy data from the major<br>Independent System Operators in the United States.",
           "Energy Systems",
           "Energy System Data Access"
          ],
          [
           "<a href=\"https://github.com/robinhenry/gym-anm\" target=\"_blank\" style = \"color: black\"><b>Gym-ANM</b></a>",
           3337,
           "https://github.com/robinhenry/gym-anm",
           "Design Reinforcement Learning environments that model Active<br>Network Management tasks in electricity distribution networks.",
           "Energy Systems",
           "Energy Distribution and Grids"
          ],
          [
           "<a href=\"https://github.com/OSUKED/ElexonDataPortal\" target=\"_blank\" style = \"color: black\"><b>ElexonDataPortal</b></a>",
           3270,
           "https://github.com/OSUKED/ElexonDataPortal",
           "Wrapper for the Balancing Mechanism Reporting Service API to<br>balance power flowing on to and off from the electricity<br>Transmission System in Great Britain.",
           "Energy Systems",
           "Energy System Data Access"
          ],
          [
           "<a href=\"https://github.com/sanpen/gridcal\" target=\"_blank\" style = \"color: black\"><b>GridCal</b></a>",
           2660,
           "https://github.com/sanpen/gridcal",
           "Aims to be a complete platform for power systems research and<br>simulation.",
           "Energy Systems",
           "Energy Distribution and Grids"
          ],
          [
           "<a href=\"https://github.com/pypsa/atlite\" target=\"_blank\" style = \"color: black\"><b>atlite</b></a>",
           2632,
           "https://github.com/pypsa/atlite",
           "Light-weight version of Aarhus RE Atlas for converting weather<br>data to power systems data.",
           "Energy Systems",
           "Energy System Data Access"
          ],
          [
           "<a href=\"https://github.com/GMLC-TDC/HELICS\" target=\"_blank\" style = \"color: black\"><b>HELICS</b></a>",
           2110,
           "https://github.com/GMLC-TDC/HELICS",
           "Today the core uses are in the energy domain, where there is<br>extensive and growing support for a wide-range of electric power<br>system, natural gas, communications and control-schemes,<br>transportation, buildings, and related domain tools.",
           "Energy Systems",
           "Energy Modeling and Optimization"
          ],
          [
           "<a href=\"https://github.com/rte-france/grid2op\" target=\"_blank\" style = \"color: black\"><b>Grid2Op</b></a>",
           1844,
           "https://github.com/rte-france/grid2op",
           "A testbed platform to model sequential decision making in power<br>systems.",
           "Energy Systems",
           "Energy Distribution and Grids"
          ],
          [
           "<a href=\"https://github.com/mzy2240/ESA\" target=\"_blank\" style = \"color: black\"><b>Easy SimAuto</b></a>",
           1700,
           "https://github.com/mzy2240/ESA",
           "An easy-to-use Power System Analysis Automation Platform atop<br>PowerWorld's Simulator Automation Server.",
           "Energy Systems",
           "Energy Distribution and Grids"
          ],
          [
           "<a href=\"https://github.com/intelligent-environments-lab/CityLearn\" target=\"_blank\" style = \"color: black\"><b>CityLearn</b></a>",
           1612,
           "https://github.com/intelligent-environments-lab/CityLearn",
           "Official reinforcement learning environment for demand response<br>and load shaping.",
           "Energy Systems",
           "Energy Modeling and Optimization"
          ],
          [
           "<a href=\"https://github.com/fzj-iek3-vsa/tsam\" target=\"_blank\" style = \"color: black\"><b>tsam</b></a>",
           1525,
           "https://github.com/fzj-iek3-vsa/tsam",
           "A Python package which uses different machine learning<br>algorithms for the aggregation of time series.",
           "Energy Systems",
           "Energy Modeling and Optimization"
          ]
         ],
         "hovertemplate": "Project Name: <b>%{customdata[0]}</b><br>Downloads: <b>%{customdata[1]}</b><br>Git URL: <b>%{customdata[2]}</b><br>Description: <b>%{customdata[3]}</b><br>Category: <b>%{customdata[4]}</b><br>Sub Category: <b>%{customdata[5]}</b><br><extra></extra>",
         "legendgroup": "Energy Systems",
         "marker": {
          "color": "rgb(204, 97, 176)",
          "pattern": {
           "shape": ""
          }
         },
         "name": "Energy Systems",
         "offsetgroup": "Energy Systems",
         "orientation": "h",
         "showlegend": true,
         "textposition": "auto",
         "type": "bar",
         "x": [
          81160,
          36438,
          14889,
          6921,
          6127,
          4260,
          3337,
          3270,
          2660,
          2632,
          2110,
          1844,
          1700,
          1612,
          1525
         ],
         "xaxis": "x",
         "y": [
          "<a href=\"https://github.com/energywebfoundation/origin\" target=\"_blank\" style = \"color: black\"><b>origin</b></a>",
          "<a href=\"https://github.com/EnergieID/entsoe-py\" target=\"_blank\" style = \"color: black\"><b>entsoe-py</b></a>",
          "<a href=\"https://github.com/openeemeter/eemeter\" target=\"_blank\" style = \"color: black\"><b>eemeter</b></a>",
          "<a href=\"https://github.com/PyPSA/PyPSA\" target=\"_blank\" style = \"color: black\"><b>PyPSA</b></a>",
          "<a href=\"https://github.com/grid-parity-exchange/Egret\" target=\"_blank\" style = \"color: black\"><b>Egret</b></a>",
          "<a href=\"https://github.com/kmax12/gridstatus\" target=\"_blank\" style = \"color: black\"><b>gridstatus</b></a>",
          "<a href=\"https://github.com/robinhenry/gym-anm\" target=\"_blank\" style = \"color: black\"><b>Gym-ANM</b></a>",
          "<a href=\"https://github.com/OSUKED/ElexonDataPortal\" target=\"_blank\" style = \"color: black\"><b>ElexonDataPortal</b></a>",
          "<a href=\"https://github.com/sanpen/gridcal\" target=\"_blank\" style = \"color: black\"><b>GridCal</b></a>",
          "<a href=\"https://github.com/pypsa/atlite\" target=\"_blank\" style = \"color: black\"><b>atlite</b></a>",
          "<a href=\"https://github.com/GMLC-TDC/HELICS\" target=\"_blank\" style = \"color: black\"><b>HELICS</b></a>",
          "<a href=\"https://github.com/rte-france/grid2op\" target=\"_blank\" style = \"color: black\"><b>Grid2Op</b></a>",
          "<a href=\"https://github.com/mzy2240/ESA\" target=\"_blank\" style = \"color: black\"><b>Easy SimAuto</b></a>",
          "<a href=\"https://github.com/intelligent-environments-lab/CityLearn\" target=\"_blank\" style = \"color: black\"><b>CityLearn</b></a>",
          "<a href=\"https://github.com/fzj-iek3-vsa/tsam\" target=\"_blank\" style = \"color: black\"><b>tsam</b></a>"
         ],
         "yaxis": "y"
        },
        {
         "alignmentgroup": "True",
         "customdata": [
          [
           "<a href=\"https://github.com/onaci/leaflet-velocity\" target=\"_blank\" style = \"color: black\"><b>leaflet-velocity</b></a>",
           44058,
           "https://github.com/onaci/leaflet-velocity",
           "Create a canvas visualization layer for direction and intensity<br>of arbitrary velocities (e.g. wind, ocean current).",
           "Hydrosphere",
           "Waves and Currents"
          ],
          [
           "<a href=\"https://github.com/dankelley/oce\" target=\"_blank\" style = \"color: black\"><b>oce</b></a>",
           3569,
           "https://github.com/dankelley/oce",
           "An R package for oceanographic processing.",
           "Hydrosphere",
           "Ocean and Hydrology Data Access"
          ],
          [
           "<a href=\"https://github.com/gclunies/noaa_coops\" target=\"_blank\" style = \"color: black\"><b>noaa_coops</b></a>",
           2457,
           "https://github.com/gclunies/noaa_coops",
           "A Python wrapper for the NOAA CO-OPS Tides & Currents Data and<br>Metadata APIs.",
           "Hydrosphere",
           "Ocean and Hydrology Data Access"
          ]
         ],
         "hovertemplate": "Project Name: <b>%{customdata[0]}</b><br>Downloads: <b>%{customdata[1]}</b><br>Git URL: <b>%{customdata[2]}</b><br>Description: <b>%{customdata[3]}</b><br>Category: <b>%{customdata[4]}</b><br>Sub Category: <b>%{customdata[5]}</b><br><extra></extra>",
         "legendgroup": "Hydrosphere",
         "marker": {
          "color": "rgb(36, 121, 108)",
          "pattern": {
           "shape": ""
          }
         },
         "name": "Hydrosphere",
         "offsetgroup": "Hydrosphere",
         "orientation": "h",
         "showlegend": true,
         "textposition": "auto",
         "type": "bar",
         "x": [
          44058,
          3569,
          2457
         ],
         "xaxis": "x",
         "y": [
          "<a href=\"https://github.com/onaci/leaflet-velocity\" target=\"_blank\" style = \"color: black\"><b>leaflet-velocity</b></a>",
          "<a href=\"https://github.com/dankelley/oce\" target=\"_blank\" style = \"color: black\"><b>oce</b></a>",
          "<a href=\"https://github.com/gclunies/noaa_coops\" target=\"_blank\" style = \"color: black\"><b>noaa_coops</b></a>"
         ],
         "yaxis": "y"
        },
        {
         "alignmentgroup": "True",
         "customdata": [
          [
           "<a href=\"https://github.com/sentinel-hub/sentinelhub-py\" target=\"_blank\" style = \"color: black\"><b>sentinelhub-py</b></a>",
           24785,
           "https://github.com/sentinel-hub/sentinelhub-py",
           "Download and process satellite imagery in Python using Sentinel<br>Hub services.",
           "Sustainable Development",
           "Environmental Satellites"
          ],
          [
           "<a href=\"https://github.com/sentinelsat/sentinelsat\" target=\"_blank\" style = \"color: black\"><b>sentinelsat</b></a>",
           17702,
           "https://github.com/sentinelsat/sentinelsat",
           "Makes searching, downloading and retrieving the metadata of<br>Sentinel satellite images from the Copernicus Open Access Hub<br>easy.",
           "Sustainable Development",
           "Environmental Satellites"
          ],
          [
           "<a href=\"https://github.com/kapadia/usgs\" target=\"_blank\" style = \"color: black\"><b>USGS</b></a>",
           9333,
           "https://github.com/kapadia/usgs",
           "A python module for interfacing with the US Geological Survey's<br>API.",
           "Sustainable Development",
           "Data Catalogs and Interfaces"
          ],
          [
           "<a href=\"https://github.com/pytroll/satpy\" target=\"_blank\" style = \"color: black\"><b>satpy</b></a>",
           8314,
           "https://github.com/pytroll/satpy",
           "A python library for reading and manipulating meteorological<br>remote sensing data and writing it to various image and data<br>file formats.",
           "Sustainable Development",
           "Environmental Satellites"
          ],
          [
           "<a href=\"https://github.com/michaeldavie/env_canada\" target=\"_blank\" style = \"color: black\"><b>env_canada</b></a>",
           5157,
           "https://github.com/michaeldavie/env_canada",
           "Provides access to various data sources published by Environment<br>and Climate Change Canada.",
           "Sustainable Development",
           "Data Catalogs and Interfaces"
          ],
          [
           "<a href=\"https://github.com/Unidata/siphon\" target=\"_blank\" style = \"color: black\"><b>Siphon</b></a>",
           4919,
           "https://github.com/Unidata/siphon",
           "A collection of Python utilities for retrieving atmospheric and<br>oceanic data from remote sources, focusing on being able to<br>retrieve data from Unidata data technologies.",
           "Sustainable Development",
           "Data Catalogs and Interfaces"
          ],
          [
           "<a href=\"https://github.com/r-earthengine/ee_extra\" target=\"_blank\" style = \"color: black\"><b>eeExtra</b></a>",
           3972,
           "https://github.com/r-earthengine/ee_extra",
           "A ninja python package that unifies the Google Earth Engine<br>ecosystem.",
           "Sustainable Development",
           "Data Catalogs and Interfaces"
          ],
          [
           "<a href=\"https://github.com/ropengov/eurostat\" target=\"_blank\" style = \"color: black\"><b>eurostat R package</b></a>",
           3183,
           "https://github.com/ropengov/eurostat",
           "R tools to access open data from Eurostat, the statistical<br>office of the European Union.",
           "Sustainable Development",
           "Data Catalogs and Interfaces"
          ],
          [
           "<a href=\"https://github.com/Open-EO/openeo-python-client\" target=\"_blank\" style = \"color: black\"><b>openEO</b></a>",
           2920,
           "https://github.com/Open-EO/openeo-python-client",
           "Provides intuitive programming libraries to process a wide<br>variety of earth observation datasets.",
           "Sustainable Development",
           "Environmental Satellites"
          ],
          [
           "<a href=\"https://github.com/rOpenGov/giscoR\" target=\"_blank\" style = \"color: black\"><b>giscoR</b></a>",
           2442,
           "https://github.com/rOpenGov/giscoR",
           "An R API package that helps to retrieve data from Eurostat<br>Geographic Information System of the Commission.",
           "Sustainable Development",
           "Data Catalogs and Interfaces"
          ],
          [
           "<a href=\"https://github.com/radiantearth/radiant-mlhub\" target=\"_blank\" style = \"color: black\"><b>Radiant MLHub Python Client</b></a>",
           1927,
           "https://github.com/radiantearth/radiant-mlhub",
           "Open community commons for geospatial training data, machine<br>learning models, and standards to encourage collaboration and<br>share information.",
           "Sustainable Development",
           "Data Catalogs and Interfaces"
          ],
          [
           "<a href=\"https://github.com/nsidc/earthaccess\" target=\"_blank\" style = \"color: black\"><b>earthaccess</b></a>",
           1792,
           "https://github.com/nsidc/earthaccess",
           "Search, download or stream NASA Earth science data with just a<br>few lines of code.",
           "Sustainable Development",
           "Data Catalogs and Interfaces"
          ]
         ],
         "hovertemplate": "Project Name: <b>%{customdata[0]}</b><br>Downloads: <b>%{customdata[1]}</b><br>Git URL: <b>%{customdata[2]}</b><br>Description: <b>%{customdata[3]}</b><br>Category: <b>%{customdata[4]}</b><br>Sub Category: <b>%{customdata[5]}</b><br><extra></extra>",
         "legendgroup": "Sustainable Development",
         "marker": {
          "color": "rgb(218, 165, 27)",
          "pattern": {
           "shape": ""
          }
         },
         "name": "Sustainable Development",
         "offsetgroup": "Sustainable Development",
         "orientation": "h",
         "showlegend": true,
         "textposition": "auto",
         "type": "bar",
         "x": [
          24785,
          17702,
          9333,
          8314,
          5157,
          4919,
          3972,
          3183,
          2920,
          2442,
          1927,
          1792
         ],
         "xaxis": "x",
         "y": [
          "<a href=\"https://github.com/sentinel-hub/sentinelhub-py\" target=\"_blank\" style = \"color: black\"><b>sentinelhub-py</b></a>",
          "<a href=\"https://github.com/sentinelsat/sentinelsat\" target=\"_blank\" style = \"color: black\"><b>sentinelsat</b></a>",
          "<a href=\"https://github.com/kapadia/usgs\" target=\"_blank\" style = \"color: black\"><b>USGS</b></a>",
          "<a href=\"https://github.com/pytroll/satpy\" target=\"_blank\" style = \"color: black\"><b>satpy</b></a>",
          "<a href=\"https://github.com/michaeldavie/env_canada\" target=\"_blank\" style = \"color: black\"><b>env_canada</b></a>",
          "<a href=\"https://github.com/Unidata/siphon\" target=\"_blank\" style = \"color: black\"><b>Siphon</b></a>",
          "<a href=\"https://github.com/r-earthengine/ee_extra\" target=\"_blank\" style = \"color: black\"><b>eeExtra</b></a>",
          "<a href=\"https://github.com/ropengov/eurostat\" target=\"_blank\" style = \"color: black\"><b>eurostat R package</b></a>",
          "<a href=\"https://github.com/Open-EO/openeo-python-client\" target=\"_blank\" style = \"color: black\"><b>openEO</b></a>",
          "<a href=\"https://github.com/rOpenGov/giscoR\" target=\"_blank\" style = \"color: black\"><b>giscoR</b></a>",
          "<a href=\"https://github.com/radiantearth/radiant-mlhub\" target=\"_blank\" style = \"color: black\"><b>Radiant MLHub Python Client</b></a>",
          "<a href=\"https://github.com/nsidc/earthaccess\" target=\"_blank\" style = \"color: black\"><b>earthaccess</b></a>"
         ],
         "yaxis": "y"
        },
        {
         "alignmentgroup": "True",
         "customdata": [
          [
           "<a href=\"https://github.com/scikit-maad/scikit-maad\" target=\"_blank\" style = \"color: black\"><b>scikit-maad</b></a>",
           17188,
           "https://github.com/scikit-maad/scikit-maad",
           "Enables quantitative analysis of environmental audio, offering<br>tools for processing, segmenting, and computing acoustic<br>features.",
           "Biosphere",
           "Biodiversity and Species Distribution"
          ],
          [
           "<a href=\"https://github.com/fishR-Core-Team/FSA\" target=\"_blank\" style = \"color: black\"><b>Fisheries Stock Assessment</b></a>",
           13745,
           "https://github.com/fishR-Core-Team/FSA",
           "Provides R functions to conduct typical introductory fisheries<br>analyses.",
           "Biosphere",
           "Marine Life and Fishery"
          ],
          [
           "<a href=\"https://github.com/r-lidar/lidR\" target=\"_blank\" style = \"color: black\"><b>lidR</b></a>",
           3737,
           "https://github.com/r-lidar/lidR",
           "An R package for airborne LiDAR data manipulation and<br>visualization for forestry application.",
           "Biosphere",
           "Forest Observation and Management"
          ],
          [
           "<a href=\"https://github.com/weecology/DeepForest\" target=\"_blank\" style = \"color: black\"><b>DeepForest</b></a>",
           2304,
           "https://github.com/weecology/DeepForest",
           "Python Package for Tree Crown Detection in Airborne RGB imagery.",
           "Biosphere",
           "Forest Observation and Management"
          ],
          [
           "<a href=\"https://github.com/jamiemkass/ENMeval\" target=\"_blank\" style = \"color: black\"><b>ENMeval</b></a>",
           1932,
           "https://github.com/jamiemkass/ENMeval",
           "R package for automated runs and evaluations of ecological niche<br>models.",
           "Biosphere",
           "Biodiversity and Species Distribution"
          ],
          [
           "<a href=\"https://github.com/jeffreyevans/spatialeco\" target=\"_blank\" style = \"color: black\"><b>spatialEco</b></a>",
           1759,
           "https://github.com/jeffreyevans/spatialeco",
           "R package for spatial analysis and modelling of ecological<br>systems.",
           "Biosphere",
           "Biodiversity and Species Distribution"
          ],
          [
           "<a href=\"https://github.com/pyinat/pyinaturalist\" target=\"_blank\" style = \"color: black\"><b>pyinaturalist</b></a>",
           1425,
           "https://github.com/pyinat/pyinaturalist",
           "Python client for iNaturalist, a community science platform that<br>helps people get involved in the natural world by observing and<br>identifying the living things around them.",
           "Biosphere",
           "Biodiversity and Species Distribution"
          ],
          [
           "<a href=\"https://github.com/fishr-core-team/fsadata\" target=\"_blank\" style = \"color: black\"><b>FSAdata</b></a>",
           1391,
           "https://github.com/fishr-core-team/fsadata",
           "Contains data for use in common fisheries stock analyses. See<br>installation instructions further below.",
           "Biosphere",
           "Marine Life and Fishery"
          ]
         ],
         "hovertemplate": "Project Name: <b>%{customdata[0]}</b><br>Downloads: <b>%{customdata[1]}</b><br>Git URL: <b>%{customdata[2]}</b><br>Description: <b>%{customdata[3]}</b><br>Category: <b>%{customdata[4]}</b><br>Sub Category: <b>%{customdata[5]}</b><br><extra></extra>",
         "legendgroup": "Biosphere",
         "marker": {
          "color": "rgb(47, 138, 196)",
          "pattern": {
           "shape": ""
          }
         },
         "name": "Biosphere",
         "offsetgroup": "Biosphere",
         "orientation": "h",
         "showlegend": true,
         "textposition": "auto",
         "type": "bar",
         "x": [
          17188,
          13745,
          3737,
          2304,
          1932,
          1759,
          1425,
          1391
         ],
         "xaxis": "x",
         "y": [
          "<a href=\"https://github.com/scikit-maad/scikit-maad\" target=\"_blank\" style = \"color: black\"><b>scikit-maad</b></a>",
          "<a href=\"https://github.com/fishR-Core-Team/FSA\" target=\"_blank\" style = \"color: black\"><b>Fisheries Stock Assessment</b></a>",
          "<a href=\"https://github.com/r-lidar/lidR\" target=\"_blank\" style = \"color: black\"><b>lidR</b></a>",
          "<a href=\"https://github.com/weecology/DeepForest\" target=\"_blank\" style = \"color: black\"><b>DeepForest</b></a>",
          "<a href=\"https://github.com/jamiemkass/ENMeval\" target=\"_blank\" style = \"color: black\"><b>ENMeval</b></a>",
          "<a href=\"https://github.com/jeffreyevans/spatialeco\" target=\"_blank\" style = \"color: black\"><b>spatialEco</b></a>",
          "<a href=\"https://github.com/pyinat/pyinaturalist\" target=\"_blank\" style = \"color: black\"><b>pyinaturalist</b></a>",
          "<a href=\"https://github.com/fishr-core-team/fsadata\" target=\"_blank\" style = \"color: black\"><b>FSAdata</b></a>"
         ],
         "yaxis": "y"
        },
        {
         "alignmentgroup": "True",
         "customdata": [
          [
           "<a href=\"https://github.com/pybamm-team/pybamm\" target=\"_blank\" style = \"color: black\"><b>PyBaMM</b></a>",
           9485,
           "https://github.com/pybamm-team/pybamm",
           "Fast and flexible physics-based battery models in Python.",
           "Energy Storage",
           "Battery"
          ],
          [
           "<a href=\"https://github.com/FZJ-IEK3-VSA/bslib\" target=\"_blank\" style = \"color: black\"><b>bslib</b></a>",
           1514,
           "https://github.com/FZJ-IEK3-VSA/bslib",
           "Database with battery parameters based on PerMod as well as<br>functions in order to simulate battery storages.",
           "Energy Storage",
           "Battery"
          ]
         ],
         "hovertemplate": "Project Name: <b>%{customdata[0]}</b><br>Downloads: <b>%{customdata[1]}</b><br>Git URL: <b>%{customdata[2]}</b><br>Description: <b>%{customdata[3]}</b><br>Category: <b>%{customdata[4]}</b><br>Sub Category: <b>%{customdata[5]}</b><br><extra></extra>",
         "legendgroup": "Energy Storage",
         "marker": {
          "color": "rgb(118, 78, 159)",
          "pattern": {
           "shape": ""
          }
         },
         "name": "Energy Storage",
         "offsetgroup": "Energy Storage",
         "orientation": "h",
         "showlegend": true,
         "textposition": "auto",
         "type": "bar",
         "x": [
          9485,
          1514
         ],
         "xaxis": "x",
         "y": [
          "<a href=\"https://github.com/pybamm-team/pybamm\" target=\"_blank\" style = \"color: black\"><b>PyBaMM</b></a>",
          "<a href=\"https://github.com/FZJ-IEK3-VSA/bslib\" target=\"_blank\" style = \"color: black\"><b>bslib</b></a>"
         ],
         "yaxis": "y"
        },
        {
         "alignmentgroup": "True",
         "customdata": [
          [
           "<a href=\"https://github.com/davidcarslaw/openair\" target=\"_blank\" style = \"color: black\"><b>openair</b></a>",
           6268,
           "https://github.com/davidcarslaw/openair",
           "An R package developed for the purpose of analyzing air quality<br>data — or more generally atmospheric composition data.",
           "Natural Resources",
           "Air Quality"
          ],
          [
           "<a href=\"https://github.com/modflowpy/flopy\" target=\"_blank\" style = \"color: black\"><b>flopy</b></a>",
           4692,
           "https://github.com/modflowpy/flopy",
           "A Python package to create, run, and post-process MODFLOW-based<br>models.",
           "Natural Resources",
           "Water Supply"
          ],
          [
           "<a href=\"https://github.com/Deltares/Ribasim\" target=\"_blank\" style = \"color: black\"><b>Ribasim</b></a>",
           4289,
           "https://github.com/Deltares/Ribasim",
           "A water resources model, designed to be the replacement of the<br>regional surface water modules Mozart and SIMRES in the<br>Netherlands Hydrological Instrument.",
           "Natural Resources",
           "Water Supply"
          ],
          [
           "<a href=\"https://github.com/usepa/wntr\" target=\"_blank\" style = \"color: black\"><b>Water Network Tool for Resilience</b></a>",
           3985,
           "https://github.com/usepa/wntr",
           "A Python package designed to simulate and analyze resilience of<br>water distribution networks.",
           "Natural Resources",
           "Water Supply"
          ],
          [
           "<a href=\"https://github.com/ncss-tech/aqp\" target=\"_blank\" style = \"color: black\"><b>AQP</b></a>",
           2351,
           "https://github.com/ncss-tech/aqp",
           "Algorithms for Quantitative Pedology is a collection of code,<br>ideas, documentation, and examples wrapped-up into several R<br>packages.",
           "Natural Resources",
           "Soil and Land"
          ],
          [
           "<a href=\"https://github.com/r-spatialecology/landscapemetrics\" target=\"_blank\" style = \"color: black\"><b>landscapemetrics</b></a>",
           2125,
           "https://github.com/r-spatialecology/landscapemetrics",
           "Landscape Metrics for Categorical Map Patterns in R.",
           "Natural Resources",
           "Soil and Land"
          ],
          [
           "<a href=\"https://github.com/sbegueria/SPEI\" target=\"_blank\" style = \"color: black\"><b>SPEI</b></a>",
           1886,
           "https://github.com/sbegueria/SPEI",
           "Computing the Standardized Precipitation-Evapotranspiration<br>Index and other reference evapotranspiration.",
           "Natural Resources",
           "Water Supply"
          ],
          [
           "<a href=\"https://github.com/ncss-tech/soilDB\" target=\"_blank\" style = \"color: black\"><b>soilDB</b></a>",
           1435,
           "https://github.com/ncss-tech/soilDB",
           "Simplified Access to NCSS Soil Databases.",
           "Natural Resources",
           "Soil and Land"
          ]
         ],
         "hovertemplate": "Project Name: <b>%{customdata[0]}</b><br>Downloads: <b>%{customdata[1]}</b><br>Git URL: <b>%{customdata[2]}</b><br>Description: <b>%{customdata[3]}</b><br>Category: <b>%{customdata[4]}</b><br>Sub Category: <b>%{customdata[5]}</b><br><extra></extra>",
         "legendgroup": "Natural Resources",
         "marker": {
          "color": "rgb(237, 100, 90)",
          "pattern": {
           "shape": ""
          }
         },
         "name": "Natural Resources",
         "offsetgroup": "Natural Resources",
         "orientation": "h",
         "showlegend": true,
         "textposition": "auto",
         "type": "bar",
         "x": [
          6268,
          4692,
          4289,
          3985,
          2351,
          2125,
          1886,
          1435
         ],
         "xaxis": "x",
         "y": [
          "<a href=\"https://github.com/davidcarslaw/openair\" target=\"_blank\" style = \"color: black\"><b>openair</b></a>",
          "<a href=\"https://github.com/modflowpy/flopy\" target=\"_blank\" style = \"color: black\"><b>flopy</b></a>",
          "<a href=\"https://github.com/Deltares/Ribasim\" target=\"_blank\" style = \"color: black\"><b>Ribasim</b></a>",
          "<a href=\"https://github.com/usepa/wntr\" target=\"_blank\" style = \"color: black\"><b>Water Network Tool for Resilience</b></a>",
          "<a href=\"https://github.com/ncss-tech/aqp\" target=\"_blank\" style = \"color: black\"><b>AQP</b></a>",
          "<a href=\"https://github.com/r-spatialecology/landscapemetrics\" target=\"_blank\" style = \"color: black\"><b>landscapemetrics</b></a>",
          "<a href=\"https://github.com/sbegueria/SPEI\" target=\"_blank\" style = \"color: black\"><b>SPEI</b></a>",
          "<a href=\"https://github.com/ncss-tech/soilDB\" target=\"_blank\" style = \"color: black\"><b>soilDB</b></a>"
         ],
         "yaxis": "y"
        },
        {
         "alignmentgroup": "True",
         "customdata": [
          [
           "<a href=\"https://github.com/brightway-lca/brightway2\" target=\"_blank\" style = \"color: black\"><b>brightway2</b></a>",
           1932,
           "https://github.com/brightway-lca/brightway2",
           "An open source framework for life cycle assessment.",
           "Industrial Ecology",
           "Life Cycle Assessment"
          ],
          [
           "<a href=\"https://github.com/IndEcol/pymrio\" target=\"_blank\" style = \"color: black\"><b>pymrio</b></a>",
           1850,
           "https://github.com/IndEcol/pymrio",
           "Multi-Regional Input-Output Analysis in Python.",
           "Industrial Ecology",
           "Life Cycle Assessment"
          ]
         ],
         "hovertemplate": "Project Name: <b>%{customdata[0]}</b><br>Downloads: <b>%{customdata[1]}</b><br>Git URL: <b>%{customdata[2]}</b><br>Description: <b>%{customdata[3]}</b><br>Category: <b>%{customdata[4]}</b><br>Sub Category: <b>%{customdata[5]}</b><br><extra></extra>",
         "legendgroup": "Industrial Ecology",
         "marker": {
          "color": "rgb(165, 170, 153)",
          "pattern": {
           "shape": ""
          }
         },
         "name": "Industrial Ecology",
         "offsetgroup": "Industrial Ecology",
         "orientation": "h",
         "showlegend": true,
         "textposition": "auto",
         "type": "bar",
         "x": [
          1932,
          1850
         ],
         "xaxis": "x",
         "y": [
          "<a href=\"https://github.com/brightway-lca/brightway2\" target=\"_blank\" style = \"color: black\"><b>brightway2</b></a>",
          "<a href=\"https://github.com/IndEcol/pymrio\" target=\"_blank\" style = \"color: black\"><b>pymrio</b></a>"
         ],
         "yaxis": "y"
        },
        {
         "alignmentgroup": "True",
         "customdata": [
          [
           "<a href=\"https://github.com/undp/carbon-registry\" target=\"_blank\" style = \"color: black\"><b>National Carbon Credit Registry</b></a>",
           1491,
           "https://github.com/undp/carbon-registry",
           "As an online database using national and international standards<br>for quantifying and verifying greenhouse gas emissions<br>reductions by programmes.",
           "Emissions",
           "Carbon Offsets and Trading"
          ]
         ],
         "hovertemplate": "Project Name: <b>%{customdata[0]}</b><br>Downloads: <b>%{customdata[1]}</b><br>Git URL: <b>%{customdata[2]}</b><br>Description: <b>%{customdata[3]}</b><br>Category: <b>%{customdata[4]}</b><br>Sub Category: <b>%{customdata[5]}</b><br><extra></extra>",
         "legendgroup": "Emissions",
         "marker": {
          "color": "rgb(229, 134, 6)",
          "pattern": {
           "shape": ""
          }
         },
         "name": "Emissions",
         "offsetgroup": "Emissions",
         "orientation": "h",
         "showlegend": true,
         "textposition": "auto",
         "type": "bar",
         "x": [
          1491
         ],
         "xaxis": "x",
         "y": [
          "<a href=\"https://github.com/undp/carbon-registry\" target=\"_blank\" style = \"color: black\"><b>National Carbon Credit Registry</b></a>"
         ],
         "yaxis": "y"
        }
       ],
       "layout": {
        "barmode": "relative",
        "dragmode": false,
        "height": 2000,
        "hoverdistance": 1000,
        "hoverlabel": {
         "bgcolor": "white"
        },
        "hovermode": "y unified",
        "images": [
         {
          "sizex": 0.05,
          "sizey": 0.05,
          "source": "data:image/png;base64,iVBORw0KGgoAAAANSUhEUgAAADwAAAA8CAYAAAA6/NlyAAAD20lEQVR4nO2ZTWgcZRjHf8/spjWkFYmKmbR+oVKaCPbQU8i2tCBqEbrU7LIJVhG0PVWQih4UehAVQVAkAQ/qRW1WdhPrB+pJ1DQF6aEnQ0WqqCQbhfpFW6nJzOMhBgQ3u+/MvPORmP91n/n/nx/v7DvPvCOqyv9JTtoNJK114LWufBIh5TIbZj3uQLldhJtV2CJwlfrkpicpJtHDsmIDHtzPZjo4gM8IQkGgE1n6Tf7ZJ0W4HFf+SrIOvLvI9YsORyXPwyhdy5BZkTXgwf1s1jzHJMejAh22fG3LCnDhAHeT53WBXht+cSoS8J495Beu5nmEo5C1m7e5QgPv28fGxW7eQhmy2VDcCgV81wN0XezkE2DQcj+xKzDwzsN0XHGJGqsQFkJMWp3nGUO5J45mklCgFS7cx0GFRyzk/izCT6p8Z8ErkMT09XCgzBZnkRmEK0NmTaswicd70+9yLqRHZBmvcM7jZQ0He1qEZ6bqfBDiWusyWuGBEgOOz3RAb1+Ep05O8IIqmTllMFphR3k6oO8FUYanJvgwRE+xqu0K7yrT53t8FcDTE6U4NZk9WDB4LKnHg0EMVXgiq7DQBlgEAUYC+H15aoKXorUUr1oCF0psV9hqaibK41naoJqpJbDvs9fYSflsapKTkTuKWa3/w8oOUyOBetRmklC7TWuboY86Pu9HbSYJtQO+0dDn/Ocn+DFqM0mo9S6N8Sg5Z6GXRNRy0lIYUyHXzkSUb+y1FK+M35bWitY/tSQhaVQvAxvaV+oX6g7vtpmd1gpfMCsT13ZwWsC/GdZZP9hPCVi/NSzsktnjO2wmpwOs8rVxrThFm9HpADt62rhWGBKLn3HSAfbl0wDV/cxVy7aiUxs8pFGdAbYblp/j11yf9pX+ipqb5uBxPEDtLXT7L9oITRHYfxPwjMtVj0jjnUNRU1MDVnfkeyTooYGOSmP8cJTcdGfpRX0OAp2BdYC8KnPVUZmpGYym/1Xqb0syP/4GKg+FuPQHkGdxz76mHPON89IHrl2LemeB7nAOOoNSBzmhvZUzbfPSBgaQ+eoQSs2C1Z8IsygNdSu7mhVk4n1Yeyp1lDELVp0otwKFlQoyAQxA7x+PAR/HHZMZYOXQAs5CCTgVZ05mgAH0uoMXYdOdIB/FlZEpYAB1772E+3sRYTQO/8wBw9LtrT2VIwgl4Beb3pkEXpb2VOp4uduAVwDj4aKVMvEcNpHMj/ej8iQwjMFpq7qVpocGqwZ4WdKo3QDe/Sx9qO9fqW7NAP9bMvv2VnL5vcBOVLcBNwHXAJvUrWxses1qBg6jTG9acWgdeK3rb5uuGEmTzESgAAAAAElFTkSuQmCC",
          "x": 1,
          "xanchor": "right",
          "xref": "paper",
          "y": 0,
          "yanchor": "bottom",
          "yref": "paper"
         }
        ],
        "legend": {
         "title": {
          "text": "category"
         },
         "tracegroupgap": 0
        },
        "margin": {
         "t": 60
        },
        "template": {
         "data": {
          "bar": [
           {
            "error_x": {
             "color": "#2a3f5f"
            },
            "error_y": {
             "color": "#2a3f5f"
            },
            "marker": {
             "line": {
              "color": "#E5ECF6",
              "width": 0.5
             },
             "pattern": {
              "fillmode": "overlay",
              "size": 10,
              "solidity": 0.2
             }
            },
            "type": "bar"
           }
          ],
          "barpolar": [
           {
            "marker": {
             "line": {
              "color": "#E5ECF6",
              "width": 0.5
             },
             "pattern": {
              "fillmode": "overlay",
              "size": 10,
              "solidity": 0.2
             }
            },
            "type": "barpolar"
           }
          ],
          "carpet": [
           {
            "aaxis": {
             "endlinecolor": "#2a3f5f",
             "gridcolor": "white",
             "linecolor": "white",
             "minorgridcolor": "white",
             "startlinecolor": "#2a3f5f"
            },
            "baxis": {
             "endlinecolor": "#2a3f5f",
             "gridcolor": "white",
             "linecolor": "white",
             "minorgridcolor": "white",
             "startlinecolor": "#2a3f5f"
            },
            "type": "carpet"
           }
          ],
          "choropleth": [
           {
            "colorbar": {
             "outlinewidth": 0,
             "ticks": ""
            },
            "type": "choropleth"
           }
          ],
          "contour": [
           {
            "colorbar": {
             "outlinewidth": 0,
             "ticks": ""
            },
            "colorscale": [
             [
              0,
              "#0d0887"
             ],
             [
              0.1111111111111111,
              "#46039f"
             ],
             [
              0.2222222222222222,
              "#7201a8"
             ],
             [
              0.3333333333333333,
              "#9c179e"
             ],
             [
              0.4444444444444444,
              "#bd3786"
             ],
             [
              0.5555555555555556,
              "#d8576b"
             ],
             [
              0.6666666666666666,
              "#ed7953"
             ],
             [
              0.7777777777777778,
              "#fb9f3a"
             ],
             [
              0.8888888888888888,
              "#fdca26"
             ],
             [
              1,
              "#f0f921"
             ]
            ],
            "type": "contour"
           }
          ],
          "contourcarpet": [
           {
            "colorbar": {
             "outlinewidth": 0,
             "ticks": ""
            },
            "type": "contourcarpet"
           }
          ],
          "heatmap": [
           {
            "colorbar": {
             "outlinewidth": 0,
             "ticks": ""
            },
            "colorscale": [
             [
              0,
              "#0d0887"
             ],
             [
              0.1111111111111111,
              "#46039f"
             ],
             [
              0.2222222222222222,
              "#7201a8"
             ],
             [
              0.3333333333333333,
              "#9c179e"
             ],
             [
              0.4444444444444444,
              "#bd3786"
             ],
             [
              0.5555555555555556,
              "#d8576b"
             ],
             [
              0.6666666666666666,
              "#ed7953"
             ],
             [
              0.7777777777777778,
              "#fb9f3a"
             ],
             [
              0.8888888888888888,
              "#fdca26"
             ],
             [
              1,
              "#f0f921"
             ]
            ],
            "type": "heatmap"
           }
          ],
          "heatmapgl": [
           {
            "colorbar": {
             "outlinewidth": 0,
             "ticks": ""
            },
            "colorscale": [
             [
              0,
              "#0d0887"
             ],
             [
              0.1111111111111111,
              "#46039f"
             ],
             [
              0.2222222222222222,
              "#7201a8"
             ],
             [
              0.3333333333333333,
              "#9c179e"
             ],
             [
              0.4444444444444444,
              "#bd3786"
             ],
             [
              0.5555555555555556,
              "#d8576b"
             ],
             [
              0.6666666666666666,
              "#ed7953"
             ],
             [
              0.7777777777777778,
              "#fb9f3a"
             ],
             [
              0.8888888888888888,
              "#fdca26"
             ],
             [
              1,
              "#f0f921"
             ]
            ],
            "type": "heatmapgl"
           }
          ],
          "histogram": [
           {
            "marker": {
             "pattern": {
              "fillmode": "overlay",
              "size": 10,
              "solidity": 0.2
             }
            },
            "type": "histogram"
           }
          ],
          "histogram2d": [
           {
            "colorbar": {
             "outlinewidth": 0,
             "ticks": ""
            },
            "colorscale": [
             [
              0,
              "#0d0887"
             ],
             [
              0.1111111111111111,
              "#46039f"
             ],
             [
              0.2222222222222222,
              "#7201a8"
             ],
             [
              0.3333333333333333,
              "#9c179e"
             ],
             [
              0.4444444444444444,
              "#bd3786"
             ],
             [
              0.5555555555555556,
              "#d8576b"
             ],
             [
              0.6666666666666666,
              "#ed7953"
             ],
             [
              0.7777777777777778,
              "#fb9f3a"
             ],
             [
              0.8888888888888888,
              "#fdca26"
             ],
             [
              1,
              "#f0f921"
             ]
            ],
            "type": "histogram2d"
           }
          ],
          "histogram2dcontour": [
           {
            "colorbar": {
             "outlinewidth": 0,
             "ticks": ""
            },
            "colorscale": [
             [
              0,
              "#0d0887"
             ],
             [
              0.1111111111111111,
              "#46039f"
             ],
             [
              0.2222222222222222,
              "#7201a8"
             ],
             [
              0.3333333333333333,
              "#9c179e"
             ],
             [
              0.4444444444444444,
              "#bd3786"
             ],
             [
              0.5555555555555556,
              "#d8576b"
             ],
             [
              0.6666666666666666,
              "#ed7953"
             ],
             [
              0.7777777777777778,
              "#fb9f3a"
             ],
             [
              0.8888888888888888,
              "#fdca26"
             ],
             [
              1,
              "#f0f921"
             ]
            ],
            "type": "histogram2dcontour"
           }
          ],
          "mesh3d": [
           {
            "colorbar": {
             "outlinewidth": 0,
             "ticks": ""
            },
            "type": "mesh3d"
           }
          ],
          "parcoords": [
           {
            "line": {
             "colorbar": {
              "outlinewidth": 0,
              "ticks": ""
             }
            },
            "type": "parcoords"
           }
          ],
          "pie": [
           {
            "automargin": true,
            "type": "pie"
           }
          ],
          "scatter": [
           {
            "fillpattern": {
             "fillmode": "overlay",
             "size": 10,
             "solidity": 0.2
            },
            "type": "scatter"
           }
          ],
          "scatter3d": [
           {
            "line": {
             "colorbar": {
              "outlinewidth": 0,
              "ticks": ""
             }
            },
            "marker": {
             "colorbar": {
              "outlinewidth": 0,
              "ticks": ""
             }
            },
            "type": "scatter3d"
           }
          ],
          "scattercarpet": [
           {
            "marker": {
             "colorbar": {
              "outlinewidth": 0,
              "ticks": ""
             }
            },
            "type": "scattercarpet"
           }
          ],
          "scattergeo": [
           {
            "marker": {
             "colorbar": {
              "outlinewidth": 0,
              "ticks": ""
             }
            },
            "type": "scattergeo"
           }
          ],
          "scattergl": [
           {
            "marker": {
             "colorbar": {
              "outlinewidth": 0,
              "ticks": ""
             }
            },
            "type": "scattergl"
           }
          ],
          "scattermapbox": [
           {
            "marker": {
             "colorbar": {
              "outlinewidth": 0,
              "ticks": ""
             }
            },
            "type": "scattermapbox"
           }
          ],
          "scatterpolar": [
           {
            "marker": {
             "colorbar": {
              "outlinewidth": 0,
              "ticks": ""
             }
            },
            "type": "scatterpolar"
           }
          ],
          "scatterpolargl": [
           {
            "marker": {
             "colorbar": {
              "outlinewidth": 0,
              "ticks": ""
             }
            },
            "type": "scatterpolargl"
           }
          ],
          "scatterternary": [
           {
            "marker": {
             "colorbar": {
              "outlinewidth": 0,
              "ticks": ""
             }
            },
            "type": "scatterternary"
           }
          ],
          "surface": [
           {
            "colorbar": {
             "outlinewidth": 0,
             "ticks": ""
            },
            "colorscale": [
             [
              0,
              "#0d0887"
             ],
             [
              0.1111111111111111,
              "#46039f"
             ],
             [
              0.2222222222222222,
              "#7201a8"
             ],
             [
              0.3333333333333333,
              "#9c179e"
             ],
             [
              0.4444444444444444,
              "#bd3786"
             ],
             [
              0.5555555555555556,
              "#d8576b"
             ],
             [
              0.6666666666666666,
              "#ed7953"
             ],
             [
              0.7777777777777778,
              "#fb9f3a"
             ],
             [
              0.8888888888888888,
              "#fdca26"
             ],
             [
              1,
              "#f0f921"
             ]
            ],
            "type": "surface"
           }
          ],
          "table": [
           {
            "cells": {
             "fill": {
              "color": "#EBF0F8"
             },
             "line": {
              "color": "white"
             }
            },
            "header": {
             "fill": {
              "color": "#C8D4E3"
             },
             "line": {
              "color": "white"
             }
            },
            "type": "table"
           }
          ]
         },
         "layout": {
          "annotationdefaults": {
           "arrowcolor": "#2a3f5f",
           "arrowhead": 0,
           "arrowwidth": 1
          },
          "autotypenumbers": "strict",
          "coloraxis": {
           "colorbar": {
            "outlinewidth": 0,
            "ticks": ""
           }
          },
          "colorscale": {
           "diverging": [
            [
             0,
             "#8e0152"
            ],
            [
             0.1,
             "#c51b7d"
            ],
            [
             0.2,
             "#de77ae"
            ],
            [
             0.3,
             "#f1b6da"
            ],
            [
             0.4,
             "#fde0ef"
            ],
            [
             0.5,
             "#f7f7f7"
            ],
            [
             0.6,
             "#e6f5d0"
            ],
            [
             0.7,
             "#b8e186"
            ],
            [
             0.8,
             "#7fbc41"
            ],
            [
             0.9,
             "#4d9221"
            ],
            [
             1,
             "#276419"
            ]
           ],
           "sequential": [
            [
             0,
             "#0d0887"
            ],
            [
             0.1111111111111111,
             "#46039f"
            ],
            [
             0.2222222222222222,
             "#7201a8"
            ],
            [
             0.3333333333333333,
             "#9c179e"
            ],
            [
             0.4444444444444444,
             "#bd3786"
            ],
            [
             0.5555555555555556,
             "#d8576b"
            ],
            [
             0.6666666666666666,
             "#ed7953"
            ],
            [
             0.7777777777777778,
             "#fb9f3a"
            ],
            [
             0.8888888888888888,
             "#fdca26"
            ],
            [
             1,
             "#f0f921"
            ]
           ],
           "sequentialminus": [
            [
             0,
             "#0d0887"
            ],
            [
             0.1111111111111111,
             "#46039f"
            ],
            [
             0.2222222222222222,
             "#7201a8"
            ],
            [
             0.3333333333333333,
             "#9c179e"
            ],
            [
             0.4444444444444444,
             "#bd3786"
            ],
            [
             0.5555555555555556,
             "#d8576b"
            ],
            [
             0.6666666666666666,
             "#ed7953"
            ],
            [
             0.7777777777777778,
             "#fb9f3a"
            ],
            [
             0.8888888888888888,
             "#fdca26"
            ],
            [
             1,
             "#f0f921"
            ]
           ]
          },
          "colorway": [
           "#636efa",
           "#EF553B",
           "#00cc96",
           "#ab63fa",
           "#FFA15A",
           "#19d3f3",
           "#FF6692",
           "#B6E880",
           "#FF97FF",
           "#FECB52"
          ],
          "font": {
           "color": "#040404",
           "family": "Open Sans",
           "size": 15
          },
          "geo": {
           "bgcolor": "white",
           "lakecolor": "white",
           "landcolor": "#E5ECF6",
           "showlakes": true,
           "showland": true,
           "subunitcolor": "white"
          },
          "hoverlabel": {
           "align": "left"
          },
          "hovermode": "closest",
          "mapbox": {
           "style": "light"
          },
          "margin": {
           "b": 0
          },
          "paper_bgcolor": "white",
          "plot_bgcolor": "#E5ECF6",
          "polar": {
           "angularaxis": {
            "gridcolor": "white",
            "linecolor": "white",
            "ticks": ""
           },
           "bgcolor": "#E5ECF6",
           "radialaxis": {
            "gridcolor": "white",
            "linecolor": "white",
            "ticks": ""
           }
          },
          "scene": {
           "xaxis": {
            "backgroundcolor": "#E5ECF6",
            "gridcolor": "white",
            "gridwidth": 2,
            "linecolor": "white",
            "showbackground": true,
            "ticks": "",
            "zerolinecolor": "white"
           },
           "yaxis": {
            "backgroundcolor": "#E5ECF6",
            "gridcolor": "white",
            "gridwidth": 2,
            "linecolor": "white",
            "showbackground": true,
            "ticks": "",
            "zerolinecolor": "white"
           },
           "zaxis": {
            "backgroundcolor": "#E5ECF6",
            "gridcolor": "white",
            "gridwidth": 2,
            "linecolor": "white",
            "showbackground": true,
            "ticks": "",
            "zerolinecolor": "white"
           }
          },
          "shapedefaults": {
           "line": {
            "color": "#2a3f5f"
           }
          },
          "ternary": {
           "aaxis": {
            "gridcolor": "white",
            "linecolor": "white",
            "ticks": ""
           },
           "baxis": {
            "gridcolor": "white",
            "linecolor": "white",
            "ticks": ""
           },
           "bgcolor": "#E5ECF6",
           "caxis": {
            "gridcolor": "white",
            "linecolor": "white",
            "ticks": ""
           }
          },
          "title": {
           "font": {
            "color": "#040404",
            "family": "Open Sans"
           },
           "x": 0.05
          },
          "xaxis": {
           "automargin": true,
           "gridcolor": "white",
           "linecolor": "white",
           "ticks": "",
           "title": {
            "standoff": 15
           },
           "zerolinecolor": "white",
           "zerolinewidth": 2
          },
          "yaxis": {
           "automargin": true,
           "gridcolor": "white",
           "linecolor": "white",
           "ticks": "",
           "title": {
            "standoff": 15
           },
           "zerolinecolor": "white",
           "zerolinewidth": 2
          }
         }
        },
        "title": {
         "text": "Projects with the most downloads"
        },
        "xaxis": {
         "anchor": "y",
         "domain": [
          0,
          1
         ],
         "range": [
          0,
          250000
         ],
         "title": {
          "text": "Downloads"
         }
        },
        "yaxis": {
         "anchor": "x",
         "autorange": "reversed",
         "categoryorder": "total descending",
         "domain": [
          0,
          1
         ],
         "title": {}
        }
       }
      },
      "text/html": [
       "<div>                            <div id=\"f2f3b8da-5f9d-463e-b3ed-445f846ae313\" class=\"plotly-graph-div\" style=\"height:2000px; width:100%;\"></div>            <script type=\"text/javascript\">                require([\"plotly\"], function(Plotly) {                    window.PLOTLYENV=window.PLOTLYENV || {};                                    if (document.getElementById(\"f2f3b8da-5f9d-463e-b3ed-445f846ae313\")) {                    Plotly.newPlot(                        \"f2f3b8da-5f9d-463e-b3ed-445f846ae313\",                        [{\"alignmentgroup\":\"True\",\"customdata\":[[\"<a href=\\\"https://github.com/Unidata/netcdf4-python\\\" target=\\\"_blank\\\" style = \\\"color: black\\\"><b>netcdf-python</b></a>\",2010112,\"https://github.com/Unidata/netcdf4-python\",\"The Unidata network Common Data Form (netCDF) in Python is an<br>interface for scientific data access and a set of freely-<br>distributed software libraries that provide an implementation of<br>the interface.\",\"Climate Change\",\"Climate Data Standards\"],[\"<a href=\\\"https://github.com/ecmwf/cfgrib\\\" target=\\\"_blank\\\" style = \\\"color: black\\\"><b>cfgrib</b></a>\",97874,\"https://github.com/ecmwf/cfgrib\",\"A Python interface to map GRIB files to the NetCDF Common Data<br>Model following the CF Convention using ecCodes.\",\"Climate Change\",\"Climate Data Processing and Analysis\"],[\"<a href=\\\"https://github.com/ecmwf/cdsapi\\\" target=\\\"_blank\\\" style = \\\"color: black\\\"><b>cdsapi</b></a>\",48101,\"https://github.com/ecmwf/cdsapi\",\"Python API to access the Copernicus Climate Data Store.\",\"Climate Change\",\"Climate Data Visualization and Access\"],[\"<a href=\\\"https://github.com/meteostat/meteostat-python\\\" target=\\\"_blank\\\" style = \\\"color: black\\\"><b>Meteostat Python</b></a>\",45654,\"https://github.com/meteostat/meteostat-python\",\"Access and analyze historical weather and climate data with<br>Python.\",\"Climate Change\",\"Climate Data Visualization and Access\"],[\"<a href=\\\"https://github.com/intake/intake-esm\\\" target=\\\"_blank\\\" style = \\\"color: black\\\"><b>Intake-esm</b></a>\",34211,\"https://github.com/intake/intake-esm\",\"An intake plugin for parsing an Earth System Model catalog and<br>loading assets into xarray datasets.\",\"Climate Change\",\"Climate Data Visualization and Access\"],[\"<a href=\\\"https://github.com/ouranosinc/xclim\\\" target=\\\"_blank\\\" style = \\\"color: black\\\"><b>xclim</b></a>\",23555,\"https://github.com/ouranosinc/xclim\",\"A library of derived climate variables, i.e. climate indicators,<br>based on xarray.\",\"Climate Change\",\"Climate Data Processing and Analysis\"],[\"<a href=\\\"https://github.com/cerfacs-globc/icclim\\\" target=\\\"_blank\\\" style = \\\"color: black\\\"><b>icclim</b></a>\",10723,\"https://github.com/cerfacs-globc/icclim\",\"Python library for climate indices and climate indicators<br>calculation.\",\"Climate Change\",\"Climate Data Processing and Analysis\"],[\"<a href=\\\"https://github.com/ladybug-tools/uwg\\\" target=\\\"_blank\\\" style = \\\"color: black\\\"><b>Urban Weather Generator</b></a>\",8094,\"https://github.com/ladybug-tools/uwg\",\"A Python application for modeling the urban heat island effect.\",\"Climate Change\",\"Earth and Climate Modeling\"],[\"<a href=\\\"https://github.com/xarray-contrib/xskillscore\\\" target=\\\"_blank\\\" style = \\\"color: black\\\"><b>xskillscore</b></a>\",7174,\"https://github.com/xarray-contrib/xskillscore\",\"An open source project and Python package that provides<br>verification metrics of deterministic (and probabilistic from<br>properscoring) forecasts with xarray.\",\"Climate Change\",\"Climate Data Processing and Analysis\"],[\"<a href=\\\"https://github.com/iamconsortium/pyam\\\" target=\\\"_blank\\\" style = \\\"color: black\\\"><b>pyam</b></a>\",6337,\"https://github.com/iamconsortium/pyam\",\"A Python package for data-wrangling, analysis and visualization<br>of integrated-assessment scenarios and energy systems modeling<br>results.\",\"Climate Change\",\"Integrated Assessment and Climate Policy\"],[\"<a href=\\\"https://github.com/oms-netzero/fair\\\" target=\\\"_blank\\\" style = \\\"color: black\\\"><b>FAIR</b></a>\",5287,\"https://github.com/oms-netzero/fair\",\"Finite Amplitude Impulse-Response simple climate-carbon-cycle<br>model.\",\"Climate Change\",\"Earth and Climate Modeling\"],[\"<a href=\\\"https://github.com/OasisLMF/oasislmf\\\" target=\\\"_blank\\\" style = \\\"color: black\\\"><b>OasisLMF</b></a>\",4692,\"https://github.com/OasisLMF/oasislmf\",\"An open source catastrophe modelling platform, free to use by<br>anyone.\",\"Climate Change\",\"Natural Hazard and Storm\"],[\"<a href=\\\"https://github.com/ecmwf/ecmwf-opendata\\\" target=\\\"_blank\\\" style = \\\"color: black\\\"><b>ecmwf-opendata</b></a>\",3342,\"https://github.com/ecmwf/ecmwf-opendata\",\"A package to simplify the download of ECMWF open data.\",\"Climate Change\",\"Climate Data Visualization and Access\"],[\"<a href=\\\"https://github.com/ecmwf/climetlab\\\" target=\\\"_blank\\\" style = \\\"color: black\\\"><b>climetlab</b></a>\",3258,\"https://github.com/ecmwf/climetlab\",\"A Python package aiming at simplifying access to climate and<br>meteorological datasets, allowing users to focus on science<br>instead of technical issues such as data access and data<br>formats.\",\"Climate Change\",\"Climate Data Visualization and Access\"],[\"<a href=\\\"https://github.com/gem/oq-engine\\\" target=\\\"_blank\\\" style = \\\"color: black\\\"><b>OpenQuake</b></a>\",2206,\"https://github.com/gem/oq-engine\",\"Allows users to compute seismic hazard and seismic risk of<br>earthquakes on a global scale.\",\"Climate Change\",\"Natural Hazard and Storm\"],[\"<a href=\\\"https://github.com/roocs/clisops\\\" target=\\\"_blank\\\" style = \\\"color: black\\\"><b>clisops</b></a>\",1770,\"https://github.com/roocs/clisops\",\"Climate simulation operations.\",\"Climate Change\",\"Climate Data Processing and Analysis\"],[\"<a href=\\\"https://github.com/xgcm/xgcm\\\" target=\\\"_blank\\\" style = \\\"color: black\\\"><b>xgcm</b></a>\",1489,\"https://github.com/xgcm/xgcm\",\"A Python package for analyzing general circulation model output<br>data.\",\"Climate Change\",\"Climate Data Processing and Analysis\"],[\"<a href=\\\"https://github.com/contrailcirrus/pycontrails\\\" target=\\\"_blank\\\" style = \\\"color: black\\\"><b>pycontrails</b></a>\",1401,\"https://github.com/contrailcirrus/pycontrails\",\"Python library for modeling aviation climate impacts.\",\"Climate Change\",\"Earth and Climate Modeling\"],[\"<a href=\\\"https://github.com/SciTools/iris\\\" target=\\\"_blank\\\" style = \\\"color: black\\\"><b>Iris</b></a>\",1389,\"https://github.com/SciTools/iris\",\"A powerful, format-agnostic, community-driven Python package for<br>analyzing and visualizing Earth science data.\",\"Climate Change\",\"Climate Data Processing and Analysis\"]],\"hovertemplate\":\"Project Name: <b>%{customdata[0]}</b><br>Downloads: <b>%{customdata[1]}</b><br>Git URL: <b>%{customdata[2]}</b><br>Description: <b>%{customdata[3]}</b><br>Category: <b>%{customdata[4]}</b><br>Sub Category: <b>%{customdata[5]}</b><br><extra></extra>\",\"legendgroup\":\"Climate Change\",\"marker\":{\"color\":\"rgb(229, 134, 6)\",\"pattern\":{\"shape\":\"\"}},\"name\":\"Climate Change\",\"offsetgroup\":\"Climate Change\",\"orientation\":\"h\",\"showlegend\":true,\"textposition\":\"auto\",\"x\":[2010112,97874,48101,45654,34211,23555,10723,8094,7174,6337,5287,4692,3342,3258,2206,1770,1489,1401,1389],\"xaxis\":\"x\",\"y\":[\"<a href=\\\"https://github.com/Unidata/netcdf4-python\\\" target=\\\"_blank\\\" style = \\\"color: black\\\"><b>netcdf-python</b></a>\",\"<a href=\\\"https://github.com/ecmwf/cfgrib\\\" target=\\\"_blank\\\" style = \\\"color: black\\\"><b>cfgrib</b></a>\",\"<a href=\\\"https://github.com/ecmwf/cdsapi\\\" target=\\\"_blank\\\" style = \\\"color: black\\\"><b>cdsapi</b></a>\",\"<a href=\\\"https://github.com/meteostat/meteostat-python\\\" target=\\\"_blank\\\" style = \\\"color: black\\\"><b>Meteostat Python</b></a>\",\"<a href=\\\"https://github.com/intake/intake-esm\\\" target=\\\"_blank\\\" style = \\\"color: black\\\"><b>Intake-esm</b></a>\",\"<a href=\\\"https://github.com/ouranosinc/xclim\\\" target=\\\"_blank\\\" style = \\\"color: black\\\"><b>xclim</b></a>\",\"<a href=\\\"https://github.com/cerfacs-globc/icclim\\\" target=\\\"_blank\\\" style = \\\"color: black\\\"><b>icclim</b></a>\",\"<a href=\\\"https://github.com/ladybug-tools/uwg\\\" target=\\\"_blank\\\" style = \\\"color: black\\\"><b>Urban Weather Generator</b></a>\",\"<a href=\\\"https://github.com/xarray-contrib/xskillscore\\\" target=\\\"_blank\\\" style = \\\"color: black\\\"><b>xskillscore</b></a>\",\"<a href=\\\"https://github.com/iamconsortium/pyam\\\" target=\\\"_blank\\\" style = \\\"color: black\\\"><b>pyam</b></a>\",\"<a href=\\\"https://github.com/oms-netzero/fair\\\" target=\\\"_blank\\\" style = \\\"color: black\\\"><b>FAIR</b></a>\",\"<a href=\\\"https://github.com/OasisLMF/oasislmf\\\" target=\\\"_blank\\\" style = \\\"color: black\\\"><b>OasisLMF</b></a>\",\"<a href=\\\"https://github.com/ecmwf/ecmwf-opendata\\\" target=\\\"_blank\\\" style = \\\"color: black\\\"><b>ecmwf-opendata</b></a>\",\"<a href=\\\"https://github.com/ecmwf/climetlab\\\" target=\\\"_blank\\\" style = \\\"color: black\\\"><b>climetlab</b></a>\",\"<a href=\\\"https://github.com/gem/oq-engine\\\" target=\\\"_blank\\\" style = \\\"color: black\\\"><b>OpenQuake</b></a>\",\"<a href=\\\"https://github.com/roocs/clisops\\\" target=\\\"_blank\\\" style = \\\"color: black\\\"><b>clisops</b></a>\",\"<a href=\\\"https://github.com/xgcm/xgcm\\\" target=\\\"_blank\\\" style = \\\"color: black\\\"><b>xgcm</b></a>\",\"<a href=\\\"https://github.com/contrailcirrus/pycontrails\\\" target=\\\"_blank\\\" style = \\\"color: black\\\"><b>pycontrails</b></a>\",\"<a href=\\\"https://github.com/SciTools/iris\\\" target=\\\"_blank\\\" style = \\\"color: black\\\"><b>Iris</b></a>\"],\"yaxis\":\"y\",\"type\":\"bar\"},{\"alignmentgroup\":\"True\",\"customdata\":[[\"<a href=\\\"https://github.com/pvlib/pvlib-python\\\" target=\\\"_blank\\\" style = \\\"color: black\\\"><b>pvlib-python</b></a>\",247853,\"https://github.com/pvlib/pvlib-python\",\"A set of documented functions for simulating the performance of<br>photovoltaic energy systems.\",\"Renewable Energy\",\"Photovoltaics and Solar Energy\"],[\"<a href=\\\"https://github.com/python-windrose/windrose\\\" target=\\\"_blank\\\" style = \\\"color: black\\\"><b>windrose</b></a>\",8222,\"https://github.com/python-windrose/windrose\",\"A graphic tool used by meteorologists to give a succinct view of<br>how wind speed and direction are typically distributed at a<br>particular location.\",\"Renewable Energy\",\"Wind Energy\"],[\"<a href=\\\"https://github.com/CalebBell/thermo\\\" target=\\\"_blank\\\" style = \\\"color: black\\\"><b>thermo</b></a>\",5713,\"https://github.com/CalebBell/thermo\",\"Thermodynamics, phase equilibrium, transport properties and<br>chemical database component of Chemical Engineering Design<br>Library.\",\"Renewable Energy\",\"Geothermal Energy\"],[\"<a href=\\\"https://github.com/squishykid/solax\\\" target=\\\"_blank\\\" style = \\\"color: black\\\"><b>solax</b></a>\",3128,\"https://github.com/squishykid/solax\",\"Read energy usage data from the real-time API on Solax solar<br>inverters.\",\"Renewable Energy\",\"Photovoltaics and Solar Energy\"],[\"<a href=\\\"https://github.com/wind-python/windpowerlib\\\" target=\\\"_blank\\\" style = \\\"color: black\\\"><b>windpowerlib</b></a>\",2321,\"https://github.com/wind-python/windpowerlib\",\"A library to model the output of wind turbines and farms.\",\"Renewable Energy\",\"Wind Energy\"],[\"<a href=\\\"https://github.com/NREL/floris\\\" target=\\\"_blank\\\" style = \\\"color: black\\\"><b>floris</b></a>\",2274,\"https://github.com/NREL/floris\",\"A controls-oriented engineering wake modeling framework for<br>evaluating the impact of wind farm controls on AEP and wind farm<br>design.\",\"Renewable Energy\",\"Wind Energy\"],[\"<a href=\\\"https://gitlab.windenergy.dtu.dk/TOPFARM/PyWake\\\" target=\\\"_blank\\\" style = \\\"color: black\\\"><b>PyWake</b></a>\",2028,\"https://gitlab.windenergy.dtu.dk/TOPFARM/PyWake\",\"An AEP calculator for wind farms implemented in Python including<br>a collection of wake models.\",\"Renewable Energy\",\"Wind Energy\"],[\"<a href=\\\"https://github.com/qpv-research-group/solcore5\\\" target=\\\"_blank\\\" style = \\\"color: black\\\"><b>solcore5</b></a>\",2016,\"https://github.com/qpv-research-group/solcore5\",\"A multi-scale, Python-based library for the modeling of solar<br>cells and semiconductor materials.\",\"Renewable Energy\",\"Photovoltaics and Solar Energy\"],[\"<a href=\\\"https://gitlab.opengeosys.org/ogs/ogs\\\" target=\\\"_blank\\\" style = \\\"color: black\\\"><b>OpenGeoSys 6</b></a>\",2013,\"https://gitlab.opengeosys.org/ogs/ogs\",\"A scientific open source project for the development of<br>numerical methods for the simulation of thermo-hydro-mechanical-<br>chemical processes in porous and fractured media.\",\"Renewable Energy\",\"Geothermal Energy\"],[\"<a href=\\\"https://github.com/MassimoCimmino/pygfunction\\\" target=\\\"_blank\\\" style = \\\"color: black\\\"><b>pygfunction</b></a>\",1802,\"https://github.com/MassimoCimmino/pygfunction\",\"An open source toolbox for the evaluation of thermal response<br>factors of geothermal borehole fields.\",\"Renewable Energy\",\"Geothermal Energy\"],[\"<a href=\\\"https://github.com/sunpower/pvfactors\\\" target=\\\"_blank\\\" style = \\\"color: black\\\"><b>pvfactors</b></a>\",1791,\"https://github.com/sunpower/pvfactors\",\"Open source view-factor model for diffuse shading and bifacial<br>PV modeling.\",\"Renewable Energy\",\"Photovoltaics and Solar Energy\"],[\"<a href=\\\"https://github.com/oscarperpinan/solar\\\" target=\\\"_blank\\\" style = \\\"color: black\\\"><b>solaR</b></a>\",1677,\"https://github.com/oscarperpinan/solar\",\"Allows for reproducible research both for photovoltaics systems<br>performance and solar radiation.\",\"Renewable Energy\",\"Photovoltaics and Solar Energy\"]],\"hovertemplate\":\"Project Name: <b>%{customdata[0]}</b><br>Downloads: <b>%{customdata[1]}</b><br>Git URL: <b>%{customdata[2]}</b><br>Description: <b>%{customdata[3]}</b><br>Category: <b>%{customdata[4]}</b><br>Sub Category: <b>%{customdata[5]}</b><br><extra></extra>\",\"legendgroup\":\"Renewable Energy\",\"marker\":{\"color\":\"rgb(93, 105, 177)\",\"pattern\":{\"shape\":\"\"}},\"name\":\"Renewable Energy\",\"offsetgroup\":\"Renewable Energy\",\"orientation\":\"h\",\"showlegend\":true,\"textposition\":\"auto\",\"x\":[247853,8222,5713,3128,2321,2274,2028,2016,2013,1802,1791,1677],\"xaxis\":\"x\",\"y\":[\"<a href=\\\"https://github.com/pvlib/pvlib-python\\\" target=\\\"_blank\\\" style = \\\"color: black\\\"><b>pvlib-python</b></a>\",\"<a href=\\\"https://github.com/python-windrose/windrose\\\" target=\\\"_blank\\\" style = \\\"color: black\\\"><b>windrose</b></a>\",\"<a href=\\\"https://github.com/CalebBell/thermo\\\" target=\\\"_blank\\\" style = \\\"color: black\\\"><b>thermo</b></a>\",\"<a href=\\\"https://github.com/squishykid/solax\\\" target=\\\"_blank\\\" style = \\\"color: black\\\"><b>solax</b></a>\",\"<a href=\\\"https://github.com/wind-python/windpowerlib\\\" target=\\\"_blank\\\" style = \\\"color: black\\\"><b>windpowerlib</b></a>\",\"<a href=\\\"https://github.com/NREL/floris\\\" target=\\\"_blank\\\" style = \\\"color: black\\\"><b>floris</b></a>\",\"<a href=\\\"https://gitlab.windenergy.dtu.dk/TOPFARM/PyWake\\\" target=\\\"_blank\\\" style = \\\"color: black\\\"><b>PyWake</b></a>\",\"<a href=\\\"https://github.com/qpv-research-group/solcore5\\\" target=\\\"_blank\\\" style = \\\"color: black\\\"><b>solcore5</b></a>\",\"<a href=\\\"https://gitlab.opengeosys.org/ogs/ogs\\\" target=\\\"_blank\\\" style = \\\"color: black\\\"><b>OpenGeoSys 6</b></a>\",\"<a href=\\\"https://github.com/MassimoCimmino/pygfunction\\\" target=\\\"_blank\\\" style = \\\"color: black\\\"><b>pygfunction</b></a>\",\"<a href=\\\"https://github.com/sunpower/pvfactors\\\" target=\\\"_blank\\\" style = \\\"color: black\\\"><b>pvfactors</b></a>\",\"<a href=\\\"https://github.com/oscarperpinan/solar\\\" target=\\\"_blank\\\" style = \\\"color: black\\\"><b>solaR</b></a>\"],\"yaxis\":\"y\",\"type\":\"bar\"},{\"alignmentgroup\":\"True\",\"customdata\":[[\"<a href=\\\"https://github.com/kube-green/kube-green\\\" target=\\\"_blank\\\" style = \\\"color: black\\\"><b>kube-green</b></a>\",233663,\"https://github.com/kube-green/kube-green\",\"A k8s operator to reduce CO2 footprint of your clusters.\",\"Consumption\",\"Computation and Communication\"],[\"<a href=\\\"https://github.com/mobilityhouse/ocpp\\\" target=\\\"_blank\\\" style = \\\"color: black\\\"><b>ocpp</b></a>\",83024,\"https://github.com/mobilityhouse/ocpp\",\"Python implementation of the Open Charge Point Protocol.\",\"Consumption\",\"Mobility and Transportation\"],[\"<a href=\\\"https://github.com/thegreenwebfoundation/co2.js\\\" target=\\\"_blank\\\" style = \\\"color: black\\\"><b>co2.js</b></a>\",35917,\"https://github.com/thegreenwebfoundation/co2.js\",\"A npm module for accessing the green web API, and estimating the<br>carbon emissions from using digital services.\",\"Consumption\",\"Computation and Communication\"],[\"<a href=\\\"https://github.com/cloud-carbon-footprint/cloud-carbon-footprint\\\" target=\\\"_blank\\\" style = \\\"color: black\\\"><b>Cloud Carbon Footprint</b></a>\",32798,\"https://github.com/cloud-carbon-footprint/cloud-carbon-footprint\",\"A tool to estimate energy use (kilowatt-hours) and carbon<br>emissions (metric tons CO2e) from public cloud usage.\",\"Consumption\",\"Computation and Communication\"],[\"<a href=\\\"https://github.com/CenterForTheBuiltEnvironment/pythermalcomfort\\\" target=\\\"_blank\\\" style = \\\"color: black\\\"><b>pythermalcomfort</b></a>\",6611,\"https://github.com/CenterForTheBuiltEnvironment/pythermalcomfort\",\"Package to calculate several thermal comfort indices (e.g. PMV,<br>PPD, SET, adaptive) and convert physical variables.\",\"Consumption\",\"Buildings and Heating\"],[\"<a href=\\\"https://github.com/kwstat/agridat\\\" target=\\\"_blank\\\" style = \\\"color: black\\\"><b>Agridat</b></a>\",2973,\"https://github.com/kwstat/agridat\",\"An extensive collection of datasets from agricultural<br>experiments.\",\"Consumption\",\"Agriculture and Nutrition\"],[\"<a href=\\\"https://github.com/maasglobal/maas-schemas\\\" target=\\\"_blank\\\" style = \\\"color: black\\\"><b>MaaS Global</b></a>\",2168,\"https://github.com/maasglobal/maas-schemas\",\"Mobility as a Service API - data model, tests and validation.\",\"Consumption\",\"Mobility and Transportation\"],[\"<a href=\\\"https://github.com/jrester/tesla_powerwall\\\" target=\\\"_blank\\\" style = \\\"color: black\\\"><b>tesla_powerwall</b></a>\",2115,\"https://github.com/jrester/tesla_powerwall\",\"Python Tesla Powerwall API for consuming a local endpoint.\",\"Consumption\",\"Mobility and Transportation\"],[\"<a href=\\\"https://github.com/blinktaginc/node-gtfs\\\" target=\\\"_blank\\\" style = \\\"color: black\\\"><b>node-gtfs</b></a>\",1791,\"https://github.com/blinktaginc/node-gtfs\",\"Import GTFS transit data into SQLite and query routes, stops,<br>times, fares and more.\",\"Consumption\",\"Mobility and Transportation\"],[\"<a href=\\\"https://github.com/oemof/tespy\\\" target=\\\"_blank\\\" style = \\\"color: black\\\"><b>tespy</b></a>\",1374,\"https://github.com/oemof/tespy\",\"Provides a powerful simulation toolkit for thermal engineering<br>plants such as power plants, district heating systems or heat<br>pumps.\",\"Consumption\",\"Buildings and Heating\"]],\"hovertemplate\":\"Project Name: <b>%{customdata[0]}</b><br>Downloads: <b>%{customdata[1]}</b><br>Git URL: <b>%{customdata[2]}</b><br>Description: <b>%{customdata[3]}</b><br>Category: <b>%{customdata[4]}</b><br>Sub Category: <b>%{customdata[5]}</b><br><extra></extra>\",\"legendgroup\":\"Consumption\",\"marker\":{\"color\":\"rgb(82, 188, 163)\",\"pattern\":{\"shape\":\"\"}},\"name\":\"Consumption\",\"offsetgroup\":\"Consumption\",\"orientation\":\"h\",\"showlegend\":true,\"textposition\":\"auto\",\"x\":[233663,83024,35917,32798,6611,2973,2168,2115,1791,1374],\"xaxis\":\"x\",\"y\":[\"<a href=\\\"https://github.com/kube-green/kube-green\\\" target=\\\"_blank\\\" style = \\\"color: black\\\"><b>kube-green</b></a>\",\"<a href=\\\"https://github.com/mobilityhouse/ocpp\\\" target=\\\"_blank\\\" style = \\\"color: black\\\"><b>ocpp</b></a>\",\"<a href=\\\"https://github.com/thegreenwebfoundation/co2.js\\\" target=\\\"_blank\\\" style = \\\"color: black\\\"><b>co2.js</b></a>\",\"<a href=\\\"https://github.com/cloud-carbon-footprint/cloud-carbon-footprint\\\" target=\\\"_blank\\\" style = \\\"color: black\\\"><b>Cloud Carbon Footprint</b></a>\",\"<a href=\\\"https://github.com/CenterForTheBuiltEnvironment/pythermalcomfort\\\" target=\\\"_blank\\\" style = \\\"color: black\\\"><b>pythermalcomfort</b></a>\",\"<a href=\\\"https://github.com/kwstat/agridat\\\" target=\\\"_blank\\\" style = \\\"color: black\\\"><b>Agridat</b></a>\",\"<a href=\\\"https://github.com/maasglobal/maas-schemas\\\" target=\\\"_blank\\\" style = \\\"color: black\\\"><b>MaaS Global</b></a>\",\"<a href=\\\"https://github.com/jrester/tesla_powerwall\\\" target=\\\"_blank\\\" style = \\\"color: black\\\"><b>tesla_powerwall</b></a>\",\"<a href=\\\"https://github.com/blinktaginc/node-gtfs\\\" target=\\\"_blank\\\" style = \\\"color: black\\\"><b>node-gtfs</b></a>\",\"<a href=\\\"https://github.com/oemof/tespy\\\" target=\\\"_blank\\\" style = \\\"color: black\\\"><b>tespy</b></a>\"],\"yaxis\":\"y\",\"type\":\"bar\"},{\"alignmentgroup\":\"True\",\"customdata\":[[\"<a href=\\\"https://github.com/openeemeter/eeweather\\\" target=\\\"_blank\\\" style = \\\"color: black\\\"><b>eeweather</b></a>\",116274,\"https://github.com/openeemeter/eeweather\",\"Fetch NCDC ISD, TMY3, or CZ2010 weather data that corresponds to<br>ZIP Code Tabulation Areas or Latitude/Longitude.\",\"Atmosphere\",\"Meteorological Observation and Forecast\"],[\"<a href=\\\"https://github.com/Unidata/MetPy\\\" target=\\\"_blank\\\" style = \\\"color: black\\\"><b>MetPy</b></a>\",25551,\"https://github.com/Unidata/MetPy\",\"A collection of tools in Python for reading, visualizing and<br>performing calculations with weather data.\",\"Atmosphere\",\"Meteorological Observation and Forecast\"],[\"<a href=\\\"https://github.com/earthobservations/wetterdienst\\\" target=\\\"_blank\\\" style = \\\"color: black\\\"><b>wetterdienst</b></a>\",4753,\"https://github.com/earthobservations/wetterdienst\",\"Trying to make access to weather data in Python feel like a warm<br>summer breeze.\",\"Atmosphere\",\"Meteorological Observation and Forecast\"],[\"<a href=\\\"https://github.com/eliocamp/metR\\\" target=\\\"_blank\\\" style = \\\"color: black\\\"><b>metR</b></a>\",4172,\"https://github.com/eliocamp/metR\",\"Several functions and utilities that make R better for handling<br>meteorological data in the tidy data paradigm.\",\"Atmosphere\",\"Meteorological Observation and Forecast\"],[\"<a href=\\\"https://github.com/open-atmos/PySDM\\\" target=\\\"_blank\\\" style = \\\"color: black\\\"><b>PySDM</b></a>\",2411,\"https://github.com/open-atmos/PySDM\",\"Pythonic particle-based warm-rain/aqueous-chemistry cloud<br>microphysics package.\",\"Atmosphere\",\"Atmospheric Chemistry and Aerosol\"],[\"<a href=\\\"https://github.com/NCAR/wrf-python\\\" target=\\\"_blank\\\" style = \\\"color: black\\\"><b>wrf-python</b></a>\",2163,\"https://github.com/NCAR/wrf-python\",\"A collection of diagnostic and interpolation routines for use<br>with output from the Weather Research and Forecasting Model.\",\"Atmosphere\",\"Meteorological Observation and Forecast\"],[\"<a href=\\\"https://github.com/blaylockbk/Herbie\\\" target=\\\"_blank\\\" style = \\\"color: black\\\"><b>Herbie</b></a>\",1910,\"https://github.com/blaylockbk/Herbie\",\"A python package that downloads recent and archived numerical<br>weather prediction model output from different cloud archive<br>sources.\",\"Atmosphere\",\"Meteorological Observation and Forecast\"],[\"<a href=\\\"https://github.com/arm-doe/act\\\" target=\\\"_blank\\\" style = \\\"color: black\\\"><b>ACT</b></a>\",1485,\"https://github.com/arm-doe/act\",\"The Atmospheric data Community Toolkit is an open source Python<br>toolkit for working with atmospheric time-series datasets of<br>varying dimensions.\",\"Atmosphere\",\"Atmospheric Composition and Dynamics\"]],\"hovertemplate\":\"Project Name: <b>%{customdata[0]}</b><br>Downloads: <b>%{customdata[1]}</b><br>Git URL: <b>%{customdata[2]}</b><br>Description: <b>%{customdata[3]}</b><br>Category: <b>%{customdata[4]}</b><br>Sub Category: <b>%{customdata[5]}</b><br><extra></extra>\",\"legendgroup\":\"Atmosphere\",\"marker\":{\"color\":\"rgb(153, 201, 69)\",\"pattern\":{\"shape\":\"\"}},\"name\":\"Atmosphere\",\"offsetgroup\":\"Atmosphere\",\"orientation\":\"h\",\"showlegend\":true,\"textposition\":\"auto\",\"x\":[116274,25551,4753,4172,2411,2163,1910,1485],\"xaxis\":\"x\",\"y\":[\"<a href=\\\"https://github.com/openeemeter/eeweather\\\" target=\\\"_blank\\\" style = \\\"color: black\\\"><b>eeweather</b></a>\",\"<a href=\\\"https://github.com/Unidata/MetPy\\\" target=\\\"_blank\\\" style = \\\"color: black\\\"><b>MetPy</b></a>\",\"<a href=\\\"https://github.com/earthobservations/wetterdienst\\\" target=\\\"_blank\\\" style = \\\"color: black\\\"><b>wetterdienst</b></a>\",\"<a href=\\\"https://github.com/eliocamp/metR\\\" target=\\\"_blank\\\" style = \\\"color: black\\\"><b>metR</b></a>\",\"<a href=\\\"https://github.com/open-atmos/PySDM\\\" target=\\\"_blank\\\" style = \\\"color: black\\\"><b>PySDM</b></a>\",\"<a href=\\\"https://github.com/NCAR/wrf-python\\\" target=\\\"_blank\\\" style = \\\"color: black\\\"><b>wrf-python</b></a>\",\"<a href=\\\"https://github.com/blaylockbk/Herbie\\\" target=\\\"_blank\\\" style = \\\"color: black\\\"><b>Herbie</b></a>\",\"<a href=\\\"https://github.com/arm-doe/act\\\" target=\\\"_blank\\\" style = \\\"color: black\\\"><b>ACT</b></a>\"],\"yaxis\":\"y\",\"type\":\"bar\"},{\"alignmentgroup\":\"True\",\"customdata\":[[\"<a href=\\\"https://github.com/energywebfoundation/origin\\\" target=\\\"_blank\\\" style = \\\"color: black\\\"><b>origin</b></a>\",81160,\"https://github.com/energywebfoundation/origin\",\"A set of toolkits that together provide a system for issuance<br>and management of Energy Attribute Certificates.\",\"Energy Systems\",\"Energy Distribution and Grids\"],[\"<a href=\\\"https://github.com/EnergieID/entsoe-py\\\" target=\\\"_blank\\\" style = \\\"color: black\\\"><b>entsoe-py</b></a>\",36438,\"https://github.com/EnergieID/entsoe-py\",\"A Python client for the ENTSO-E API (European Network of<br>Transmission System Operators for Electricity).\",\"Energy Systems\",\"Energy System Data Access\"],[\"<a href=\\\"https://github.com/openeemeter/eemeter\\\" target=\\\"_blank\\\" style = \\\"color: black\\\"><b>eemeter</b></a>\",14889,\"https://github.com/openeemeter/eemeter\",\"An open source Python package for implementing and developing<br>standard methods for calculating normalized metered energy<br>consumption and avoided energy use.\",\"Energy Systems\",\"Energy Monitoring and Management\"],[\"<a href=\\\"https://github.com/PyPSA/PyPSA\\\" target=\\\"_blank\\\" style = \\\"color: black\\\"><b>PyPSA</b></a>\",6921,\"https://github.com/PyPSA/PyPSA\",\"A free software toolbox for simulating and optimizing modern<br>power systems that include features such as conventional<br>generators with unit commitment, variable wind and solar<br>generation, storage units, coupling to other energy sectors, and<br>mixed alternating and direct current networks.\",\"Energy Systems\",\"Energy Modeling and Optimization\"],[\"<a href=\\\"https://github.com/grid-parity-exchange/Egret\\\" target=\\\"_blank\\\" style = \\\"color: black\\\"><b>Egret</b></a>\",6127,\"https://github.com/grid-parity-exchange/Egret\",\"A Python-based package for electrical grid optimization based on<br>the Pyomo optimization modeling language.\",\"Energy Systems\",\"Energy Distribution and Grids\"],[\"<a href=\\\"https://github.com/kmax12/gridstatus\\\" target=\\\"_blank\\\" style = \\\"color: black\\\"><b>gridstatus</b></a>\",4260,\"https://github.com/kmax12/gridstatus\",\"Provides standardized API to access energy data from the major<br>Independent System Operators in the United States.\",\"Energy Systems\",\"Energy System Data Access\"],[\"<a href=\\\"https://github.com/robinhenry/gym-anm\\\" target=\\\"_blank\\\" style = \\\"color: black\\\"><b>Gym-ANM</b></a>\",3337,\"https://github.com/robinhenry/gym-anm\",\"Design Reinforcement Learning environments that model Active<br>Network Management tasks in electricity distribution networks.\",\"Energy Systems\",\"Energy Distribution and Grids\"],[\"<a href=\\\"https://github.com/OSUKED/ElexonDataPortal\\\" target=\\\"_blank\\\" style = \\\"color: black\\\"><b>ElexonDataPortal</b></a>\",3270,\"https://github.com/OSUKED/ElexonDataPortal\",\"Wrapper for the Balancing Mechanism Reporting Service API to<br>balance power flowing on to and off from the electricity<br>Transmission System in Great Britain.\",\"Energy Systems\",\"Energy System Data Access\"],[\"<a href=\\\"https://github.com/sanpen/gridcal\\\" target=\\\"_blank\\\" style = \\\"color: black\\\"><b>GridCal</b></a>\",2660,\"https://github.com/sanpen/gridcal\",\"Aims to be a complete platform for power systems research and<br>simulation.\",\"Energy Systems\",\"Energy Distribution and Grids\"],[\"<a href=\\\"https://github.com/pypsa/atlite\\\" target=\\\"_blank\\\" style = \\\"color: black\\\"><b>atlite</b></a>\",2632,\"https://github.com/pypsa/atlite\",\"Light-weight version of Aarhus RE Atlas for converting weather<br>data to power systems data.\",\"Energy Systems\",\"Energy System Data Access\"],[\"<a href=\\\"https://github.com/GMLC-TDC/HELICS\\\" target=\\\"_blank\\\" style = \\\"color: black\\\"><b>HELICS</b></a>\",2110,\"https://github.com/GMLC-TDC/HELICS\",\"Today the core uses are in the energy domain, where there is<br>extensive and growing support for a wide-range of electric power<br>system, natural gas, communications and control-schemes,<br>transportation, buildings, and related domain tools.\",\"Energy Systems\",\"Energy Modeling and Optimization\"],[\"<a href=\\\"https://github.com/rte-france/grid2op\\\" target=\\\"_blank\\\" style = \\\"color: black\\\"><b>Grid2Op</b></a>\",1844,\"https://github.com/rte-france/grid2op\",\"A testbed platform to model sequential decision making in power<br>systems.\",\"Energy Systems\",\"Energy Distribution and Grids\"],[\"<a href=\\\"https://github.com/mzy2240/ESA\\\" target=\\\"_blank\\\" style = \\\"color: black\\\"><b>Easy SimAuto</b></a>\",1700,\"https://github.com/mzy2240/ESA\",\"An easy-to-use Power System Analysis Automation Platform atop<br>PowerWorld's Simulator Automation Server.\",\"Energy Systems\",\"Energy Distribution and Grids\"],[\"<a href=\\\"https://github.com/intelligent-environments-lab/CityLearn\\\" target=\\\"_blank\\\" style = \\\"color: black\\\"><b>CityLearn</b></a>\",1612,\"https://github.com/intelligent-environments-lab/CityLearn\",\"Official reinforcement learning environment for demand response<br>and load shaping.\",\"Energy Systems\",\"Energy Modeling and Optimization\"],[\"<a href=\\\"https://github.com/fzj-iek3-vsa/tsam\\\" target=\\\"_blank\\\" style = \\\"color: black\\\"><b>tsam</b></a>\",1525,\"https://github.com/fzj-iek3-vsa/tsam\",\"A Python package which uses different machine learning<br>algorithms for the aggregation of time series.\",\"Energy Systems\",\"Energy Modeling and Optimization\"]],\"hovertemplate\":\"Project Name: <b>%{customdata[0]}</b><br>Downloads: <b>%{customdata[1]}</b><br>Git URL: <b>%{customdata[2]}</b><br>Description: <b>%{customdata[3]}</b><br>Category: <b>%{customdata[4]}</b><br>Sub Category: <b>%{customdata[5]}</b><br><extra></extra>\",\"legendgroup\":\"Energy Systems\",\"marker\":{\"color\":\"rgb(204, 97, 176)\",\"pattern\":{\"shape\":\"\"}},\"name\":\"Energy Systems\",\"offsetgroup\":\"Energy Systems\",\"orientation\":\"h\",\"showlegend\":true,\"textposition\":\"auto\",\"x\":[81160,36438,14889,6921,6127,4260,3337,3270,2660,2632,2110,1844,1700,1612,1525],\"xaxis\":\"x\",\"y\":[\"<a href=\\\"https://github.com/energywebfoundation/origin\\\" target=\\\"_blank\\\" style = \\\"color: black\\\"><b>origin</b></a>\",\"<a href=\\\"https://github.com/EnergieID/entsoe-py\\\" target=\\\"_blank\\\" style = \\\"color: black\\\"><b>entsoe-py</b></a>\",\"<a href=\\\"https://github.com/openeemeter/eemeter\\\" target=\\\"_blank\\\" style = \\\"color: black\\\"><b>eemeter</b></a>\",\"<a href=\\\"https://github.com/PyPSA/PyPSA\\\" target=\\\"_blank\\\" style = \\\"color: black\\\"><b>PyPSA</b></a>\",\"<a href=\\\"https://github.com/grid-parity-exchange/Egret\\\" target=\\\"_blank\\\" style = \\\"color: black\\\"><b>Egret</b></a>\",\"<a href=\\\"https://github.com/kmax12/gridstatus\\\" target=\\\"_blank\\\" style = \\\"color: black\\\"><b>gridstatus</b></a>\",\"<a href=\\\"https://github.com/robinhenry/gym-anm\\\" target=\\\"_blank\\\" style = \\\"color: black\\\"><b>Gym-ANM</b></a>\",\"<a href=\\\"https://github.com/OSUKED/ElexonDataPortal\\\" target=\\\"_blank\\\" style = \\\"color: black\\\"><b>ElexonDataPortal</b></a>\",\"<a href=\\\"https://github.com/sanpen/gridcal\\\" target=\\\"_blank\\\" style = \\\"color: black\\\"><b>GridCal</b></a>\",\"<a href=\\\"https://github.com/pypsa/atlite\\\" target=\\\"_blank\\\" style = \\\"color: black\\\"><b>atlite</b></a>\",\"<a href=\\\"https://github.com/GMLC-TDC/HELICS\\\" target=\\\"_blank\\\" style = \\\"color: black\\\"><b>HELICS</b></a>\",\"<a href=\\\"https://github.com/rte-france/grid2op\\\" target=\\\"_blank\\\" style = \\\"color: black\\\"><b>Grid2Op</b></a>\",\"<a href=\\\"https://github.com/mzy2240/ESA\\\" target=\\\"_blank\\\" style = \\\"color: black\\\"><b>Easy SimAuto</b></a>\",\"<a href=\\\"https://github.com/intelligent-environments-lab/CityLearn\\\" target=\\\"_blank\\\" style = \\\"color: black\\\"><b>CityLearn</b></a>\",\"<a href=\\\"https://github.com/fzj-iek3-vsa/tsam\\\" target=\\\"_blank\\\" style = \\\"color: black\\\"><b>tsam</b></a>\"],\"yaxis\":\"y\",\"type\":\"bar\"},{\"alignmentgroup\":\"True\",\"customdata\":[[\"<a href=\\\"https://github.com/onaci/leaflet-velocity\\\" target=\\\"_blank\\\" style = \\\"color: black\\\"><b>leaflet-velocity</b></a>\",44058,\"https://github.com/onaci/leaflet-velocity\",\"Create a canvas visualization layer for direction and intensity<br>of arbitrary velocities (e.g. wind, ocean current).\",\"Hydrosphere\",\"Waves and Currents\"],[\"<a href=\\\"https://github.com/dankelley/oce\\\" target=\\\"_blank\\\" style = \\\"color: black\\\"><b>oce</b></a>\",3569,\"https://github.com/dankelley/oce\",\"An R package for oceanographic processing.\",\"Hydrosphere\",\"Ocean and Hydrology Data Access\"],[\"<a href=\\\"https://github.com/gclunies/noaa_coops\\\" target=\\\"_blank\\\" style = \\\"color: black\\\"><b>noaa_coops</b></a>\",2457,\"https://github.com/gclunies/noaa_coops\",\"A Python wrapper for the NOAA CO-OPS Tides & Currents Data and<br>Metadata APIs.\",\"Hydrosphere\",\"Ocean and Hydrology Data Access\"]],\"hovertemplate\":\"Project Name: <b>%{customdata[0]}</b><br>Downloads: <b>%{customdata[1]}</b><br>Git URL: <b>%{customdata[2]}</b><br>Description: <b>%{customdata[3]}</b><br>Category: <b>%{customdata[4]}</b><br>Sub Category: <b>%{customdata[5]}</b><br><extra></extra>\",\"legendgroup\":\"Hydrosphere\",\"marker\":{\"color\":\"rgb(36, 121, 108)\",\"pattern\":{\"shape\":\"\"}},\"name\":\"Hydrosphere\",\"offsetgroup\":\"Hydrosphere\",\"orientation\":\"h\",\"showlegend\":true,\"textposition\":\"auto\",\"x\":[44058,3569,2457],\"xaxis\":\"x\",\"y\":[\"<a href=\\\"https://github.com/onaci/leaflet-velocity\\\" target=\\\"_blank\\\" style = \\\"color: black\\\"><b>leaflet-velocity</b></a>\",\"<a href=\\\"https://github.com/dankelley/oce\\\" target=\\\"_blank\\\" style = \\\"color: black\\\"><b>oce</b></a>\",\"<a href=\\\"https://github.com/gclunies/noaa_coops\\\" target=\\\"_blank\\\" style = \\\"color: black\\\"><b>noaa_coops</b></a>\"],\"yaxis\":\"y\",\"type\":\"bar\"},{\"alignmentgroup\":\"True\",\"customdata\":[[\"<a href=\\\"https://github.com/sentinel-hub/sentinelhub-py\\\" target=\\\"_blank\\\" style = \\\"color: black\\\"><b>sentinelhub-py</b></a>\",24785,\"https://github.com/sentinel-hub/sentinelhub-py\",\"Download and process satellite imagery in Python using Sentinel<br>Hub services.\",\"Sustainable Development\",\"Environmental Satellites\"],[\"<a href=\\\"https://github.com/sentinelsat/sentinelsat\\\" target=\\\"_blank\\\" style = \\\"color: black\\\"><b>sentinelsat</b></a>\",17702,\"https://github.com/sentinelsat/sentinelsat\",\"Makes searching, downloading and retrieving the metadata of<br>Sentinel satellite images from the Copernicus Open Access Hub<br>easy.\",\"Sustainable Development\",\"Environmental Satellites\"],[\"<a href=\\\"https://github.com/kapadia/usgs\\\" target=\\\"_blank\\\" style = \\\"color: black\\\"><b>USGS</b></a>\",9333,\"https://github.com/kapadia/usgs\",\"A python module for interfacing with the US Geological Survey's<br>API.\",\"Sustainable Development\",\"Data Catalogs and Interfaces\"],[\"<a href=\\\"https://github.com/pytroll/satpy\\\" target=\\\"_blank\\\" style = \\\"color: black\\\"><b>satpy</b></a>\",8314,\"https://github.com/pytroll/satpy\",\"A python library for reading and manipulating meteorological<br>remote sensing data and writing it to various image and data<br>file formats.\",\"Sustainable Development\",\"Environmental Satellites\"],[\"<a href=\\\"https://github.com/michaeldavie/env_canada\\\" target=\\\"_blank\\\" style = \\\"color: black\\\"><b>env_canada</b></a>\",5157,\"https://github.com/michaeldavie/env_canada\",\"Provides access to various data sources published by Environment<br>and Climate Change Canada.\",\"Sustainable Development\",\"Data Catalogs and Interfaces\"],[\"<a href=\\\"https://github.com/Unidata/siphon\\\" target=\\\"_blank\\\" style = \\\"color: black\\\"><b>Siphon</b></a>\",4919,\"https://github.com/Unidata/siphon\",\"A collection of Python utilities for retrieving atmospheric and<br>oceanic data from remote sources, focusing on being able to<br>retrieve data from Unidata data technologies.\",\"Sustainable Development\",\"Data Catalogs and Interfaces\"],[\"<a href=\\\"https://github.com/r-earthengine/ee_extra\\\" target=\\\"_blank\\\" style = \\\"color: black\\\"><b>eeExtra</b></a>\",3972,\"https://github.com/r-earthengine/ee_extra\",\"A ninja python package that unifies the Google Earth Engine<br>ecosystem.\",\"Sustainable Development\",\"Data Catalogs and Interfaces\"],[\"<a href=\\\"https://github.com/ropengov/eurostat\\\" target=\\\"_blank\\\" style = \\\"color: black\\\"><b>eurostat R package</b></a>\",3183,\"https://github.com/ropengov/eurostat\",\"R tools to access open data from Eurostat, the statistical<br>office of the European Union.\",\"Sustainable Development\",\"Data Catalogs and Interfaces\"],[\"<a href=\\\"https://github.com/Open-EO/openeo-python-client\\\" target=\\\"_blank\\\" style = \\\"color: black\\\"><b>openEO</b></a>\",2920,\"https://github.com/Open-EO/openeo-python-client\",\"Provides intuitive programming libraries to process a wide<br>variety of earth observation datasets.\",\"Sustainable Development\",\"Environmental Satellites\"],[\"<a href=\\\"https://github.com/rOpenGov/giscoR\\\" target=\\\"_blank\\\" style = \\\"color: black\\\"><b>giscoR</b></a>\",2442,\"https://github.com/rOpenGov/giscoR\",\"An R API package that helps to retrieve data from Eurostat<br>Geographic Information System of the Commission.\",\"Sustainable Development\",\"Data Catalogs and Interfaces\"],[\"<a href=\\\"https://github.com/radiantearth/radiant-mlhub\\\" target=\\\"_blank\\\" style = \\\"color: black\\\"><b>Radiant MLHub Python Client</b></a>\",1927,\"https://github.com/radiantearth/radiant-mlhub\",\"Open community commons for geospatial training data, machine<br>learning models, and standards to encourage collaboration and<br>share information.\",\"Sustainable Development\",\"Data Catalogs and Interfaces\"],[\"<a href=\\\"https://github.com/nsidc/earthaccess\\\" target=\\\"_blank\\\" style = \\\"color: black\\\"><b>earthaccess</b></a>\",1792,\"https://github.com/nsidc/earthaccess\",\"Search, download or stream NASA Earth science data with just a<br>few lines of code.\",\"Sustainable Development\",\"Data Catalogs and Interfaces\"]],\"hovertemplate\":\"Project Name: <b>%{customdata[0]}</b><br>Downloads: <b>%{customdata[1]}</b><br>Git URL: <b>%{customdata[2]}</b><br>Description: <b>%{customdata[3]}</b><br>Category: <b>%{customdata[4]}</b><br>Sub Category: <b>%{customdata[5]}</b><br><extra></extra>\",\"legendgroup\":\"Sustainable Development\",\"marker\":{\"color\":\"rgb(218, 165, 27)\",\"pattern\":{\"shape\":\"\"}},\"name\":\"Sustainable Development\",\"offsetgroup\":\"Sustainable Development\",\"orientation\":\"h\",\"showlegend\":true,\"textposition\":\"auto\",\"x\":[24785,17702,9333,8314,5157,4919,3972,3183,2920,2442,1927,1792],\"xaxis\":\"x\",\"y\":[\"<a href=\\\"https://github.com/sentinel-hub/sentinelhub-py\\\" target=\\\"_blank\\\" style = \\\"color: black\\\"><b>sentinelhub-py</b></a>\",\"<a href=\\\"https://github.com/sentinelsat/sentinelsat\\\" target=\\\"_blank\\\" style = \\\"color: black\\\"><b>sentinelsat</b></a>\",\"<a href=\\\"https://github.com/kapadia/usgs\\\" target=\\\"_blank\\\" style = \\\"color: black\\\"><b>USGS</b></a>\",\"<a href=\\\"https://github.com/pytroll/satpy\\\" target=\\\"_blank\\\" style = \\\"color: black\\\"><b>satpy</b></a>\",\"<a href=\\\"https://github.com/michaeldavie/env_canada\\\" target=\\\"_blank\\\" style = \\\"color: black\\\"><b>env_canada</b></a>\",\"<a href=\\\"https://github.com/Unidata/siphon\\\" target=\\\"_blank\\\" style = \\\"color: black\\\"><b>Siphon</b></a>\",\"<a href=\\\"https://github.com/r-earthengine/ee_extra\\\" target=\\\"_blank\\\" style = \\\"color: black\\\"><b>eeExtra</b></a>\",\"<a href=\\\"https://github.com/ropengov/eurostat\\\" target=\\\"_blank\\\" style = \\\"color: black\\\"><b>eurostat R package</b></a>\",\"<a href=\\\"https://github.com/Open-EO/openeo-python-client\\\" target=\\\"_blank\\\" style = \\\"color: black\\\"><b>openEO</b></a>\",\"<a href=\\\"https://github.com/rOpenGov/giscoR\\\" target=\\\"_blank\\\" style = \\\"color: black\\\"><b>giscoR</b></a>\",\"<a href=\\\"https://github.com/radiantearth/radiant-mlhub\\\" target=\\\"_blank\\\" style = \\\"color: black\\\"><b>Radiant MLHub Python Client</b></a>\",\"<a href=\\\"https://github.com/nsidc/earthaccess\\\" target=\\\"_blank\\\" style = \\\"color: black\\\"><b>earthaccess</b></a>\"],\"yaxis\":\"y\",\"type\":\"bar\"},{\"alignmentgroup\":\"True\",\"customdata\":[[\"<a href=\\\"https://github.com/scikit-maad/scikit-maad\\\" target=\\\"_blank\\\" style = \\\"color: black\\\"><b>scikit-maad</b></a>\",17188,\"https://github.com/scikit-maad/scikit-maad\",\"Enables quantitative analysis of environmental audio, offering<br>tools for processing, segmenting, and computing acoustic<br>features.\",\"Biosphere\",\"Biodiversity and Species Distribution\"],[\"<a href=\\\"https://github.com/fishR-Core-Team/FSA\\\" target=\\\"_blank\\\" style = \\\"color: black\\\"><b>Fisheries Stock Assessment</b></a>\",13745,\"https://github.com/fishR-Core-Team/FSA\",\"Provides R functions to conduct typical introductory fisheries<br>analyses.\",\"Biosphere\",\"Marine Life and Fishery\"],[\"<a href=\\\"https://github.com/r-lidar/lidR\\\" target=\\\"_blank\\\" style = \\\"color: black\\\"><b>lidR</b></a>\",3737,\"https://github.com/r-lidar/lidR\",\"An R package for airborne LiDAR data manipulation and<br>visualization for forestry application.\",\"Biosphere\",\"Forest Observation and Management\"],[\"<a href=\\\"https://github.com/weecology/DeepForest\\\" target=\\\"_blank\\\" style = \\\"color: black\\\"><b>DeepForest</b></a>\",2304,\"https://github.com/weecology/DeepForest\",\"Python Package for Tree Crown Detection in Airborne RGB imagery.\",\"Biosphere\",\"Forest Observation and Management\"],[\"<a href=\\\"https://github.com/jamiemkass/ENMeval\\\" target=\\\"_blank\\\" style = \\\"color: black\\\"><b>ENMeval</b></a>\",1932,\"https://github.com/jamiemkass/ENMeval\",\"R package for automated runs and evaluations of ecological niche<br>models.\",\"Biosphere\",\"Biodiversity and Species Distribution\"],[\"<a href=\\\"https://github.com/jeffreyevans/spatialeco\\\" target=\\\"_blank\\\" style = \\\"color: black\\\"><b>spatialEco</b></a>\",1759,\"https://github.com/jeffreyevans/spatialeco\",\"R package for spatial analysis and modelling of ecological<br>systems.\",\"Biosphere\",\"Biodiversity and Species Distribution\"],[\"<a href=\\\"https://github.com/pyinat/pyinaturalist\\\" target=\\\"_blank\\\" style = \\\"color: black\\\"><b>pyinaturalist</b></a>\",1425,\"https://github.com/pyinat/pyinaturalist\",\"Python client for iNaturalist, a community science platform that<br>helps people get involved in the natural world by observing and<br>identifying the living things around them.\",\"Biosphere\",\"Biodiversity and Species Distribution\"],[\"<a href=\\\"https://github.com/fishr-core-team/fsadata\\\" target=\\\"_blank\\\" style = \\\"color: black\\\"><b>FSAdata</b></a>\",1391,\"https://github.com/fishr-core-team/fsadata\",\"Contains data for use in common fisheries stock analyses. See<br>installation instructions further below.\",\"Biosphere\",\"Marine Life and Fishery\"]],\"hovertemplate\":\"Project Name: <b>%{customdata[0]}</b><br>Downloads: <b>%{customdata[1]}</b><br>Git URL: <b>%{customdata[2]}</b><br>Description: <b>%{customdata[3]}</b><br>Category: <b>%{customdata[4]}</b><br>Sub Category: <b>%{customdata[5]}</b><br><extra></extra>\",\"legendgroup\":\"Biosphere\",\"marker\":{\"color\":\"rgb(47, 138, 196)\",\"pattern\":{\"shape\":\"\"}},\"name\":\"Biosphere\",\"offsetgroup\":\"Biosphere\",\"orientation\":\"h\",\"showlegend\":true,\"textposition\":\"auto\",\"x\":[17188,13745,3737,2304,1932,1759,1425,1391],\"xaxis\":\"x\",\"y\":[\"<a href=\\\"https://github.com/scikit-maad/scikit-maad\\\" target=\\\"_blank\\\" style = \\\"color: black\\\"><b>scikit-maad</b></a>\",\"<a href=\\\"https://github.com/fishR-Core-Team/FSA\\\" target=\\\"_blank\\\" style = \\\"color: black\\\"><b>Fisheries Stock Assessment</b></a>\",\"<a href=\\\"https://github.com/r-lidar/lidR\\\" target=\\\"_blank\\\" style = \\\"color: black\\\"><b>lidR</b></a>\",\"<a href=\\\"https://github.com/weecology/DeepForest\\\" target=\\\"_blank\\\" style = \\\"color: black\\\"><b>DeepForest</b></a>\",\"<a href=\\\"https://github.com/jamiemkass/ENMeval\\\" target=\\\"_blank\\\" style = \\\"color: black\\\"><b>ENMeval</b></a>\",\"<a href=\\\"https://github.com/jeffreyevans/spatialeco\\\" target=\\\"_blank\\\" style = \\\"color: black\\\"><b>spatialEco</b></a>\",\"<a href=\\\"https://github.com/pyinat/pyinaturalist\\\" target=\\\"_blank\\\" style = \\\"color: black\\\"><b>pyinaturalist</b></a>\",\"<a href=\\\"https://github.com/fishr-core-team/fsadata\\\" target=\\\"_blank\\\" style = \\\"color: black\\\"><b>FSAdata</b></a>\"],\"yaxis\":\"y\",\"type\":\"bar\"},{\"alignmentgroup\":\"True\",\"customdata\":[[\"<a href=\\\"https://github.com/pybamm-team/pybamm\\\" target=\\\"_blank\\\" style = \\\"color: black\\\"><b>PyBaMM</b></a>\",9485,\"https://github.com/pybamm-team/pybamm\",\"Fast and flexible physics-based battery models in Python.\",\"Energy Storage\",\"Battery\"],[\"<a href=\\\"https://github.com/FZJ-IEK3-VSA/bslib\\\" target=\\\"_blank\\\" style = \\\"color: black\\\"><b>bslib</b></a>\",1514,\"https://github.com/FZJ-IEK3-VSA/bslib\",\"Database with battery parameters based on PerMod as well as<br>functions in order to simulate battery storages.\",\"Energy Storage\",\"Battery\"]],\"hovertemplate\":\"Project Name: <b>%{customdata[0]}</b><br>Downloads: <b>%{customdata[1]}</b><br>Git URL: <b>%{customdata[2]}</b><br>Description: <b>%{customdata[3]}</b><br>Category: <b>%{customdata[4]}</b><br>Sub Category: <b>%{customdata[5]}</b><br><extra></extra>\",\"legendgroup\":\"Energy Storage\",\"marker\":{\"color\":\"rgb(118, 78, 159)\",\"pattern\":{\"shape\":\"\"}},\"name\":\"Energy Storage\",\"offsetgroup\":\"Energy Storage\",\"orientation\":\"h\",\"showlegend\":true,\"textposition\":\"auto\",\"x\":[9485,1514],\"xaxis\":\"x\",\"y\":[\"<a href=\\\"https://github.com/pybamm-team/pybamm\\\" target=\\\"_blank\\\" style = \\\"color: black\\\"><b>PyBaMM</b></a>\",\"<a href=\\\"https://github.com/FZJ-IEK3-VSA/bslib\\\" target=\\\"_blank\\\" style = \\\"color: black\\\"><b>bslib</b></a>\"],\"yaxis\":\"y\",\"type\":\"bar\"},{\"alignmentgroup\":\"True\",\"customdata\":[[\"<a href=\\\"https://github.com/davidcarslaw/openair\\\" target=\\\"_blank\\\" style = \\\"color: black\\\"><b>openair</b></a>\",6268,\"https://github.com/davidcarslaw/openair\",\"An R package developed for the purpose of analyzing air quality<br>data — or more generally atmospheric composition data.\",\"Natural Resources\",\"Air Quality\"],[\"<a href=\\\"https://github.com/modflowpy/flopy\\\" target=\\\"_blank\\\" style = \\\"color: black\\\"><b>flopy</b></a>\",4692,\"https://github.com/modflowpy/flopy\",\"A Python package to create, run, and post-process MODFLOW-based<br>models.\",\"Natural Resources\",\"Water Supply\"],[\"<a href=\\\"https://github.com/Deltares/Ribasim\\\" target=\\\"_blank\\\" style = \\\"color: black\\\"><b>Ribasim</b></a>\",4289,\"https://github.com/Deltares/Ribasim\",\"A water resources model, designed to be the replacement of the<br>regional surface water modules Mozart and SIMRES in the<br>Netherlands Hydrological Instrument.\",\"Natural Resources\",\"Water Supply\"],[\"<a href=\\\"https://github.com/usepa/wntr\\\" target=\\\"_blank\\\" style = \\\"color: black\\\"><b>Water Network Tool for Resilience</b></a>\",3985,\"https://github.com/usepa/wntr\",\"A Python package designed to simulate and analyze resilience of<br>water distribution networks.\",\"Natural Resources\",\"Water Supply\"],[\"<a href=\\\"https://github.com/ncss-tech/aqp\\\" target=\\\"_blank\\\" style = \\\"color: black\\\"><b>AQP</b></a>\",2351,\"https://github.com/ncss-tech/aqp\",\"Algorithms for Quantitative Pedology is a collection of code,<br>ideas, documentation, and examples wrapped-up into several R<br>packages.\",\"Natural Resources\",\"Soil and Land\"],[\"<a href=\\\"https://github.com/r-spatialecology/landscapemetrics\\\" target=\\\"_blank\\\" style = \\\"color: black\\\"><b>landscapemetrics</b></a>\",2125,\"https://github.com/r-spatialecology/landscapemetrics\",\"Landscape Metrics for Categorical Map Patterns in R.\",\"Natural Resources\",\"Soil and Land\"],[\"<a href=\\\"https://github.com/sbegueria/SPEI\\\" target=\\\"_blank\\\" style = \\\"color: black\\\"><b>SPEI</b></a>\",1886,\"https://github.com/sbegueria/SPEI\",\"Computing the Standardized Precipitation-Evapotranspiration<br>Index and other reference evapotranspiration.\",\"Natural Resources\",\"Water Supply\"],[\"<a href=\\\"https://github.com/ncss-tech/soilDB\\\" target=\\\"_blank\\\" style = \\\"color: black\\\"><b>soilDB</b></a>\",1435,\"https://github.com/ncss-tech/soilDB\",\"Simplified Access to NCSS Soil Databases.\",\"Natural Resources\",\"Soil and Land\"]],\"hovertemplate\":\"Project Name: <b>%{customdata[0]}</b><br>Downloads: <b>%{customdata[1]}</b><br>Git URL: <b>%{customdata[2]}</b><br>Description: <b>%{customdata[3]}</b><br>Category: <b>%{customdata[4]}</b><br>Sub Category: <b>%{customdata[5]}</b><br><extra></extra>\",\"legendgroup\":\"Natural Resources\",\"marker\":{\"color\":\"rgb(237, 100, 90)\",\"pattern\":{\"shape\":\"\"}},\"name\":\"Natural Resources\",\"offsetgroup\":\"Natural Resources\",\"orientation\":\"h\",\"showlegend\":true,\"textposition\":\"auto\",\"x\":[6268,4692,4289,3985,2351,2125,1886,1435],\"xaxis\":\"x\",\"y\":[\"<a href=\\\"https://github.com/davidcarslaw/openair\\\" target=\\\"_blank\\\" style = \\\"color: black\\\"><b>openair</b></a>\",\"<a href=\\\"https://github.com/modflowpy/flopy\\\" target=\\\"_blank\\\" style = \\\"color: black\\\"><b>flopy</b></a>\",\"<a href=\\\"https://github.com/Deltares/Ribasim\\\" target=\\\"_blank\\\" style = \\\"color: black\\\"><b>Ribasim</b></a>\",\"<a href=\\\"https://github.com/usepa/wntr\\\" target=\\\"_blank\\\" style = \\\"color: black\\\"><b>Water Network Tool for Resilience</b></a>\",\"<a href=\\\"https://github.com/ncss-tech/aqp\\\" target=\\\"_blank\\\" style = \\\"color: black\\\"><b>AQP</b></a>\",\"<a href=\\\"https://github.com/r-spatialecology/landscapemetrics\\\" target=\\\"_blank\\\" style = \\\"color: black\\\"><b>landscapemetrics</b></a>\",\"<a href=\\\"https://github.com/sbegueria/SPEI\\\" target=\\\"_blank\\\" style = \\\"color: black\\\"><b>SPEI</b></a>\",\"<a href=\\\"https://github.com/ncss-tech/soilDB\\\" target=\\\"_blank\\\" style = \\\"color: black\\\"><b>soilDB</b></a>\"],\"yaxis\":\"y\",\"type\":\"bar\"},{\"alignmentgroup\":\"True\",\"customdata\":[[\"<a href=\\\"https://github.com/brightway-lca/brightway2\\\" target=\\\"_blank\\\" style = \\\"color: black\\\"><b>brightway2</b></a>\",1932,\"https://github.com/brightway-lca/brightway2\",\"An open source framework for life cycle assessment.\",\"Industrial Ecology\",\"Life Cycle Assessment\"],[\"<a href=\\\"https://github.com/IndEcol/pymrio\\\" target=\\\"_blank\\\" style = \\\"color: black\\\"><b>pymrio</b></a>\",1850,\"https://github.com/IndEcol/pymrio\",\"Multi-Regional Input-Output Analysis in Python.\",\"Industrial Ecology\",\"Life Cycle Assessment\"]],\"hovertemplate\":\"Project Name: <b>%{customdata[0]}</b><br>Downloads: <b>%{customdata[1]}</b><br>Git URL: <b>%{customdata[2]}</b><br>Description: <b>%{customdata[3]}</b><br>Category: <b>%{customdata[4]}</b><br>Sub Category: <b>%{customdata[5]}</b><br><extra></extra>\",\"legendgroup\":\"Industrial Ecology\",\"marker\":{\"color\":\"rgb(165, 170, 153)\",\"pattern\":{\"shape\":\"\"}},\"name\":\"Industrial Ecology\",\"offsetgroup\":\"Industrial Ecology\",\"orientation\":\"h\",\"showlegend\":true,\"textposition\":\"auto\",\"x\":[1932,1850],\"xaxis\":\"x\",\"y\":[\"<a href=\\\"https://github.com/brightway-lca/brightway2\\\" target=\\\"_blank\\\" style = \\\"color: black\\\"><b>brightway2</b></a>\",\"<a href=\\\"https://github.com/IndEcol/pymrio\\\" target=\\\"_blank\\\" style = \\\"color: black\\\"><b>pymrio</b></a>\"],\"yaxis\":\"y\",\"type\":\"bar\"},{\"alignmentgroup\":\"True\",\"customdata\":[[\"<a href=\\\"https://github.com/undp/carbon-registry\\\" target=\\\"_blank\\\" style = \\\"color: black\\\"><b>National Carbon Credit Registry</b></a>\",1491,\"https://github.com/undp/carbon-registry\",\"As an online database using national and international standards<br>for quantifying and verifying greenhouse gas emissions<br>reductions by programmes.\",\"Emissions\",\"Carbon Offsets and Trading\"]],\"hovertemplate\":\"Project Name: <b>%{customdata[0]}</b><br>Downloads: <b>%{customdata[1]}</b><br>Git URL: <b>%{customdata[2]}</b><br>Description: <b>%{customdata[3]}</b><br>Category: <b>%{customdata[4]}</b><br>Sub Category: <b>%{customdata[5]}</b><br><extra></extra>\",\"legendgroup\":\"Emissions\",\"marker\":{\"color\":\"rgb(229, 134, 6)\",\"pattern\":{\"shape\":\"\"}},\"name\":\"Emissions\",\"offsetgroup\":\"Emissions\",\"orientation\":\"h\",\"showlegend\":true,\"textposition\":\"auto\",\"x\":[1491],\"xaxis\":\"x\",\"y\":[\"<a href=\\\"https://github.com/undp/carbon-registry\\\" target=\\\"_blank\\\" style = \\\"color: black\\\"><b>National Carbon Credit Registry</b></a>\"],\"yaxis\":\"y\",\"type\":\"bar\"}],                        {\"template\":{\"data\":{\"barpolar\":[{\"marker\":{\"line\":{\"color\":\"#E5ECF6\",\"width\":0.5},\"pattern\":{\"fillmode\":\"overlay\",\"size\":10,\"solidity\":0.2}},\"type\":\"barpolar\"}],\"bar\":[{\"error_x\":{\"color\":\"#2a3f5f\"},\"error_y\":{\"color\":\"#2a3f5f\"},\"marker\":{\"line\":{\"color\":\"#E5ECF6\",\"width\":0.5},\"pattern\":{\"fillmode\":\"overlay\",\"size\":10,\"solidity\":0.2}},\"type\":\"bar\"}],\"carpet\":[{\"aaxis\":{\"endlinecolor\":\"#2a3f5f\",\"gridcolor\":\"white\",\"linecolor\":\"white\",\"minorgridcolor\":\"white\",\"startlinecolor\":\"#2a3f5f\"},\"baxis\":{\"endlinecolor\":\"#2a3f5f\",\"gridcolor\":\"white\",\"linecolor\":\"white\",\"minorgridcolor\":\"white\",\"startlinecolor\":\"#2a3f5f\"},\"type\":\"carpet\"}],\"choropleth\":[{\"colorbar\":{\"outlinewidth\":0,\"ticks\":\"\"},\"type\":\"choropleth\"}],\"contourcarpet\":[{\"colorbar\":{\"outlinewidth\":0,\"ticks\":\"\"},\"type\":\"contourcarpet\"}],\"contour\":[{\"colorbar\":{\"outlinewidth\":0,\"ticks\":\"\"},\"colorscale\":[[0.0,\"#0d0887\"],[0.1111111111111111,\"#46039f\"],[0.2222222222222222,\"#7201a8\"],[0.3333333333333333,\"#9c179e\"],[0.4444444444444444,\"#bd3786\"],[0.5555555555555556,\"#d8576b\"],[0.6666666666666666,\"#ed7953\"],[0.7777777777777778,\"#fb9f3a\"],[0.8888888888888888,\"#fdca26\"],[1.0,\"#f0f921\"]],\"type\":\"contour\"}],\"heatmapgl\":[{\"colorbar\":{\"outlinewidth\":0,\"ticks\":\"\"},\"colorscale\":[[0.0,\"#0d0887\"],[0.1111111111111111,\"#46039f\"],[0.2222222222222222,\"#7201a8\"],[0.3333333333333333,\"#9c179e\"],[0.4444444444444444,\"#bd3786\"],[0.5555555555555556,\"#d8576b\"],[0.6666666666666666,\"#ed7953\"],[0.7777777777777778,\"#fb9f3a\"],[0.8888888888888888,\"#fdca26\"],[1.0,\"#f0f921\"]],\"type\":\"heatmapgl\"}],\"heatmap\":[{\"colorbar\":{\"outlinewidth\":0,\"ticks\":\"\"},\"colorscale\":[[0.0,\"#0d0887\"],[0.1111111111111111,\"#46039f\"],[0.2222222222222222,\"#7201a8\"],[0.3333333333333333,\"#9c179e\"],[0.4444444444444444,\"#bd3786\"],[0.5555555555555556,\"#d8576b\"],[0.6666666666666666,\"#ed7953\"],[0.7777777777777778,\"#fb9f3a\"],[0.8888888888888888,\"#fdca26\"],[1.0,\"#f0f921\"]],\"type\":\"heatmap\"}],\"histogram2dcontour\":[{\"colorbar\":{\"outlinewidth\":0,\"ticks\":\"\"},\"colorscale\":[[0.0,\"#0d0887\"],[0.1111111111111111,\"#46039f\"],[0.2222222222222222,\"#7201a8\"],[0.3333333333333333,\"#9c179e\"],[0.4444444444444444,\"#bd3786\"],[0.5555555555555556,\"#d8576b\"],[0.6666666666666666,\"#ed7953\"],[0.7777777777777778,\"#fb9f3a\"],[0.8888888888888888,\"#fdca26\"],[1.0,\"#f0f921\"]],\"type\":\"histogram2dcontour\"}],\"histogram2d\":[{\"colorbar\":{\"outlinewidth\":0,\"ticks\":\"\"},\"colorscale\":[[0.0,\"#0d0887\"],[0.1111111111111111,\"#46039f\"],[0.2222222222222222,\"#7201a8\"],[0.3333333333333333,\"#9c179e\"],[0.4444444444444444,\"#bd3786\"],[0.5555555555555556,\"#d8576b\"],[0.6666666666666666,\"#ed7953\"],[0.7777777777777778,\"#fb9f3a\"],[0.8888888888888888,\"#fdca26\"],[1.0,\"#f0f921\"]],\"type\":\"histogram2d\"}],\"histogram\":[{\"marker\":{\"pattern\":{\"fillmode\":\"overlay\",\"size\":10,\"solidity\":0.2}},\"type\":\"histogram\"}],\"mesh3d\":[{\"colorbar\":{\"outlinewidth\":0,\"ticks\":\"\"},\"type\":\"mesh3d\"}],\"parcoords\":[{\"line\":{\"colorbar\":{\"outlinewidth\":0,\"ticks\":\"\"}},\"type\":\"parcoords\"}],\"pie\":[{\"automargin\":true,\"type\":\"pie\"}],\"scatter3d\":[{\"line\":{\"colorbar\":{\"outlinewidth\":0,\"ticks\":\"\"}},\"marker\":{\"colorbar\":{\"outlinewidth\":0,\"ticks\":\"\"}},\"type\":\"scatter3d\"}],\"scattercarpet\":[{\"marker\":{\"colorbar\":{\"outlinewidth\":0,\"ticks\":\"\"}},\"type\":\"scattercarpet\"}],\"scattergeo\":[{\"marker\":{\"colorbar\":{\"outlinewidth\":0,\"ticks\":\"\"}},\"type\":\"scattergeo\"}],\"scattergl\":[{\"marker\":{\"colorbar\":{\"outlinewidth\":0,\"ticks\":\"\"}},\"type\":\"scattergl\"}],\"scattermapbox\":[{\"marker\":{\"colorbar\":{\"outlinewidth\":0,\"ticks\":\"\"}},\"type\":\"scattermapbox\"}],\"scatterpolargl\":[{\"marker\":{\"colorbar\":{\"outlinewidth\":0,\"ticks\":\"\"}},\"type\":\"scatterpolargl\"}],\"scatterpolar\":[{\"marker\":{\"colorbar\":{\"outlinewidth\":0,\"ticks\":\"\"}},\"type\":\"scatterpolar\"}],\"scatter\":[{\"fillpattern\":{\"fillmode\":\"overlay\",\"size\":10,\"solidity\":0.2},\"type\":\"scatter\"}],\"scatterternary\":[{\"marker\":{\"colorbar\":{\"outlinewidth\":0,\"ticks\":\"\"}},\"type\":\"scatterternary\"}],\"surface\":[{\"colorbar\":{\"outlinewidth\":0,\"ticks\":\"\"},\"colorscale\":[[0.0,\"#0d0887\"],[0.1111111111111111,\"#46039f\"],[0.2222222222222222,\"#7201a8\"],[0.3333333333333333,\"#9c179e\"],[0.4444444444444444,\"#bd3786\"],[0.5555555555555556,\"#d8576b\"],[0.6666666666666666,\"#ed7953\"],[0.7777777777777778,\"#fb9f3a\"],[0.8888888888888888,\"#fdca26\"],[1.0,\"#f0f921\"]],\"type\":\"surface\"}],\"table\":[{\"cells\":{\"fill\":{\"color\":\"#EBF0F8\"},\"line\":{\"color\":\"white\"}},\"header\":{\"fill\":{\"color\":\"#C8D4E3\"},\"line\":{\"color\":\"white\"}},\"type\":\"table\"}]},\"layout\":{\"annotationdefaults\":{\"arrowcolor\":\"#2a3f5f\",\"arrowhead\":0,\"arrowwidth\":1},\"autotypenumbers\":\"strict\",\"coloraxis\":{\"colorbar\":{\"outlinewidth\":0,\"ticks\":\"\"}},\"colorscale\":{\"diverging\":[[0,\"#8e0152\"],[0.1,\"#c51b7d\"],[0.2,\"#de77ae\"],[0.3,\"#f1b6da\"],[0.4,\"#fde0ef\"],[0.5,\"#f7f7f7\"],[0.6,\"#e6f5d0\"],[0.7,\"#b8e186\"],[0.8,\"#7fbc41\"],[0.9,\"#4d9221\"],[1,\"#276419\"]],\"sequential\":[[0.0,\"#0d0887\"],[0.1111111111111111,\"#46039f\"],[0.2222222222222222,\"#7201a8\"],[0.3333333333333333,\"#9c179e\"],[0.4444444444444444,\"#bd3786\"],[0.5555555555555556,\"#d8576b\"],[0.6666666666666666,\"#ed7953\"],[0.7777777777777778,\"#fb9f3a\"],[0.8888888888888888,\"#fdca26\"],[1.0,\"#f0f921\"]],\"sequentialminus\":[[0.0,\"#0d0887\"],[0.1111111111111111,\"#46039f\"],[0.2222222222222222,\"#7201a8\"],[0.3333333333333333,\"#9c179e\"],[0.4444444444444444,\"#bd3786\"],[0.5555555555555556,\"#d8576b\"],[0.6666666666666666,\"#ed7953\"],[0.7777777777777778,\"#fb9f3a\"],[0.8888888888888888,\"#fdca26\"],[1.0,\"#f0f921\"]]},\"colorway\":[\"#636efa\",\"#EF553B\",\"#00cc96\",\"#ab63fa\",\"#FFA15A\",\"#19d3f3\",\"#FF6692\",\"#B6E880\",\"#FF97FF\",\"#FECB52\"],\"font\":{\"color\":\"#040404\",\"family\":\"Open Sans\",\"size\":15},\"geo\":{\"bgcolor\":\"white\",\"lakecolor\":\"white\",\"landcolor\":\"#E5ECF6\",\"showlakes\":true,\"showland\":true,\"subunitcolor\":\"white\"},\"hoverlabel\":{\"align\":\"left\"},\"hovermode\":\"closest\",\"mapbox\":{\"style\":\"light\"},\"paper_bgcolor\":\"white\",\"plot_bgcolor\":\"#E5ECF6\",\"polar\":{\"angularaxis\":{\"gridcolor\":\"white\",\"linecolor\":\"white\",\"ticks\":\"\"},\"bgcolor\":\"#E5ECF6\",\"radialaxis\":{\"gridcolor\":\"white\",\"linecolor\":\"white\",\"ticks\":\"\"}},\"scene\":{\"xaxis\":{\"backgroundcolor\":\"#E5ECF6\",\"gridcolor\":\"white\",\"gridwidth\":2,\"linecolor\":\"white\",\"showbackground\":true,\"ticks\":\"\",\"zerolinecolor\":\"white\"},\"yaxis\":{\"backgroundcolor\":\"#E5ECF6\",\"gridcolor\":\"white\",\"gridwidth\":2,\"linecolor\":\"white\",\"showbackground\":true,\"ticks\":\"\",\"zerolinecolor\":\"white\"},\"zaxis\":{\"backgroundcolor\":\"#E5ECF6\",\"gridcolor\":\"white\",\"gridwidth\":2,\"linecolor\":\"white\",\"showbackground\":true,\"ticks\":\"\",\"zerolinecolor\":\"white\"}},\"shapedefaults\":{\"line\":{\"color\":\"#2a3f5f\"}},\"ternary\":{\"aaxis\":{\"gridcolor\":\"white\",\"linecolor\":\"white\",\"ticks\":\"\"},\"baxis\":{\"gridcolor\":\"white\",\"linecolor\":\"white\",\"ticks\":\"\"},\"bgcolor\":\"#E5ECF6\",\"caxis\":{\"gridcolor\":\"white\",\"linecolor\":\"white\",\"ticks\":\"\"}},\"title\":{\"x\":0.05,\"font\":{\"color\":\"#040404\",\"family\":\"Open Sans\"}},\"xaxis\":{\"automargin\":true,\"gridcolor\":\"white\",\"linecolor\":\"white\",\"ticks\":\"\",\"title\":{\"standoff\":15},\"zerolinecolor\":\"white\",\"zerolinewidth\":2},\"yaxis\":{\"automargin\":true,\"gridcolor\":\"white\",\"linecolor\":\"white\",\"ticks\":\"\",\"title\":{\"standoff\":15},\"zerolinecolor\":\"white\",\"zerolinewidth\":2},\"margin\":{\"b\":0}}},\"xaxis\":{\"anchor\":\"y\",\"domain\":[0.0,1.0],\"title\":{\"text\":\"Downloads\"},\"range\":[0,250000]},\"yaxis\":{\"anchor\":\"x\",\"domain\":[0.0,1.0],\"title\":{},\"autorange\":\"reversed\",\"categoryorder\":\"total descending\"},\"legend\":{\"title\":{\"text\":\"category\"},\"tracegroupgap\":0},\"margin\":{\"t\":60},\"barmode\":\"relative\",\"hoverlabel\":{\"bgcolor\":\"white\"},\"height\":2000,\"title\":{\"text\":\"Projects with the most downloads\"},\"dragmode\":false,\"images\":[{\"sizex\":0.05,\"sizey\":0.05,\"source\":\"data:image/png;base64,iVBORw0KGgoAAAANSUhEUgAAADwAAAA8CAYAAAA6/NlyAAAD20lEQVR4nO2ZTWgcZRjHf8/spjWkFYmKmbR+oVKaCPbQU8i2tCBqEbrU7LIJVhG0PVWQih4UehAVQVAkAQ/qRW1WdhPrB+pJ1DQF6aEnQ0WqqCQbhfpFW6nJzOMhBgQ3u+/MvPORmP91n/n/nx/v7DvPvCOqyv9JTtoNJK114LWufBIh5TIbZj3uQLldhJtV2CJwlfrkpicpJtHDsmIDHtzPZjo4gM8IQkGgE1n6Tf7ZJ0W4HFf+SrIOvLvI9YsORyXPwyhdy5BZkTXgwf1s1jzHJMejAh22fG3LCnDhAHeT53WBXht+cSoS8J495Beu5nmEo5C1m7e5QgPv28fGxW7eQhmy2VDcCgV81wN0XezkE2DQcj+xKzDwzsN0XHGJGqsQFkJMWp3nGUO5J45mklCgFS7cx0GFRyzk/izCT6p8Z8ErkMT09XCgzBZnkRmEK0NmTaswicd70+9yLqRHZBmvcM7jZQ0He1qEZ6bqfBDiWusyWuGBEgOOz3RAb1+Ep05O8IIqmTllMFphR3k6oO8FUYanJvgwRE+xqu0K7yrT53t8FcDTE6U4NZk9WDB4LKnHg0EMVXgiq7DQBlgEAUYC+H15aoKXorUUr1oCF0psV9hqaibK41naoJqpJbDvs9fYSflsapKTkTuKWa3/w8oOUyOBetRmklC7TWuboY86Pu9HbSYJtQO+0dDn/Ocn+DFqM0mo9S6N8Sg5Z6GXRNRy0lIYUyHXzkSUb+y1FK+M35bWitY/tSQhaVQvAxvaV+oX6g7vtpmd1gpfMCsT13ZwWsC/GdZZP9hPCVi/NSzsktnjO2wmpwOs8rVxrThFm9HpADt62rhWGBKLn3HSAfbl0wDV/cxVy7aiUxs8pFGdAbYblp/j11yf9pX+ipqb5uBxPEDtLXT7L9oITRHYfxPwjMtVj0jjnUNRU1MDVnfkeyTooYGOSmP8cJTcdGfpRX0OAp2BdYC8KnPVUZmpGYym/1Xqb0syP/4GKg+FuPQHkGdxz76mHPON89IHrl2LemeB7nAOOoNSBzmhvZUzbfPSBgaQ+eoQSs2C1Z8IsygNdSu7mhVk4n1Yeyp1lDELVp0otwKFlQoyAQxA7x+PAR/HHZMZYOXQAs5CCTgVZ05mgAH0uoMXYdOdIB/FlZEpYAB1772E+3sRYTQO/8wBw9LtrT2VIwgl4Beb3pkEXpb2VOp4uduAVwDj4aKVMvEcNpHMj/ej8iQwjMFpq7qVpocGqwZ4WdKo3QDe/Sx9qO9fqW7NAP9bMvv2VnL5vcBOVLcBNwHXAJvUrWxses1qBg6jTG9acWgdeK3rb5uuGEmTzESgAAAAAElFTkSuQmCC\",\"x\":1,\"xanchor\":\"right\",\"xref\":\"paper\",\"y\":0,\"yanchor\":\"bottom\",\"yref\":\"paper\"}],\"hovermode\":\"y unified\",\"hoverdistance\":1000},                        {\"toImageButtonOptions\": {\"format\": \"svg\"}, \"responsive\": \"true\"}                    ).then(function(){\n",
       "                            \n",
       "var gd = document.getElementById('f2f3b8da-5f9d-463e-b3ed-445f846ae313');\n",
       "var x = new MutationObserver(function (mutations, observer) {{\n",
       "        var display = window.getComputedStyle(gd).display;\n",
       "        if (!display || display === 'none') {{\n",
       "            console.log([gd, 'removed!']);\n",
       "            Plotly.purge(gd);\n",
       "            observer.disconnect();\n",
       "        }}\n",
       "}});\n",
       "\n",
       "// Listen for the removal of the full notebook cells\n",
       "var notebookContainer = gd.closest('#notebook-container');\n",
       "if (notebookContainer) {{\n",
       "    x.observe(notebookContainer, {childList: true});\n",
       "}}\n",
       "\n",
       "// Listen for the clearing of the current output cell\n",
       "var outputEl = gd.closest('.output');\n",
       "if (outputEl) {{\n",
       "    x.observe(outputEl, {childList: true});\n",
       "}}\n",
       "\n",
       "                        })                };                });            </script>        </div>"
      ]
     },
     "metadata": {},
     "output_type": "display_data"
    }
   ],
   "source": [
    "import numpy as np\n",
    "import pandas as pd\n",
    "import plotly.io as pio\n",
    "import plotly.graph_objects as go\n",
    "import plotly.express as px\n",
    "\n",
    "#df_extract = df_extract[df_extract[\"category\"] == \"Renewable Energy\"]\n",
    "\n",
    "top_downloaders = df_extract.nlargest(100, \"download_counts\")\n",
    "\n",
    "color_discrete_sequence = px.colors.qualitative.Vivid\n",
    "fig = px.bar(\n",
    "    top_downloaders,\n",
    "    x=top_downloaders[\"download_counts\"],\n",
    "    y=top_downloaders[\"project_names\"],\n",
    "    custom_data=[\"project_names\", \"download_counts\", \"git_url\", \"description\",\"category\",\"sub_category\"],\n",
    "    orientation=\"h\",\n",
    "    color = 'category',\n",
    "    color_discrete_sequence=color_discrete_sequence,\n",
    ")\n",
    "\n",
    "fig.update_layout(\n",
    "    height=2000,  # Added parameter\n",
    "    #width=700,\n",
    "    xaxis_title=\"Downloads\",\n",
    "    yaxis_title=None,\n",
    "    title=\"Projects with the most downloads\",\n",
    "    hoverlabel=dict(bgcolor=\"white\"),\n",
    "    dragmode=False,\n",
    ")\n",
    "\n",
    "fig.add_layout_image(\n",
    "    dict(\n",
    "        source=logo_img,\n",
    "        xref=\"paper\",\n",
    "        yref=\"paper\",\n",
    "        x=1,\n",
    "        y=0,\n",
    "        sizex=0.05,\n",
    "        sizey=0.05,\n",
    "        xanchor=\"right\",\n",
    "        yanchor=\"bottom\",\n",
    "    )\n",
    ")\n",
    "\n",
    "fig.update_traces(\n",
    "    hovertemplate=\"<br>\".join(\n",
    "        [\n",
    "            \"Project Name: <b>%{customdata[0]}</b>\",\n",
    "            \"Downloads: <b>%{customdata[1]}</b>\",\n",
    "            \"Git URL: <b>%{customdata[2]}</b>\",\n",
    "            \"Description: <b>%{customdata[3]}</b>\",\n",
    "            \"Category: <b>%{customdata[4]}</b>\",\n",
    "            \"Sub Category: <b>%{customdata[5]}</b>\",\n",
    "            \"<extra></extra>\"\n",
    "        ]\n",
    "    )\n",
    ")\n",
    "\n",
    "#fig.update(layout_showlegend=False)\n",
    "fig.update_layout(hovermode=\"y unified\",hoverdistance=1000)\n",
    "\n",
    "config = {\n",
    "  'toImageButtonOptions': {\n",
    "    'format': 'svg', # one of png, svg, jpeg, webp\n",
    "  },\n",
    "  'responsive':'true'\n",
    "}\n",
    "\n",
    "fig[\"layout\"][\"yaxis\"][\"autorange\"] = \"reversed\"\n",
    "\n",
    "#fig.update_layout(barmode='stack', xaxis={'categoryorder':'total ascending'})\n",
    "fig.update_layout(yaxis_categoryorder = 'total descending', xaxis_range = [0,250000])\n",
    "fig.show(config=config)\n"
   ]
  },
  {
   "cell_type": "code",
   "execution_count": null,
   "id": "dc07541a",
   "metadata": {},
   "outputs": [],
   "source": []
  }
 ],
 "metadata": {
  "kernelspec": {
   "display_name": "Python 3.8 (XPython)",
   "language": "python",
   "name": "xpython"
  },
  "language_info": {
   "file_extension": ".py",
   "mimetype": "text/x-python",
   "name": "python",
   "version": "3.8.9"
  }
 },
 "nbformat": 4,
 "nbformat_minor": 5
}

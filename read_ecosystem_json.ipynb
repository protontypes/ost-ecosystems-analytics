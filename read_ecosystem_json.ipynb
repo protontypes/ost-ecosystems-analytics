{
 "cells": [
  {
   "cell_type": "code",
   "execution_count": 2,
   "id": "4405547e",
   "metadata": {},
   "outputs": [],
   "source": [
    "import requests\n",
    "import pandas as pd\n",
    "from opensustainTemplate import *\n",
    "\n",
    "URL = \"https://ost.ecosyste.ms/api/v1/projects/packages\"\n",
    "FILE_TO_SAVE_AS = \"ecosystems_downloads.json\" # the name you want to save file as\n",
    "\n",
    "\n",
    "resp = requests.get(URL) # making requests to server\n",
    "\n",
    "with open(FILE_TO_SAVE_AS, \"wb\") as f: # opening a file handler to create new file \n",
    "    f.write(resp.content) # writing content to file"
   ]
  },
  {
   "cell_type": "code",
   "execution_count": 3,
   "id": "61707d43",
   "metadata": {},
   "outputs": [
    {
     "data": {
      "text/html": [
       "<div>\n",
       "<style scoped>\n",
       "    .dataframe tbody tr th:only-of-type {\n",
       "        vertical-align: middle;\n",
       "    }\n",
       "\n",
       "    .dataframe tbody tr th {\n",
       "        vertical-align: top;\n",
       "    }\n",
       "\n",
       "    .dataframe thead th {\n",
       "        text-align: right;\n",
       "    }\n",
       "</style>\n",
       "<table border=\"1\" class=\"dataframe\">\n",
       "  <thead>\n",
       "    <tr style=\"text-align: right;\">\n",
       "      <th></th>\n",
       "      <th>id</th>\n",
       "      <th>name</th>\n",
       "      <th>description</th>\n",
       "      <th>url</th>\n",
       "      <th>last_synced_at</th>\n",
       "      <th>repository</th>\n",
       "      <th>owner</th>\n",
       "      <th>packages</th>\n",
       "      <th>commits</th>\n",
       "      <th>issues_stats</th>\n",
       "      <th>...</th>\n",
       "      <th>dependencies</th>\n",
       "      <th>score</th>\n",
       "      <th>created_at</th>\n",
       "      <th>updated_at</th>\n",
       "      <th>avatar_url</th>\n",
       "      <th>language</th>\n",
       "      <th>category</th>\n",
       "      <th>sub_category</th>\n",
       "      <th>project_url</th>\n",
       "      <th>html_url</th>\n",
       "    </tr>\n",
       "  </thead>\n",
       "  <tbody>\n",
       "    <tr>\n",
       "      <th>0</th>\n",
       "      <td>20618</td>\n",
       "      <td>netcdf-python</td>\n",
       "      <td>The Unidata network Common Data Form (netCDF) ...</td>\n",
       "      <td>https://github.com/Unidata/netcdf4-python</td>\n",
       "      <td>2023-12-07 01:19:20.097000+00:00</td>\n",
       "      <td>{'uuid': '15884459', 'full_name': 'Unidata/net...</td>\n",
       "      <td>{'login': 'Unidata', 'name': 'Unidata', 'uuid'...</td>\n",
       "      <td>[{'name': 'netcdf4', 'ecosystem': 'pypi', 'des...</td>\n",
       "      <td>{'full_name': 'Unidata/netcdf4-python', 'defau...</td>\n",
       "      <td>{'full_name': 'Unidata/netcdf4-python', 'html_...</td>\n",
       "      <td>...</td>\n",
       "      <td>[{'ecosystem': 'actions', 'filepath': '.github...</td>\n",
       "      <td>25.510734</td>\n",
       "      <td>2023-09-11 14:52:14.006000+00:00</td>\n",
       "      <td>2023-12-07 01:19:20.100000+00:00</td>\n",
       "      <td>https://github.com/Unidata.png</td>\n",
       "      <td>Cython</td>\n",
       "      <td>Climate Change</td>\n",
       "      <td>Climate Data Standards</td>\n",
       "      <td>https://ost.ecosyste.ms/api/v1/projects/20618</td>\n",
       "      <td>https://ost.ecosyste.ms/projects/20618</td>\n",
       "    </tr>\n",
       "    <tr>\n",
       "      <th>1</th>\n",
       "      <td>19753</td>\n",
       "      <td>pvlib-python</td>\n",
       "      <td>A set of documented functions for simulating t...</td>\n",
       "      <td>https://github.com/pvlib/pvlib-python</td>\n",
       "      <td>2023-12-07 00:53:31.605000+00:00</td>\n",
       "      <td>{'uuid': '30895522', 'full_name': 'pvlib/pvlib...</td>\n",
       "      <td>{'login': 'pvlib', 'name': 'pvlib', 'uuid': '1...</td>\n",
       "      <td>[{'name': 'pvlib', 'ecosystem': 'pypi', 'descr...</td>\n",
       "      <td>{'full_name': 'pvlib/pvlib-python', 'default_b...</td>\n",
       "      <td>{'full_name': 'pvlib/pvlib-python', 'html_url'...</td>\n",
       "      <td>...</td>\n",
       "      <td>[{'ecosystem': 'actions', 'filepath': '.github...</td>\n",
       "      <td>24.248670</td>\n",
       "      <td>2023-09-11 14:52:06.879000+00:00</td>\n",
       "      <td>2023-12-07 00:53:31.610000+00:00</td>\n",
       "      <td>https://github.com/pvlib.png</td>\n",
       "      <td>Python</td>\n",
       "      <td>Renewable Energy</td>\n",
       "      <td>Photovoltaics and Solar Energy</td>\n",
       "      <td>https://ost.ecosyste.ms/api/v1/projects/19753</td>\n",
       "      <td>https://ost.ecosyste.ms/projects/19753</td>\n",
       "    </tr>\n",
       "    <tr>\n",
       "      <th>2</th>\n",
       "      <td>20183</td>\n",
       "      <td>kube-green</td>\n",
       "      <td>A k8s operator to reduce CO2 footprint of your...</td>\n",
       "      <td>https://github.com/kube-green/kube-green</td>\n",
       "      <td>2023-12-08 05:15:16.153000+00:00</td>\n",
       "      <td>{'uuid': '340965344', 'full_name': 'kube-green...</td>\n",
       "      <td>{'login': 'kube-green', 'name': 'kube-green', ...</td>\n",
       "      <td>[{'name': 'kubegreen/kube-green', 'ecosystem':...</td>\n",
       "      <td>{'full_name': 'kube-green/kube-green', 'defaul...</td>\n",
       "      <td>{'full_name': 'kube-green/kube-green', 'html_u...</td>\n",
       "      <td>...</td>\n",
       "      <td>[{'ecosystem': 'actions', 'filepath': '.github...</td>\n",
       "      <td>21.249127</td>\n",
       "      <td>2023-09-11 14:52:10.530000+00:00</td>\n",
       "      <td>2023-12-08 05:15:16.167000+00:00</td>\n",
       "      <td>https://github.com/kube-green.png</td>\n",
       "      <td>Go</td>\n",
       "      <td>Consumption</td>\n",
       "      <td>Computation and Communication</td>\n",
       "      <td>https://ost.ecosyste.ms/api/v1/projects/20183</td>\n",
       "      <td>https://ost.ecosyste.ms/projects/20183</td>\n",
       "    </tr>\n",
       "    <tr>\n",
       "      <th>3</th>\n",
       "      <td>764</td>\n",
       "      <td>eeweather</td>\n",
       "      <td>Fetch NCDC ISD, TMY3, or CZ2010 weather data t...</td>\n",
       "      <td>https://github.com/openeemeter/eeweather</td>\n",
       "      <td>2023-12-07 00:50:29.800000+00:00</td>\n",
       "      <td>{'uuid': '119442616', 'full_name': 'openeemete...</td>\n",
       "      <td>{'login': 'openeemeter', 'name': 'OpenEEmeter'...</td>\n",
       "      <td>[{'name': 'eeweather', 'ecosystem': 'pypi', 'd...</td>\n",
       "      <td>{'full_name': 'openeemeter/eeweather', 'defaul...</td>\n",
       "      <td>{'full_name': 'openeemeter/eeweather', 'html_u...</td>\n",
       "      <td>...</td>\n",
       "      <td>[{'ecosystem': 'pypi', 'filepath': 'Pipfile', ...</td>\n",
       "      <td>18.043913</td>\n",
       "      <td>2023-09-11 11:54:35.868000+00:00</td>\n",
       "      <td>2023-12-07 00:50:29.813000+00:00</td>\n",
       "      <td>https://github.com/openeemeter.png</td>\n",
       "      <td>HTML</td>\n",
       "      <td>Atmosphere</td>\n",
       "      <td>Meteorological Observation and Forecast</td>\n",
       "      <td>https://ost.ecosyste.ms/api/v1/projects/764</td>\n",
       "      <td>https://ost.ecosyste.ms/projects/764</td>\n",
       "    </tr>\n",
       "    <tr>\n",
       "      <th>4</th>\n",
       "      <td>899</td>\n",
       "      <td>cfgrib</td>\n",
       "      <td>A Python interface to map GRIB files to the Ne...</td>\n",
       "      <td>https://github.com/ecmwf/cfgrib</td>\n",
       "      <td>2023-12-07 00:52:34.924000+00:00</td>\n",
       "      <td>{'uuid': '141110423', 'full_name': 'ecmwf/cfgr...</td>\n",
       "      <td>{'login': 'ecmwf', 'name': 'European Centre fo...</td>\n",
       "      <td>[{'name': 'cfgrib', 'ecosystem': 'pypi', 'desc...</td>\n",
       "      <td>{'full_name': 'ecmwf/cfgrib', 'default_branch'...</td>\n",
       "      <td>{'full_name': 'ecmwf/cfgrib', 'html_url': 'htt...</td>\n",
       "      <td>...</td>\n",
       "      <td>[{'ecosystem': 'pypi', 'filepath': 'ci/require...</td>\n",
       "      <td>20.712966</td>\n",
       "      <td>2023-09-11 11:54:36.281000+00:00</td>\n",
       "      <td>2023-12-07 00:52:34.927000+00:00</td>\n",
       "      <td>https://github.com/ecmwf.png</td>\n",
       "      <td>Python</td>\n",
       "      <td>Climate Change</td>\n",
       "      <td>Climate Data Processing and Analysis</td>\n",
       "      <td>https://ost.ecosyste.ms/api/v1/projects/899</td>\n",
       "      <td>https://ost.ecosyste.ms/projects/899</td>\n",
       "    </tr>\n",
       "    <tr>\n",
       "      <th>...</th>\n",
       "      <td>...</td>\n",
       "      <td>...</td>\n",
       "      <td>...</td>\n",
       "      <td>...</td>\n",
       "      <td>...</td>\n",
       "      <td>...</td>\n",
       "      <td>...</td>\n",
       "      <td>...</td>\n",
       "      <td>...</td>\n",
       "      <td>...</td>\n",
       "      <td>...</td>\n",
       "      <td>...</td>\n",
       "      <td>...</td>\n",
       "      <td>...</td>\n",
       "      <td>...</td>\n",
       "      <td>...</td>\n",
       "      <td>...</td>\n",
       "      <td>...</td>\n",
       "      <td>...</td>\n",
       "      <td>...</td>\n",
       "      <td>...</td>\n",
       "    </tr>\n",
       "    <tr>\n",
       "      <th>663</th>\n",
       "      <td>46085</td>\n",
       "      <td>stglib</td>\n",
       "      <td>Routines used by the USGS Coastal/Marine Hazar...</td>\n",
       "      <td>https://github.com/USGS-CMG/stglib</td>\n",
       "      <td>2023-12-07 01:20:00.693000+00:00</td>\n",
       "      <td>{'uuid': '114695046', 'full_name': 'USGS-CMG/s...</td>\n",
       "      <td>{'login': 'USGS-CMG', 'name': 'USGS Coastal an...</td>\n",
       "      <td>[{'name': 'stglib', 'ecosystem': 'conda', 'des...</td>\n",
       "      <td>{'full_name': 'USGS-CMG/stglib', 'default_bran...</td>\n",
       "      <td>{'full_name': 'USGS-CMG/stglib', 'html_url': '...</td>\n",
       "      <td>...</td>\n",
       "      <td>[{'ecosystem': 'pypi', 'filepath': 'setup.py',...</td>\n",
       "      <td>NaN</td>\n",
       "      <td>2023-09-13 08:45:12.857000+00:00</td>\n",
       "      <td>2023-12-07 01:20:00.695000+00:00</td>\n",
       "      <td>https://github.com/USGS-CMG.png</td>\n",
       "      <td>Python</td>\n",
       "      <td>Hydrosphere</td>\n",
       "      <td>Ocean and Hydrology Data Access</td>\n",
       "      <td>https://ost.ecosyste.ms/api/v1/projects/46085</td>\n",
       "      <td>https://ost.ecosyste.ms/projects/46085</td>\n",
       "    </tr>\n",
       "    <tr>\n",
       "      <th>664</th>\n",
       "      <td>20447</td>\n",
       "      <td>SOILWAT2</td>\n",
       "      <td>An ecosystem water balance simulation model.</td>\n",
       "      <td>https://github.com/DrylandEcology/SOILWAT2</td>\n",
       "      <td>2023-12-08 05:38:31.582000+00:00</td>\n",
       "      <td>{'uuid': '9551524', 'full_name': 'DrylandEcolo...</td>\n",
       "      <td>{'login': 'DrylandEcology', 'name': 'Dryland E...</td>\n",
       "      <td>[{'name': 'github.com/drylandecology/soilwat2'...</td>\n",
       "      <td>{'full_name': 'DrylandEcology/SOILWAT2', 'defa...</td>\n",
       "      <td>{'full_name': 'DrylandEcology/SOILWAT2', 'html...</td>\n",
       "      <td>...</td>\n",
       "      <td>[{'ecosystem': 'actions', 'filepath': '.github...</td>\n",
       "      <td>NaN</td>\n",
       "      <td>2023-09-11 14:52:12.875000+00:00</td>\n",
       "      <td>2023-12-08 05:38:31.585000+00:00</td>\n",
       "      <td>https://github.com/DrylandEcology.png</td>\n",
       "      <td>C</td>\n",
       "      <td>Hydrosphere</td>\n",
       "      <td>Freshwater and Hydrology</td>\n",
       "      <td>https://ost.ecosyste.ms/api/v1/projects/20447</td>\n",
       "      <td>https://ost.ecosyste.ms/projects/20447</td>\n",
       "    </tr>\n",
       "    <tr>\n",
       "      <th>665</th>\n",
       "      <td>715</td>\n",
       "      <td>rwrfhydro</td>\n",
       "      <td>A community-contributed tool box for managing,...</td>\n",
       "      <td>https://github.com/NCAR/rwrfhydro</td>\n",
       "      <td>2023-12-07 06:45:31.670000+00:00</td>\n",
       "      <td>{'uuid': '29378826', 'full_name': 'NCAR/rwrfhy...</td>\n",
       "      <td>{'login': 'NCAR', 'name': 'National Center for...</td>\n",
       "      <td>[{'name': 'github.com/ncar/rwrfhydro', 'ecosys...</td>\n",
       "      <td>{'full_name': 'NCAR/rwrfhydro', 'default_branc...</td>\n",
       "      <td>{'full_name': 'NCAR/rwrfhydro', 'html_url': 'h...</td>\n",
       "      <td>...</td>\n",
       "      <td>[{'ecosystem': 'cran', 'filepath': 'DESCRIPTIO...</td>\n",
       "      <td>NaN</td>\n",
       "      <td>2023-09-11 11:54:35.724000+00:00</td>\n",
       "      <td>2023-12-07 06:45:31.672000+00:00</td>\n",
       "      <td>https://github.com/NCAR.png</td>\n",
       "      <td>R</td>\n",
       "      <td>Hydrosphere</td>\n",
       "      <td>Freshwater and Hydrology</td>\n",
       "      <td>https://ost.ecosyste.ms/api/v1/projects/715</td>\n",
       "      <td>https://ost.ecosyste.ms/projects/715</td>\n",
       "    </tr>\n",
       "    <tr>\n",
       "      <th>666</th>\n",
       "      <td>46084</td>\n",
       "      <td>elapid</td>\n",
       "      <td>Species distribution modeling tools, including...</td>\n",
       "      <td>https://github.com/earth-chris/elapid</td>\n",
       "      <td>2023-12-07 01:19:23.709000+00:00</td>\n",
       "      <td>{'uuid': '349622008', 'full_name': 'earth-chri...</td>\n",
       "      <td>{'login': 'earth-chris', 'name': 'Christopher ...</td>\n",
       "      <td>[{'name': 'elapid', 'ecosystem': 'conda', 'des...</td>\n",
       "      <td>{'full_name': 'earth-chris/elapid', 'default_b...</td>\n",
       "      <td>{'full_name': 'earth-chris/elapid', 'html_url'...</td>\n",
       "      <td>...</td>\n",
       "      <td>[{'ecosystem': 'pypi', 'filepath': 'requiremen...</td>\n",
       "      <td>NaN</td>\n",
       "      <td>2023-09-13 08:45:12.836000+00:00</td>\n",
       "      <td>2023-12-07 01:19:23.711000+00:00</td>\n",
       "      <td>https://github.com/earth-chris.png</td>\n",
       "      <td>Python</td>\n",
       "      <td>Biosphere</td>\n",
       "      <td>Biodiversity and Species Distribution</td>\n",
       "      <td>https://ost.ecosyste.ms/api/v1/projects/46084</td>\n",
       "      <td>https://ost.ecosyste.ms/projects/46084</td>\n",
       "    </tr>\n",
       "    <tr>\n",
       "      <th>667</th>\n",
       "      <td>20613</td>\n",
       "      <td>Cate</td>\n",
       "      <td>A software for ingesting, operating on and vis...</td>\n",
       "      <td>https://github.com/CCI-Tools/cate</td>\n",
       "      <td>2023-12-08 05:39:14.564000+00:00</td>\n",
       "      <td>{'uuid': '54632786', 'full_name': 'CCI-Tools/c...</td>\n",
       "      <td>{'login': 'CCI-Tools', 'name': 'ESA CCI Toolbo...</td>\n",
       "      <td>[{'name': 'github.com/CCI-Tools/cate', 'ecosys...</td>\n",
       "      <td>{'full_name': 'CCI-Tools/cate', 'default_branc...</td>\n",
       "      <td>{'full_name': 'CCI-Tools/cate', 'html_url': 'h...</td>\n",
       "      <td>...</td>\n",
       "      <td>[{'ecosystem': 'pypi', 'filepath': 'docs/sourc...</td>\n",
       "      <td>NaN</td>\n",
       "      <td>2023-09-11 14:52:13.959000+00:00</td>\n",
       "      <td>2023-12-08 05:39:14.566000+00:00</td>\n",
       "      <td>https://github.com/CCI-Tools.png</td>\n",
       "      <td>Python</td>\n",
       "      <td>Climate Change</td>\n",
       "      <td>Climate Data Visualization and Access</td>\n",
       "      <td>https://ost.ecosyste.ms/api/v1/projects/20613</td>\n",
       "      <td>https://ost.ecosyste.ms/projects/20613</td>\n",
       "    </tr>\n",
       "  </tbody>\n",
       "</table>\n",
       "<p>668 rows × 22 columns</p>\n",
       "</div>"
      ],
      "text/plain": [
       "        id           name                                        description  \\\n",
       "0    20618  netcdf-python  The Unidata network Common Data Form (netCDF) ...   \n",
       "1    19753   pvlib-python  A set of documented functions for simulating t...   \n",
       "2    20183     kube-green  A k8s operator to reduce CO2 footprint of your...   \n",
       "3      764      eeweather  Fetch NCDC ISD, TMY3, or CZ2010 weather data t...   \n",
       "4      899         cfgrib  A Python interface to map GRIB files to the Ne...   \n",
       "..     ...            ...                                                ...   \n",
       "663  46085         stglib  Routines used by the USGS Coastal/Marine Hazar...   \n",
       "664  20447       SOILWAT2       An ecosystem water balance simulation model.   \n",
       "665    715      rwrfhydro  A community-contributed tool box for managing,...   \n",
       "666  46084         elapid  Species distribution modeling tools, including...   \n",
       "667  20613           Cate  A software for ingesting, operating on and vis...   \n",
       "\n",
       "                                            url  \\\n",
       "0     https://github.com/Unidata/netcdf4-python   \n",
       "1         https://github.com/pvlib/pvlib-python   \n",
       "2      https://github.com/kube-green/kube-green   \n",
       "3      https://github.com/openeemeter/eeweather   \n",
       "4               https://github.com/ecmwf/cfgrib   \n",
       "..                                          ...   \n",
       "663          https://github.com/USGS-CMG/stglib   \n",
       "664  https://github.com/DrylandEcology/SOILWAT2   \n",
       "665           https://github.com/NCAR/rwrfhydro   \n",
       "666       https://github.com/earth-chris/elapid   \n",
       "667           https://github.com/CCI-Tools/cate   \n",
       "\n",
       "                      last_synced_at  \\\n",
       "0   2023-12-07 01:19:20.097000+00:00   \n",
       "1   2023-12-07 00:53:31.605000+00:00   \n",
       "2   2023-12-08 05:15:16.153000+00:00   \n",
       "3   2023-12-07 00:50:29.800000+00:00   \n",
       "4   2023-12-07 00:52:34.924000+00:00   \n",
       "..                               ...   \n",
       "663 2023-12-07 01:20:00.693000+00:00   \n",
       "664 2023-12-08 05:38:31.582000+00:00   \n",
       "665 2023-12-07 06:45:31.670000+00:00   \n",
       "666 2023-12-07 01:19:23.709000+00:00   \n",
       "667 2023-12-08 05:39:14.564000+00:00   \n",
       "\n",
       "                                            repository  \\\n",
       "0    {'uuid': '15884459', 'full_name': 'Unidata/net...   \n",
       "1    {'uuid': '30895522', 'full_name': 'pvlib/pvlib...   \n",
       "2    {'uuid': '340965344', 'full_name': 'kube-green...   \n",
       "3    {'uuid': '119442616', 'full_name': 'openeemete...   \n",
       "4    {'uuid': '141110423', 'full_name': 'ecmwf/cfgr...   \n",
       "..                                                 ...   \n",
       "663  {'uuid': '114695046', 'full_name': 'USGS-CMG/s...   \n",
       "664  {'uuid': '9551524', 'full_name': 'DrylandEcolo...   \n",
       "665  {'uuid': '29378826', 'full_name': 'NCAR/rwrfhy...   \n",
       "666  {'uuid': '349622008', 'full_name': 'earth-chri...   \n",
       "667  {'uuid': '54632786', 'full_name': 'CCI-Tools/c...   \n",
       "\n",
       "                                                 owner  \\\n",
       "0    {'login': 'Unidata', 'name': 'Unidata', 'uuid'...   \n",
       "1    {'login': 'pvlib', 'name': 'pvlib', 'uuid': '1...   \n",
       "2    {'login': 'kube-green', 'name': 'kube-green', ...   \n",
       "3    {'login': 'openeemeter', 'name': 'OpenEEmeter'...   \n",
       "4    {'login': 'ecmwf', 'name': 'European Centre fo...   \n",
       "..                                                 ...   \n",
       "663  {'login': 'USGS-CMG', 'name': 'USGS Coastal an...   \n",
       "664  {'login': 'DrylandEcology', 'name': 'Dryland E...   \n",
       "665  {'login': 'NCAR', 'name': 'National Center for...   \n",
       "666  {'login': 'earth-chris', 'name': 'Christopher ...   \n",
       "667  {'login': 'CCI-Tools', 'name': 'ESA CCI Toolbo...   \n",
       "\n",
       "                                              packages  \\\n",
       "0    [{'name': 'netcdf4', 'ecosystem': 'pypi', 'des...   \n",
       "1    [{'name': 'pvlib', 'ecosystem': 'pypi', 'descr...   \n",
       "2    [{'name': 'kubegreen/kube-green', 'ecosystem':...   \n",
       "3    [{'name': 'eeweather', 'ecosystem': 'pypi', 'd...   \n",
       "4    [{'name': 'cfgrib', 'ecosystem': 'pypi', 'desc...   \n",
       "..                                                 ...   \n",
       "663  [{'name': 'stglib', 'ecosystem': 'conda', 'des...   \n",
       "664  [{'name': 'github.com/drylandecology/soilwat2'...   \n",
       "665  [{'name': 'github.com/ncar/rwrfhydro', 'ecosys...   \n",
       "666  [{'name': 'elapid', 'ecosystem': 'conda', 'des...   \n",
       "667  [{'name': 'github.com/CCI-Tools/cate', 'ecosys...   \n",
       "\n",
       "                                               commits  \\\n",
       "0    {'full_name': 'Unidata/netcdf4-python', 'defau...   \n",
       "1    {'full_name': 'pvlib/pvlib-python', 'default_b...   \n",
       "2    {'full_name': 'kube-green/kube-green', 'defaul...   \n",
       "3    {'full_name': 'openeemeter/eeweather', 'defaul...   \n",
       "4    {'full_name': 'ecmwf/cfgrib', 'default_branch'...   \n",
       "..                                                 ...   \n",
       "663  {'full_name': 'USGS-CMG/stglib', 'default_bran...   \n",
       "664  {'full_name': 'DrylandEcology/SOILWAT2', 'defa...   \n",
       "665  {'full_name': 'NCAR/rwrfhydro', 'default_branc...   \n",
       "666  {'full_name': 'earth-chris/elapid', 'default_b...   \n",
       "667  {'full_name': 'CCI-Tools/cate', 'default_branc...   \n",
       "\n",
       "                                          issues_stats  ...  \\\n",
       "0    {'full_name': 'Unidata/netcdf4-python', 'html_...  ...   \n",
       "1    {'full_name': 'pvlib/pvlib-python', 'html_url'...  ...   \n",
       "2    {'full_name': 'kube-green/kube-green', 'html_u...  ...   \n",
       "3    {'full_name': 'openeemeter/eeweather', 'html_u...  ...   \n",
       "4    {'full_name': 'ecmwf/cfgrib', 'html_url': 'htt...  ...   \n",
       "..                                                 ...  ...   \n",
       "663  {'full_name': 'USGS-CMG/stglib', 'html_url': '...  ...   \n",
       "664  {'full_name': 'DrylandEcology/SOILWAT2', 'html...  ...   \n",
       "665  {'full_name': 'NCAR/rwrfhydro', 'html_url': 'h...  ...   \n",
       "666  {'full_name': 'earth-chris/elapid', 'html_url'...  ...   \n",
       "667  {'full_name': 'CCI-Tools/cate', 'html_url': 'h...  ...   \n",
       "\n",
       "                                          dependencies      score  \\\n",
       "0    [{'ecosystem': 'actions', 'filepath': '.github...  25.510734   \n",
       "1    [{'ecosystem': 'actions', 'filepath': '.github...  24.248670   \n",
       "2    [{'ecosystem': 'actions', 'filepath': '.github...  21.249127   \n",
       "3    [{'ecosystem': 'pypi', 'filepath': 'Pipfile', ...  18.043913   \n",
       "4    [{'ecosystem': 'pypi', 'filepath': 'ci/require...  20.712966   \n",
       "..                                                 ...        ...   \n",
       "663  [{'ecosystem': 'pypi', 'filepath': 'setup.py',...        NaN   \n",
       "664  [{'ecosystem': 'actions', 'filepath': '.github...        NaN   \n",
       "665  [{'ecosystem': 'cran', 'filepath': 'DESCRIPTIO...        NaN   \n",
       "666  [{'ecosystem': 'pypi', 'filepath': 'requiremen...        NaN   \n",
       "667  [{'ecosystem': 'pypi', 'filepath': 'docs/sourc...        NaN   \n",
       "\n",
       "                          created_at                       updated_at  \\\n",
       "0   2023-09-11 14:52:14.006000+00:00 2023-12-07 01:19:20.100000+00:00   \n",
       "1   2023-09-11 14:52:06.879000+00:00 2023-12-07 00:53:31.610000+00:00   \n",
       "2   2023-09-11 14:52:10.530000+00:00 2023-12-08 05:15:16.167000+00:00   \n",
       "3   2023-09-11 11:54:35.868000+00:00 2023-12-07 00:50:29.813000+00:00   \n",
       "4   2023-09-11 11:54:36.281000+00:00 2023-12-07 00:52:34.927000+00:00   \n",
       "..                               ...                              ...   \n",
       "663 2023-09-13 08:45:12.857000+00:00 2023-12-07 01:20:00.695000+00:00   \n",
       "664 2023-09-11 14:52:12.875000+00:00 2023-12-08 05:38:31.585000+00:00   \n",
       "665 2023-09-11 11:54:35.724000+00:00 2023-12-07 06:45:31.672000+00:00   \n",
       "666 2023-09-13 08:45:12.836000+00:00 2023-12-07 01:19:23.711000+00:00   \n",
       "667 2023-09-11 14:52:13.959000+00:00 2023-12-08 05:39:14.566000+00:00   \n",
       "\n",
       "                                avatar_url language          category  \\\n",
       "0           https://github.com/Unidata.png   Cython    Climate Change   \n",
       "1             https://github.com/pvlib.png   Python  Renewable Energy   \n",
       "2        https://github.com/kube-green.png       Go       Consumption   \n",
       "3       https://github.com/openeemeter.png     HTML        Atmosphere   \n",
       "4             https://github.com/ecmwf.png   Python    Climate Change   \n",
       "..                                     ...      ...               ...   \n",
       "663        https://github.com/USGS-CMG.png   Python       Hydrosphere   \n",
       "664  https://github.com/DrylandEcology.png        C       Hydrosphere   \n",
       "665            https://github.com/NCAR.png        R       Hydrosphere   \n",
       "666     https://github.com/earth-chris.png   Python         Biosphere   \n",
       "667       https://github.com/CCI-Tools.png   Python    Climate Change   \n",
       "\n",
       "                                sub_category  \\\n",
       "0                     Climate Data Standards   \n",
       "1             Photovoltaics and Solar Energy   \n",
       "2              Computation and Communication   \n",
       "3    Meteorological Observation and Forecast   \n",
       "4       Climate Data Processing and Analysis   \n",
       "..                                       ...   \n",
       "663          Ocean and Hydrology Data Access   \n",
       "664                 Freshwater and Hydrology   \n",
       "665                 Freshwater and Hydrology   \n",
       "666    Biodiversity and Species Distribution   \n",
       "667    Climate Data Visualization and Access   \n",
       "\n",
       "                                       project_url  \\\n",
       "0    https://ost.ecosyste.ms/api/v1/projects/20618   \n",
       "1    https://ost.ecosyste.ms/api/v1/projects/19753   \n",
       "2    https://ost.ecosyste.ms/api/v1/projects/20183   \n",
       "3      https://ost.ecosyste.ms/api/v1/projects/764   \n",
       "4      https://ost.ecosyste.ms/api/v1/projects/899   \n",
       "..                                             ...   \n",
       "663  https://ost.ecosyste.ms/api/v1/projects/46085   \n",
       "664  https://ost.ecosyste.ms/api/v1/projects/20447   \n",
       "665    https://ost.ecosyste.ms/api/v1/projects/715   \n",
       "666  https://ost.ecosyste.ms/api/v1/projects/46084   \n",
       "667  https://ost.ecosyste.ms/api/v1/projects/20613   \n",
       "\n",
       "                                   html_url  \n",
       "0    https://ost.ecosyste.ms/projects/20618  \n",
       "1    https://ost.ecosyste.ms/projects/19753  \n",
       "2    https://ost.ecosyste.ms/projects/20183  \n",
       "3      https://ost.ecosyste.ms/projects/764  \n",
       "4      https://ost.ecosyste.ms/projects/899  \n",
       "..                                      ...  \n",
       "663  https://ost.ecosyste.ms/projects/46085  \n",
       "664  https://ost.ecosyste.ms/projects/20447  \n",
       "665    https://ost.ecosyste.ms/projects/715  \n",
       "666  https://ost.ecosyste.ms/projects/46084  \n",
       "667  https://ost.ecosyste.ms/projects/20613  \n",
       "\n",
       "[668 rows x 22 columns]"
      ]
     },
     "execution_count": 2,
     "metadata": {},
     "output_type": "execute_result"
    }
   ],
   "source": [
    "df = pd.read_json(resp.content)\n",
    "df"
   ]
  },
  {
   "cell_type": "code",
   "execution_count": 4,
   "id": "e6c85dc5",
   "metadata": {},
   "outputs": [],
   "source": [
    "names = []\n",
    "download_counts = []\n",
    "url = []\n",
    "description = []\n",
    "category = []\n",
    "sub_category = []\n",
    "language = []\n",
    "\n",
    "for index, row in df.iterrows():\n",
    "    names.append(row['name'])\n",
    "    package_downloads = 0\n",
    "    for package_manager in range(len(row['packages'])):\n",
    "        if row['packages'][package_manager]['downloads']:\n",
    "            if row['packages'][package_manager]['downloads_period'] == \"last-month\":\n",
    "                package_downloads += row['packages'][package_manager]['downloads']\n",
    "    download_counts.append(package_downloads)\n",
    "    url.append(row['url'])\n",
    "    description.append(row['description'])\n",
    "    category.append(row['category'])\n",
    "    sub_category.append(row['sub_category'])\n",
    "    language.append(row['language'])"
   ]
  },
  {
   "cell_type": "code",
   "execution_count": 5,
   "id": "e07725b3",
   "metadata": {},
   "outputs": [
    {
     "data": {
      "text/html": [
       "<div>\n",
       "<style scoped>\n",
       "    .dataframe tbody tr th:only-of-type {\n",
       "        vertical-align: middle;\n",
       "    }\n",
       "\n",
       "    .dataframe tbody tr th {\n",
       "        vertical-align: top;\n",
       "    }\n",
       "\n",
       "    .dataframe thead th {\n",
       "        text-align: right;\n",
       "    }\n",
       "</style>\n",
       "<table border=\"1\" class=\"dataframe\">\n",
       "  <thead>\n",
       "    <tr style=\"text-align: right;\">\n",
       "      <th></th>\n",
       "      <th>project_names</th>\n",
       "      <th>download_counts</th>\n",
       "      <th>git_url</th>\n",
       "      <th>description</th>\n",
       "      <th>category</th>\n",
       "      <th>sub_category</th>\n",
       "      <th>language</th>\n",
       "    </tr>\n",
       "  </thead>\n",
       "  <tbody>\n",
       "    <tr>\n",
       "      <th>0</th>\n",
       "      <td>netcdf-python</td>\n",
       "      <td>2010112</td>\n",
       "      <td>https://github.com/Unidata/netcdf4-python</td>\n",
       "      <td>The Unidata network Common Data Form (netCDF) ...</td>\n",
       "      <td>Climate Change</td>\n",
       "      <td>Climate Data Standards</td>\n",
       "      <td>Cython</td>\n",
       "    </tr>\n",
       "    <tr>\n",
       "      <th>1</th>\n",
       "      <td>pvlib-python</td>\n",
       "      <td>247853</td>\n",
       "      <td>https://github.com/pvlib/pvlib-python</td>\n",
       "      <td>A set of documented functions for simulating t...</td>\n",
       "      <td>Renewable Energy</td>\n",
       "      <td>Photovoltaics and Solar Energy</td>\n",
       "      <td>Python</td>\n",
       "    </tr>\n",
       "    <tr>\n",
       "      <th>2</th>\n",
       "      <td>kube-green</td>\n",
       "      <td>0</td>\n",
       "      <td>https://github.com/kube-green/kube-green</td>\n",
       "      <td>A k8s operator to reduce CO2 footprint of your...</td>\n",
       "      <td>Consumption</td>\n",
       "      <td>Computation and Communication</td>\n",
       "      <td>Go</td>\n",
       "    </tr>\n",
       "    <tr>\n",
       "      <th>3</th>\n",
       "      <td>eeweather</td>\n",
       "      <td>116274</td>\n",
       "      <td>https://github.com/openeemeter/eeweather</td>\n",
       "      <td>Fetch NCDC ISD, TMY3, or CZ2010 weather data t...</td>\n",
       "      <td>Atmosphere</td>\n",
       "      <td>Meteorological Observation and Forecast</td>\n",
       "      <td>HTML</td>\n",
       "    </tr>\n",
       "    <tr>\n",
       "      <th>4</th>\n",
       "      <td>cfgrib</td>\n",
       "      <td>97874</td>\n",
       "      <td>https://github.com/ecmwf/cfgrib</td>\n",
       "      <td>A Python interface to map GRIB files to the Ne...</td>\n",
       "      <td>Climate Change</td>\n",
       "      <td>Climate Data Processing and Analysis</td>\n",
       "      <td>Python</td>\n",
       "    </tr>\n",
       "    <tr>\n",
       "      <th>...</th>\n",
       "      <td>...</td>\n",
       "      <td>...</td>\n",
       "      <td>...</td>\n",
       "      <td>...</td>\n",
       "      <td>...</td>\n",
       "      <td>...</td>\n",
       "      <td>...</td>\n",
       "    </tr>\n",
       "    <tr>\n",
       "      <th>663</th>\n",
       "      <td>stglib</td>\n",
       "      <td>0</td>\n",
       "      <td>https://github.com/USGS-CMG/stglib</td>\n",
       "      <td>Routines used by the USGS Coastal/Marine Hazar...</td>\n",
       "      <td>Hydrosphere</td>\n",
       "      <td>Ocean and Hydrology Data Access</td>\n",
       "      <td>Python</td>\n",
       "    </tr>\n",
       "    <tr>\n",
       "      <th>664</th>\n",
       "      <td>SOILWAT2</td>\n",
       "      <td>0</td>\n",
       "      <td>https://github.com/DrylandEcology/SOILWAT2</td>\n",
       "      <td>An ecosystem water balance simulation model.</td>\n",
       "      <td>Hydrosphere</td>\n",
       "      <td>Freshwater and Hydrology</td>\n",
       "      <td>C</td>\n",
       "    </tr>\n",
       "    <tr>\n",
       "      <th>665</th>\n",
       "      <td>rwrfhydro</td>\n",
       "      <td>0</td>\n",
       "      <td>https://github.com/NCAR/rwrfhydro</td>\n",
       "      <td>A community-contributed tool box for managing,...</td>\n",
       "      <td>Hydrosphere</td>\n",
       "      <td>Freshwater and Hydrology</td>\n",
       "      <td>R</td>\n",
       "    </tr>\n",
       "    <tr>\n",
       "      <th>666</th>\n",
       "      <td>elapid</td>\n",
       "      <td>0</td>\n",
       "      <td>https://github.com/earth-chris/elapid</td>\n",
       "      <td>Species distribution modeling tools, including...</td>\n",
       "      <td>Biosphere</td>\n",
       "      <td>Biodiversity and Species Distribution</td>\n",
       "      <td>Python</td>\n",
       "    </tr>\n",
       "    <tr>\n",
       "      <th>667</th>\n",
       "      <td>Cate</td>\n",
       "      <td>0</td>\n",
       "      <td>https://github.com/CCI-Tools/cate</td>\n",
       "      <td>A software for ingesting, operating on and vis...</td>\n",
       "      <td>Climate Change</td>\n",
       "      <td>Climate Data Visualization and Access</td>\n",
       "      <td>Python</td>\n",
       "    </tr>\n",
       "  </tbody>\n",
       "</table>\n",
       "<p>668 rows × 7 columns</p>\n",
       "</div>"
      ],
      "text/plain": [
       "     project_names  download_counts  \\\n",
       "0    netcdf-python          2010112   \n",
       "1     pvlib-python           247853   \n",
       "2       kube-green                0   \n",
       "3        eeweather           116274   \n",
       "4           cfgrib            97874   \n",
       "..             ...              ...   \n",
       "663         stglib                0   \n",
       "664       SOILWAT2                0   \n",
       "665      rwrfhydro                0   \n",
       "666         elapid                0   \n",
       "667           Cate                0   \n",
       "\n",
       "                                        git_url  \\\n",
       "0     https://github.com/Unidata/netcdf4-python   \n",
       "1         https://github.com/pvlib/pvlib-python   \n",
       "2      https://github.com/kube-green/kube-green   \n",
       "3      https://github.com/openeemeter/eeweather   \n",
       "4               https://github.com/ecmwf/cfgrib   \n",
       "..                                          ...   \n",
       "663          https://github.com/USGS-CMG/stglib   \n",
       "664  https://github.com/DrylandEcology/SOILWAT2   \n",
       "665           https://github.com/NCAR/rwrfhydro   \n",
       "666       https://github.com/earth-chris/elapid   \n",
       "667           https://github.com/CCI-Tools/cate   \n",
       "\n",
       "                                           description          category  \\\n",
       "0    The Unidata network Common Data Form (netCDF) ...    Climate Change   \n",
       "1    A set of documented functions for simulating t...  Renewable Energy   \n",
       "2    A k8s operator to reduce CO2 footprint of your...       Consumption   \n",
       "3    Fetch NCDC ISD, TMY3, or CZ2010 weather data t...        Atmosphere   \n",
       "4    A Python interface to map GRIB files to the Ne...    Climate Change   \n",
       "..                                                 ...               ...   \n",
       "663  Routines used by the USGS Coastal/Marine Hazar...       Hydrosphere   \n",
       "664       An ecosystem water balance simulation model.       Hydrosphere   \n",
       "665  A community-contributed tool box for managing,...       Hydrosphere   \n",
       "666  Species distribution modeling tools, including...         Biosphere   \n",
       "667  A software for ingesting, operating on and vis...    Climate Change   \n",
       "\n",
       "                                sub_category language  \n",
       "0                     Climate Data Standards   Cython  \n",
       "1             Photovoltaics and Solar Energy   Python  \n",
       "2              Computation and Communication       Go  \n",
       "3    Meteorological Observation and Forecast     HTML  \n",
       "4       Climate Data Processing and Analysis   Python  \n",
       "..                                       ...      ...  \n",
       "663          Ocean and Hydrology Data Access   Python  \n",
       "664                 Freshwater and Hydrology        C  \n",
       "665                 Freshwater and Hydrology        R  \n",
       "666    Biodiversity and Species Distribution   Python  \n",
       "667    Climate Data Visualization and Access   Python  \n",
       "\n",
       "[668 rows x 7 columns]"
      ]
     },
     "execution_count": 4,
     "metadata": {},
     "output_type": "execute_result"
    }
   ],
   "source": [
    "df_extract = pd.DataFrame()\n",
    "df_extract['project_names'] = names\n",
    "df_extract['download_counts'] = download_counts\n",
    "df_extract['git_url'] = url\n",
    "df_extract['description'] = description\n",
    "df_extract['category'] = category\n",
    "df_extract['sub_category'] = sub_category\n",
    "df_extract['language'] = language\n",
    "df_extract\n"
   ]
  },
  {
   "cell_type": "code",
   "execution_count": 6,
   "id": "55be4c73",
   "metadata": {},
   "outputs": [
    {
     "data": {
      "text/html": [
       "<div>\n",
       "<style scoped>\n",
       "    .dataframe tbody tr th:only-of-type {\n",
       "        vertical-align: middle;\n",
       "    }\n",
       "\n",
       "    .dataframe tbody tr th {\n",
       "        vertical-align: top;\n",
       "    }\n",
       "\n",
       "    .dataframe thead th {\n",
       "        text-align: right;\n",
       "    }\n",
       "</style>\n",
       "<table border=\"1\" class=\"dataframe\">\n",
       "  <thead>\n",
       "    <tr style=\"text-align: right;\">\n",
       "      <th></th>\n",
       "      <th>project_names</th>\n",
       "      <th>download_counts</th>\n",
       "      <th>git_url</th>\n",
       "      <th>description</th>\n",
       "      <th>category</th>\n",
       "      <th>sub_category</th>\n",
       "      <th>language</th>\n",
       "    </tr>\n",
       "  </thead>\n",
       "  <tbody>\n",
       "    <tr>\n",
       "      <th>0</th>\n",
       "      <td>&lt;a href=\"https://github.com/Unidata/netcdf4-py...</td>\n",
       "      <td>2010112</td>\n",
       "      <td>https://github.com/Unidata/netcdf4-python</td>\n",
       "      <td>The Unidata network Common Data Form (netCDF) ...</td>\n",
       "      <td>Climate Change</td>\n",
       "      <td>Climate Data Standards</td>\n",
       "      <td>Cython</td>\n",
       "    </tr>\n",
       "    <tr>\n",
       "      <th>1</th>\n",
       "      <td>&lt;a href=\"https://github.com/pvlib/pvlib-python...</td>\n",
       "      <td>247853</td>\n",
       "      <td>https://github.com/pvlib/pvlib-python</td>\n",
       "      <td>A set of documented functions for simulating t...</td>\n",
       "      <td>Renewable Energy</td>\n",
       "      <td>Photovoltaics and Solar Energy</td>\n",
       "      <td>Python</td>\n",
       "    </tr>\n",
       "    <tr>\n",
       "      <th>2</th>\n",
       "      <td>&lt;a href=\"https://github.com/kube-green/kube-gr...</td>\n",
       "      <td>0</td>\n",
       "      <td>https://github.com/kube-green/kube-green</td>\n",
       "      <td>A k8s operator to reduce CO2 footprint of your...</td>\n",
       "      <td>Consumption</td>\n",
       "      <td>Computation and Communication</td>\n",
       "      <td>Go</td>\n",
       "    </tr>\n",
       "    <tr>\n",
       "      <th>3</th>\n",
       "      <td>&lt;a href=\"https://github.com/openeemeter/eeweat...</td>\n",
       "      <td>116274</td>\n",
       "      <td>https://github.com/openeemeter/eeweather</td>\n",
       "      <td>Fetch NCDC ISD, TMY3, or CZ2010 weather data t...</td>\n",
       "      <td>Atmosphere</td>\n",
       "      <td>Meteorological Observation and Forecast</td>\n",
       "      <td>HTML</td>\n",
       "    </tr>\n",
       "    <tr>\n",
       "      <th>4</th>\n",
       "      <td>&lt;a href=\"https://github.com/ecmwf/cfgrib\" targ...</td>\n",
       "      <td>97874</td>\n",
       "      <td>https://github.com/ecmwf/cfgrib</td>\n",
       "      <td>A Python interface to map GRIB files to the Ne...</td>\n",
       "      <td>Climate Change</td>\n",
       "      <td>Climate Data Processing and Analysis</td>\n",
       "      <td>Python</td>\n",
       "    </tr>\n",
       "    <tr>\n",
       "      <th>...</th>\n",
       "      <td>...</td>\n",
       "      <td>...</td>\n",
       "      <td>...</td>\n",
       "      <td>...</td>\n",
       "      <td>...</td>\n",
       "      <td>...</td>\n",
       "      <td>...</td>\n",
       "    </tr>\n",
       "    <tr>\n",
       "      <th>663</th>\n",
       "      <td>&lt;a href=\"https://github.com/USGS-CMG/stglib\" t...</td>\n",
       "      <td>0</td>\n",
       "      <td>https://github.com/USGS-CMG/stglib</td>\n",
       "      <td>Routines used by the USGS Coastal/Marine Hazar...</td>\n",
       "      <td>Hydrosphere</td>\n",
       "      <td>Ocean and Hydrology Data Access</td>\n",
       "      <td>Python</td>\n",
       "    </tr>\n",
       "    <tr>\n",
       "      <th>664</th>\n",
       "      <td>&lt;a href=\"https://github.com/DrylandEcology/SOI...</td>\n",
       "      <td>0</td>\n",
       "      <td>https://github.com/DrylandEcology/SOILWAT2</td>\n",
       "      <td>An ecosystem water balance simulation model.</td>\n",
       "      <td>Hydrosphere</td>\n",
       "      <td>Freshwater and Hydrology</td>\n",
       "      <td>C</td>\n",
       "    </tr>\n",
       "    <tr>\n",
       "      <th>665</th>\n",
       "      <td>&lt;a href=\"https://github.com/NCAR/rwrfhydro\" ta...</td>\n",
       "      <td>0</td>\n",
       "      <td>https://github.com/NCAR/rwrfhydro</td>\n",
       "      <td>A community-contributed tool box for managing,...</td>\n",
       "      <td>Hydrosphere</td>\n",
       "      <td>Freshwater and Hydrology</td>\n",
       "      <td>R</td>\n",
       "    </tr>\n",
       "    <tr>\n",
       "      <th>666</th>\n",
       "      <td>&lt;a href=\"https://github.com/earth-chris/elapid...</td>\n",
       "      <td>0</td>\n",
       "      <td>https://github.com/earth-chris/elapid</td>\n",
       "      <td>Species distribution modeling tools, including...</td>\n",
       "      <td>Biosphere</td>\n",
       "      <td>Biodiversity and Species Distribution</td>\n",
       "      <td>Python</td>\n",
       "    </tr>\n",
       "    <tr>\n",
       "      <th>667</th>\n",
       "      <td>&lt;a href=\"https://github.com/CCI-Tools/cate\" ta...</td>\n",
       "      <td>0</td>\n",
       "      <td>https://github.com/CCI-Tools/cate</td>\n",
       "      <td>A software for ingesting, operating on and vis...</td>\n",
       "      <td>Climate Change</td>\n",
       "      <td>Climate Data Visualization and Access</td>\n",
       "      <td>Python</td>\n",
       "    </tr>\n",
       "  </tbody>\n",
       "</table>\n",
       "<p>668 rows × 7 columns</p>\n",
       "</div>"
      ],
      "text/plain": [
       "                                         project_names  download_counts  \\\n",
       "0    <a href=\"https://github.com/Unidata/netcdf4-py...          2010112   \n",
       "1    <a href=\"https://github.com/pvlib/pvlib-python...           247853   \n",
       "2    <a href=\"https://github.com/kube-green/kube-gr...                0   \n",
       "3    <a href=\"https://github.com/openeemeter/eeweat...           116274   \n",
       "4    <a href=\"https://github.com/ecmwf/cfgrib\" targ...            97874   \n",
       "..                                                 ...              ...   \n",
       "663  <a href=\"https://github.com/USGS-CMG/stglib\" t...                0   \n",
       "664  <a href=\"https://github.com/DrylandEcology/SOI...                0   \n",
       "665  <a href=\"https://github.com/NCAR/rwrfhydro\" ta...                0   \n",
       "666  <a href=\"https://github.com/earth-chris/elapid...                0   \n",
       "667  <a href=\"https://github.com/CCI-Tools/cate\" ta...                0   \n",
       "\n",
       "                                        git_url  \\\n",
       "0     https://github.com/Unidata/netcdf4-python   \n",
       "1         https://github.com/pvlib/pvlib-python   \n",
       "2      https://github.com/kube-green/kube-green   \n",
       "3      https://github.com/openeemeter/eeweather   \n",
       "4               https://github.com/ecmwf/cfgrib   \n",
       "..                                          ...   \n",
       "663          https://github.com/USGS-CMG/stglib   \n",
       "664  https://github.com/DrylandEcology/SOILWAT2   \n",
       "665           https://github.com/NCAR/rwrfhydro   \n",
       "666       https://github.com/earth-chris/elapid   \n",
       "667           https://github.com/CCI-Tools/cate   \n",
       "\n",
       "                                           description          category  \\\n",
       "0    The Unidata network Common Data Form (netCDF) ...    Climate Change   \n",
       "1    A set of documented functions for simulating t...  Renewable Energy   \n",
       "2    A k8s operator to reduce CO2 footprint of your...       Consumption   \n",
       "3    Fetch NCDC ISD, TMY3, or CZ2010 weather data t...        Atmosphere   \n",
       "4    A Python interface to map GRIB files to the Ne...    Climate Change   \n",
       "..                                                 ...               ...   \n",
       "663  Routines used by the USGS Coastal/Marine Hazar...       Hydrosphere   \n",
       "664       An ecosystem water balance simulation model.       Hydrosphere   \n",
       "665  A community-contributed tool box for managing,...       Hydrosphere   \n",
       "666  Species distribution modeling tools, including...         Biosphere   \n",
       "667  A software for ingesting, operating on and vis...    Climate Change   \n",
       "\n",
       "                                sub_category language  \n",
       "0                     Climate Data Standards   Cython  \n",
       "1             Photovoltaics and Solar Energy   Python  \n",
       "2              Computation and Communication       Go  \n",
       "3    Meteorological Observation and Forecast     HTML  \n",
       "4       Climate Data Processing and Analysis   Python  \n",
       "..                                       ...      ...  \n",
       "663          Ocean and Hydrology Data Access   Python  \n",
       "664                 Freshwater and Hydrology        C  \n",
       "665                 Freshwater and Hydrology        R  \n",
       "666    Biodiversity and Species Distribution   Python  \n",
       "667    Climate Data Visualization and Access   Python  \n",
       "\n",
       "[668 rows x 7 columns]"
      ]
     },
     "execution_count": 5,
     "metadata": {},
     "output_type": "execute_result"
    }
   ],
   "source": [
    "import textwrap\n",
    "\n",
    "def text_to_link(project_name, git_url):\n",
    "    return '<a href=\"' + git_url + '\" target=\"_blank\" style = \"color: black\">' + str(project_name) + \"</a>\"\n",
    "\n",
    "def text_to_bolt(topic):\n",
    "    return \"<b>\" + topic + \"</b>\"\n",
    "\n",
    "def line_break_text(text):\n",
    "    wrapped_text = '<br>'.join(textwrap.wrap(text, 64))\n",
    "    return wrapped_text\n",
    "                               \n",
    "df_extract[\"description\"] = df_extract.apply(\n",
    "    lambda x: line_break_text(x.description), axis=1\n",
    ")                             \n",
    "                               \n",
    "                               \n",
    "df_extract[\"project_names\"] = df_extract.apply(\n",
    "    lambda x: text_to_link(x.project_names, x.git_url), axis=1\n",
    ")\n",
    "df_extract"
   ]
  },
  {
   "cell_type": "code",
   "execution_count": 38,
   "id": "0cdb8937",
   "metadata": {
    "scrolled": false
   },
   "outputs": [
    {
     "data": {
      "application/vnd.plotly.v1+json": {
       "config": {
        "plotlyServerURL": "https://plot.ly",
        "responsive": "true",
        "toImageButtonOptions": {
         "format": "png"
        }
       },
       "data": [
        {
         "alignmentgroup": "True",
         "customdata": [
          [
           "<a href=\"https://github.com/Unidata/netcdf4-python\" target=\"_blank\" style = \"color: black\">netcdf-python</a>",
           2010112,
           "https://github.com/Unidata/netcdf4-python",
           "The Unidata network Common Data Form (netCDF) in Python is an<br>interface for scientific data access and a set of freely-<br>distributed software libraries that provide an implementation of<br>the interface.",
           "Climate Change",
           "Climate Data Standards",
           "Cython"
          ],
          [
           "<a href=\"https://github.com/ecmwf/cfgrib\" target=\"_blank\" style = \"color: black\">cfgrib</a>",
           97874,
           "https://github.com/ecmwf/cfgrib",
           "A Python interface to map GRIB files to the NetCDF Common Data<br>Model following the CF Convention using ecCodes.",
           "Climate Change",
           "Climate Data Processing and Analysis",
           "Python"
          ],
          [
           "<a href=\"https://github.com/ecmwf/cdsapi\" target=\"_blank\" style = \"color: black\">cdsapi</a>",
           48101,
           "https://github.com/ecmwf/cdsapi",
           "Python API to access the Copernicus Climate Data Store.",
           "Climate Change",
           "Climate Data Visualization and Access",
           "Python"
          ],
          [
           "<a href=\"https://github.com/meteostat/meteostat-python\" target=\"_blank\" style = \"color: black\">Meteostat Python</a>",
           45654,
           "https://github.com/meteostat/meteostat-python",
           "Access and analyze historical weather and climate data with<br>Python.",
           "Climate Change",
           "Climate Data Visualization and Access",
           "Python"
          ],
          [
           "<a href=\"https://github.com/intake/intake-esm\" target=\"_blank\" style = \"color: black\">Intake-esm</a>",
           34211,
           "https://github.com/intake/intake-esm",
           "An intake plugin for parsing an Earth System Model catalog and<br>loading assets into xarray datasets.",
           "Climate Change",
           "Climate Data Visualization and Access",
           "Python"
          ],
          [
           "<a href=\"https://github.com/ouranosinc/xclim\" target=\"_blank\" style = \"color: black\">xclim</a>",
           23555,
           "https://github.com/ouranosinc/xclim",
           "A library of derived climate variables, i.e. climate indicators,<br>based on xarray.",
           "Climate Change",
           "Climate Data Processing and Analysis",
           "Python"
          ],
          [
           "<a href=\"https://github.com/cerfacs-globc/icclim\" target=\"_blank\" style = \"color: black\">icclim</a>",
           10723,
           "https://github.com/cerfacs-globc/icclim",
           "Python library for climate indices and climate indicators<br>calculation.",
           "Climate Change",
           "Climate Data Processing and Analysis",
           "Python"
          ],
          [
           "<a href=\"https://github.com/ladybug-tools/uwg\" target=\"_blank\" style = \"color: black\">Urban Weather Generator</a>",
           8094,
           "https://github.com/ladybug-tools/uwg",
           "A Python application for modeling the urban heat island effect.",
           "Climate Change",
           "Earth and Climate Modeling",
           "Python"
          ],
          [
           "<a href=\"https://github.com/xarray-contrib/xskillscore\" target=\"_blank\" style = \"color: black\">xskillscore</a>",
           7174,
           "https://github.com/xarray-contrib/xskillscore",
           "An open source project and Python package that provides<br>verification metrics of deterministic (and probabilistic from<br>properscoring) forecasts with xarray.",
           "Climate Change",
           "Climate Data Processing and Analysis",
           "Python"
          ],
          [
           "<a href=\"https://github.com/iamconsortium/pyam\" target=\"_blank\" style = \"color: black\">pyam</a>",
           6337,
           "https://github.com/iamconsortium/pyam",
           "A Python package for data-wrangling, analysis and visualization<br>of integrated-assessment scenarios and energy systems modeling<br>results.",
           "Climate Change",
           "Integrated Assessment and Climate Policy",
           "Python"
          ],
          [
           "<a href=\"https://github.com/oms-netzero/fair\" target=\"_blank\" style = \"color: black\">FAIR</a>",
           5287,
           "https://github.com/oms-netzero/fair",
           "Finite Amplitude Impulse-Response simple climate-carbon-cycle<br>model.",
           "Climate Change",
           "Earth and Climate Modeling",
           "Python"
          ],
          [
           "<a href=\"https://github.com/OasisLMF/oasislmf\" target=\"_blank\" style = \"color: black\">OasisLMF</a>",
           4692,
           "https://github.com/OasisLMF/oasislmf",
           "An open source catastrophe modelling platform, free to use by<br>anyone.",
           "Climate Change",
           "Natural Hazard and Storm",
           "Python"
          ],
          [
           "<a href=\"https://github.com/ecmwf/ecmwf-opendata\" target=\"_blank\" style = \"color: black\">ecmwf-opendata</a>",
           3342,
           "https://github.com/ecmwf/ecmwf-opendata",
           "A package to simplify the download of ECMWF open data.",
           "Climate Change",
           "Climate Data Visualization and Access",
           "Python"
          ],
          [
           "<a href=\"https://github.com/ecmwf/climetlab\" target=\"_blank\" style = \"color: black\">climetlab</a>",
           3258,
           "https://github.com/ecmwf/climetlab",
           "A Python package aiming at simplifying access to climate and<br>meteorological datasets, allowing users to focus on science<br>instead of technical issues such as data access and data<br>formats.",
           "Climate Change",
           "Climate Data Visualization and Access",
           "Python"
          ],
          [
           "<a href=\"https://github.com/gem/oq-engine\" target=\"_blank\" style = \"color: black\">OpenQuake</a>",
           2206,
           "https://github.com/gem/oq-engine",
           "Allows users to compute seismic hazard and seismic risk of<br>earthquakes on a global scale.",
           "Climate Change",
           "Natural Hazard and Storm",
           "Python"
          ],
          [
           "<a href=\"https://github.com/roocs/clisops\" target=\"_blank\" style = \"color: black\">clisops</a>",
           1770,
           "https://github.com/roocs/clisops",
           "Climate simulation operations.",
           "Climate Change",
           "Climate Data Processing and Analysis",
           "Python"
          ],
          [
           "<a href=\"https://github.com/xgcm/xgcm\" target=\"_blank\" style = \"color: black\">xgcm</a>",
           1489,
           "https://github.com/xgcm/xgcm",
           "A Python package for analyzing general circulation model output<br>data.",
           "Climate Change",
           "Climate Data Processing and Analysis",
           "Python"
          ],
          [
           "<a href=\"https://github.com/contrailcirrus/pycontrails\" target=\"_blank\" style = \"color: black\">pycontrails</a>",
           1401,
           "https://github.com/contrailcirrus/pycontrails",
           "Python library for modeling aviation climate impacts.",
           "Climate Change",
           "Earth and Climate Modeling",
           "Python"
          ],
          [
           "<a href=\"https://github.com/SciTools/iris\" target=\"_blank\" style = \"color: black\">Iris</a>",
           1389,
           "https://github.com/SciTools/iris",
           "A powerful, format-agnostic, community-driven Python package for<br>analyzing and visualizing Earth science data.",
           "Climate Change",
           "Climate Data Processing and Analysis",
           "Python"
          ],
          [
           "<a href=\"https://github.com/nco/pynco\" target=\"_blank\" style = \"color: black\">pynco</a>",
           1322,
           "https://github.com/nco/pynco",
           "Contains the module python nco, which implements a Python style<br>access to the NetCDF Operators (NCO).",
           "Climate Change",
           "Climate Data Processing and Analysis",
           "Python"
          ],
          [
           "<a href=\"https://github.com/bluegreen-labs/ecmwfr\" target=\"_blank\" style = \"color: black\">ecmwfr</a>",
           1233,
           "https://github.com/bluegreen-labs/ecmwfr",
           "Provides easy access to the European Centre for Medium-Range<br>Weather Forecasts web API services and Copernicus Climate Data<br>Store from within R, matching and expanding upon the ECMWF<br>Python tools.",
           "Climate Change",
           "Climate Data Visualization and Access",
           "R"
          ],
          [
           "<a href=\"https://github.com/climt/climt\" target=\"_blank\" style = \"color: black\">CliMT</a>",
           817,
           "https://github.com/climt/climt",
           "A Toolkit for building Earth system models in Python.",
           "Climate Change",
           "Earth and Climate Modeling",
           "Fortran"
          ],
          [
           "<a href=\"https://github.com/ropenspain/climaemet\" target=\"_blank\" style = \"color: black\">climaemet</a>",
           777,
           "https://github.com/ropenspain/climaemet",
           "An interface to download the climatic data of the Spanish<br>Meteorological Agency directly from R using their API and create<br>scientific graphs.",
           "Climate Change",
           "Climate Data Visualization and Access",
           "R"
          ],
          [
           "<a href=\"https://github.com/climada-project/climada_python\" target=\"_blank\" style = \"color: black\">CLIMADA</a>",
           749,
           "https://github.com/climada-project/climada_python",
           "Stands for CLIMate ADAptation and is a probabilistic natural<br>catastrophe impact model, that also calculates averted damage<br>(benefit) thanks to adaptation measures of any kind (from grey<br>to green infrastructure, behavioural, etc.).",
           "Climate Change",
           "Natural Hazard and Storm",
           "Jupyter Notebook"
          ],
          [
           "<a href=\"https://github.com/bluegreen-labs/daymetr\" target=\"_blank\" style = \"color: black\">daymetr</a>",
           744,
           "https://github.com/bluegreen-labs/daymetr",
           "Allows for easy downloads of Daymet climate data directly to<br>your R workspace or your computer.",
           "Climate Change",
           "Climate Data Processing and Analysis",
           "R"
          ],
          [
           "<a href=\"https://github.com/tropycal/tropycal\" target=\"_blank\" style = \"color: black\">Tropycal</a>",
           718,
           "https://github.com/tropycal/tropycal",
           "A Python package intended to simplify the process of retrieving<br>and analyzing tropical cyclone data, both for past storms and in<br>real time.",
           "Climate Change",
           "Natural Hazard and Storm",
           "Python"
          ],
          [
           "<a href=\"https://github.com/servir-mekong/hydra-floods\" target=\"_blank\" style = \"color: black\">HYDRAFloods</a>",
           648,
           "https://github.com/servir-mekong/hydra-floods",
           "An open source Python application for downloading, processing,<br>and delivering surface water maps derived from remote sensing<br>data.",
           "Climate Change",
           "Natural Hazard and Storm",
           "Python"
          ],
          [
           "<a href=\"https://github.com/pangeo-data/climpred\" target=\"_blank\" style = \"color: black\">climpred</a>",
           615,
           "https://github.com/pangeo-data/climpred",
           "Aims to be the primary package used to analyze output from<br>initialized dynamical forecast models, ranging from short-term<br>weather forecasts to long-term climate forecasts.",
           "Climate Change",
           "Climate Data Processing and Analysis",
           "Python"
          ],
          [
           "<a href=\"https://github.com/ncas-cms/cf-python\" target=\"_blank\" style = \"color: black\">cf-python</a>",
           566,
           "https://github.com/ncas-cms/cf-python",
           "A CF-compliant Earth Science data analysis library.",
           "Climate Change",
           "Climate Data Standards",
           "Python"
          ],
          [
           "<a href=\"https://github.com/zilum/sacpy\" target=\"_blank\" style = \"color: black\">Sacpy</a>",
           553,
           "https://github.com/zilum/sacpy",
           "An effecient Statistical Analysis tool (e.g. regression, EOF,<br>MCA) for Climate and Meteorology data.",
           "Climate Change",
           "Climate Data Processing and Analysis",
           "Python"
          ],
          [
           "<a href=\"https://github.com/ropensci/prism\" target=\"_blank\" style = \"color: black\">PRISM</a>",
           549,
           "https://github.com/ropensci/prism",
           "Download data from the Oregon PRISM climate data project.",
           "Climate Change",
           "Climate Data Visualization and Access",
           "R"
          ],
          [
           "<a href=\"https://github.com/LinkedEarth/Pyleoclim_util\" target=\"_blank\" style = \"color: black\">Paleoclimate</a>",
           531,
           "https://github.com/LinkedEarth/Pyleoclim_util",
           "Analysis of Paleoclimate Data.",
           "Climate Change",
           "Climate Data Processing and Analysis",
           "Python"
          ],
          [
           "<a href=\"https://github.com/climlab/climlab\" target=\"_blank\" style = \"color: black\">climlab</a>",
           515,
           "https://github.com/climlab/climlab",
           "A Python package for process-oriented climate modeling.",
           "Climate Change",
           "Earth and Climate Modeling",
           "Jupyter Notebook"
          ],
          [
           "<a href=\"https://github.com/boshek/rsoi\" target=\"_blank\" style = \"color: black\">rsoi</a>",
           448,
           "https://github.com/boshek/rsoi",
           "An R package to download the most up to date climate indices.",
           "Climate Change",
           "Climate Data Visualization and Access",
           "R"
          ]
         ],
         "hoverinfo": "name+z",
         "hovertemplate": "<extra></extra>Downloads: <b>%{customdata[1]}</b><br>Git URL: <b>%{customdata[2]}</b><br>Description: <b>%{customdata[3]}</b><br>Category: <b>%{customdata[4]}</b><br>Sub Category: <b>%{customdata[5]}</b><br>Language: <b>%{customdata[6]}</b>",
         "legendgroup": "Climate Change",
         "marker": {
          "color": "rgb(229, 134, 6)",
          "pattern": {
           "shape": ""
          }
         },
         "name": "Climate Change",
         "offsetgroup": "Climate Change",
         "orientation": "h",
         "showlegend": true,
         "textposition": "auto",
         "type": "bar",
         "x": [
          2010112,
          97874,
          48101,
          45654,
          34211,
          23555,
          10723,
          8094,
          7174,
          6337,
          5287,
          4692,
          3342,
          3258,
          2206,
          1770,
          1489,
          1401,
          1389,
          1322,
          1233,
          817,
          777,
          749,
          744,
          718,
          648,
          615,
          566,
          553,
          549,
          531,
          515,
          448
         ],
         "xaxis": "x",
         "y": [
          "<a href=\"https://github.com/Unidata/netcdf4-python\" target=\"_blank\" style = \"color: black\">netcdf-python</a>",
          "<a href=\"https://github.com/ecmwf/cfgrib\" target=\"_blank\" style = \"color: black\">cfgrib</a>",
          "<a href=\"https://github.com/ecmwf/cdsapi\" target=\"_blank\" style = \"color: black\">cdsapi</a>",
          "<a href=\"https://github.com/meteostat/meteostat-python\" target=\"_blank\" style = \"color: black\">Meteostat Python</a>",
          "<a href=\"https://github.com/intake/intake-esm\" target=\"_blank\" style = \"color: black\">Intake-esm</a>",
          "<a href=\"https://github.com/ouranosinc/xclim\" target=\"_blank\" style = \"color: black\">xclim</a>",
          "<a href=\"https://github.com/cerfacs-globc/icclim\" target=\"_blank\" style = \"color: black\">icclim</a>",
          "<a href=\"https://github.com/ladybug-tools/uwg\" target=\"_blank\" style = \"color: black\">Urban Weather Generator</a>",
          "<a href=\"https://github.com/xarray-contrib/xskillscore\" target=\"_blank\" style = \"color: black\">xskillscore</a>",
          "<a href=\"https://github.com/iamconsortium/pyam\" target=\"_blank\" style = \"color: black\">pyam</a>",
          "<a href=\"https://github.com/oms-netzero/fair\" target=\"_blank\" style = \"color: black\">FAIR</a>",
          "<a href=\"https://github.com/OasisLMF/oasislmf\" target=\"_blank\" style = \"color: black\">OasisLMF</a>",
          "<a href=\"https://github.com/ecmwf/ecmwf-opendata\" target=\"_blank\" style = \"color: black\">ecmwf-opendata</a>",
          "<a href=\"https://github.com/ecmwf/climetlab\" target=\"_blank\" style = \"color: black\">climetlab</a>",
          "<a href=\"https://github.com/gem/oq-engine\" target=\"_blank\" style = \"color: black\">OpenQuake</a>",
          "<a href=\"https://github.com/roocs/clisops\" target=\"_blank\" style = \"color: black\">clisops</a>",
          "<a href=\"https://github.com/xgcm/xgcm\" target=\"_blank\" style = \"color: black\">xgcm</a>",
          "<a href=\"https://github.com/contrailcirrus/pycontrails\" target=\"_blank\" style = \"color: black\">pycontrails</a>",
          "<a href=\"https://github.com/SciTools/iris\" target=\"_blank\" style = \"color: black\">Iris</a>",
          "<a href=\"https://github.com/nco/pynco\" target=\"_blank\" style = \"color: black\">pynco</a>",
          "<a href=\"https://github.com/bluegreen-labs/ecmwfr\" target=\"_blank\" style = \"color: black\">ecmwfr</a>",
          "<a href=\"https://github.com/climt/climt\" target=\"_blank\" style = \"color: black\">CliMT</a>",
          "<a href=\"https://github.com/ropenspain/climaemet\" target=\"_blank\" style = \"color: black\">climaemet</a>",
          "<a href=\"https://github.com/climada-project/climada_python\" target=\"_blank\" style = \"color: black\">CLIMADA</a>",
          "<a href=\"https://github.com/bluegreen-labs/daymetr\" target=\"_blank\" style = \"color: black\">daymetr</a>",
          "<a href=\"https://github.com/tropycal/tropycal\" target=\"_blank\" style = \"color: black\">Tropycal</a>",
          "<a href=\"https://github.com/servir-mekong/hydra-floods\" target=\"_blank\" style = \"color: black\">HYDRAFloods</a>",
          "<a href=\"https://github.com/pangeo-data/climpred\" target=\"_blank\" style = \"color: black\">climpred</a>",
          "<a href=\"https://github.com/ncas-cms/cf-python\" target=\"_blank\" style = \"color: black\">cf-python</a>",
          "<a href=\"https://github.com/zilum/sacpy\" target=\"_blank\" style = \"color: black\">Sacpy</a>",
          "<a href=\"https://github.com/ropensci/prism\" target=\"_blank\" style = \"color: black\">PRISM</a>",
          "<a href=\"https://github.com/LinkedEarth/Pyleoclim_util\" target=\"_blank\" style = \"color: black\">Paleoclimate</a>",
          "<a href=\"https://github.com/climlab/climlab\" target=\"_blank\" style = \"color: black\">climlab</a>",
          "<a href=\"https://github.com/boshek/rsoi\" target=\"_blank\" style = \"color: black\">rsoi</a>"
         ],
         "yaxis": "y"
        },
        {
         "alignmentgroup": "True",
         "customdata": [
          [
           "<a href=\"https://github.com/pvlib/pvlib-python\" target=\"_blank\" style = \"color: black\">pvlib-python</a>",
           247853,
           "https://github.com/pvlib/pvlib-python",
           "A set of documented functions for simulating the performance of<br>photovoltaic energy systems.",
           "Renewable Energy",
           "Photovoltaics and Solar Energy",
           "Python"
          ],
          [
           "<a href=\"https://github.com/python-windrose/windrose\" target=\"_blank\" style = \"color: black\">windrose</a>",
           8222,
           "https://github.com/python-windrose/windrose",
           "A graphic tool used by meteorologists to give a succinct view of<br>how wind speed and direction are typically distributed at a<br>particular location.",
           "Renewable Energy",
           "Wind Energy",
           "Python"
          ],
          [
           "<a href=\"https://github.com/CalebBell/thermo\" target=\"_blank\" style = \"color: black\">thermo</a>",
           5713,
           "https://github.com/CalebBell/thermo",
           "Thermodynamics, phase equilibrium, transport properties and<br>chemical database component of Chemical Engineering Design<br>Library.",
           "Renewable Energy",
           "Geothermal Energy",
           "Python"
          ],
          [
           "<a href=\"https://github.com/squishykid/solax\" target=\"_blank\" style = \"color: black\">solax</a>",
           3128,
           "https://github.com/squishykid/solax",
           "Read energy usage data from the real-time API on Solax solar<br>inverters.",
           "Renewable Energy",
           "Photovoltaics and Solar Energy",
           "Python"
          ],
          [
           "<a href=\"https://github.com/wind-python/windpowerlib\" target=\"_blank\" style = \"color: black\">windpowerlib</a>",
           2321,
           "https://github.com/wind-python/windpowerlib",
           "A library to model the output of wind turbines and farms.",
           "Renewable Energy",
           "Wind Energy",
           "Python"
          ],
          [
           "<a href=\"https://github.com/NREL/floris\" target=\"_blank\" style = \"color: black\">floris</a>",
           2274,
           "https://github.com/NREL/floris",
           "A controls-oriented engineering wake modeling framework for<br>evaluating the impact of wind farm controls on AEP and wind farm<br>design.",
           "Renewable Energy",
           "Wind Energy",
           "Python"
          ],
          [
           "<a href=\"https://gitlab.windenergy.dtu.dk/TOPFARM/PyWake\" target=\"_blank\" style = \"color: black\">PyWake</a>",
           2028,
           "https://gitlab.windenergy.dtu.dk/TOPFARM/PyWake",
           "An AEP calculator for wind farms implemented in Python including<br>a collection of wake models.",
           "Renewable Energy",
           "Wind Energy",
           null
          ],
          [
           "<a href=\"https://github.com/qpv-research-group/solcore5\" target=\"_blank\" style = \"color: black\">solcore5</a>",
           2016,
           "https://github.com/qpv-research-group/solcore5",
           "A multi-scale, Python-based library for the modeling of solar<br>cells and semiconductor materials.",
           "Renewable Energy",
           "Photovoltaics and Solar Energy",
           "Python"
          ],
          [
           "<a href=\"https://gitlab.opengeosys.org/ogs/ogs\" target=\"_blank\" style = \"color: black\">OpenGeoSys 6</a>",
           2013,
           "https://gitlab.opengeosys.org/ogs/ogs",
           "A scientific open source project for the development of<br>numerical methods for the simulation of thermo-hydro-mechanical-<br>chemical processes in porous and fractured media.",
           "Renewable Energy",
           "Geothermal Energy",
           null
          ],
          [
           "<a href=\"https://github.com/MassimoCimmino/pygfunction\" target=\"_blank\" style = \"color: black\">pygfunction</a>",
           1802,
           "https://github.com/MassimoCimmino/pygfunction",
           "An open source toolbox for the evaluation of thermal response<br>factors of geothermal borehole fields.",
           "Renewable Energy",
           "Geothermal Energy",
           "Python"
          ],
          [
           "<a href=\"https://github.com/sunpower/pvfactors\" target=\"_blank\" style = \"color: black\">pvfactors</a>",
           1791,
           "https://github.com/sunpower/pvfactors",
           "Open source view-factor model for diffuse shading and bifacial<br>PV modeling.",
           "Renewable Energy",
           "Photovoltaics and Solar Energy",
           "Python"
          ],
          [
           "<a href=\"https://github.com/oscarperpinan/solar\" target=\"_blank\" style = \"color: black\">solaR</a>",
           1677,
           "https://github.com/oscarperpinan/solar",
           "Allows for reproducible research both for photovoltaics systems<br>performance and solar radiation.",
           "Renewable Energy",
           "Photovoltaics and Solar Energy",
           "R"
          ],
          [
           "<a href=\"https://github.com/nrel/rdtools\" target=\"_blank\" style = \"color: black\">rdtools</a>",
           1362,
           "https://github.com/nrel/rdtools",
           "An open source library to support reproducible technical<br>analysis of time series data from photovoltaic energy systems.",
           "Renewable Energy",
           "Photovoltaics and Solar Energy",
           "Python"
          ],
          [
           "<a href=\"https://github.com/pvlib/pvanalytics\" target=\"_blank\" style = \"color: black\">pvanalytics</a>",
           1171,
           "https://github.com/pvlib/pvanalytics",
           "Quality control, filtering, feature labeling, and other tools<br>for working with data from photovoltaic energy systems.",
           "Renewable Energy",
           "Photovoltaics and Solar Energy",
           "Python"
          ],
          [
           "<a href=\"https://github.com/SunPower/PVMismatch\" target=\"_blank\" style = \"color: black\">PVMismatch</a>",
           848,
           "https://github.com/SunPower/PVMismatch",
           "An explicit Python PV system IV & PV curve trace calculator<br>which can also calculate mismatch.",
           "Renewable Energy",
           "Photovoltaics and Solar Energy",
           "Jupyter Notebook"
          ],
          [
           "<a href=\"https://github.com/biosteamdevelopmentgroup/biosteam\" target=\"_blank\" style = \"color: black\">biosteam</a>",
           823,
           "https://github.com/biosteamdevelopmentgroup/biosteam",
           "The Biorefinery Simulation and Techno-Economic Analysis Modules.",
           "Renewable Energy",
           "Bioenergy",
           "Python"
          ],
          [
           "<a href=\"https://github.com/capytaine/capytaine\" target=\"_blank\" style = \"color: black\">Capytaine</a>",
           718,
           "https://github.com/capytaine/capytaine",
           "A Python package for the simulation of the interaction between<br>water waves and floating bodies in frequency domain.",
           "Renewable Energy",
           "Hydro Energy",
           "Python"
          ],
          [
           "<a href=\"https://github.com/aqreed/solarpy\" target=\"_blank\" style = \"color: black\">solarpy</a>",
           694,
           "https://github.com/aqreed/solarpy",
           "This package aims to provide a reliable solar radiation model,<br>mainly based on the work of Duffie, J.A., and Beckman, W. A.,<br>1974, \"Solar energy thermal processes\".",
           "Renewable Energy",
           "Photovoltaics and Solar Energy",
           "Python"
          ],
          [
           "<a href=\"https://github.com/SolarArbiter/solarforecastarbiter-core\" target=\"_blank\" style = \"color: black\">Solar Forecast Arbiter</a>",
           591,
           "https://github.com/SolarArbiter/solarforecastarbiter-core",
           "Core data gathering, validation, processing, and reporting<br>package for the Solar Forecast Arbiter.",
           "Renewable Energy",
           "Photovoltaics and Solar Energy",
           "Python"
          ],
          [
           "<a href=\"https://github.com/renewables-ninja/gsee\" target=\"_blank\" style = \"color: black\">gsee</a>",
           525,
           "https://github.com/renewables-ninja/gsee",
           "Global Solar Energy Estimator.",
           "Renewable Energy",
           "Photovoltaics and Solar Energy",
           "Python"
          ],
          [
           "<a href=\"https://github.com/wisdem/wisdem\" target=\"_blank\" style = \"color: black\">WISDEM</a>",
           454,
           "https://github.com/wisdem/wisdem",
           "Wind Plant Integrated System Design and Engineering Model.",
           "Renewable Energy",
           "Wind Energy",
           "Python"
          ]
         ],
         "hoverinfo": "name+z",
         "hovertemplate": "<extra></extra>Downloads: <b>%{customdata[1]}</b><br>Git URL: <b>%{customdata[2]}</b><br>Description: <b>%{customdata[3]}</b><br>Category: <b>%{customdata[4]}</b><br>Sub Category: <b>%{customdata[5]}</b><br>Language: <b>%{customdata[6]}</b>",
         "legendgroup": "Renewable Energy",
         "marker": {
          "color": "rgb(93, 105, 177)",
          "pattern": {
           "shape": ""
          }
         },
         "name": "Renewable Energy",
         "offsetgroup": "Renewable Energy",
         "orientation": "h",
         "showlegend": true,
         "textposition": "auto",
         "type": "bar",
         "x": [
          247853,
          8222,
          5713,
          3128,
          2321,
          2274,
          2028,
          2016,
          2013,
          1802,
          1791,
          1677,
          1362,
          1171,
          848,
          823,
          718,
          694,
          591,
          525,
          454
         ],
         "xaxis": "x",
         "y": [
          "<a href=\"https://github.com/pvlib/pvlib-python\" target=\"_blank\" style = \"color: black\">pvlib-python</a>",
          "<a href=\"https://github.com/python-windrose/windrose\" target=\"_blank\" style = \"color: black\">windrose</a>",
          "<a href=\"https://github.com/CalebBell/thermo\" target=\"_blank\" style = \"color: black\">thermo</a>",
          "<a href=\"https://github.com/squishykid/solax\" target=\"_blank\" style = \"color: black\">solax</a>",
          "<a href=\"https://github.com/wind-python/windpowerlib\" target=\"_blank\" style = \"color: black\">windpowerlib</a>",
          "<a href=\"https://github.com/NREL/floris\" target=\"_blank\" style = \"color: black\">floris</a>",
          "<a href=\"https://gitlab.windenergy.dtu.dk/TOPFARM/PyWake\" target=\"_blank\" style = \"color: black\">PyWake</a>",
          "<a href=\"https://github.com/qpv-research-group/solcore5\" target=\"_blank\" style = \"color: black\">solcore5</a>",
          "<a href=\"https://gitlab.opengeosys.org/ogs/ogs\" target=\"_blank\" style = \"color: black\">OpenGeoSys 6</a>",
          "<a href=\"https://github.com/MassimoCimmino/pygfunction\" target=\"_blank\" style = \"color: black\">pygfunction</a>",
          "<a href=\"https://github.com/sunpower/pvfactors\" target=\"_blank\" style = \"color: black\">pvfactors</a>",
          "<a href=\"https://github.com/oscarperpinan/solar\" target=\"_blank\" style = \"color: black\">solaR</a>",
          "<a href=\"https://github.com/nrel/rdtools\" target=\"_blank\" style = \"color: black\">rdtools</a>",
          "<a href=\"https://github.com/pvlib/pvanalytics\" target=\"_blank\" style = \"color: black\">pvanalytics</a>",
          "<a href=\"https://github.com/SunPower/PVMismatch\" target=\"_blank\" style = \"color: black\">PVMismatch</a>",
          "<a href=\"https://github.com/biosteamdevelopmentgroup/biosteam\" target=\"_blank\" style = \"color: black\">biosteam</a>",
          "<a href=\"https://github.com/capytaine/capytaine\" target=\"_blank\" style = \"color: black\">Capytaine</a>",
          "<a href=\"https://github.com/aqreed/solarpy\" target=\"_blank\" style = \"color: black\">solarpy</a>",
          "<a href=\"https://github.com/SolarArbiter/solarforecastarbiter-core\" target=\"_blank\" style = \"color: black\">Solar Forecast Arbiter</a>",
          "<a href=\"https://github.com/renewables-ninja/gsee\" target=\"_blank\" style = \"color: black\">gsee</a>",
          "<a href=\"https://github.com/wisdem/wisdem\" target=\"_blank\" style = \"color: black\">WISDEM</a>"
         ],
         "yaxis": "y"
        },
        {
         "alignmentgroup": "True",
         "customdata": [
          [
           "<a href=\"https://github.com/openeemeter/eeweather\" target=\"_blank\" style = \"color: black\">eeweather</a>",
           116274,
           "https://github.com/openeemeter/eeweather",
           "Fetch NCDC ISD, TMY3, or CZ2010 weather data that corresponds to<br>ZIP Code Tabulation Areas or Latitude/Longitude.",
           "Atmosphere",
           "Meteorological Observation and Forecast",
           "HTML"
          ],
          [
           "<a href=\"https://github.com/Unidata/MetPy\" target=\"_blank\" style = \"color: black\">MetPy</a>",
           25551,
           "https://github.com/Unidata/MetPy",
           "A collection of tools in Python for reading, visualizing and<br>performing calculations with weather data.",
           "Atmosphere",
           "Meteorological Observation and Forecast",
           "Python"
          ],
          [
           "<a href=\"https://github.com/earthobservations/wetterdienst\" target=\"_blank\" style = \"color: black\">wetterdienst</a>",
           4753,
           "https://github.com/earthobservations/wetterdienst",
           "Trying to make access to weather data in Python feel like a warm<br>summer breeze.",
           "Atmosphere",
           "Meteorological Observation and Forecast",
           "Python"
          ],
          [
           "<a href=\"https://github.com/eliocamp/metR\" target=\"_blank\" style = \"color: black\">metR</a>",
           4172,
           "https://github.com/eliocamp/metR",
           "Several functions and utilities that make R better for handling<br>meteorological data in the tidy data paradigm.",
           "Atmosphere",
           "Meteorological Observation and Forecast",
           "R"
          ],
          [
           "<a href=\"https://github.com/open-atmos/PySDM\" target=\"_blank\" style = \"color: black\">PySDM</a>",
           2411,
           "https://github.com/open-atmos/PySDM",
           "Pythonic particle-based warm-rain/aqueous-chemistry cloud<br>microphysics package.",
           "Atmosphere",
           "Atmospheric Chemistry and Aerosol",
           "Python"
          ],
          [
           "<a href=\"https://github.com/NCAR/wrf-python\" target=\"_blank\" style = \"color: black\">wrf-python</a>",
           2163,
           "https://github.com/NCAR/wrf-python",
           "A collection of diagnostic and interpolation routines for use<br>with output from the Weather Research and Forecasting Model.",
           "Atmosphere",
           "Meteorological Observation and Forecast",
           "Python"
          ],
          [
           "<a href=\"https://github.com/blaylockbk/Herbie\" target=\"_blank\" style = \"color: black\">Herbie</a>",
           1910,
           "https://github.com/blaylockbk/Herbie",
           "A python package that downloads recent and archived numerical<br>weather prediction model output from different cloud archive<br>sources.",
           "Atmosphere",
           "Meteorological Observation and Forecast",
           "Python"
          ],
          [
           "<a href=\"https://github.com/arm-doe/act\" target=\"_blank\" style = \"color: black\">ACT</a>",
           1485,
           "https://github.com/arm-doe/act",
           "The Atmospheric data Community Toolkit is an open source Python<br>toolkit for working with atmospheric time-series datasets of<br>varying dimensions.",
           "Atmosphere",
           "Atmospheric Composition and Dynamics",
           "Python"
          ],
          [
           "<a href=\"https://github.com/ecmwf/metview-python\" target=\"_blank\" style = \"color: black\">Metview Python bindings</a>",
           1135,
           "https://github.com/ecmwf/metview-python",
           "Python interface to Metview, a meteorological workstation and<br>batch system for accessing, examining, manipulating and<br>visualising meteorological data.",
           "Atmosphere",
           "Meteorological Observation and Forecast",
           "Python"
          ],
          [
           "<a href=\"https://github.com/brry/rdwd\" target=\"_blank\" style = \"color: black\">rdwd</a>",
           664,
           "https://github.com/brry/rdwd",
           "An R package to select, download and read climate data from the<br>German Weather Service.",
           "Atmosphere",
           "Meteorological Observation and Forecast",
           "R"
          ],
          [
           "<a href=\"https://github.com/ai2cm/pace\" target=\"_blank\" style = \"color: black\">Pace</a>",
           579,
           "https://github.com/ai2cm/pace",
           "A implementation of the FV3GFS / SHiELD atmospheric model<br>developed by NOAA/GFDL using the GT4Py domain-specific language<br>in Python.",
           "Atmosphere",
           "Atmospheric Composition and Dynamics",
           "Python"
          ],
          [
           "<a href=\"https://github.com/TUW-GEO/rt1\" target=\"_blank\" style = \"color: black\">RT1</a>",
           460,
           "https://github.com/TUW-GEO/rt1",
           "A first order radiative transfer model for soil- and vegetation<br>related parameter retrievals from radar-data.",
           "Atmosphere",
           "Radiative Transfer",
           "Python"
          ]
         ],
         "hoverinfo": "name+z",
         "hovertemplate": "<extra></extra>Downloads: <b>%{customdata[1]}</b><br>Git URL: <b>%{customdata[2]}</b><br>Description: <b>%{customdata[3]}</b><br>Category: <b>%{customdata[4]}</b><br>Sub Category: <b>%{customdata[5]}</b><br>Language: <b>%{customdata[6]}</b>",
         "legendgroup": "Atmosphere",
         "marker": {
          "color": "rgb(82, 188, 163)",
          "pattern": {
           "shape": ""
          }
         },
         "name": "Atmosphere",
         "offsetgroup": "Atmosphere",
         "orientation": "h",
         "showlegend": true,
         "textposition": "auto",
         "type": "bar",
         "x": [
          116274,
          25551,
          4753,
          4172,
          2411,
          2163,
          1910,
          1485,
          1135,
          664,
          579,
          460
         ],
         "xaxis": "x",
         "y": [
          "<a href=\"https://github.com/openeemeter/eeweather\" target=\"_blank\" style = \"color: black\">eeweather</a>",
          "<a href=\"https://github.com/Unidata/MetPy\" target=\"_blank\" style = \"color: black\">MetPy</a>",
          "<a href=\"https://github.com/earthobservations/wetterdienst\" target=\"_blank\" style = \"color: black\">wetterdienst</a>",
          "<a href=\"https://github.com/eliocamp/metR\" target=\"_blank\" style = \"color: black\">metR</a>",
          "<a href=\"https://github.com/open-atmos/PySDM\" target=\"_blank\" style = \"color: black\">PySDM</a>",
          "<a href=\"https://github.com/NCAR/wrf-python\" target=\"_blank\" style = \"color: black\">wrf-python</a>",
          "<a href=\"https://github.com/blaylockbk/Herbie\" target=\"_blank\" style = \"color: black\">Herbie</a>",
          "<a href=\"https://github.com/arm-doe/act\" target=\"_blank\" style = \"color: black\">ACT</a>",
          "<a href=\"https://github.com/ecmwf/metview-python\" target=\"_blank\" style = \"color: black\">Metview Python bindings</a>",
          "<a href=\"https://github.com/brry/rdwd\" target=\"_blank\" style = \"color: black\">rdwd</a>",
          "<a href=\"https://github.com/ai2cm/pace\" target=\"_blank\" style = \"color: black\">Pace</a>",
          "<a href=\"https://github.com/TUW-GEO/rt1\" target=\"_blank\" style = \"color: black\">RT1</a>"
         ],
         "yaxis": "y"
        },
        {
         "alignmentgroup": "True",
         "customdata": [
          [
           "<a href=\"https://github.com/mobilityhouse/ocpp\" target=\"_blank\" style = \"color: black\">ocpp</a>",
           83024,
           "https://github.com/mobilityhouse/ocpp",
           "Python implementation of the Open Charge Point Protocol.",
           "Consumption",
           "Mobility and Transportation",
           "Python"
          ],
          [
           "<a href=\"https://github.com/thegreenwebfoundation/co2.js\" target=\"_blank\" style = \"color: black\">co2.js</a>",
           35917,
           "https://github.com/thegreenwebfoundation/co2.js",
           "A npm module for accessing the green web API, and estimating the<br>carbon emissions from using digital services.",
           "Consumption",
           "Computation and Communication",
           "JavaScript"
          ],
          [
           "<a href=\"https://github.com/cloud-carbon-footprint/cloud-carbon-footprint\" target=\"_blank\" style = \"color: black\">Cloud Carbon Footprint</a>",
           32798,
           "https://github.com/cloud-carbon-footprint/cloud-carbon-footprint",
           "A tool to estimate energy use (kilowatt-hours) and carbon<br>emissions (metric tons CO2e) from public cloud usage.",
           "Consumption",
           "Computation and Communication",
           "TypeScript"
          ],
          [
           "<a href=\"https://github.com/CenterForTheBuiltEnvironment/pythermalcomfort\" target=\"_blank\" style = \"color: black\">pythermalcomfort</a>",
           6611,
           "https://github.com/CenterForTheBuiltEnvironment/pythermalcomfort",
           "Package to calculate several thermal comfort indices (e.g. PMV,<br>PPD, SET, adaptive) and convert physical variables.",
           "Consumption",
           "Buildings and Heating",
           "Python"
          ],
          [
           "<a href=\"https://github.com/kwstat/agridat\" target=\"_blank\" style = \"color: black\">Agridat</a>",
           2973,
           "https://github.com/kwstat/agridat",
           "An extensive collection of datasets from agricultural<br>experiments.",
           "Consumption",
           "Agriculture and Nutrition",
           "R"
          ],
          [
           "<a href=\"https://github.com/maasglobal/maas-schemas\" target=\"_blank\" style = \"color: black\">MaaS Global</a>",
           2168,
           "https://github.com/maasglobal/maas-schemas",
           "Mobility as a Service API - data model, tests and validation.",
           "Consumption",
           "Mobility and Transportation",
           "TypeScript"
          ],
          [
           "<a href=\"https://github.com/jrester/tesla_powerwall\" target=\"_blank\" style = \"color: black\">tesla_powerwall</a>",
           2115,
           "https://github.com/jrester/tesla_powerwall",
           "Python Tesla Powerwall API for consuming a local endpoint.",
           "Consumption",
           "Mobility and Transportation",
           "Python"
          ],
          [
           "<a href=\"https://github.com/blinktaginc/node-gtfs\" target=\"_blank\" style = \"color: black\">node-gtfs</a>",
           1791,
           "https://github.com/blinktaginc/node-gtfs",
           "Import GTFS transit data into SQLite and query routes, stops,<br>times, fares and more.",
           "Consumption",
           "Mobility and Transportation",
           "JavaScript"
          ],
          [
           "<a href=\"https://github.com/oemof/tespy\" target=\"_blank\" style = \"color: black\">tespy</a>",
           1374,
           "https://github.com/oemof/tespy",
           "Provides a powerful simulation toolkit for thermal engineering<br>plants such as power plants, district heating systems or heat<br>pumps.",
           "Consumption",
           "Buildings and Heating",
           "Python"
          ],
          [
           "<a href=\"https://github.com/NREL/OpenStudio\" target=\"_blank\" style = \"color: black\">OpenStudio</a>",
           1339,
           "https://github.com/NREL/OpenStudio",
           "A cross-platform collection of software tools to support whole<br>building energy modeling using EnergyPlus and advanced daylight<br>analysis using Radiance.",
           "Consumption",
           "Buildings and Heating",
           "C++"
          ],
          [
           "<a href=\"https://github.com/ropensci/stplanr\" target=\"_blank\" style = \"color: black\">stplanr</a>",
           1156,
           "https://github.com/ropensci/stplanr",
           "A package for sustainable transport planning with R.",
           "Consumption",
           "Mobility and Transportation",
           "R"
          ],
          [
           "<a href=\"https://github.com/JRCSTU/co2mpas-ta\" target=\"_blank\" style = \"color: black\">CO2MPAS-TA</a>",
           1013,
           "https://github.com/JRCSTU/co2mpas-ta",
           "CO2MPAS is backward-looking longitudinal-dynamics CO2 and fuel-<br>consumption simulator for light-duty vehicles.",
           "Consumption",
           "Mobility and Transportation",
           "Python"
          ],
          [
           "<a href=\"https://github.com/aquacropos/aquacrop\" target=\"_blank\" style = \"color: black\">AquaCrop</a>",
           884,
           "https://github.com/aquacropos/aquacrop",
           "A free open-source tool for assessing climate and water impacts<br>on agriculture.",
           "Consumption",
           "Agriculture and Nutrition",
           "Python"
          ],
          [
           "<a href=\"https://github.com/hongyuanjia/eplusr\" target=\"_blank\" style = \"color: black\">eplusr</a>",
           813,
           "https://github.com/hongyuanjia/eplusr",
           "Provides a rich toolkit of using whole building energy<br>simulation program EnergyPlus directly in R, which enables<br>programmatic navigation, modification of EnergyPlus, conducts<br>parametric simulations and retrieves outputs.",
           "Consumption",
           "Buildings and Heating",
           "R"
          ],
          [
           "<a href=\"https://github.com/patch-technology/patch-node\" target=\"_blank\" style = \"color: black\">patch-node</a>",
           600,
           "https://github.com/patch-technology/patch-node",
           "The road to global carbon-neutrality will be through<br>programmatic compensation.",
           "Consumption",
           "Computation and Communication",
           "JavaScript"
          ],
          [
           "<a href=\"https://github.com/rwth-ebc/teaser\" target=\"_blank\" style = \"color: black\">TEASER</a>",
           579,
           "https://github.com/rwth-ebc/teaser",
           "Tool for Energy Analysis and Simulation for Efficient Retrofit.",
           "Consumption",
           "Buildings and Heating",
           "Python"
          ],
          [
           "<a href=\"https://github.com/ajwdewit/pcse\" target=\"_blank\" style = \"color: black\">PCSE</a>",
           571,
           "https://github.com/ajwdewit/pcse",
           "A framework developed for implementing crop simulation models<br>developed in Wageningen.",
           "Consumption",
           "Agriculture and Nutrition",
           "Python"
          ],
          [
           "<a href=\"https://gitlab.com/energyincities/besos\" target=\"_blank\" style = \"color: black\">BESOS</a>",
           530,
           "https://gitlab.com/energyincities/besos",
           "A collection of modules for the simulation and optimization of<br>buildings and urban energy systems.",
           "Consumption",
           "Buildings and Heating",
           null
          ],
          [
           "<a href=\"https://github.com/powerapi-ng/pyjoules\" target=\"_blank\" style = \"color: black\">pyJoules</a>",
           503,
           "https://github.com/powerapi-ng/pyjoules",
           "A software toolkit to measure the energy footprint of a host<br>machine along the execution of a piece of Python code.",
           "Consumption",
           "Computation and Communication",
           "Python"
          ],
          [
           "<a href=\"https://github.com/cyclestreets/cyclestreets-r\" target=\"_blank\" style = \"color: black\">cyclestreets</a>",
           480,
           "https://github.com/cyclestreets/cyclestreets-r",
           "The goal of cyclestreets is to provide a simple R interface to<br>the CycleStreets routing service.",
           "Consumption",
           "Mobility and Transportation",
           "R"
          ],
          [
           "<a href=\"https://github.com/ml-energy/zeus\" target=\"_blank\" style = \"color: black\">Zeus</a>",
           477,
           "https://github.com/ml-energy/zeus",
           "A Framework for Deep Learning Energy Measurement and<br>Optimization.",
           "Consumption",
           "Computation and Communication",
           "Python"
          ],
          [
           "<a href=\"https://github.com/responsibleproblemsolving/energy-usage\" target=\"_blank\" style = \"color: black\">energyusage</a>",
           456,
           "https://github.com/responsibleproblemsolving/energy-usage",
           "A Python package that measures the environmental impact of<br>computation.",
           "Consumption",
           "Computation and Communication",
           "Python"
          ],
          [
           "<a href=\"https://github.com/breakend/experiment-impact-tracker\" target=\"_blank\" style = \"color: black\">experiment-impact-tracker</a>",
           445,
           "https://github.com/breakend/experiment-impact-tracker",
           "Meant to be a simple drop-in method to track energy usage,<br>carbon emissions, and compute utilization of your system.",
           "Consumption",
           "Computation and Communication",
           "Python"
          ]
         ],
         "hoverinfo": "name+z",
         "hovertemplate": "<extra></extra>Downloads: <b>%{customdata[1]}</b><br>Git URL: <b>%{customdata[2]}</b><br>Description: <b>%{customdata[3]}</b><br>Category: <b>%{customdata[4]}</b><br>Sub Category: <b>%{customdata[5]}</b><br>Language: <b>%{customdata[6]}</b>",
         "legendgroup": "Consumption",
         "marker": {
          "color": "rgb(153, 201, 69)",
          "pattern": {
           "shape": ""
          }
         },
         "name": "Consumption",
         "offsetgroup": "Consumption",
         "orientation": "h",
         "showlegend": true,
         "textposition": "auto",
         "type": "bar",
         "x": [
          83024,
          35917,
          32798,
          6611,
          2973,
          2168,
          2115,
          1791,
          1374,
          1339,
          1156,
          1013,
          884,
          813,
          600,
          579,
          571,
          530,
          503,
          480,
          477,
          456,
          445
         ],
         "xaxis": "x",
         "y": [
          "<a href=\"https://github.com/mobilityhouse/ocpp\" target=\"_blank\" style = \"color: black\">ocpp</a>",
          "<a href=\"https://github.com/thegreenwebfoundation/co2.js\" target=\"_blank\" style = \"color: black\">co2.js</a>",
          "<a href=\"https://github.com/cloud-carbon-footprint/cloud-carbon-footprint\" target=\"_blank\" style = \"color: black\">Cloud Carbon Footprint</a>",
          "<a href=\"https://github.com/CenterForTheBuiltEnvironment/pythermalcomfort\" target=\"_blank\" style = \"color: black\">pythermalcomfort</a>",
          "<a href=\"https://github.com/kwstat/agridat\" target=\"_blank\" style = \"color: black\">Agridat</a>",
          "<a href=\"https://github.com/maasglobal/maas-schemas\" target=\"_blank\" style = \"color: black\">MaaS Global</a>",
          "<a href=\"https://github.com/jrester/tesla_powerwall\" target=\"_blank\" style = \"color: black\">tesla_powerwall</a>",
          "<a href=\"https://github.com/blinktaginc/node-gtfs\" target=\"_blank\" style = \"color: black\">node-gtfs</a>",
          "<a href=\"https://github.com/oemof/tespy\" target=\"_blank\" style = \"color: black\">tespy</a>",
          "<a href=\"https://github.com/NREL/OpenStudio\" target=\"_blank\" style = \"color: black\">OpenStudio</a>",
          "<a href=\"https://github.com/ropensci/stplanr\" target=\"_blank\" style = \"color: black\">stplanr</a>",
          "<a href=\"https://github.com/JRCSTU/co2mpas-ta\" target=\"_blank\" style = \"color: black\">CO2MPAS-TA</a>",
          "<a href=\"https://github.com/aquacropos/aquacrop\" target=\"_blank\" style = \"color: black\">AquaCrop</a>",
          "<a href=\"https://github.com/hongyuanjia/eplusr\" target=\"_blank\" style = \"color: black\">eplusr</a>",
          "<a href=\"https://github.com/patch-technology/patch-node\" target=\"_blank\" style = \"color: black\">patch-node</a>",
          "<a href=\"https://github.com/rwth-ebc/teaser\" target=\"_blank\" style = \"color: black\">TEASER</a>",
          "<a href=\"https://github.com/ajwdewit/pcse\" target=\"_blank\" style = \"color: black\">PCSE</a>",
          "<a href=\"https://gitlab.com/energyincities/besos\" target=\"_blank\" style = \"color: black\">BESOS</a>",
          "<a href=\"https://github.com/powerapi-ng/pyjoules\" target=\"_blank\" style = \"color: black\">pyJoules</a>",
          "<a href=\"https://github.com/cyclestreets/cyclestreets-r\" target=\"_blank\" style = \"color: black\">cyclestreets</a>",
          "<a href=\"https://github.com/ml-energy/zeus\" target=\"_blank\" style = \"color: black\">Zeus</a>",
          "<a href=\"https://github.com/responsibleproblemsolving/energy-usage\" target=\"_blank\" style = \"color: black\">energyusage</a>",
          "<a href=\"https://github.com/breakend/experiment-impact-tracker\" target=\"_blank\" style = \"color: black\">experiment-impact-tracker</a>"
         ],
         "yaxis": "y"
        },
        {
         "alignmentgroup": "True",
         "customdata": [
          [
           "<a href=\"https://github.com/energywebfoundation/origin\" target=\"_blank\" style = \"color: black\">origin</a>",
           81160,
           "https://github.com/energywebfoundation/origin",
           "A set of toolkits that together provide a system for issuance<br>and management of Energy Attribute Certificates.",
           "Energy Systems",
           "Energy Distribution and Grids",
           "TypeScript"
          ],
          [
           "<a href=\"https://github.com/EnergieID/entsoe-py\" target=\"_blank\" style = \"color: black\">entsoe-py</a>",
           36438,
           "https://github.com/EnergieID/entsoe-py",
           "A Python client for the ENTSO-E API (European Network of<br>Transmission System Operators for Electricity).",
           "Energy Systems",
           "Energy System Data Access",
           "Python"
          ],
          [
           "<a href=\"https://github.com/openeemeter/eemeter\" target=\"_blank\" style = \"color: black\">eemeter</a>",
           14889,
           "https://github.com/openeemeter/eemeter",
           "An open source Python package for implementing and developing<br>standard methods for calculating normalized metered energy<br>consumption and avoided energy use.",
           "Energy Systems",
           "Energy Monitoring and Management",
           "Python"
          ],
          [
           "<a href=\"https://github.com/PyPSA/PyPSA\" target=\"_blank\" style = \"color: black\">PyPSA</a>",
           6921,
           "https://github.com/PyPSA/PyPSA",
           "A free software toolbox for simulating and optimizing modern<br>power systems that include features such as conventional<br>generators with unit commitment, variable wind and solar<br>generation, storage units, coupling to other energy sectors, and<br>mixed alternating and direct current networks.",
           "Energy Systems",
           "Energy Modeling and Optimization",
           "Python"
          ],
          [
           "<a href=\"https://github.com/grid-parity-exchange/Egret\" target=\"_blank\" style = \"color: black\">Egret</a>",
           6127,
           "https://github.com/grid-parity-exchange/Egret",
           "A Python-based package for electrical grid optimization based on<br>the Pyomo optimization modeling language.",
           "Energy Systems",
           "Energy Distribution and Grids",
           "Python"
          ],
          [
           "<a href=\"https://github.com/kmax12/gridstatus\" target=\"_blank\" style = \"color: black\">gridstatus</a>",
           4260,
           "https://github.com/kmax12/gridstatus",
           "Provides standardized API to access energy data from the major<br>Independent System Operators in the United States.",
           "Energy Systems",
           "Energy System Data Access",
           "Python"
          ],
          [
           "<a href=\"https://github.com/robinhenry/gym-anm\" target=\"_blank\" style = \"color: black\">Gym-ANM</a>",
           3337,
           "https://github.com/robinhenry/gym-anm",
           "Design Reinforcement Learning environments that model Active<br>Network Management tasks in electricity distribution networks.",
           "Energy Systems",
           "Energy Distribution and Grids",
           "Python"
          ],
          [
           "<a href=\"https://github.com/OSUKED/ElexonDataPortal\" target=\"_blank\" style = \"color: black\">ElexonDataPortal</a>",
           3270,
           "https://github.com/OSUKED/ElexonDataPortal",
           "Wrapper for the Balancing Mechanism Reporting Service API to<br>balance power flowing on to and off from the electricity<br>Transmission System in Great Britain.",
           "Energy Systems",
           "Energy System Data Access",
           "Jupyter Notebook"
          ],
          [
           "<a href=\"https://github.com/sanpen/gridcal\" target=\"_blank\" style = \"color: black\">GridCal</a>",
           2660,
           "https://github.com/sanpen/gridcal",
           "Aims to be a complete platform for power systems research and<br>simulation.",
           "Energy Systems",
           "Energy Distribution and Grids",
           "Python"
          ],
          [
           "<a href=\"https://github.com/pypsa/atlite\" target=\"_blank\" style = \"color: black\">atlite</a>",
           2632,
           "https://github.com/pypsa/atlite",
           "Light-weight version of Aarhus RE Atlas for converting weather<br>data to power systems data.",
           "Energy Systems",
           "Energy System Data Access",
           "Python"
          ],
          [
           "<a href=\"https://github.com/rte-france/grid2op\" target=\"_blank\" style = \"color: black\">Grid2Op</a>",
           1844,
           "https://github.com/rte-france/grid2op",
           "A testbed platform to model sequential decision making in power<br>systems.",
           "Energy Systems",
           "Energy Distribution and Grids",
           "Python"
          ],
          [
           "<a href=\"https://github.com/mzy2240/ESA\" target=\"_blank\" style = \"color: black\">Easy SimAuto</a>",
           1700,
           "https://github.com/mzy2240/ESA",
           "An easy-to-use Power System Analysis Automation Platform atop<br>PowerWorld's Simulator Automation Server.",
           "Energy Systems",
           "Energy Distribution and Grids",
           "Python"
          ],
          [
           "<a href=\"https://github.com/intelligent-environments-lab/CityLearn\" target=\"_blank\" style = \"color: black\">CityLearn</a>",
           1612,
           "https://github.com/intelligent-environments-lab/CityLearn",
           "Official reinforcement learning environment for demand response<br>and load shaping.",
           "Energy Systems",
           "Energy Modeling and Optimization",
           "Python"
          ],
          [
           "<a href=\"https://github.com/fzj-iek3-vsa/tsam\" target=\"_blank\" style = \"color: black\">tsam</a>",
           1525,
           "https://github.com/fzj-iek3-vsa/tsam",
           "A Python package which uses different machine learning<br>algorithms for the aggregation of time series.",
           "Energy Systems",
           "Energy Modeling and Optimization",
           "Python"
          ],
          [
           "<a href=\"https://github.com/OpenSTEF/openstef\" target=\"_blank\" style = \"color: black\">OpenSTEF</a>",
           901,
           "https://github.com/OpenSTEF/openstef",
           "A Python package which is used to make short term forecasts for<br>the energy sector.",
           "Energy Systems",
           "Energy Modeling and Optimization",
           "HTML"
          ],
          [
           "<a href=\"https://github.com/oemof/demandlib\" target=\"_blank\" style = \"color: black\">demandlib</a>",
           890,
           "https://github.com/oemof/demandlib",
           "With the demandlib you can create power and heat profiles for<br>various sectors by scaling them to your desired demand.",
           "Energy Systems",
           "Energy Modeling and Optimization",
           "Python"
          ],
          [
           "<a href=\"https://github.com/GMLC-TDC/HELICS\" target=\"_blank\" style = \"color: black\">HELICS</a>",
           881,
           "https://github.com/GMLC-TDC/HELICS",
           "Today the core uses are in the energy domain, where there is<br>extensive and growing support for a wide-range of electric power<br>system, natural gas, communications and control-schemes,<br>transportation, buildings, and related domain tools.",
           "Energy Systems",
           "Energy Modeling and Optimization",
           "C++"
          ],
          [
           "<a href=\"https://github.com/rte-antares-rpackage/antaresread\" target=\"_blank\" style = \"color: black\">antaresRead</a>",
           836,
           "https://github.com/rte-antares-rpackage/antaresread",
           "Import, manipulate and explore the results of an Antares<br>simulation.",
           "Energy Systems",
           "Energy Modeling and Optimization",
           "R"
          ],
          [
           "<a href=\"https://github.com/NREL/reV\" target=\"_blank\" style = \"color: black\">reV</a>",
           560,
           "https://github.com/NREL/reV",
           "Enables the efficient and scalable computation of renewable<br>energy generation, levelized cost of energy, application of<br>geospatial exclusion layers, and generation of renewable energy<br>supply curves.",
           "Energy Systems",
           "Energy Modeling and Optimization",
           "Python"
          ],
          [
           "<a href=\"https://github.com/rte-antares-rpackage/antaresviz\" target=\"_blank\" style = \"color: black\">antaresViz</a>",
           513,
           "https://github.com/rte-antares-rpackage/antaresviz",
           "Visualize the results of Antares, an Open Source power system<br>simulator meant to be used by anybody placing value in<br>quantifying the adequacy or the economic performance of<br>interconnected energy systems, at short or remote time horizons.",
           "Energy Systems",
           "Energy Modeling and Optimization",
           "R"
          ],
          [
           "<a href=\"https://github.com/epri-dev/OpenDER\" target=\"_blank\" style = \"color: black\">OpenDER</a>",
           494,
           "https://github.com/epri-dev/OpenDER",
           "Aims to accurately represent steady-state and dynamic behaviors<br>of inverter-based distributed energy resources.",
           "Energy Systems",
           "Energy Modeling and Optimization",
           "Python"
          ],
          [
           "<a href=\"https://github.com/rl-institut/multi-vector-simulator\" target=\"_blank\" style = \"color: black\">MVS</a>",
           455,
           "https://github.com/rl-institut/multi-vector-simulator",
           "The multi-vector simulator allows the evaluation of local<br>sector-coupled energy systems that include the energy carriers<br>electricity, heat and/or gas.",
           "Energy Systems",
           "Energy Modeling and Optimization",
           "Python"
          ],
          [
           "<a href=\"https://gitlab.com/energyincities/python-ehub\" target=\"_blank\" style = \"color: black\">pyehub</a>",
           455,
           "https://gitlab.com/energyincities/python-ehub",
           "A Python-based, modular and nestable implementation of the<br>Energy Hub model (balancing demand and supply, system capacity<br>sizing and network flows using Mixed-Integer Linear<br>Programming).",
           "Energy Systems",
           "Energy Distribution and Grids",
           null
          ],
          [
           "<a href=\"https://github.com/openenergyplatform/open-mastr\" target=\"_blank\" style = \"color: black\">open-MaStR</a>",
           442,
           "https://github.com/openenergyplatform/open-mastr",
           "Download and process German energy data from BNetzA database<br>Marktstammdatenregister.",
           "Energy Systems",
           "Energy System Data Access",
           "Python"
          ],
          [
           "<a href=\"https://github.com/UNSW-CEEM/nempy\" target=\"_blank\" style = \"color: black\">nempy</a>",
           433,
           "https://github.com/UNSW-CEEM/nempy",
           "Aims to enhance the Australian electricity industries modeling<br>and analytical capabilities.",
           "Energy Systems",
           "Energy Modeling and Optimization",
           "Python"
          ]
         ],
         "hoverinfo": "name+z",
         "hovertemplate": "<extra></extra>Downloads: <b>%{customdata[1]}</b><br>Git URL: <b>%{customdata[2]}</b><br>Description: <b>%{customdata[3]}</b><br>Category: <b>%{customdata[4]}</b><br>Sub Category: <b>%{customdata[5]}</b><br>Language: <b>%{customdata[6]}</b>",
         "legendgroup": "Energy Systems",
         "marker": {
          "color": "rgb(204, 97, 176)",
          "pattern": {
           "shape": ""
          }
         },
         "name": "Energy Systems",
         "offsetgroup": "Energy Systems",
         "orientation": "h",
         "showlegend": true,
         "textposition": "auto",
         "type": "bar",
         "x": [
          81160,
          36438,
          14889,
          6921,
          6127,
          4260,
          3337,
          3270,
          2660,
          2632,
          1844,
          1700,
          1612,
          1525,
          901,
          890,
          881,
          836,
          560,
          513,
          494,
          455,
          455,
          442,
          433
         ],
         "xaxis": "x",
         "y": [
          "<a href=\"https://github.com/energywebfoundation/origin\" target=\"_blank\" style = \"color: black\">origin</a>",
          "<a href=\"https://github.com/EnergieID/entsoe-py\" target=\"_blank\" style = \"color: black\">entsoe-py</a>",
          "<a href=\"https://github.com/openeemeter/eemeter\" target=\"_blank\" style = \"color: black\">eemeter</a>",
          "<a href=\"https://github.com/PyPSA/PyPSA\" target=\"_blank\" style = \"color: black\">PyPSA</a>",
          "<a href=\"https://github.com/grid-parity-exchange/Egret\" target=\"_blank\" style = \"color: black\">Egret</a>",
          "<a href=\"https://github.com/kmax12/gridstatus\" target=\"_blank\" style = \"color: black\">gridstatus</a>",
          "<a href=\"https://github.com/robinhenry/gym-anm\" target=\"_blank\" style = \"color: black\">Gym-ANM</a>",
          "<a href=\"https://github.com/OSUKED/ElexonDataPortal\" target=\"_blank\" style = \"color: black\">ElexonDataPortal</a>",
          "<a href=\"https://github.com/sanpen/gridcal\" target=\"_blank\" style = \"color: black\">GridCal</a>",
          "<a href=\"https://github.com/pypsa/atlite\" target=\"_blank\" style = \"color: black\">atlite</a>",
          "<a href=\"https://github.com/rte-france/grid2op\" target=\"_blank\" style = \"color: black\">Grid2Op</a>",
          "<a href=\"https://github.com/mzy2240/ESA\" target=\"_blank\" style = \"color: black\">Easy SimAuto</a>",
          "<a href=\"https://github.com/intelligent-environments-lab/CityLearn\" target=\"_blank\" style = \"color: black\">CityLearn</a>",
          "<a href=\"https://github.com/fzj-iek3-vsa/tsam\" target=\"_blank\" style = \"color: black\">tsam</a>",
          "<a href=\"https://github.com/OpenSTEF/openstef\" target=\"_blank\" style = \"color: black\">OpenSTEF</a>",
          "<a href=\"https://github.com/oemof/demandlib\" target=\"_blank\" style = \"color: black\">demandlib</a>",
          "<a href=\"https://github.com/GMLC-TDC/HELICS\" target=\"_blank\" style = \"color: black\">HELICS</a>",
          "<a href=\"https://github.com/rte-antares-rpackage/antaresread\" target=\"_blank\" style = \"color: black\">antaresRead</a>",
          "<a href=\"https://github.com/NREL/reV\" target=\"_blank\" style = \"color: black\">reV</a>",
          "<a href=\"https://github.com/rte-antares-rpackage/antaresviz\" target=\"_blank\" style = \"color: black\">antaresViz</a>",
          "<a href=\"https://github.com/epri-dev/OpenDER\" target=\"_blank\" style = \"color: black\">OpenDER</a>",
          "<a href=\"https://github.com/rl-institut/multi-vector-simulator\" target=\"_blank\" style = \"color: black\">MVS</a>",
          "<a href=\"https://gitlab.com/energyincities/python-ehub\" target=\"_blank\" style = \"color: black\">pyehub</a>",
          "<a href=\"https://github.com/openenergyplatform/open-mastr\" target=\"_blank\" style = \"color: black\">open-MaStR</a>",
          "<a href=\"https://github.com/UNSW-CEEM/nempy\" target=\"_blank\" style = \"color: black\">nempy</a>"
         ],
         "yaxis": "y"
        },
        {
         "alignmentgroup": "True",
         "customdata": [
          [
           "<a href=\"https://github.com/onaci/leaflet-velocity\" target=\"_blank\" style = \"color: black\">leaflet-velocity</a>",
           44058,
           "https://github.com/onaci/leaflet-velocity",
           "Create a canvas visualization layer for direction and intensity<br>of arbitrary velocities (e.g. wind, ocean current).",
           "Hydrosphere",
           "Waves and Currents",
           "JavaScript"
          ],
          [
           "<a href=\"https://github.com/dankelley/oce\" target=\"_blank\" style = \"color: black\">oce</a>",
           3569,
           "https://github.com/dankelley/oce",
           "An R package for oceanographic processing.",
           "Hydrosphere",
           "Ocean and Hydrology Data Access",
           "R"
          ],
          [
           "<a href=\"https://github.com/gclunies/noaa_coops\" target=\"_blank\" style = \"color: black\">noaa_coops</a>",
           2457,
           "https://github.com/gclunies/noaa_coops",
           "A Python wrapper for the NOAA CO-OPS Tides & Currents Data and<br>Metadata APIs.",
           "Hydrosphere",
           "Ocean and Hydrology Data Access",
           "Python"
          ],
          [
           "<a href=\"https://github.com/kvos/CoastSat\" target=\"_blank\" style = \"color: black\">CoastSat</a>",
           1218,
           "https://github.com/kvos/CoastSat",
           "Enables users to obtain time-series of shoreline position at any<br>coastline worldwide from 30+ years of publicly available<br>satellite imagery.",
           "Hydrosphere",
           "Coastal and Reefs",
           "Jupyter Notebook"
          ],
          [
           "<a href=\"https://github.com/parflow/parflow\" target=\"_blank\" style = \"color: black\">ParFlow</a>",
           790,
           "https://github.com/parflow/parflow",
           "An open-source, modular, parallel watershed flow model.",
           "Hydrosphere",
           "Freshwater and Hydrology",
           "C"
          ],
          [
           "<a href=\"https://github.com/ropensci/tidyhydat\" target=\"_blank\" style = \"color: black\">tidyhydat</a>",
           655,
           "https://github.com/ropensci/tidyhydat",
           "An R package to import Water Survey of Canada hydrometric data<br>and make it tidy.",
           "Hydrosphere",
           "Ocean and Hydrology Data Access",
           "R"
          ],
          [
           "<a href=\"https://github.com/robwschlegel/heatwaveR\" target=\"_blank\" style = \"color: black\">heatwaveR</a>",
           646,
           "https://github.com/robwschlegel/heatwaveR",
           "Contains the original functions from the RmarineHeatWaves<br>package that calculate and display marine heatwaves according to<br>the definition of Hobday et al. (2016).",
           "Hydrosphere",
           "Ocean Carbon and Temperature",
           "R"
          ],
          [
           "<a href=\"https://github.com/floschl/pysamosa\" target=\"_blank\" style = \"color: black\">PySAMOSA</a>",
           505,
           "https://github.com/floschl/pysamosa",
           "A Python-based software for processing open ocean and coastal<br>waveforms from SAR satellite altimetry to measure sea surface<br>heights, wave heights, and wind speed for the oceans and inland<br>waters.",
           "Hydrosphere",
           "Coastal and Reefs",
           "Jupyter Notebook"
          ],
          [
           "<a href=\"https://github.com/wavespectra/wavespectra\" target=\"_blank\" style = \"color: black\">wavespectra</a>",
           455,
           "https://github.com/wavespectra/wavespectra",
           "An open source project for working with ocean wave spectral<br>data.",
           "Hydrosphere",
           "Waves and Currents",
           "Python"
          ]
         ],
         "hoverinfo": "name+z",
         "hovertemplate": "<extra></extra>Downloads: <b>%{customdata[1]}</b><br>Git URL: <b>%{customdata[2]}</b><br>Description: <b>%{customdata[3]}</b><br>Category: <b>%{customdata[4]}</b><br>Sub Category: <b>%{customdata[5]}</b><br>Language: <b>%{customdata[6]}</b>",
         "legendgroup": "Hydrosphere",
         "marker": {
          "color": "rgb(36, 121, 108)",
          "pattern": {
           "shape": ""
          }
         },
         "name": "Hydrosphere",
         "offsetgroup": "Hydrosphere",
         "orientation": "h",
         "showlegend": true,
         "textposition": "auto",
         "type": "bar",
         "x": [
          44058,
          3569,
          2457,
          1218,
          790,
          655,
          646,
          505,
          455
         ],
         "xaxis": "x",
         "y": [
          "<a href=\"https://github.com/onaci/leaflet-velocity\" target=\"_blank\" style = \"color: black\">leaflet-velocity</a>",
          "<a href=\"https://github.com/dankelley/oce\" target=\"_blank\" style = \"color: black\">oce</a>",
          "<a href=\"https://github.com/gclunies/noaa_coops\" target=\"_blank\" style = \"color: black\">noaa_coops</a>",
          "<a href=\"https://github.com/kvos/CoastSat\" target=\"_blank\" style = \"color: black\">CoastSat</a>",
          "<a href=\"https://github.com/parflow/parflow\" target=\"_blank\" style = \"color: black\">ParFlow</a>",
          "<a href=\"https://github.com/ropensci/tidyhydat\" target=\"_blank\" style = \"color: black\">tidyhydat</a>",
          "<a href=\"https://github.com/robwschlegel/heatwaveR\" target=\"_blank\" style = \"color: black\">heatwaveR</a>",
          "<a href=\"https://github.com/floschl/pysamosa\" target=\"_blank\" style = \"color: black\">PySAMOSA</a>",
          "<a href=\"https://github.com/wavespectra/wavespectra\" target=\"_blank\" style = \"color: black\">wavespectra</a>"
         ],
         "yaxis": "y"
        },
        {
         "alignmentgroup": "True",
         "customdata": [
          [
           "<a href=\"https://github.com/sentinel-hub/sentinelhub-py\" target=\"_blank\" style = \"color: black\">sentinelhub-py</a>",
           24785,
           "https://github.com/sentinel-hub/sentinelhub-py",
           "Download and process satellite imagery in Python using Sentinel<br>Hub services.",
           "Sustainable Development",
           "Environmental Satellites",
           "Python"
          ],
          [
           "<a href=\"https://github.com/sentinelsat/sentinelsat\" target=\"_blank\" style = \"color: black\">sentinelsat</a>",
           17702,
           "https://github.com/sentinelsat/sentinelsat",
           "Makes searching, downloading and retrieving the metadata of<br>Sentinel satellite images from the Copernicus Open Access Hub<br>easy.",
           "Sustainable Development",
           "Environmental Satellites",
           "Python"
          ],
          [
           "<a href=\"https://github.com/kapadia/usgs\" target=\"_blank\" style = \"color: black\">USGS</a>",
           9333,
           "https://github.com/kapadia/usgs",
           "A python module for interfacing with the US Geological Survey's<br>API.",
           "Sustainable Development",
           "Data Catalogs and Interfaces",
           "Python"
          ],
          [
           "<a href=\"https://github.com/pytroll/satpy\" target=\"_blank\" style = \"color: black\">satpy</a>",
           8314,
           "https://github.com/pytroll/satpy",
           "A python library for reading and manipulating meteorological<br>remote sensing data and writing it to various image and data<br>file formats.",
           "Sustainable Development",
           "Environmental Satellites",
           "Python"
          ],
          [
           "<a href=\"https://github.com/michaeldavie/env_canada\" target=\"_blank\" style = \"color: black\">env_canada</a>",
           5157,
           "https://github.com/michaeldavie/env_canada",
           "Provides access to various data sources published by Environment<br>and Climate Change Canada.",
           "Sustainable Development",
           "Data Catalogs and Interfaces",
           "Python"
          ],
          [
           "<a href=\"https://github.com/Unidata/siphon\" target=\"_blank\" style = \"color: black\">Siphon</a>",
           4919,
           "https://github.com/Unidata/siphon",
           "A collection of Python utilities for retrieving atmospheric and<br>oceanic data from remote sources, focusing on being able to<br>retrieve data from Unidata data technologies.",
           "Sustainable Development",
           "Data Catalogs and Interfaces",
           "Python"
          ],
          [
           "<a href=\"https://github.com/r-earthengine/ee_extra\" target=\"_blank\" style = \"color: black\">eeExtra</a>",
           3972,
           "https://github.com/r-earthengine/ee_extra",
           "A ninja python package that unifies the Google Earth Engine<br>ecosystem.",
           "Sustainable Development",
           "Data Catalogs and Interfaces",
           "Python"
          ],
          [
           "<a href=\"https://github.com/ropengov/eurostat\" target=\"_blank\" style = \"color: black\">eurostat R package</a>",
           3183,
           "https://github.com/ropengov/eurostat",
           "R tools to access open data from Eurostat, the statistical<br>office of the European Union.",
           "Sustainable Development",
           "Data Catalogs and Interfaces",
           "CSS"
          ],
          [
           "<a href=\"https://github.com/Open-EO/openeo-python-client\" target=\"_blank\" style = \"color: black\">openEO</a>",
           2920,
           "https://github.com/Open-EO/openeo-python-client",
           "Provides intuitive programming libraries to process a wide<br>variety of earth observation datasets.",
           "Sustainable Development",
           "Environmental Satellites",
           "Python"
          ],
          [
           "<a href=\"https://github.com/rOpenGov/giscoR\" target=\"_blank\" style = \"color: black\">giscoR</a>",
           2442,
           "https://github.com/rOpenGov/giscoR",
           "An R API package that helps to retrieve data from Eurostat<br>Geographic Information System of the Commission.",
           "Sustainable Development",
           "Data Catalogs and Interfaces",
           "R"
          ],
          [
           "<a href=\"https://github.com/radiantearth/radiant-mlhub\" target=\"_blank\" style = \"color: black\">Radiant MLHub Python Client</a>",
           1927,
           "https://github.com/radiantearth/radiant-mlhub",
           "Open community commons for geospatial training data, machine<br>learning models, and standards to encourage collaboration and<br>share information.",
           "Sustainable Development",
           "Data Catalogs and Interfaces",
           "Python"
          ],
          [
           "<a href=\"https://github.com/nsidc/earthaccess\" target=\"_blank\" style = \"color: black\">earthaccess</a>",
           1792,
           "https://github.com/nsidc/earthaccess",
           "Search, download or stream NASA Earth science data with just a<br>few lines of code.",
           "Sustainable Development",
           "Data Catalogs and Interfaces",
           "Python"
          ],
          [
           "<a href=\"https://github.com/digitalearthafrica/deafrica-sandbox-notebooks\" target=\"_blank\" style = \"color: black\">Digital Earth Africa Notebooks</a>",
           1362,
           "https://github.com/digitalearthafrica/deafrica-sandbox-notebooks",
           "Using Earth observations to address social, environmental and<br>economic changes on the Africa continent.",
           "Sustainable Development",
           "Data Catalogs and Interfaces",
           "Jupyter Notebook"
          ],
          [
           "<a href=\"https://github.com/NEONScience/NEON-utilities\" target=\"_blank\" style = \"color: black\">NEON</a>",
           1318,
           "https://github.com/NEONScience/NEON-utilities",
           "The National Ecological Observatory Network provides open data<br>to understand changing ecosystems.",
           "Sustainable Development",
           "Data Catalogs and Interfaces",
           "R"
          ],
          [
           "<a href=\"https://github.com/yannforget/landsatxplore\" target=\"_blank\" style = \"color: black\">landsatxplore</a>",
           948,
           "https://github.com/yannforget/landsatxplore",
           "Provides an interface to the EarthExplorer portal to search and<br>download Landsat Collections scenes through a command-line<br>interface or a Python API.",
           "Sustainable Development",
           "Environmental Satellites",
           "Python"
          ],
          [
           "<a href=\"https://github.com/ropensci/MODIStsp\" target=\"_blank\" style = \"color: black\">MODIStsp</a>",
           911,
           "https://github.com/ropensci/MODIStsp",
           "An R package for automatic download and preprocessing of MODIS<br>Land Products Time-Series.",
           "Sustainable Development",
           "Environmental Satellites",
           "R"
          ],
          [
           "<a href=\"https://github.com/bluegreen-labs/MODISTools\" target=\"_blank\" style = \"color: black\">MODISTools</a>",
           871,
           "https://github.com/bluegreen-labs/MODISTools",
           "Interface to the MODIS Land Products Subsets Web Services.",
           "Sustainable Development",
           "Environmental Satellites",
           "R"
          ],
          [
           "<a href=\"https://github.com/dataoneorg/d1_python\" target=\"_blank\" style = \"color: black\">DataONE</a>",
           837,
           "https://github.com/dataoneorg/d1_python",
           "A community driven project providing access to data across<br>multiple member repositories, supporting enhanced search and<br>discovery of Earth and environmental data.",
           "Sustainable Development",
           "Data Catalogs and Interfaces",
           "Python"
          ],
          [
           "<a href=\"https://github.com/piersyork/owidR\" target=\"_blank\" style = \"color: black\">owidR</a>",
           556,
           "https://github.com/piersyork/owidR",
           "An R Package for Interacting with Data from Our World in Data.",
           "Sustainable Development",
           "Data Catalogs and Interfaces",
           "R"
          ],
          [
           "<a href=\"https://github.com/os-climate/physrisk\" target=\"_blank\" style = \"color: black\">physrisk</a>",
           478,
           "https://github.com/os-climate/physrisk",
           "Primarily designed to run 'bottom-up' calculations that model<br>the impact of climate hazards on large numbers of individual<br>assets including natural and operations.",
           "Sustainable Development",
           "Sustainable Investment",
           "Python"
          ],
          [
           "<a href=\"https://github.com/pik-primap/climate_categories\" target=\"_blank\" style = \"color: black\">Climate categories</a>",
           460,
           "https://github.com/pik-primap/climate_categories",
           "Commonly used codes, categories, terminologies, and<br>nomenclatures used in climate policy analysis in a nice Python<br>package.",
           "Sustainable Development",
           "Taxonomy and Ontology",
           "Python"
          ],
          [
           "<a href=\"https://github.com/dataoneorg/rdataone\" target=\"_blank\" style = \"color: black\">rdataone</a>",
           451,
           "https://github.com/dataoneorg/rdataone",
           "R package for reading and writing data at DataONE data<br>repositories.",
           "Sustainable Development",
           "Data Catalogs and Interfaces",
           "R"
          ],
          [
           "<a href=\"https://github.com/lucadelu/pymodis\" target=\"_blank\" style = \"color: black\">pyModis</a>",
           429,
           "https://github.com/lucadelu/pymodis",
           "A Python library to download and process MODIS data from NASA<br>server.",
           "Sustainable Development",
           "Environmental Satellites",
           "Python"
          ]
         ],
         "hoverinfo": "name+z",
         "hovertemplate": "<extra></extra>Downloads: <b>%{customdata[1]}</b><br>Git URL: <b>%{customdata[2]}</b><br>Description: <b>%{customdata[3]}</b><br>Category: <b>%{customdata[4]}</b><br>Sub Category: <b>%{customdata[5]}</b><br>Language: <b>%{customdata[6]}</b>",
         "legendgroup": "Sustainable Development",
         "marker": {
          "color": "rgb(218, 165, 27)",
          "pattern": {
           "shape": ""
          }
         },
         "name": "Sustainable Development",
         "offsetgroup": "Sustainable Development",
         "orientation": "h",
         "showlegend": true,
         "textposition": "auto",
         "type": "bar",
         "x": [
          24785,
          17702,
          9333,
          8314,
          5157,
          4919,
          3972,
          3183,
          2920,
          2442,
          1927,
          1792,
          1362,
          1318,
          948,
          911,
          871,
          837,
          556,
          478,
          460,
          451,
          429
         ],
         "xaxis": "x",
         "y": [
          "<a href=\"https://github.com/sentinel-hub/sentinelhub-py\" target=\"_blank\" style = \"color: black\">sentinelhub-py</a>",
          "<a href=\"https://github.com/sentinelsat/sentinelsat\" target=\"_blank\" style = \"color: black\">sentinelsat</a>",
          "<a href=\"https://github.com/kapadia/usgs\" target=\"_blank\" style = \"color: black\">USGS</a>",
          "<a href=\"https://github.com/pytroll/satpy\" target=\"_blank\" style = \"color: black\">satpy</a>",
          "<a href=\"https://github.com/michaeldavie/env_canada\" target=\"_blank\" style = \"color: black\">env_canada</a>",
          "<a href=\"https://github.com/Unidata/siphon\" target=\"_blank\" style = \"color: black\">Siphon</a>",
          "<a href=\"https://github.com/r-earthengine/ee_extra\" target=\"_blank\" style = \"color: black\">eeExtra</a>",
          "<a href=\"https://github.com/ropengov/eurostat\" target=\"_blank\" style = \"color: black\">eurostat R package</a>",
          "<a href=\"https://github.com/Open-EO/openeo-python-client\" target=\"_blank\" style = \"color: black\">openEO</a>",
          "<a href=\"https://github.com/rOpenGov/giscoR\" target=\"_blank\" style = \"color: black\">giscoR</a>",
          "<a href=\"https://github.com/radiantearth/radiant-mlhub\" target=\"_blank\" style = \"color: black\">Radiant MLHub Python Client</a>",
          "<a href=\"https://github.com/nsidc/earthaccess\" target=\"_blank\" style = \"color: black\">earthaccess</a>",
          "<a href=\"https://github.com/digitalearthafrica/deafrica-sandbox-notebooks\" target=\"_blank\" style = \"color: black\">Digital Earth Africa Notebooks</a>",
          "<a href=\"https://github.com/NEONScience/NEON-utilities\" target=\"_blank\" style = \"color: black\">NEON</a>",
          "<a href=\"https://github.com/yannforget/landsatxplore\" target=\"_blank\" style = \"color: black\">landsatxplore</a>",
          "<a href=\"https://github.com/ropensci/MODIStsp\" target=\"_blank\" style = \"color: black\">MODIStsp</a>",
          "<a href=\"https://github.com/bluegreen-labs/MODISTools\" target=\"_blank\" style = \"color: black\">MODISTools</a>",
          "<a href=\"https://github.com/dataoneorg/d1_python\" target=\"_blank\" style = \"color: black\">DataONE</a>",
          "<a href=\"https://github.com/piersyork/owidR\" target=\"_blank\" style = \"color: black\">owidR</a>",
          "<a href=\"https://github.com/os-climate/physrisk\" target=\"_blank\" style = \"color: black\">physrisk</a>",
          "<a href=\"https://github.com/pik-primap/climate_categories\" target=\"_blank\" style = \"color: black\">Climate categories</a>",
          "<a href=\"https://github.com/dataoneorg/rdataone\" target=\"_blank\" style = \"color: black\">rdataone</a>",
          "<a href=\"https://github.com/lucadelu/pymodis\" target=\"_blank\" style = \"color: black\">pyModis</a>"
         ],
         "yaxis": "y"
        },
        {
         "alignmentgroup": "True",
         "customdata": [
          [
           "<a href=\"https://github.com/scikit-maad/scikit-maad\" target=\"_blank\" style = \"color: black\">scikit-maad</a>",
           17188,
           "https://github.com/scikit-maad/scikit-maad",
           "Enables quantitative analysis of environmental audio, offering<br>tools for processing, segmenting, and computing acoustic<br>features.",
           "Biosphere",
           "Biodiversity and Species Distribution",
           "Python"
          ],
          [
           "<a href=\"https://github.com/fishR-Core-Team/FSA\" target=\"_blank\" style = \"color: black\">Fisheries Stock Assessment</a>",
           13745,
           "https://github.com/fishR-Core-Team/FSA",
           "Provides R functions to conduct typical introductory fisheries<br>analyses.",
           "Biosphere",
           "Marine Life and Fishery",
           "R"
          ],
          [
           "<a href=\"https://github.com/r-lidar/lidR\" target=\"_blank\" style = \"color: black\">lidR</a>",
           3737,
           "https://github.com/r-lidar/lidR",
           "An R package for airborne LiDAR data manipulation and<br>visualization for forestry application.",
           "Biosphere",
           "Forest Observation and Management",
           "R"
          ],
          [
           "<a href=\"https://github.com/weecology/DeepForest\" target=\"_blank\" style = \"color: black\">DeepForest</a>",
           2304,
           "https://github.com/weecology/DeepForest",
           "Python Package for Tree Crown Detection in Airborne RGB imagery.",
           "Biosphere",
           "Forest Observation and Management",
           "Python"
          ],
          [
           "<a href=\"https://github.com/jamiemkass/ENMeval\" target=\"_blank\" style = \"color: black\">ENMeval</a>",
           1932,
           "https://github.com/jamiemkass/ENMeval",
           "R package for automated runs and evaluations of ecological niche<br>models.",
           "Biosphere",
           "Biodiversity and Species Distribution",
           "R"
          ],
          [
           "<a href=\"https://github.com/jeffreyevans/spatialeco\" target=\"_blank\" style = \"color: black\">spatialEco</a>",
           1759,
           "https://github.com/jeffreyevans/spatialeco",
           "R package for spatial analysis and modelling of ecological<br>systems.",
           "Biosphere",
           "Biodiversity and Species Distribution",
           "R"
          ],
          [
           "<a href=\"https://github.com/pyinat/pyinaturalist\" target=\"_blank\" style = \"color: black\">pyinaturalist</a>",
           1425,
           "https://github.com/pyinat/pyinaturalist",
           "Python client for iNaturalist, a community science platform that<br>helps people get involved in the natural world by observing and<br>identifying the living things around them.",
           "Biosphere",
           "Biodiversity and Species Distribution",
           "Python"
          ],
          [
           "<a href=\"https://github.com/fishr-core-team/fsadata\" target=\"_blank\" style = \"color: black\">FSAdata</a>",
           1391,
           "https://github.com/fishr-core-team/fsadata",
           "Contains data for use in common fisheries stock analyses. See<br>installation instructions further below.",
           "Biosphere",
           "Marine Life and Fishery",
           "R"
          ],
          [
           "<a href=\"https://github.com/ropensci/rfishbase\" target=\"_blank\" style = \"color: black\">rfishbase</a>",
           974,
           "https://github.com/ropensci/rfishbase",
           "An R interface to the fishbase.org database.",
           "Biosphere",
           "Marine Life and Fishery",
           "R"
          ],
          [
           "<a href=\"https://github.com/prioritizr/prioritizr\" target=\"_blank\" style = \"color: black\">prioritizr</a>",
           899,
           "https://github.com/prioritizr/prioritizr",
           "Uses mixed integer linear programming techniques to provide a<br>flexible interface for building and solving conservation<br>planning problems.",
           "Biosphere",
           "Conservation and Restoration",
           "R"
          ],
          [
           "<a href=\"https://github.com/CornellLabofOrnithology/auk\" target=\"_blank\" style = \"color: black\">auk</a>",
           891,
           "https://github.com/CornellLabofOrnithology/auk",
           "eBird Data Extraction and Processing in R.",
           "Biosphere",
           "Terrestrial Animals",
           "R"
          ],
          [
           "<a href=\"https://github.com/sollano/forestmangr\" target=\"_blank\" style = \"color: black\">forestmangr</a>",
           876,
           "https://github.com/sollano/forestmangr",
           "An R package for forest mensuration and management.",
           "Biosphere",
           "Forest Observation and Management",
           "R"
          ],
          [
           "<a href=\"https://github.com/BelgianBiodiversityPlatform/python-dwca-reader\" target=\"_blank\" style = \"color: black\">python-dwca-reader</a>",
           836,
           "https://github.com/BelgianBiodiversityPlatform/python-dwca-reader",
           "A Python package to read and parse Darwin Core Archive (DwC-A)<br>files, as produced by the GBIF website, the IPT and many other<br>biodiversity informatics tools.",
           "Biosphere",
           "Biodiversity and Species Distribution",
           "Python"
          ],
          [
           "<a href=\"https://github.com/umr-amap/BIOMASS\" target=\"_blank\" style = \"color: black\">BIOMASS</a>",
           804,
           "https://github.com/umr-amap/BIOMASS",
           "An R package for estimating aboveground biomass and its<br>uncertainty in tropical forests.",
           "Biosphere",
           "Biomass",
           "HTML"
          ],
          [
           "<a href=\"https://github.com/ebird/ebirdst\" target=\"_blank\" style = \"color: black\">ebirdst</a>",
           736,
           "https://github.com/ebird/ebirdst",
           "Access and Analyze eBird Status and Trends Data.",
           "Biosphere",
           "Terrestrial Animals",
           "R"
          ],
          [
           "<a href=\"https://github.com/prioritizr/wdpar\" target=\"_blank\" style = \"color: black\">wdpar</a>",
           566,
           "https://github.com/prioritizr/wdpar",
           "R Interface to the World Database on Protected Areas.",
           "Biosphere",
           "Conservation and Restoration",
           "R"
          ],
          [
           "<a href=\"https://github.com/OSOceanAcoustics/echopype\" target=\"_blank\" style = \"color: black\">Echopype</a>",
           539,
           "https://github.com/OSOceanAcoustics/echopype",
           "A package built to enable interoperability and scalability in<br>ocean sonar data processing.",
           "Biosphere",
           "Marine Life and Fishery",
           "Python"
          ],
          [
           "<a href=\"https://github.com/emf-creaf/medfate\" target=\"_blank\" style = \"color: black\">medfate</a>",
           525,
           "https://github.com/emf-creaf/medfate",
           "Functions to simulate Mediterranean forest functioning and<br>dynamics using cohort-based description of vegetation.",
           "Biosphere",
           "Forest Observation and Management",
           "C++"
          ],
          [
           "<a href=\"https://github.com/ices-tools-prod/icesTAF\" target=\"_blank\" style = \"color: black\">icesTAF</a>",
           516,
           "https://github.com/ices-tools-prod/icesTAF",
           "Functions to support the International Council for the<br>Exploration of the Sea Transparent Assessment Framework.",
           "Biosphere",
           "Marine Life and Fishery",
           "R"
          ],
          [
           "<a href=\"https://github.com/andrew-plowright/ForestTools\" target=\"_blank\" style = \"color: black\">ForestTools</a>",
           477,
           "https://github.com/andrew-plowright/ForestTools",
           "Detect and segment individual tree from remotely sensed data.",
           "Biosphere",
           "Forest Observation and Management",
           "R"
          ],
          [
           "<a href=\"https://github.com/achubaty/grainscape\" target=\"_blank\" style = \"color: black\">grainscape</a>",
           466,
           "https://github.com/achubaty/grainscape",
           "Efficient Modelling of Landscape Connectivity, Habitat, and<br>Protected Area Networks.",
           "Biosphere",
           "Conservation and Restoration",
           "TeX"
          ],
          [
           "<a href=\"https://github.com/r4ss/r4ss\" target=\"_blank\" style = \"color: black\">r4ss</a>",
           463,
           "https://github.com/r4ss/r4ss",
           "A fisheries stock assessment model written by Rick Methot.",
           "Biosphere",
           "Marine Life and Fishery",
           "R"
          ],
          [
           "<a href=\"https://github.com/adokter/bioRad\" target=\"_blank\" style = \"color: black\">bioRad</a>",
           426,
           "https://github.com/adokter/bioRad",
           "R package for analysis and visualisation of biological signals<br>in weather radar data.",
           "Biosphere",
           "Terrestrial Animals",
           "R"
          ]
         ],
         "hoverinfo": "name+z",
         "hovertemplate": "<extra></extra>Downloads: <b>%{customdata[1]}</b><br>Git URL: <b>%{customdata[2]}</b><br>Description: <b>%{customdata[3]}</b><br>Category: <b>%{customdata[4]}</b><br>Sub Category: <b>%{customdata[5]}</b><br>Language: <b>%{customdata[6]}</b>",
         "legendgroup": "Biosphere",
         "marker": {
          "color": "rgb(47, 138, 196)",
          "pattern": {
           "shape": ""
          }
         },
         "name": "Biosphere",
         "offsetgroup": "Biosphere",
         "orientation": "h",
         "showlegend": true,
         "textposition": "auto",
         "type": "bar",
         "x": [
          17188,
          13745,
          3737,
          2304,
          1932,
          1759,
          1425,
          1391,
          974,
          899,
          891,
          876,
          836,
          804,
          736,
          566,
          539,
          525,
          516,
          477,
          466,
          463,
          426
         ],
         "xaxis": "x",
         "y": [
          "<a href=\"https://github.com/scikit-maad/scikit-maad\" target=\"_blank\" style = \"color: black\">scikit-maad</a>",
          "<a href=\"https://github.com/fishR-Core-Team/FSA\" target=\"_blank\" style = \"color: black\">Fisheries Stock Assessment</a>",
          "<a href=\"https://github.com/r-lidar/lidR\" target=\"_blank\" style = \"color: black\">lidR</a>",
          "<a href=\"https://github.com/weecology/DeepForest\" target=\"_blank\" style = \"color: black\">DeepForest</a>",
          "<a href=\"https://github.com/jamiemkass/ENMeval\" target=\"_blank\" style = \"color: black\">ENMeval</a>",
          "<a href=\"https://github.com/jeffreyevans/spatialeco\" target=\"_blank\" style = \"color: black\">spatialEco</a>",
          "<a href=\"https://github.com/pyinat/pyinaturalist\" target=\"_blank\" style = \"color: black\">pyinaturalist</a>",
          "<a href=\"https://github.com/fishr-core-team/fsadata\" target=\"_blank\" style = \"color: black\">FSAdata</a>",
          "<a href=\"https://github.com/ropensci/rfishbase\" target=\"_blank\" style = \"color: black\">rfishbase</a>",
          "<a href=\"https://github.com/prioritizr/prioritizr\" target=\"_blank\" style = \"color: black\">prioritizr</a>",
          "<a href=\"https://github.com/CornellLabofOrnithology/auk\" target=\"_blank\" style = \"color: black\">auk</a>",
          "<a href=\"https://github.com/sollano/forestmangr\" target=\"_blank\" style = \"color: black\">forestmangr</a>",
          "<a href=\"https://github.com/BelgianBiodiversityPlatform/python-dwca-reader\" target=\"_blank\" style = \"color: black\">python-dwca-reader</a>",
          "<a href=\"https://github.com/umr-amap/BIOMASS\" target=\"_blank\" style = \"color: black\">BIOMASS</a>",
          "<a href=\"https://github.com/ebird/ebirdst\" target=\"_blank\" style = \"color: black\">ebirdst</a>",
          "<a href=\"https://github.com/prioritizr/wdpar\" target=\"_blank\" style = \"color: black\">wdpar</a>",
          "<a href=\"https://github.com/OSOceanAcoustics/echopype\" target=\"_blank\" style = \"color: black\">Echopype</a>",
          "<a href=\"https://github.com/emf-creaf/medfate\" target=\"_blank\" style = \"color: black\">medfate</a>",
          "<a href=\"https://github.com/ices-tools-prod/icesTAF\" target=\"_blank\" style = \"color: black\">icesTAF</a>",
          "<a href=\"https://github.com/andrew-plowright/ForestTools\" target=\"_blank\" style = \"color: black\">ForestTools</a>",
          "<a href=\"https://github.com/achubaty/grainscape\" target=\"_blank\" style = \"color: black\">grainscape</a>",
          "<a href=\"https://github.com/r4ss/r4ss\" target=\"_blank\" style = \"color: black\">r4ss</a>",
          "<a href=\"https://github.com/adokter/bioRad\" target=\"_blank\" style = \"color: black\">bioRad</a>"
         ],
         "yaxis": "y"
        },
        {
         "alignmentgroup": "True",
         "customdata": [
          [
           "<a href=\"https://github.com/pybamm-team/pybamm\" target=\"_blank\" style = \"color: black\">PyBaMM</a>",
           9485,
           "https://github.com/pybamm-team/pybamm",
           "Fast and flexible physics-based battery models in Python.",
           "Energy Storage",
           "Battery",
           "Python"
          ],
          [
           "<a href=\"https://github.com/FZJ-IEK3-VSA/bslib\" target=\"_blank\" style = \"color: black\">bslib</a>",
           1514,
           "https://github.com/FZJ-IEK3-VSA/bslib",
           "Database with battery parameters based on PerMod as well as<br>functions in order to simulate battery storages.",
           "Energy Storage",
           "Battery",
           "Python"
          ],
          [
           "<a href=\"https://github.com/tri-amdd/beep\" target=\"_blank\" style = \"color: black\">beep</a>",
           1067,
           "https://github.com/tri-amdd/beep",
           "A set of tools designed to support Battery Evaluation and Early<br>Prediction of cycle life corresponding to the research of the<br>d3batt program and the Toyota Research Institute.",
           "Energy Storage",
           "Battery",
           "Python"
          ]
         ],
         "hoverinfo": "name+z",
         "hovertemplate": "<extra></extra>Downloads: <b>%{customdata[1]}</b><br>Git URL: <b>%{customdata[2]}</b><br>Description: <b>%{customdata[3]}</b><br>Category: <b>%{customdata[4]}</b><br>Sub Category: <b>%{customdata[5]}</b><br>Language: <b>%{customdata[6]}</b>",
         "legendgroup": "Energy Storage",
         "marker": {
          "color": "rgb(118, 78, 159)",
          "pattern": {
           "shape": ""
          }
         },
         "name": "Energy Storage",
         "offsetgroup": "Energy Storage",
         "orientation": "h",
         "showlegend": true,
         "textposition": "auto",
         "type": "bar",
         "x": [
          9485,
          1514,
          1067
         ],
         "xaxis": "x",
         "y": [
          "<a href=\"https://github.com/pybamm-team/pybamm\" target=\"_blank\" style = \"color: black\">PyBaMM</a>",
          "<a href=\"https://github.com/FZJ-IEK3-VSA/bslib\" target=\"_blank\" style = \"color: black\">bslib</a>",
          "<a href=\"https://github.com/tri-amdd/beep\" target=\"_blank\" style = \"color: black\">beep</a>"
         ],
         "yaxis": "y"
        },
        {
         "alignmentgroup": "True",
         "customdata": [
          [
           "<a href=\"https://github.com/davidcarslaw/openair\" target=\"_blank\" style = \"color: black\">openair</a>",
           6268,
           "https://github.com/davidcarslaw/openair",
           "An R package developed for the purpose of analyzing air quality<br>data — or more generally atmospheric composition data.",
           "Natural Resources",
           "Air Quality",
           "R"
          ],
          [
           "<a href=\"https://github.com/modflowpy/flopy\" target=\"_blank\" style = \"color: black\">flopy</a>",
           4692,
           "https://github.com/modflowpy/flopy",
           "A Python package to create, run, and post-process MODFLOW-based<br>models.",
           "Natural Resources",
           "Water Supply",
           "Visual Basic 6.0"
          ],
          [
           "<a href=\"https://github.com/Deltares/Ribasim\" target=\"_blank\" style = \"color: black\">Ribasim</a>",
           4289,
           "https://github.com/Deltares/Ribasim",
           "A water resources model, designed to be the replacement of the<br>regional surface water modules Mozart and SIMRES in the<br>Netherlands Hydrological Instrument.",
           "Natural Resources",
           "Water Supply",
           "Python"
          ],
          [
           "<a href=\"https://github.com/usepa/wntr\" target=\"_blank\" style = \"color: black\">Water Network Tool for Resilience</a>",
           3985,
           "https://github.com/usepa/wntr",
           "A Python package designed to simulate and analyze resilience of<br>water distribution networks.",
           "Natural Resources",
           "Water Supply",
           "Python"
          ],
          [
           "<a href=\"https://github.com/ncss-tech/aqp\" target=\"_blank\" style = \"color: black\">AQP</a>",
           2351,
           "https://github.com/ncss-tech/aqp",
           "Algorithms for Quantitative Pedology is a collection of code,<br>ideas, documentation, and examples wrapped-up into several R<br>packages.",
           "Natural Resources",
           "Soil and Land",
           "R"
          ],
          [
           "<a href=\"https://github.com/r-spatialecology/landscapemetrics\" target=\"_blank\" style = \"color: black\">landscapemetrics</a>",
           2125,
           "https://github.com/r-spatialecology/landscapemetrics",
           "Landscape Metrics for Categorical Map Patterns in R.",
           "Natural Resources",
           "Soil and Land",
           "R"
          ],
          [
           "<a href=\"https://github.com/sbegueria/SPEI\" target=\"_blank\" style = \"color: black\">SPEI</a>",
           1886,
           "https://github.com/sbegueria/SPEI",
           "Computing the Standardized Precipitation-Evapotranspiration<br>Index and other reference evapotranspiration.",
           "Natural Resources",
           "Water Supply",
           "R"
          ],
          [
           "<a href=\"https://github.com/ncss-tech/soilDB\" target=\"_blank\" style = \"color: black\">soilDB</a>",
           1435,
           "https://github.com/ncss-tech/soilDB",
           "Simplified Access to NCSS Soil Databases.",
           "Natural Resources",
           "Soil and Land",
           "R"
          ],
          [
           "<a href=\"https://github.com/pywr/pywr\" target=\"_blank\" style = \"color: black\">Pywr</a>",
           1287,
           "https://github.com/pywr/pywr",
           "Simulates customisable water allocation and operation rules<br>throughout complex multi-purpose managed water systems at each<br>user-defined time-step.",
           "Natural Resources",
           "Water Supply",
           "Python"
          ],
          [
           "<a href=\"https://github.com/pySTEPS/pysteps\" target=\"_blank\" style = \"color: black\">pySTEPS</a>",
           1204,
           "https://github.com/pySTEPS/pysteps",
           "An open-source and community-driven Python library for<br>probabilistic precipitation nowcasting, i.e. short-term ensemble<br>prediction systems.",
           "Natural Resources",
           "Water Supply",
           "Python"
          ],
          [
           "<a href=\"https://github.com/e-sensing/sits\" target=\"_blank\" style = \"color: black\">SITS</a>",
           716,
           "https://github.com/e-sensing/sits",
           "Enables users to apply machine learning techniques for<br>classifying image time series obtained from earth observation<br>data cubes.",
           "Natural Resources",
           "Soil and Land",
           "R"
          ],
          [
           "<a href=\"https://github.com/DOI-USGS/nhdplusTools\" target=\"_blank\" style = \"color: black\">nhdplusTools</a>",
           704,
           "https://github.com/DOI-USGS/nhdplusTools",
           "This package is a growing set of tools for manipulation of<br>hydrographic data using the NHDPlus data model.",
           "Natural Resources",
           "Water Supply",
           "R"
          ],
          [
           "<a href=\"https://github.com/martibosch/pylandstats\" target=\"_blank\" style = \"color: black\">PyLandStats</a>",
           632,
           "https://github.com/martibosch/pylandstats",
           "An open-source Pythonic library to compute landscape metrics.",
           "Natural Resources",
           "Soil and Land",
           "Python"
          ],
          [
           "<a href=\"https://github.com/davidcarslaw/openairmaps\" target=\"_blank\" style = \"color: black\">openairmaps</a>",
           607,
           "https://github.com/davidcarslaw/openairmaps",
           "Combine the robust analytical methods found in openair with the<br>highly capable leaflet package.",
           "Natural Resources",
           "Air Quality",
           "R"
          ],
          [
           "<a href=\"https://github.com/emf-creaf/meteoland\" target=\"_blank\" style = \"color: black\">meteoland</a>",
           603,
           "https://github.com/emf-creaf/meteoland",
           "Functions to estimate weather variables at any position of a<br>landscape.",
           "Natural Resources",
           "Soil and Land",
           "R"
          ],
          [
           "<a href=\"https://github.com/pschmidtwalter/lwfbrook90r\" target=\"_blank\" style = \"color: black\">LWFBrook90R</a>",
           579,
           "https://github.com/pschmidtwalter/lwfbrook90r",
           "Simulates daily transpiration, interception, soil and snow<br>evaporation, streamflow and soil water fluxes through a soil<br>profile covered with vegetation.",
           "Natural Resources",
           "Soil and Land",
           "R"
          ],
          [
           "<a href=\"https://github.com/ncss-tech/sharpshootR\" target=\"_blank\" style = \"color: black\">sharpshootR</a>",
           566,
           "https://github.com/ncss-tech/sharpshootR",
           "Miscellaneous soil data management, summary, visualization, and<br>conversion utilities to support soil survey.",
           "Natural Resources",
           "Soil and Land",
           "R"
          ],
          [
           "<a href=\"https://github.com/uw-saswe/rat\" target=\"_blank\" style = \"color: black\">RAT</a>",
           538,
           "https://github.com/uw-saswe/rat",
           "Uses satellite remote sensing data to monitor water surface area<br>and water level changes in artificial reservoirs.",
           "Natural Resources",
           "Water Supply",
           "Python"
          ],
          [
           "<a href=\"https://github.com/USEPA/RAQSAPI\" target=\"_blank\" style = \"color: black\">RAQSAPI</a>",
           431,
           "https://github.com/USEPA/RAQSAPI",
           "Retrieve data from the United States Environmental Protection<br>Agency's Air Quality Systems.",
           "Natural Resources",
           "Air Quality",
           "R"
          ]
         ],
         "hoverinfo": "name+z",
         "hovertemplate": "<extra></extra>Downloads: <b>%{customdata[1]}</b><br>Git URL: <b>%{customdata[2]}</b><br>Description: <b>%{customdata[3]}</b><br>Category: <b>%{customdata[4]}</b><br>Sub Category: <b>%{customdata[5]}</b><br>Language: <b>%{customdata[6]}</b>",
         "legendgroup": "Natural Resources",
         "marker": {
          "color": "rgb(237, 100, 90)",
          "pattern": {
           "shape": ""
          }
         },
         "name": "Natural Resources",
         "offsetgroup": "Natural Resources",
         "orientation": "h",
         "showlegend": true,
         "textposition": "auto",
         "type": "bar",
         "x": [
          6268,
          4692,
          4289,
          3985,
          2351,
          2125,
          1886,
          1435,
          1287,
          1204,
          716,
          704,
          632,
          607,
          603,
          579,
          566,
          538,
          431
         ],
         "xaxis": "x",
         "y": [
          "<a href=\"https://github.com/davidcarslaw/openair\" target=\"_blank\" style = \"color: black\">openair</a>",
          "<a href=\"https://github.com/modflowpy/flopy\" target=\"_blank\" style = \"color: black\">flopy</a>",
          "<a href=\"https://github.com/Deltares/Ribasim\" target=\"_blank\" style = \"color: black\">Ribasim</a>",
          "<a href=\"https://github.com/usepa/wntr\" target=\"_blank\" style = \"color: black\">Water Network Tool for Resilience</a>",
          "<a href=\"https://github.com/ncss-tech/aqp\" target=\"_blank\" style = \"color: black\">AQP</a>",
          "<a href=\"https://github.com/r-spatialecology/landscapemetrics\" target=\"_blank\" style = \"color: black\">landscapemetrics</a>",
          "<a href=\"https://github.com/sbegueria/SPEI\" target=\"_blank\" style = \"color: black\">SPEI</a>",
          "<a href=\"https://github.com/ncss-tech/soilDB\" target=\"_blank\" style = \"color: black\">soilDB</a>",
          "<a href=\"https://github.com/pywr/pywr\" target=\"_blank\" style = \"color: black\">Pywr</a>",
          "<a href=\"https://github.com/pySTEPS/pysteps\" target=\"_blank\" style = \"color: black\">pySTEPS</a>",
          "<a href=\"https://github.com/e-sensing/sits\" target=\"_blank\" style = \"color: black\">SITS</a>",
          "<a href=\"https://github.com/DOI-USGS/nhdplusTools\" target=\"_blank\" style = \"color: black\">nhdplusTools</a>",
          "<a href=\"https://github.com/martibosch/pylandstats\" target=\"_blank\" style = \"color: black\">PyLandStats</a>",
          "<a href=\"https://github.com/davidcarslaw/openairmaps\" target=\"_blank\" style = \"color: black\">openairmaps</a>",
          "<a href=\"https://github.com/emf-creaf/meteoland\" target=\"_blank\" style = \"color: black\">meteoland</a>",
          "<a href=\"https://github.com/pschmidtwalter/lwfbrook90r\" target=\"_blank\" style = \"color: black\">LWFBrook90R</a>",
          "<a href=\"https://github.com/ncss-tech/sharpshootR\" target=\"_blank\" style = \"color: black\">sharpshootR</a>",
          "<a href=\"https://github.com/uw-saswe/rat\" target=\"_blank\" style = \"color: black\">RAT</a>",
          "<a href=\"https://github.com/USEPA/RAQSAPI\" target=\"_blank\" style = \"color: black\">RAQSAPI</a>"
         ],
         "yaxis": "y"
        },
        {
         "alignmentgroup": "True",
         "customdata": [
          [
           "<a href=\"https://github.com/brightway-lca/brightway2\" target=\"_blank\" style = \"color: black\">brightway2</a>",
           1932,
           "https://github.com/brightway-lca/brightway2",
           "An open source framework for life cycle assessment.",
           "Industrial Ecology",
           "Life Cycle Assessment",
           "Jupyter Notebook"
          ],
          [
           "<a href=\"https://github.com/IndEcol/pymrio\" target=\"_blank\" style = \"color: black\">pymrio</a>",
           1850,
           "https://github.com/IndEcol/pymrio",
           "Multi-Regional Input-Output Analysis in Python.",
           "Industrial Ecology",
           "Life Cycle Assessment",
           "Python"
          ],
          [
           "<a href=\"https://github.com/polca/premise\" target=\"_blank\" style = \"color: black\">premise</a>",
           660,
           "https://github.com/polca/premise",
           "Coupling Integrated Assessment Models output with Life Cycle<br>Assessment.",
           "Industrial Ecology",
           "Life Cycle Assessment",
           "Jupyter Notebook"
          ],
          [
           "<a href=\"https://github.com/oie-mines-paristech/lca_algebraic\" target=\"_blank\" style = \"color: black\">lca_algebraic</a>",
           515,
           "https://github.com/oie-mines-paristech/lca_algebraic",
           "This library is a small layer above brightway2, designed for the<br>definition of parametric inventories with fast computation of<br>LCA impacts, suitable for monte-carlo analyis.",
           "Industrial Ecology",
           "Life Cycle Assessment",
           "Python"
          ]
         ],
         "hoverinfo": "name+z",
         "hovertemplate": "<extra></extra>Downloads: <b>%{customdata[1]}</b><br>Git URL: <b>%{customdata[2]}</b><br>Description: <b>%{customdata[3]}</b><br>Category: <b>%{customdata[4]}</b><br>Sub Category: <b>%{customdata[5]}</b><br>Language: <b>%{customdata[6]}</b>",
         "legendgroup": "Industrial Ecology",
         "marker": {
          "color": "rgb(165, 170, 153)",
          "pattern": {
           "shape": ""
          }
         },
         "name": "Industrial Ecology",
         "offsetgroup": "Industrial Ecology",
         "orientation": "h",
         "showlegend": true,
         "textposition": "auto",
         "type": "bar",
         "x": [
          1932,
          1850,
          660,
          515
         ],
         "xaxis": "x",
         "y": [
          "<a href=\"https://github.com/brightway-lca/brightway2\" target=\"_blank\" style = \"color: black\">brightway2</a>",
          "<a href=\"https://github.com/IndEcol/pymrio\" target=\"_blank\" style = \"color: black\">pymrio</a>",
          "<a href=\"https://github.com/polca/premise\" target=\"_blank\" style = \"color: black\">premise</a>",
          "<a href=\"https://github.com/oie-mines-paristech/lca_algebraic\" target=\"_blank\" style = \"color: black\">lca_algebraic</a>"
         ],
         "yaxis": "y"
        },
        {
         "alignmentgroup": "True",
         "customdata": [
          [
           "<a href=\"https://github.com/undp/carbon-registry\" target=\"_blank\" style = \"color: black\">National Carbon Credit Registry</a>",
           1491,
           "https://github.com/undp/carbon-registry",
           "As an online database using national and international standards<br>for quantifying and verifying greenhouse gas emissions<br>reductions by programmes.",
           "Emissions",
           "Carbon Offsets and Trading",
           "TypeScript"
          ],
          [
           "<a href=\"https://github.com/GranthamImperial/silicone\" target=\"_blank\" style = \"color: black\">Silicone</a>",
           563,
           "https://github.com/GranthamImperial/silicone",
           "Automated filling of detail in reported emission scenarios.",
           "Emissions",
           "Carbon Intensity and Accounting",
           "Jupyter Notebook"
          ],
          [
           "<a href=\"https://github.com/pik-primap/unfccc_di_api\" target=\"_blank\" style = \"color: black\">UNFCCC DI API</a>",
           447,
           "https://github.com/pik-primap/unfccc_di_api",
           "Data access to the total greenhouse gas emissions by country<br>reported to the United Nations Framework Convention on Climate<br>Change (UNFCCC).",
           "Emissions",
           "Emission Observation and Modeling",
           "Python"
          ]
         ],
         "hoverinfo": "name+z",
         "hovertemplate": "<extra></extra>Downloads: <b>%{customdata[1]}</b><br>Git URL: <b>%{customdata[2]}</b><br>Description: <b>%{customdata[3]}</b><br>Category: <b>%{customdata[4]}</b><br>Sub Category: <b>%{customdata[5]}</b><br>Language: <b>%{customdata[6]}</b>",
         "legendgroup": "Emissions",
         "marker": {
          "color": "rgb(229, 134, 6)",
          "pattern": {
           "shape": ""
          }
         },
         "name": "Emissions",
         "offsetgroup": "Emissions",
         "orientation": "h",
         "showlegend": true,
         "textposition": "auto",
         "type": "bar",
         "x": [
          1491,
          563,
          447
         ],
         "xaxis": "x",
         "y": [
          "<a href=\"https://github.com/undp/carbon-registry\" target=\"_blank\" style = \"color: black\">National Carbon Credit Registry</a>",
          "<a href=\"https://github.com/GranthamImperial/silicone\" target=\"_blank\" style = \"color: black\">Silicone</a>",
          "<a href=\"https://github.com/pik-primap/unfccc_di_api\" target=\"_blank\" style = \"color: black\">UNFCCC DI API</a>"
         ],
         "yaxis": "y"
        },
        {
         "alignmentgroup": "True",
         "customdata": [
          [
           "<a href=\"https://github.com/icesat2py/icepyx\" target=\"_blank\" style = \"color: black\">icepyx</a>",
           585,
           "https://github.com/icesat2py/icepyx",
           "Python tools for obtaining and working with ICESat-2 data.",
           "Cryosphere",
           "Glacier and Ice Sheets",
           "Python"
          ]
         ],
         "hoverinfo": "name+z",
         "hovertemplate": "<extra></extra>Downloads: <b>%{customdata[1]}</b><br>Git URL: <b>%{customdata[2]}</b><br>Description: <b>%{customdata[3]}</b><br>Category: <b>%{customdata[4]}</b><br>Sub Category: <b>%{customdata[5]}</b><br>Language: <b>%{customdata[6]}</b>",
         "legendgroup": "Cryosphere",
         "marker": {
          "color": "rgb(93, 105, 177)",
          "pattern": {
           "shape": ""
          }
         },
         "name": "Cryosphere",
         "offsetgroup": "Cryosphere",
         "orientation": "h",
         "showlegend": true,
         "textposition": "auto",
         "type": "bar",
         "x": [
          585
         ],
         "xaxis": "x",
         "y": [
          "<a href=\"https://github.com/icesat2py/icepyx\" target=\"_blank\" style = \"color: black\">icepyx</a>"
         ],
         "yaxis": "y"
        }
       ],
       "layout": {
        "barmode": "relative",
        "dragmode": false,
        "height": 4000,
        "hoverdistance": 1000,
        "hoverlabel": {
         "bgcolor": "white"
        },
        "hovermode": "y unified",
        "images": [
         {
          "sizex": 0.1,
          "sizey": 0.1,
          "source": "data:image/png;base64,iVBORw0KGgoAAAANSUhEUgAAADwAAAA8CAYAAAA6/NlyAAAD20lEQVR4nO2ZTWgcZRjHf8/spjWkFYmKmbR+oVKaCPbQU8i2tCBqEbrU7LIJVhG0PVWQih4UehAVQVAkAQ/qRW1WdhPrB+pJ1DQF6aEnQ0WqqCQbhfpFW6nJzOMhBgQ3u+/MvPORmP91n/n/nx/v7DvPvCOqyv9JTtoNJK114LWufBIh5TIbZj3uQLldhJtV2CJwlfrkpicpJtHDsmIDHtzPZjo4gM8IQkGgE1n6Tf7ZJ0W4HFf+SrIOvLvI9YsORyXPwyhdy5BZkTXgwf1s1jzHJMejAh22fG3LCnDhAHeT53WBXht+cSoS8J495Beu5nmEo5C1m7e5QgPv28fGxW7eQhmy2VDcCgV81wN0XezkE2DQcj+xKzDwzsN0XHGJGqsQFkJMWp3nGUO5J45mklCgFS7cx0GFRyzk/izCT6p8Z8ErkMT09XCgzBZnkRmEK0NmTaswicd70+9yLqRHZBmvcM7jZQ0He1qEZ6bqfBDiWusyWuGBEgOOz3RAb1+Ep05O8IIqmTllMFphR3k6oO8FUYanJvgwRE+xqu0K7yrT53t8FcDTE6U4NZk9WDB4LKnHg0EMVXgiq7DQBlgEAUYC+H15aoKXorUUr1oCF0psV9hqaibK41naoJqpJbDvs9fYSflsapKTkTuKWa3/w8oOUyOBetRmklC7TWuboY86Pu9HbSYJtQO+0dDn/Ocn+DFqM0mo9S6N8Sg5Z6GXRNRy0lIYUyHXzkSUb+y1FK+M35bWitY/tSQhaVQvAxvaV+oX6g7vtpmd1gpfMCsT13ZwWsC/GdZZP9hPCVi/NSzsktnjO2wmpwOs8rVxrThFm9HpADt62rhWGBKLn3HSAfbl0wDV/cxVy7aiUxs8pFGdAbYblp/j11yf9pX+ipqb5uBxPEDtLXT7L9oITRHYfxPwjMtVj0jjnUNRU1MDVnfkeyTooYGOSmP8cJTcdGfpRX0OAp2BdYC8KnPVUZmpGYym/1Xqb0syP/4GKg+FuPQHkGdxz76mHPON89IHrl2LemeB7nAOOoNSBzmhvZUzbfPSBgaQ+eoQSs2C1Z8IsygNdSu7mhVk4n1Yeyp1lDELVp0otwKFlQoyAQxA7x+PAR/HHZMZYOXQAs5CCTgVZ05mgAH0uoMXYdOdIB/FlZEpYAB1772E+3sRYTQO/8wBw9LtrT2VIwgl4Beb3pkEXpb2VOp4uduAVwDj4aKVMvEcNpHMj/ej8iQwjMFpq7qVpocGqwZ4WdKo3QDe/Sx9qO9fqW7NAP9bMvv2VnL5vcBOVLcBNwHXAJvUrWxses1qBg6jTG9acWgdeK3rb5uuGEmTzESgAAAAAElFTkSuQmCC",
          "x": 1,
          "xanchor": "right",
          "xref": "paper",
          "y": 0,
          "yanchor": "bottom",
          "yref": "paper"
         }
        ],
        "legend": {
         "title": {},
         "tracegroupgap": 0
        },
        "margin": {
         "t": 60
        },
        "template": {
         "data": {
          "bar": [
           {
            "error_x": {
             "color": "#2a3f5f"
            },
            "error_y": {
             "color": "#2a3f5f"
            },
            "marker": {
             "line": {
              "color": "#E5ECF6",
              "width": 0.5
             },
             "pattern": {
              "fillmode": "overlay",
              "size": 10,
              "solidity": 0.2
             }
            },
            "type": "bar"
           }
          ],
          "barpolar": [
           {
            "marker": {
             "line": {
              "color": "#E5ECF6",
              "width": 0.5
             },
             "pattern": {
              "fillmode": "overlay",
              "size": 10,
              "solidity": 0.2
             }
            },
            "type": "barpolar"
           }
          ],
          "carpet": [
           {
            "aaxis": {
             "endlinecolor": "#2a3f5f",
             "gridcolor": "white",
             "linecolor": "white",
             "minorgridcolor": "white",
             "startlinecolor": "#2a3f5f"
            },
            "baxis": {
             "endlinecolor": "#2a3f5f",
             "gridcolor": "white",
             "linecolor": "white",
             "minorgridcolor": "white",
             "startlinecolor": "#2a3f5f"
            },
            "type": "carpet"
           }
          ],
          "choropleth": [
           {
            "colorbar": {
             "outlinewidth": 0,
             "ticks": ""
            },
            "type": "choropleth"
           }
          ],
          "contour": [
           {
            "colorbar": {
             "outlinewidth": 0,
             "ticks": ""
            },
            "colorscale": [
             [
              0,
              "#0d0887"
             ],
             [
              0.1111111111111111,
              "#46039f"
             ],
             [
              0.2222222222222222,
              "#7201a8"
             ],
             [
              0.3333333333333333,
              "#9c179e"
             ],
             [
              0.4444444444444444,
              "#bd3786"
             ],
             [
              0.5555555555555556,
              "#d8576b"
             ],
             [
              0.6666666666666666,
              "#ed7953"
             ],
             [
              0.7777777777777778,
              "#fb9f3a"
             ],
             [
              0.8888888888888888,
              "#fdca26"
             ],
             [
              1,
              "#f0f921"
             ]
            ],
            "type": "contour"
           }
          ],
          "contourcarpet": [
           {
            "colorbar": {
             "outlinewidth": 0,
             "ticks": ""
            },
            "type": "contourcarpet"
           }
          ],
          "heatmap": [
           {
            "colorbar": {
             "outlinewidth": 0,
             "ticks": ""
            },
            "colorscale": [
             [
              0,
              "#0d0887"
             ],
             [
              0.1111111111111111,
              "#46039f"
             ],
             [
              0.2222222222222222,
              "#7201a8"
             ],
             [
              0.3333333333333333,
              "#9c179e"
             ],
             [
              0.4444444444444444,
              "#bd3786"
             ],
             [
              0.5555555555555556,
              "#d8576b"
             ],
             [
              0.6666666666666666,
              "#ed7953"
             ],
             [
              0.7777777777777778,
              "#fb9f3a"
             ],
             [
              0.8888888888888888,
              "#fdca26"
             ],
             [
              1,
              "#f0f921"
             ]
            ],
            "type": "heatmap"
           }
          ],
          "heatmapgl": [
           {
            "colorbar": {
             "outlinewidth": 0,
             "ticks": ""
            },
            "colorscale": [
             [
              0,
              "#0d0887"
             ],
             [
              0.1111111111111111,
              "#46039f"
             ],
             [
              0.2222222222222222,
              "#7201a8"
             ],
             [
              0.3333333333333333,
              "#9c179e"
             ],
             [
              0.4444444444444444,
              "#bd3786"
             ],
             [
              0.5555555555555556,
              "#d8576b"
             ],
             [
              0.6666666666666666,
              "#ed7953"
             ],
             [
              0.7777777777777778,
              "#fb9f3a"
             ],
             [
              0.8888888888888888,
              "#fdca26"
             ],
             [
              1,
              "#f0f921"
             ]
            ],
            "type": "heatmapgl"
           }
          ],
          "histogram": [
           {
            "marker": {
             "pattern": {
              "fillmode": "overlay",
              "size": 10,
              "solidity": 0.2
             }
            },
            "type": "histogram"
           }
          ],
          "histogram2d": [
           {
            "colorbar": {
             "outlinewidth": 0,
             "ticks": ""
            },
            "colorscale": [
             [
              0,
              "#0d0887"
             ],
             [
              0.1111111111111111,
              "#46039f"
             ],
             [
              0.2222222222222222,
              "#7201a8"
             ],
             [
              0.3333333333333333,
              "#9c179e"
             ],
             [
              0.4444444444444444,
              "#bd3786"
             ],
             [
              0.5555555555555556,
              "#d8576b"
             ],
             [
              0.6666666666666666,
              "#ed7953"
             ],
             [
              0.7777777777777778,
              "#fb9f3a"
             ],
             [
              0.8888888888888888,
              "#fdca26"
             ],
             [
              1,
              "#f0f921"
             ]
            ],
            "type": "histogram2d"
           }
          ],
          "histogram2dcontour": [
           {
            "colorbar": {
             "outlinewidth": 0,
             "ticks": ""
            },
            "colorscale": [
             [
              0,
              "#0d0887"
             ],
             [
              0.1111111111111111,
              "#46039f"
             ],
             [
              0.2222222222222222,
              "#7201a8"
             ],
             [
              0.3333333333333333,
              "#9c179e"
             ],
             [
              0.4444444444444444,
              "#bd3786"
             ],
             [
              0.5555555555555556,
              "#d8576b"
             ],
             [
              0.6666666666666666,
              "#ed7953"
             ],
             [
              0.7777777777777778,
              "#fb9f3a"
             ],
             [
              0.8888888888888888,
              "#fdca26"
             ],
             [
              1,
              "#f0f921"
             ]
            ],
            "type": "histogram2dcontour"
           }
          ],
          "mesh3d": [
           {
            "colorbar": {
             "outlinewidth": 0,
             "ticks": ""
            },
            "type": "mesh3d"
           }
          ],
          "parcoords": [
           {
            "line": {
             "colorbar": {
              "outlinewidth": 0,
              "ticks": ""
             }
            },
            "type": "parcoords"
           }
          ],
          "pie": [
           {
            "automargin": true,
            "type": "pie"
           }
          ],
          "scatter": [
           {
            "fillpattern": {
             "fillmode": "overlay",
             "size": 10,
             "solidity": 0.2
            },
            "type": "scatter"
           }
          ],
          "scatter3d": [
           {
            "line": {
             "colorbar": {
              "outlinewidth": 0,
              "ticks": ""
             }
            },
            "marker": {
             "colorbar": {
              "outlinewidth": 0,
              "ticks": ""
             }
            },
            "type": "scatter3d"
           }
          ],
          "scattercarpet": [
           {
            "marker": {
             "colorbar": {
              "outlinewidth": 0,
              "ticks": ""
             }
            },
            "type": "scattercarpet"
           }
          ],
          "scattergeo": [
           {
            "marker": {
             "colorbar": {
              "outlinewidth": 0,
              "ticks": ""
             }
            },
            "type": "scattergeo"
           }
          ],
          "scattergl": [
           {
            "marker": {
             "colorbar": {
              "outlinewidth": 0,
              "ticks": ""
             }
            },
            "type": "scattergl"
           }
          ],
          "scattermapbox": [
           {
            "marker": {
             "colorbar": {
              "outlinewidth": 0,
              "ticks": ""
             }
            },
            "type": "scattermapbox"
           }
          ],
          "scatterpolar": [
           {
            "marker": {
             "colorbar": {
              "outlinewidth": 0,
              "ticks": ""
             }
            },
            "type": "scatterpolar"
           }
          ],
          "scatterpolargl": [
           {
            "marker": {
             "colorbar": {
              "outlinewidth": 0,
              "ticks": ""
             }
            },
            "type": "scatterpolargl"
           }
          ],
          "scatterternary": [
           {
            "marker": {
             "colorbar": {
              "outlinewidth": 0,
              "ticks": ""
             }
            },
            "type": "scatterternary"
           }
          ],
          "surface": [
           {
            "colorbar": {
             "outlinewidth": 0,
             "ticks": ""
            },
            "colorscale": [
             [
              0,
              "#0d0887"
             ],
             [
              0.1111111111111111,
              "#46039f"
             ],
             [
              0.2222222222222222,
              "#7201a8"
             ],
             [
              0.3333333333333333,
              "#9c179e"
             ],
             [
              0.4444444444444444,
              "#bd3786"
             ],
             [
              0.5555555555555556,
              "#d8576b"
             ],
             [
              0.6666666666666666,
              "#ed7953"
             ],
             [
              0.7777777777777778,
              "#fb9f3a"
             ],
             [
              0.8888888888888888,
              "#fdca26"
             ],
             [
              1,
              "#f0f921"
             ]
            ],
            "type": "surface"
           }
          ],
          "table": [
           {
            "cells": {
             "fill": {
              "color": "#EBF0F8"
             },
             "line": {
              "color": "white"
             }
            },
            "header": {
             "fill": {
              "color": "#C8D4E3"
             },
             "line": {
              "color": "white"
             }
            },
            "type": "table"
           }
          ]
         },
         "layout": {
          "annotationdefaults": {
           "arrowcolor": "#2a3f5f",
           "arrowhead": 0,
           "arrowwidth": 1
          },
          "autotypenumbers": "strict",
          "coloraxis": {
           "colorbar": {
            "outlinewidth": 0,
            "ticks": ""
           }
          },
          "colorscale": {
           "diverging": [
            [
             0,
             "#8e0152"
            ],
            [
             0.1,
             "#c51b7d"
            ],
            [
             0.2,
             "#de77ae"
            ],
            [
             0.3,
             "#f1b6da"
            ],
            [
             0.4,
             "#fde0ef"
            ],
            [
             0.5,
             "#f7f7f7"
            ],
            [
             0.6,
             "#e6f5d0"
            ],
            [
             0.7,
             "#b8e186"
            ],
            [
             0.8,
             "#7fbc41"
            ],
            [
             0.9,
             "#4d9221"
            ],
            [
             1,
             "#276419"
            ]
           ],
           "sequential": [
            [
             0,
             "#0d0887"
            ],
            [
             0.1111111111111111,
             "#46039f"
            ],
            [
             0.2222222222222222,
             "#7201a8"
            ],
            [
             0.3333333333333333,
             "#9c179e"
            ],
            [
             0.4444444444444444,
             "#bd3786"
            ],
            [
             0.5555555555555556,
             "#d8576b"
            ],
            [
             0.6666666666666666,
             "#ed7953"
            ],
            [
             0.7777777777777778,
             "#fb9f3a"
            ],
            [
             0.8888888888888888,
             "#fdca26"
            ],
            [
             1,
             "#f0f921"
            ]
           ],
           "sequentialminus": [
            [
             0,
             "#0d0887"
            ],
            [
             0.1111111111111111,
             "#46039f"
            ],
            [
             0.2222222222222222,
             "#7201a8"
            ],
            [
             0.3333333333333333,
             "#9c179e"
            ],
            [
             0.4444444444444444,
             "#bd3786"
            ],
            [
             0.5555555555555556,
             "#d8576b"
            ],
            [
             0.6666666666666666,
             "#ed7953"
            ],
            [
             0.7777777777777778,
             "#fb9f3a"
            ],
            [
             0.8888888888888888,
             "#fdca26"
            ],
            [
             1,
             "#f0f921"
            ]
           ]
          },
          "colorway": [
           "#636efa",
           "#EF553B",
           "#00cc96",
           "#ab63fa",
           "#FFA15A",
           "#19d3f3",
           "#FF6692",
           "#B6E880",
           "#FF97FF",
           "#FECB52"
          ],
          "font": {
           "color": "#040404",
           "family": "Open Sans",
           "size": 15
          },
          "geo": {
           "bgcolor": "white",
           "lakecolor": "white",
           "landcolor": "#E5ECF6",
           "showlakes": true,
           "showland": true,
           "subunitcolor": "white"
          },
          "hoverlabel": {
           "align": "left"
          },
          "hovermode": "closest",
          "mapbox": {
           "style": "light"
          },
          "margin": {
           "b": 0
          },
          "paper_bgcolor": "white",
          "plot_bgcolor": "#E5ECF6",
          "polar": {
           "angularaxis": {
            "gridcolor": "white",
            "linecolor": "white",
            "ticks": ""
           },
           "bgcolor": "#E5ECF6",
           "radialaxis": {
            "gridcolor": "white",
            "linecolor": "white",
            "ticks": ""
           }
          },
          "scene": {
           "xaxis": {
            "backgroundcolor": "#E5ECF6",
            "gridcolor": "white",
            "gridwidth": 2,
            "linecolor": "white",
            "showbackground": true,
            "ticks": "",
            "zerolinecolor": "white"
           },
           "yaxis": {
            "backgroundcolor": "#E5ECF6",
            "gridcolor": "white",
            "gridwidth": 2,
            "linecolor": "white",
            "showbackground": true,
            "ticks": "",
            "zerolinecolor": "white"
           },
           "zaxis": {
            "backgroundcolor": "#E5ECF6",
            "gridcolor": "white",
            "gridwidth": 2,
            "linecolor": "white",
            "showbackground": true,
            "ticks": "",
            "zerolinecolor": "white"
           }
          },
          "shapedefaults": {
           "line": {
            "color": "#2a3f5f"
           }
          },
          "ternary": {
           "aaxis": {
            "gridcolor": "white",
            "linecolor": "white",
            "ticks": ""
           },
           "baxis": {
            "gridcolor": "white",
            "linecolor": "white",
            "ticks": ""
           },
           "bgcolor": "#E5ECF6",
           "caxis": {
            "gridcolor": "white",
            "linecolor": "white",
            "ticks": ""
           }
          },
          "title": {
           "font": {
            "color": "#040404",
            "family": "Open Sans"
           },
           "x": 0.05
          },
          "xaxis": {
           "automargin": true,
           "gridcolor": "white",
           "linecolor": "white",
           "ticks": "",
           "title": {
            "standoff": 15
           },
           "zerolinecolor": "white",
           "zerolinewidth": 2
          },
          "yaxis": {
           "automargin": true,
           "gridcolor": "white",
           "linecolor": "white",
           "ticks": "",
           "title": {
            "standoff": 15
           },
           "zerolinecolor": "white",
           "zerolinewidth": 2
          }
         }
        },
        "title": {
         "text": "Package downloads in the last month"
        },
        "xaxis": {
         "anchor": "y",
         "domain": [
          0,
          1
         ],
         "showspikes": false,
         "side": "top",
         "title": {
          "text": ""
         },
         "type": "log"
        },
        "yaxis": {
         "anchor": "x",
         "autorange": "reversed",
         "categoryorder": "total descending",
         "domain": [
          0,
          1
         ],
         "showspikes": false,
         "title": {}
        }
       }
      },
      "text/html": [
       "<div>                            <div id=\"201e70c8-62cf-4d47-8e91-f76562280059\" class=\"plotly-graph-div\" style=\"height:4000px; width:100%;\"></div>            <script type=\"text/javascript\">                require([\"plotly\"], function(Plotly) {                    window.PLOTLYENV=window.PLOTLYENV || {};                                    if (document.getElementById(\"201e70c8-62cf-4d47-8e91-f76562280059\")) {                    Plotly.newPlot(                        \"201e70c8-62cf-4d47-8e91-f76562280059\",                        [{\"alignmentgroup\":\"True\",\"customdata\":[[\"<a href=\\\"https://github.com/Unidata/netcdf4-python\\\" target=\\\"_blank\\\" style = \\\"color: black\\\">netcdf-python</a>\",2010112,\"https://github.com/Unidata/netcdf4-python\",\"The Unidata network Common Data Form (netCDF) in Python is an<br>interface for scientific data access and a set of freely-<br>distributed software libraries that provide an implementation of<br>the interface.\",\"Climate Change\",\"Climate Data Standards\",\"Cython\"],[\"<a href=\\\"https://github.com/ecmwf/cfgrib\\\" target=\\\"_blank\\\" style = \\\"color: black\\\">cfgrib</a>\",97874,\"https://github.com/ecmwf/cfgrib\",\"A Python interface to map GRIB files to the NetCDF Common Data<br>Model following the CF Convention using ecCodes.\",\"Climate Change\",\"Climate Data Processing and Analysis\",\"Python\"],[\"<a href=\\\"https://github.com/ecmwf/cdsapi\\\" target=\\\"_blank\\\" style = \\\"color: black\\\">cdsapi</a>\",48101,\"https://github.com/ecmwf/cdsapi\",\"Python API to access the Copernicus Climate Data Store.\",\"Climate Change\",\"Climate Data Visualization and Access\",\"Python\"],[\"<a href=\\\"https://github.com/meteostat/meteostat-python\\\" target=\\\"_blank\\\" style = \\\"color: black\\\">Meteostat Python</a>\",45654,\"https://github.com/meteostat/meteostat-python\",\"Access and analyze historical weather and climate data with<br>Python.\",\"Climate Change\",\"Climate Data Visualization and Access\",\"Python\"],[\"<a href=\\\"https://github.com/intake/intake-esm\\\" target=\\\"_blank\\\" style = \\\"color: black\\\">Intake-esm</a>\",34211,\"https://github.com/intake/intake-esm\",\"An intake plugin for parsing an Earth System Model catalog and<br>loading assets into xarray datasets.\",\"Climate Change\",\"Climate Data Visualization and Access\",\"Python\"],[\"<a href=\\\"https://github.com/ouranosinc/xclim\\\" target=\\\"_blank\\\" style = \\\"color: black\\\">xclim</a>\",23555,\"https://github.com/ouranosinc/xclim\",\"A library of derived climate variables, i.e. climate indicators,<br>based on xarray.\",\"Climate Change\",\"Climate Data Processing and Analysis\",\"Python\"],[\"<a href=\\\"https://github.com/cerfacs-globc/icclim\\\" target=\\\"_blank\\\" style = \\\"color: black\\\">icclim</a>\",10723,\"https://github.com/cerfacs-globc/icclim\",\"Python library for climate indices and climate indicators<br>calculation.\",\"Climate Change\",\"Climate Data Processing and Analysis\",\"Python\"],[\"<a href=\\\"https://github.com/ladybug-tools/uwg\\\" target=\\\"_blank\\\" style = \\\"color: black\\\">Urban Weather Generator</a>\",8094,\"https://github.com/ladybug-tools/uwg\",\"A Python application for modeling the urban heat island effect.\",\"Climate Change\",\"Earth and Climate Modeling\",\"Python\"],[\"<a href=\\\"https://github.com/xarray-contrib/xskillscore\\\" target=\\\"_blank\\\" style = \\\"color: black\\\">xskillscore</a>\",7174,\"https://github.com/xarray-contrib/xskillscore\",\"An open source project and Python package that provides<br>verification metrics of deterministic (and probabilistic from<br>properscoring) forecasts with xarray.\",\"Climate Change\",\"Climate Data Processing and Analysis\",\"Python\"],[\"<a href=\\\"https://github.com/iamconsortium/pyam\\\" target=\\\"_blank\\\" style = \\\"color: black\\\">pyam</a>\",6337,\"https://github.com/iamconsortium/pyam\",\"A Python package for data-wrangling, analysis and visualization<br>of integrated-assessment scenarios and energy systems modeling<br>results.\",\"Climate Change\",\"Integrated Assessment and Climate Policy\",\"Python\"],[\"<a href=\\\"https://github.com/oms-netzero/fair\\\" target=\\\"_blank\\\" style = \\\"color: black\\\">FAIR</a>\",5287,\"https://github.com/oms-netzero/fair\",\"Finite Amplitude Impulse-Response simple climate-carbon-cycle<br>model.\",\"Climate Change\",\"Earth and Climate Modeling\",\"Python\"],[\"<a href=\\\"https://github.com/OasisLMF/oasislmf\\\" target=\\\"_blank\\\" style = \\\"color: black\\\">OasisLMF</a>\",4692,\"https://github.com/OasisLMF/oasislmf\",\"An open source catastrophe modelling platform, free to use by<br>anyone.\",\"Climate Change\",\"Natural Hazard and Storm\",\"Python\"],[\"<a href=\\\"https://github.com/ecmwf/ecmwf-opendata\\\" target=\\\"_blank\\\" style = \\\"color: black\\\">ecmwf-opendata</a>\",3342,\"https://github.com/ecmwf/ecmwf-opendata\",\"A package to simplify the download of ECMWF open data.\",\"Climate Change\",\"Climate Data Visualization and Access\",\"Python\"],[\"<a href=\\\"https://github.com/ecmwf/climetlab\\\" target=\\\"_blank\\\" style = \\\"color: black\\\">climetlab</a>\",3258,\"https://github.com/ecmwf/climetlab\",\"A Python package aiming at simplifying access to climate and<br>meteorological datasets, allowing users to focus on science<br>instead of technical issues such as data access and data<br>formats.\",\"Climate Change\",\"Climate Data Visualization and Access\",\"Python\"],[\"<a href=\\\"https://github.com/gem/oq-engine\\\" target=\\\"_blank\\\" style = \\\"color: black\\\">OpenQuake</a>\",2206,\"https://github.com/gem/oq-engine\",\"Allows users to compute seismic hazard and seismic risk of<br>earthquakes on a global scale.\",\"Climate Change\",\"Natural Hazard and Storm\",\"Python\"],[\"<a href=\\\"https://github.com/roocs/clisops\\\" target=\\\"_blank\\\" style = \\\"color: black\\\">clisops</a>\",1770,\"https://github.com/roocs/clisops\",\"Climate simulation operations.\",\"Climate Change\",\"Climate Data Processing and Analysis\",\"Python\"],[\"<a href=\\\"https://github.com/xgcm/xgcm\\\" target=\\\"_blank\\\" style = \\\"color: black\\\">xgcm</a>\",1489,\"https://github.com/xgcm/xgcm\",\"A Python package for analyzing general circulation model output<br>data.\",\"Climate Change\",\"Climate Data Processing and Analysis\",\"Python\"],[\"<a href=\\\"https://github.com/contrailcirrus/pycontrails\\\" target=\\\"_blank\\\" style = \\\"color: black\\\">pycontrails</a>\",1401,\"https://github.com/contrailcirrus/pycontrails\",\"Python library for modeling aviation climate impacts.\",\"Climate Change\",\"Earth and Climate Modeling\",\"Python\"],[\"<a href=\\\"https://github.com/SciTools/iris\\\" target=\\\"_blank\\\" style = \\\"color: black\\\">Iris</a>\",1389,\"https://github.com/SciTools/iris\",\"A powerful, format-agnostic, community-driven Python package for<br>analyzing and visualizing Earth science data.\",\"Climate Change\",\"Climate Data Processing and Analysis\",\"Python\"],[\"<a href=\\\"https://github.com/nco/pynco\\\" target=\\\"_blank\\\" style = \\\"color: black\\\">pynco</a>\",1322,\"https://github.com/nco/pynco\",\"Contains the module python nco, which implements a Python style<br>access to the NetCDF Operators (NCO).\",\"Climate Change\",\"Climate Data Processing and Analysis\",\"Python\"],[\"<a href=\\\"https://github.com/bluegreen-labs/ecmwfr\\\" target=\\\"_blank\\\" style = \\\"color: black\\\">ecmwfr</a>\",1233,\"https://github.com/bluegreen-labs/ecmwfr\",\"Provides easy access to the European Centre for Medium-Range<br>Weather Forecasts web API services and Copernicus Climate Data<br>Store from within R, matching and expanding upon the ECMWF<br>Python tools.\",\"Climate Change\",\"Climate Data Visualization and Access\",\"R\"],[\"<a href=\\\"https://github.com/climt/climt\\\" target=\\\"_blank\\\" style = \\\"color: black\\\">CliMT</a>\",817,\"https://github.com/climt/climt\",\"A Toolkit for building Earth system models in Python.\",\"Climate Change\",\"Earth and Climate Modeling\",\"Fortran\"],[\"<a href=\\\"https://github.com/ropenspain/climaemet\\\" target=\\\"_blank\\\" style = \\\"color: black\\\">climaemet</a>\",777,\"https://github.com/ropenspain/climaemet\",\"An interface to download the climatic data of the Spanish<br>Meteorological Agency directly from R using their API and create<br>scientific graphs.\",\"Climate Change\",\"Climate Data Visualization and Access\",\"R\"],[\"<a href=\\\"https://github.com/climada-project/climada_python\\\" target=\\\"_blank\\\" style = \\\"color: black\\\">CLIMADA</a>\",749,\"https://github.com/climada-project/climada_python\",\"Stands for CLIMate ADAptation and is a probabilistic natural<br>catastrophe impact model, that also calculates averted damage<br>(benefit) thanks to adaptation measures of any kind (from grey<br>to green infrastructure, behavioural, etc.).\",\"Climate Change\",\"Natural Hazard and Storm\",\"Jupyter Notebook\"],[\"<a href=\\\"https://github.com/bluegreen-labs/daymetr\\\" target=\\\"_blank\\\" style = \\\"color: black\\\">daymetr</a>\",744,\"https://github.com/bluegreen-labs/daymetr\",\"Allows for easy downloads of Daymet climate data directly to<br>your R workspace or your computer.\",\"Climate Change\",\"Climate Data Processing and Analysis\",\"R\"],[\"<a href=\\\"https://github.com/tropycal/tropycal\\\" target=\\\"_blank\\\" style = \\\"color: black\\\">Tropycal</a>\",718,\"https://github.com/tropycal/tropycal\",\"A Python package intended to simplify the process of retrieving<br>and analyzing tropical cyclone data, both for past storms and in<br>real time.\",\"Climate Change\",\"Natural Hazard and Storm\",\"Python\"],[\"<a href=\\\"https://github.com/servir-mekong/hydra-floods\\\" target=\\\"_blank\\\" style = \\\"color: black\\\">HYDRAFloods</a>\",648,\"https://github.com/servir-mekong/hydra-floods\",\"An open source Python application for downloading, processing,<br>and delivering surface water maps derived from remote sensing<br>data.\",\"Climate Change\",\"Natural Hazard and Storm\",\"Python\"],[\"<a href=\\\"https://github.com/pangeo-data/climpred\\\" target=\\\"_blank\\\" style = \\\"color: black\\\">climpred</a>\",615,\"https://github.com/pangeo-data/climpred\",\"Aims to be the primary package used to analyze output from<br>initialized dynamical forecast models, ranging from short-term<br>weather forecasts to long-term climate forecasts.\",\"Climate Change\",\"Climate Data Processing and Analysis\",\"Python\"],[\"<a href=\\\"https://github.com/ncas-cms/cf-python\\\" target=\\\"_blank\\\" style = \\\"color: black\\\">cf-python</a>\",566,\"https://github.com/ncas-cms/cf-python\",\"A CF-compliant Earth Science data analysis library.\",\"Climate Change\",\"Climate Data Standards\",\"Python\"],[\"<a href=\\\"https://github.com/zilum/sacpy\\\" target=\\\"_blank\\\" style = \\\"color: black\\\">Sacpy</a>\",553,\"https://github.com/zilum/sacpy\",\"An effecient Statistical Analysis tool (e.g. regression, EOF,<br>MCA) for Climate and Meteorology data.\",\"Climate Change\",\"Climate Data Processing and Analysis\",\"Python\"],[\"<a href=\\\"https://github.com/ropensci/prism\\\" target=\\\"_blank\\\" style = \\\"color: black\\\">PRISM</a>\",549,\"https://github.com/ropensci/prism\",\"Download data from the Oregon PRISM climate data project.\",\"Climate Change\",\"Climate Data Visualization and Access\",\"R\"],[\"<a href=\\\"https://github.com/LinkedEarth/Pyleoclim_util\\\" target=\\\"_blank\\\" style = \\\"color: black\\\">Paleoclimate</a>\",531,\"https://github.com/LinkedEarth/Pyleoclim_util\",\"Analysis of Paleoclimate Data.\",\"Climate Change\",\"Climate Data Processing and Analysis\",\"Python\"],[\"<a href=\\\"https://github.com/climlab/climlab\\\" target=\\\"_blank\\\" style = \\\"color: black\\\">climlab</a>\",515,\"https://github.com/climlab/climlab\",\"A Python package for process-oriented climate modeling.\",\"Climate Change\",\"Earth and Climate Modeling\",\"Jupyter Notebook\"],[\"<a href=\\\"https://github.com/boshek/rsoi\\\" target=\\\"_blank\\\" style = \\\"color: black\\\">rsoi</a>\",448,\"https://github.com/boshek/rsoi\",\"An R package to download the most up to date climate indices.\",\"Climate Change\",\"Climate Data Visualization and Access\",\"R\"]],\"hovertemplate\":\"<extra></extra>Downloads: <b>%{customdata[1]}</b><br>Git URL: <b>%{customdata[2]}</b><br>Description: <b>%{customdata[3]}</b><br>Category: <b>%{customdata[4]}</b><br>Sub Category: <b>%{customdata[5]}</b><br>Language: <b>%{customdata[6]}</b>\",\"legendgroup\":\"Climate Change\",\"marker\":{\"color\":\"rgb(229, 134, 6)\",\"pattern\":{\"shape\":\"\"}},\"name\":\"Climate Change\",\"offsetgroup\":\"Climate Change\",\"orientation\":\"h\",\"showlegend\":true,\"textposition\":\"auto\",\"x\":[2010112,97874,48101,45654,34211,23555,10723,8094,7174,6337,5287,4692,3342,3258,2206,1770,1489,1401,1389,1322,1233,817,777,749,744,718,648,615,566,553,549,531,515,448],\"xaxis\":\"x\",\"y\":[\"<a href=\\\"https://github.com/Unidata/netcdf4-python\\\" target=\\\"_blank\\\" style = \\\"color: black\\\">netcdf-python</a>\",\"<a href=\\\"https://github.com/ecmwf/cfgrib\\\" target=\\\"_blank\\\" style = \\\"color: black\\\">cfgrib</a>\",\"<a href=\\\"https://github.com/ecmwf/cdsapi\\\" target=\\\"_blank\\\" style = \\\"color: black\\\">cdsapi</a>\",\"<a href=\\\"https://github.com/meteostat/meteostat-python\\\" target=\\\"_blank\\\" style = \\\"color: black\\\">Meteostat Python</a>\",\"<a href=\\\"https://github.com/intake/intake-esm\\\" target=\\\"_blank\\\" style = \\\"color: black\\\">Intake-esm</a>\",\"<a href=\\\"https://github.com/ouranosinc/xclim\\\" target=\\\"_blank\\\" style = \\\"color: black\\\">xclim</a>\",\"<a href=\\\"https://github.com/cerfacs-globc/icclim\\\" target=\\\"_blank\\\" style = \\\"color: black\\\">icclim</a>\",\"<a href=\\\"https://github.com/ladybug-tools/uwg\\\" target=\\\"_blank\\\" style = \\\"color: black\\\">Urban Weather Generator</a>\",\"<a href=\\\"https://github.com/xarray-contrib/xskillscore\\\" target=\\\"_blank\\\" style = \\\"color: black\\\">xskillscore</a>\",\"<a href=\\\"https://github.com/iamconsortium/pyam\\\" target=\\\"_blank\\\" style = \\\"color: black\\\">pyam</a>\",\"<a href=\\\"https://github.com/oms-netzero/fair\\\" target=\\\"_blank\\\" style = \\\"color: black\\\">FAIR</a>\",\"<a href=\\\"https://github.com/OasisLMF/oasislmf\\\" target=\\\"_blank\\\" style = \\\"color: black\\\">OasisLMF</a>\",\"<a href=\\\"https://github.com/ecmwf/ecmwf-opendata\\\" target=\\\"_blank\\\" style = \\\"color: black\\\">ecmwf-opendata</a>\",\"<a href=\\\"https://github.com/ecmwf/climetlab\\\" target=\\\"_blank\\\" style = \\\"color: black\\\">climetlab</a>\",\"<a href=\\\"https://github.com/gem/oq-engine\\\" target=\\\"_blank\\\" style = \\\"color: black\\\">OpenQuake</a>\",\"<a href=\\\"https://github.com/roocs/clisops\\\" target=\\\"_blank\\\" style = \\\"color: black\\\">clisops</a>\",\"<a href=\\\"https://github.com/xgcm/xgcm\\\" target=\\\"_blank\\\" style = \\\"color: black\\\">xgcm</a>\",\"<a href=\\\"https://github.com/contrailcirrus/pycontrails\\\" target=\\\"_blank\\\" style = \\\"color: black\\\">pycontrails</a>\",\"<a href=\\\"https://github.com/SciTools/iris\\\" target=\\\"_blank\\\" style = \\\"color: black\\\">Iris</a>\",\"<a href=\\\"https://github.com/nco/pynco\\\" target=\\\"_blank\\\" style = \\\"color: black\\\">pynco</a>\",\"<a href=\\\"https://github.com/bluegreen-labs/ecmwfr\\\" target=\\\"_blank\\\" style = \\\"color: black\\\">ecmwfr</a>\",\"<a href=\\\"https://github.com/climt/climt\\\" target=\\\"_blank\\\" style = \\\"color: black\\\">CliMT</a>\",\"<a href=\\\"https://github.com/ropenspain/climaemet\\\" target=\\\"_blank\\\" style = \\\"color: black\\\">climaemet</a>\",\"<a href=\\\"https://github.com/climada-project/climada_python\\\" target=\\\"_blank\\\" style = \\\"color: black\\\">CLIMADA</a>\",\"<a href=\\\"https://github.com/bluegreen-labs/daymetr\\\" target=\\\"_blank\\\" style = \\\"color: black\\\">daymetr</a>\",\"<a href=\\\"https://github.com/tropycal/tropycal\\\" target=\\\"_blank\\\" style = \\\"color: black\\\">Tropycal</a>\",\"<a href=\\\"https://github.com/servir-mekong/hydra-floods\\\" target=\\\"_blank\\\" style = \\\"color: black\\\">HYDRAFloods</a>\",\"<a href=\\\"https://github.com/pangeo-data/climpred\\\" target=\\\"_blank\\\" style = \\\"color: black\\\">climpred</a>\",\"<a href=\\\"https://github.com/ncas-cms/cf-python\\\" target=\\\"_blank\\\" style = \\\"color: black\\\">cf-python</a>\",\"<a href=\\\"https://github.com/zilum/sacpy\\\" target=\\\"_blank\\\" style = \\\"color: black\\\">Sacpy</a>\",\"<a href=\\\"https://github.com/ropensci/prism\\\" target=\\\"_blank\\\" style = \\\"color: black\\\">PRISM</a>\",\"<a href=\\\"https://github.com/LinkedEarth/Pyleoclim_util\\\" target=\\\"_blank\\\" style = \\\"color: black\\\">Paleoclimate</a>\",\"<a href=\\\"https://github.com/climlab/climlab\\\" target=\\\"_blank\\\" style = \\\"color: black\\\">climlab</a>\",\"<a href=\\\"https://github.com/boshek/rsoi\\\" target=\\\"_blank\\\" style = \\\"color: black\\\">rsoi</a>\"],\"yaxis\":\"y\",\"type\":\"bar\",\"hoverinfo\":\"name+z\"},{\"alignmentgroup\":\"True\",\"customdata\":[[\"<a href=\\\"https://github.com/pvlib/pvlib-python\\\" target=\\\"_blank\\\" style = \\\"color: black\\\">pvlib-python</a>\",247853,\"https://github.com/pvlib/pvlib-python\",\"A set of documented functions for simulating the performance of<br>photovoltaic energy systems.\",\"Renewable Energy\",\"Photovoltaics and Solar Energy\",\"Python\"],[\"<a href=\\\"https://github.com/python-windrose/windrose\\\" target=\\\"_blank\\\" style = \\\"color: black\\\">windrose</a>\",8222,\"https://github.com/python-windrose/windrose\",\"A graphic tool used by meteorologists to give a succinct view of<br>how wind speed and direction are typically distributed at a<br>particular location.\",\"Renewable Energy\",\"Wind Energy\",\"Python\"],[\"<a href=\\\"https://github.com/CalebBell/thermo\\\" target=\\\"_blank\\\" style = \\\"color: black\\\">thermo</a>\",5713,\"https://github.com/CalebBell/thermo\",\"Thermodynamics, phase equilibrium, transport properties and<br>chemical database component of Chemical Engineering Design<br>Library.\",\"Renewable Energy\",\"Geothermal Energy\",\"Python\"],[\"<a href=\\\"https://github.com/squishykid/solax\\\" target=\\\"_blank\\\" style = \\\"color: black\\\">solax</a>\",3128,\"https://github.com/squishykid/solax\",\"Read energy usage data from the real-time API on Solax solar<br>inverters.\",\"Renewable Energy\",\"Photovoltaics and Solar Energy\",\"Python\"],[\"<a href=\\\"https://github.com/wind-python/windpowerlib\\\" target=\\\"_blank\\\" style = \\\"color: black\\\">windpowerlib</a>\",2321,\"https://github.com/wind-python/windpowerlib\",\"A library to model the output of wind turbines and farms.\",\"Renewable Energy\",\"Wind Energy\",\"Python\"],[\"<a href=\\\"https://github.com/NREL/floris\\\" target=\\\"_blank\\\" style = \\\"color: black\\\">floris</a>\",2274,\"https://github.com/NREL/floris\",\"A controls-oriented engineering wake modeling framework for<br>evaluating the impact of wind farm controls on AEP and wind farm<br>design.\",\"Renewable Energy\",\"Wind Energy\",\"Python\"],[\"<a href=\\\"https://gitlab.windenergy.dtu.dk/TOPFARM/PyWake\\\" target=\\\"_blank\\\" style = \\\"color: black\\\">PyWake</a>\",2028,\"https://gitlab.windenergy.dtu.dk/TOPFARM/PyWake\",\"An AEP calculator for wind farms implemented in Python including<br>a collection of wake models.\",\"Renewable Energy\",\"Wind Energy\",null],[\"<a href=\\\"https://github.com/qpv-research-group/solcore5\\\" target=\\\"_blank\\\" style = \\\"color: black\\\">solcore5</a>\",2016,\"https://github.com/qpv-research-group/solcore5\",\"A multi-scale, Python-based library for the modeling of solar<br>cells and semiconductor materials.\",\"Renewable Energy\",\"Photovoltaics and Solar Energy\",\"Python\"],[\"<a href=\\\"https://gitlab.opengeosys.org/ogs/ogs\\\" target=\\\"_blank\\\" style = \\\"color: black\\\">OpenGeoSys 6</a>\",2013,\"https://gitlab.opengeosys.org/ogs/ogs\",\"A scientific open source project for the development of<br>numerical methods for the simulation of thermo-hydro-mechanical-<br>chemical processes in porous and fractured media.\",\"Renewable Energy\",\"Geothermal Energy\",null],[\"<a href=\\\"https://github.com/MassimoCimmino/pygfunction\\\" target=\\\"_blank\\\" style = \\\"color: black\\\">pygfunction</a>\",1802,\"https://github.com/MassimoCimmino/pygfunction\",\"An open source toolbox for the evaluation of thermal response<br>factors of geothermal borehole fields.\",\"Renewable Energy\",\"Geothermal Energy\",\"Python\"],[\"<a href=\\\"https://github.com/sunpower/pvfactors\\\" target=\\\"_blank\\\" style = \\\"color: black\\\">pvfactors</a>\",1791,\"https://github.com/sunpower/pvfactors\",\"Open source view-factor model for diffuse shading and bifacial<br>PV modeling.\",\"Renewable Energy\",\"Photovoltaics and Solar Energy\",\"Python\"],[\"<a href=\\\"https://github.com/oscarperpinan/solar\\\" target=\\\"_blank\\\" style = \\\"color: black\\\">solaR</a>\",1677,\"https://github.com/oscarperpinan/solar\",\"Allows for reproducible research both for photovoltaics systems<br>performance and solar radiation.\",\"Renewable Energy\",\"Photovoltaics and Solar Energy\",\"R\"],[\"<a href=\\\"https://github.com/nrel/rdtools\\\" target=\\\"_blank\\\" style = \\\"color: black\\\">rdtools</a>\",1362,\"https://github.com/nrel/rdtools\",\"An open source library to support reproducible technical<br>analysis of time series data from photovoltaic energy systems.\",\"Renewable Energy\",\"Photovoltaics and Solar Energy\",\"Python\"],[\"<a href=\\\"https://github.com/pvlib/pvanalytics\\\" target=\\\"_blank\\\" style = \\\"color: black\\\">pvanalytics</a>\",1171,\"https://github.com/pvlib/pvanalytics\",\"Quality control, filtering, feature labeling, and other tools<br>for working with data from photovoltaic energy systems.\",\"Renewable Energy\",\"Photovoltaics and Solar Energy\",\"Python\"],[\"<a href=\\\"https://github.com/SunPower/PVMismatch\\\" target=\\\"_blank\\\" style = \\\"color: black\\\">PVMismatch</a>\",848,\"https://github.com/SunPower/PVMismatch\",\"An explicit Python PV system IV & PV curve trace calculator<br>which can also calculate mismatch.\",\"Renewable Energy\",\"Photovoltaics and Solar Energy\",\"Jupyter Notebook\"],[\"<a href=\\\"https://github.com/biosteamdevelopmentgroup/biosteam\\\" target=\\\"_blank\\\" style = \\\"color: black\\\">biosteam</a>\",823,\"https://github.com/biosteamdevelopmentgroup/biosteam\",\"The Biorefinery Simulation and Techno-Economic Analysis Modules.\",\"Renewable Energy\",\"Bioenergy\",\"Python\"],[\"<a href=\\\"https://github.com/capytaine/capytaine\\\" target=\\\"_blank\\\" style = \\\"color: black\\\">Capytaine</a>\",718,\"https://github.com/capytaine/capytaine\",\"A Python package for the simulation of the interaction between<br>water waves and floating bodies in frequency domain.\",\"Renewable Energy\",\"Hydro Energy\",\"Python\"],[\"<a href=\\\"https://github.com/aqreed/solarpy\\\" target=\\\"_blank\\\" style = \\\"color: black\\\">solarpy</a>\",694,\"https://github.com/aqreed/solarpy\",\"This package aims to provide a reliable solar radiation model,<br>mainly based on the work of Duffie, J.A., and Beckman, W. A.,<br>1974, \\\"Solar energy thermal processes\\\".\",\"Renewable Energy\",\"Photovoltaics and Solar Energy\",\"Python\"],[\"<a href=\\\"https://github.com/SolarArbiter/solarforecastarbiter-core\\\" target=\\\"_blank\\\" style = \\\"color: black\\\">Solar Forecast Arbiter</a>\",591,\"https://github.com/SolarArbiter/solarforecastarbiter-core\",\"Core data gathering, validation, processing, and reporting<br>package for the Solar Forecast Arbiter.\",\"Renewable Energy\",\"Photovoltaics and Solar Energy\",\"Python\"],[\"<a href=\\\"https://github.com/renewables-ninja/gsee\\\" target=\\\"_blank\\\" style = \\\"color: black\\\">gsee</a>\",525,\"https://github.com/renewables-ninja/gsee\",\"Global Solar Energy Estimator.\",\"Renewable Energy\",\"Photovoltaics and Solar Energy\",\"Python\"],[\"<a href=\\\"https://github.com/wisdem/wisdem\\\" target=\\\"_blank\\\" style = \\\"color: black\\\">WISDEM</a>\",454,\"https://github.com/wisdem/wisdem\",\"Wind Plant Integrated System Design and Engineering Model.\",\"Renewable Energy\",\"Wind Energy\",\"Python\"]],\"hovertemplate\":\"<extra></extra>Downloads: <b>%{customdata[1]}</b><br>Git URL: <b>%{customdata[2]}</b><br>Description: <b>%{customdata[3]}</b><br>Category: <b>%{customdata[4]}</b><br>Sub Category: <b>%{customdata[5]}</b><br>Language: <b>%{customdata[6]}</b>\",\"legendgroup\":\"Renewable Energy\",\"marker\":{\"color\":\"rgb(93, 105, 177)\",\"pattern\":{\"shape\":\"\"}},\"name\":\"Renewable Energy\",\"offsetgroup\":\"Renewable Energy\",\"orientation\":\"h\",\"showlegend\":true,\"textposition\":\"auto\",\"x\":[247853,8222,5713,3128,2321,2274,2028,2016,2013,1802,1791,1677,1362,1171,848,823,718,694,591,525,454],\"xaxis\":\"x\",\"y\":[\"<a href=\\\"https://github.com/pvlib/pvlib-python\\\" target=\\\"_blank\\\" style = \\\"color: black\\\">pvlib-python</a>\",\"<a href=\\\"https://github.com/python-windrose/windrose\\\" target=\\\"_blank\\\" style = \\\"color: black\\\">windrose</a>\",\"<a href=\\\"https://github.com/CalebBell/thermo\\\" target=\\\"_blank\\\" style = \\\"color: black\\\">thermo</a>\",\"<a href=\\\"https://github.com/squishykid/solax\\\" target=\\\"_blank\\\" style = \\\"color: black\\\">solax</a>\",\"<a href=\\\"https://github.com/wind-python/windpowerlib\\\" target=\\\"_blank\\\" style = \\\"color: black\\\">windpowerlib</a>\",\"<a href=\\\"https://github.com/NREL/floris\\\" target=\\\"_blank\\\" style = \\\"color: black\\\">floris</a>\",\"<a href=\\\"https://gitlab.windenergy.dtu.dk/TOPFARM/PyWake\\\" target=\\\"_blank\\\" style = \\\"color: black\\\">PyWake</a>\",\"<a href=\\\"https://github.com/qpv-research-group/solcore5\\\" target=\\\"_blank\\\" style = \\\"color: black\\\">solcore5</a>\",\"<a href=\\\"https://gitlab.opengeosys.org/ogs/ogs\\\" target=\\\"_blank\\\" style = \\\"color: black\\\">OpenGeoSys 6</a>\",\"<a href=\\\"https://github.com/MassimoCimmino/pygfunction\\\" target=\\\"_blank\\\" style = \\\"color: black\\\">pygfunction</a>\",\"<a href=\\\"https://github.com/sunpower/pvfactors\\\" target=\\\"_blank\\\" style = \\\"color: black\\\">pvfactors</a>\",\"<a href=\\\"https://github.com/oscarperpinan/solar\\\" target=\\\"_blank\\\" style = \\\"color: black\\\">solaR</a>\",\"<a href=\\\"https://github.com/nrel/rdtools\\\" target=\\\"_blank\\\" style = \\\"color: black\\\">rdtools</a>\",\"<a href=\\\"https://github.com/pvlib/pvanalytics\\\" target=\\\"_blank\\\" style = \\\"color: black\\\">pvanalytics</a>\",\"<a href=\\\"https://github.com/SunPower/PVMismatch\\\" target=\\\"_blank\\\" style = \\\"color: black\\\">PVMismatch</a>\",\"<a href=\\\"https://github.com/biosteamdevelopmentgroup/biosteam\\\" target=\\\"_blank\\\" style = \\\"color: black\\\">biosteam</a>\",\"<a href=\\\"https://github.com/capytaine/capytaine\\\" target=\\\"_blank\\\" style = \\\"color: black\\\">Capytaine</a>\",\"<a href=\\\"https://github.com/aqreed/solarpy\\\" target=\\\"_blank\\\" style = \\\"color: black\\\">solarpy</a>\",\"<a href=\\\"https://github.com/SolarArbiter/solarforecastarbiter-core\\\" target=\\\"_blank\\\" style = \\\"color: black\\\">Solar Forecast Arbiter</a>\",\"<a href=\\\"https://github.com/renewables-ninja/gsee\\\" target=\\\"_blank\\\" style = \\\"color: black\\\">gsee</a>\",\"<a href=\\\"https://github.com/wisdem/wisdem\\\" target=\\\"_blank\\\" style = \\\"color: black\\\">WISDEM</a>\"],\"yaxis\":\"y\",\"type\":\"bar\",\"hoverinfo\":\"name+z\"},{\"alignmentgroup\":\"True\",\"customdata\":[[\"<a href=\\\"https://github.com/openeemeter/eeweather\\\" target=\\\"_blank\\\" style = \\\"color: black\\\">eeweather</a>\",116274,\"https://github.com/openeemeter/eeweather\",\"Fetch NCDC ISD, TMY3, or CZ2010 weather data that corresponds to<br>ZIP Code Tabulation Areas or Latitude/Longitude.\",\"Atmosphere\",\"Meteorological Observation and Forecast\",\"HTML\"],[\"<a href=\\\"https://github.com/Unidata/MetPy\\\" target=\\\"_blank\\\" style = \\\"color: black\\\">MetPy</a>\",25551,\"https://github.com/Unidata/MetPy\",\"A collection of tools in Python for reading, visualizing and<br>performing calculations with weather data.\",\"Atmosphere\",\"Meteorological Observation and Forecast\",\"Python\"],[\"<a href=\\\"https://github.com/earthobservations/wetterdienst\\\" target=\\\"_blank\\\" style = \\\"color: black\\\">wetterdienst</a>\",4753,\"https://github.com/earthobservations/wetterdienst\",\"Trying to make access to weather data in Python feel like a warm<br>summer breeze.\",\"Atmosphere\",\"Meteorological Observation and Forecast\",\"Python\"],[\"<a href=\\\"https://github.com/eliocamp/metR\\\" target=\\\"_blank\\\" style = \\\"color: black\\\">metR</a>\",4172,\"https://github.com/eliocamp/metR\",\"Several functions and utilities that make R better for handling<br>meteorological data in the tidy data paradigm.\",\"Atmosphere\",\"Meteorological Observation and Forecast\",\"R\"],[\"<a href=\\\"https://github.com/open-atmos/PySDM\\\" target=\\\"_blank\\\" style = \\\"color: black\\\">PySDM</a>\",2411,\"https://github.com/open-atmos/PySDM\",\"Pythonic particle-based warm-rain/aqueous-chemistry cloud<br>microphysics package.\",\"Atmosphere\",\"Atmospheric Chemistry and Aerosol\",\"Python\"],[\"<a href=\\\"https://github.com/NCAR/wrf-python\\\" target=\\\"_blank\\\" style = \\\"color: black\\\">wrf-python</a>\",2163,\"https://github.com/NCAR/wrf-python\",\"A collection of diagnostic and interpolation routines for use<br>with output from the Weather Research and Forecasting Model.\",\"Atmosphere\",\"Meteorological Observation and Forecast\",\"Python\"],[\"<a href=\\\"https://github.com/blaylockbk/Herbie\\\" target=\\\"_blank\\\" style = \\\"color: black\\\">Herbie</a>\",1910,\"https://github.com/blaylockbk/Herbie\",\"A python package that downloads recent and archived numerical<br>weather prediction model output from different cloud archive<br>sources.\",\"Atmosphere\",\"Meteorological Observation and Forecast\",\"Python\"],[\"<a href=\\\"https://github.com/arm-doe/act\\\" target=\\\"_blank\\\" style = \\\"color: black\\\">ACT</a>\",1485,\"https://github.com/arm-doe/act\",\"The Atmospheric data Community Toolkit is an open source Python<br>toolkit for working with atmospheric time-series datasets of<br>varying dimensions.\",\"Atmosphere\",\"Atmospheric Composition and Dynamics\",\"Python\"],[\"<a href=\\\"https://github.com/ecmwf/metview-python\\\" target=\\\"_blank\\\" style = \\\"color: black\\\">Metview Python bindings</a>\",1135,\"https://github.com/ecmwf/metview-python\",\"Python interface to Metview, a meteorological workstation and<br>batch system for accessing, examining, manipulating and<br>visualising meteorological data.\",\"Atmosphere\",\"Meteorological Observation and Forecast\",\"Python\"],[\"<a href=\\\"https://github.com/brry/rdwd\\\" target=\\\"_blank\\\" style = \\\"color: black\\\">rdwd</a>\",664,\"https://github.com/brry/rdwd\",\"An R package to select, download and read climate data from the<br>German Weather Service.\",\"Atmosphere\",\"Meteorological Observation and Forecast\",\"R\"],[\"<a href=\\\"https://github.com/ai2cm/pace\\\" target=\\\"_blank\\\" style = \\\"color: black\\\">Pace</a>\",579,\"https://github.com/ai2cm/pace\",\"A implementation of the FV3GFS / SHiELD atmospheric model<br>developed by NOAA/GFDL using the GT4Py domain-specific language<br>in Python.\",\"Atmosphere\",\"Atmospheric Composition and Dynamics\",\"Python\"],[\"<a href=\\\"https://github.com/TUW-GEO/rt1\\\" target=\\\"_blank\\\" style = \\\"color: black\\\">RT1</a>\",460,\"https://github.com/TUW-GEO/rt1\",\"A first order radiative transfer model for soil- and vegetation<br>related parameter retrievals from radar-data.\",\"Atmosphere\",\"Radiative Transfer\",\"Python\"]],\"hovertemplate\":\"<extra></extra>Downloads: <b>%{customdata[1]}</b><br>Git URL: <b>%{customdata[2]}</b><br>Description: <b>%{customdata[3]}</b><br>Category: <b>%{customdata[4]}</b><br>Sub Category: <b>%{customdata[5]}</b><br>Language: <b>%{customdata[6]}</b>\",\"legendgroup\":\"Atmosphere\",\"marker\":{\"color\":\"rgb(82, 188, 163)\",\"pattern\":{\"shape\":\"\"}},\"name\":\"Atmosphere\",\"offsetgroup\":\"Atmosphere\",\"orientation\":\"h\",\"showlegend\":true,\"textposition\":\"auto\",\"x\":[116274,25551,4753,4172,2411,2163,1910,1485,1135,664,579,460],\"xaxis\":\"x\",\"y\":[\"<a href=\\\"https://github.com/openeemeter/eeweather\\\" target=\\\"_blank\\\" style = \\\"color: black\\\">eeweather</a>\",\"<a href=\\\"https://github.com/Unidata/MetPy\\\" target=\\\"_blank\\\" style = \\\"color: black\\\">MetPy</a>\",\"<a href=\\\"https://github.com/earthobservations/wetterdienst\\\" target=\\\"_blank\\\" style = \\\"color: black\\\">wetterdienst</a>\",\"<a href=\\\"https://github.com/eliocamp/metR\\\" target=\\\"_blank\\\" style = \\\"color: black\\\">metR</a>\",\"<a href=\\\"https://github.com/open-atmos/PySDM\\\" target=\\\"_blank\\\" style = \\\"color: black\\\">PySDM</a>\",\"<a href=\\\"https://github.com/NCAR/wrf-python\\\" target=\\\"_blank\\\" style = \\\"color: black\\\">wrf-python</a>\",\"<a href=\\\"https://github.com/blaylockbk/Herbie\\\" target=\\\"_blank\\\" style = \\\"color: black\\\">Herbie</a>\",\"<a href=\\\"https://github.com/arm-doe/act\\\" target=\\\"_blank\\\" style = \\\"color: black\\\">ACT</a>\",\"<a href=\\\"https://github.com/ecmwf/metview-python\\\" target=\\\"_blank\\\" style = \\\"color: black\\\">Metview Python bindings</a>\",\"<a href=\\\"https://github.com/brry/rdwd\\\" target=\\\"_blank\\\" style = \\\"color: black\\\">rdwd</a>\",\"<a href=\\\"https://github.com/ai2cm/pace\\\" target=\\\"_blank\\\" style = \\\"color: black\\\">Pace</a>\",\"<a href=\\\"https://github.com/TUW-GEO/rt1\\\" target=\\\"_blank\\\" style = \\\"color: black\\\">RT1</a>\"],\"yaxis\":\"y\",\"type\":\"bar\",\"hoverinfo\":\"name+z\"},{\"alignmentgroup\":\"True\",\"customdata\":[[\"<a href=\\\"https://github.com/mobilityhouse/ocpp\\\" target=\\\"_blank\\\" style = \\\"color: black\\\">ocpp</a>\",83024,\"https://github.com/mobilityhouse/ocpp\",\"Python implementation of the Open Charge Point Protocol.\",\"Consumption\",\"Mobility and Transportation\",\"Python\"],[\"<a href=\\\"https://github.com/thegreenwebfoundation/co2.js\\\" target=\\\"_blank\\\" style = \\\"color: black\\\">co2.js</a>\",35917,\"https://github.com/thegreenwebfoundation/co2.js\",\"A npm module for accessing the green web API, and estimating the<br>carbon emissions from using digital services.\",\"Consumption\",\"Computation and Communication\",\"JavaScript\"],[\"<a href=\\\"https://github.com/cloud-carbon-footprint/cloud-carbon-footprint\\\" target=\\\"_blank\\\" style = \\\"color: black\\\">Cloud Carbon Footprint</a>\",32798,\"https://github.com/cloud-carbon-footprint/cloud-carbon-footprint\",\"A tool to estimate energy use (kilowatt-hours) and carbon<br>emissions (metric tons CO2e) from public cloud usage.\",\"Consumption\",\"Computation and Communication\",\"TypeScript\"],[\"<a href=\\\"https://github.com/CenterForTheBuiltEnvironment/pythermalcomfort\\\" target=\\\"_blank\\\" style = \\\"color: black\\\">pythermalcomfort</a>\",6611,\"https://github.com/CenterForTheBuiltEnvironment/pythermalcomfort\",\"Package to calculate several thermal comfort indices (e.g. PMV,<br>PPD, SET, adaptive) and convert physical variables.\",\"Consumption\",\"Buildings and Heating\",\"Python\"],[\"<a href=\\\"https://github.com/kwstat/agridat\\\" target=\\\"_blank\\\" style = \\\"color: black\\\">Agridat</a>\",2973,\"https://github.com/kwstat/agridat\",\"An extensive collection of datasets from agricultural<br>experiments.\",\"Consumption\",\"Agriculture and Nutrition\",\"R\"],[\"<a href=\\\"https://github.com/maasglobal/maas-schemas\\\" target=\\\"_blank\\\" style = \\\"color: black\\\">MaaS Global</a>\",2168,\"https://github.com/maasglobal/maas-schemas\",\"Mobility as a Service API - data model, tests and validation.\",\"Consumption\",\"Mobility and Transportation\",\"TypeScript\"],[\"<a href=\\\"https://github.com/jrester/tesla_powerwall\\\" target=\\\"_blank\\\" style = \\\"color: black\\\">tesla_powerwall</a>\",2115,\"https://github.com/jrester/tesla_powerwall\",\"Python Tesla Powerwall API for consuming a local endpoint.\",\"Consumption\",\"Mobility and Transportation\",\"Python\"],[\"<a href=\\\"https://github.com/blinktaginc/node-gtfs\\\" target=\\\"_blank\\\" style = \\\"color: black\\\">node-gtfs</a>\",1791,\"https://github.com/blinktaginc/node-gtfs\",\"Import GTFS transit data into SQLite and query routes, stops,<br>times, fares and more.\",\"Consumption\",\"Mobility and Transportation\",\"JavaScript\"],[\"<a href=\\\"https://github.com/oemof/tespy\\\" target=\\\"_blank\\\" style = \\\"color: black\\\">tespy</a>\",1374,\"https://github.com/oemof/tespy\",\"Provides a powerful simulation toolkit for thermal engineering<br>plants such as power plants, district heating systems or heat<br>pumps.\",\"Consumption\",\"Buildings and Heating\",\"Python\"],[\"<a href=\\\"https://github.com/NREL/OpenStudio\\\" target=\\\"_blank\\\" style = \\\"color: black\\\">OpenStudio</a>\",1339,\"https://github.com/NREL/OpenStudio\",\"A cross-platform collection of software tools to support whole<br>building energy modeling using EnergyPlus and advanced daylight<br>analysis using Radiance.\",\"Consumption\",\"Buildings and Heating\",\"C++\"],[\"<a href=\\\"https://github.com/ropensci/stplanr\\\" target=\\\"_blank\\\" style = \\\"color: black\\\">stplanr</a>\",1156,\"https://github.com/ropensci/stplanr\",\"A package for sustainable transport planning with R.\",\"Consumption\",\"Mobility and Transportation\",\"R\"],[\"<a href=\\\"https://github.com/JRCSTU/co2mpas-ta\\\" target=\\\"_blank\\\" style = \\\"color: black\\\">CO2MPAS-TA</a>\",1013,\"https://github.com/JRCSTU/co2mpas-ta\",\"CO2MPAS is backward-looking longitudinal-dynamics CO2 and fuel-<br>consumption simulator for light-duty vehicles.\",\"Consumption\",\"Mobility and Transportation\",\"Python\"],[\"<a href=\\\"https://github.com/aquacropos/aquacrop\\\" target=\\\"_blank\\\" style = \\\"color: black\\\">AquaCrop</a>\",884,\"https://github.com/aquacropos/aquacrop\",\"A free open-source tool for assessing climate and water impacts<br>on agriculture.\",\"Consumption\",\"Agriculture and Nutrition\",\"Python\"],[\"<a href=\\\"https://github.com/hongyuanjia/eplusr\\\" target=\\\"_blank\\\" style = \\\"color: black\\\">eplusr</a>\",813,\"https://github.com/hongyuanjia/eplusr\",\"Provides a rich toolkit of using whole building energy<br>simulation program EnergyPlus directly in R, which enables<br>programmatic navigation, modification of EnergyPlus, conducts<br>parametric simulations and retrieves outputs.\",\"Consumption\",\"Buildings and Heating\",\"R\"],[\"<a href=\\\"https://github.com/patch-technology/patch-node\\\" target=\\\"_blank\\\" style = \\\"color: black\\\">patch-node</a>\",600,\"https://github.com/patch-technology/patch-node\",\"The road to global carbon-neutrality will be through<br>programmatic compensation.\",\"Consumption\",\"Computation and Communication\",\"JavaScript\"],[\"<a href=\\\"https://github.com/rwth-ebc/teaser\\\" target=\\\"_blank\\\" style = \\\"color: black\\\">TEASER</a>\",579,\"https://github.com/rwth-ebc/teaser\",\"Tool for Energy Analysis and Simulation for Efficient Retrofit.\",\"Consumption\",\"Buildings and Heating\",\"Python\"],[\"<a href=\\\"https://github.com/ajwdewit/pcse\\\" target=\\\"_blank\\\" style = \\\"color: black\\\">PCSE</a>\",571,\"https://github.com/ajwdewit/pcse\",\"A framework developed for implementing crop simulation models<br>developed in Wageningen.\",\"Consumption\",\"Agriculture and Nutrition\",\"Python\"],[\"<a href=\\\"https://gitlab.com/energyincities/besos\\\" target=\\\"_blank\\\" style = \\\"color: black\\\">BESOS</a>\",530,\"https://gitlab.com/energyincities/besos\",\"A collection of modules for the simulation and optimization of<br>buildings and urban energy systems.\",\"Consumption\",\"Buildings and Heating\",null],[\"<a href=\\\"https://github.com/powerapi-ng/pyjoules\\\" target=\\\"_blank\\\" style = \\\"color: black\\\">pyJoules</a>\",503,\"https://github.com/powerapi-ng/pyjoules\",\"A software toolkit to measure the energy footprint of a host<br>machine along the execution of a piece of Python code.\",\"Consumption\",\"Computation and Communication\",\"Python\"],[\"<a href=\\\"https://github.com/cyclestreets/cyclestreets-r\\\" target=\\\"_blank\\\" style = \\\"color: black\\\">cyclestreets</a>\",480,\"https://github.com/cyclestreets/cyclestreets-r\",\"The goal of cyclestreets is to provide a simple R interface to<br>the CycleStreets routing service.\",\"Consumption\",\"Mobility and Transportation\",\"R\"],[\"<a href=\\\"https://github.com/ml-energy/zeus\\\" target=\\\"_blank\\\" style = \\\"color: black\\\">Zeus</a>\",477,\"https://github.com/ml-energy/zeus\",\"A Framework for Deep Learning Energy Measurement and<br>Optimization.\",\"Consumption\",\"Computation and Communication\",\"Python\"],[\"<a href=\\\"https://github.com/responsibleproblemsolving/energy-usage\\\" target=\\\"_blank\\\" style = \\\"color: black\\\">energyusage</a>\",456,\"https://github.com/responsibleproblemsolving/energy-usage\",\"A Python package that measures the environmental impact of<br>computation.\",\"Consumption\",\"Computation and Communication\",\"Python\"],[\"<a href=\\\"https://github.com/breakend/experiment-impact-tracker\\\" target=\\\"_blank\\\" style = \\\"color: black\\\">experiment-impact-tracker</a>\",445,\"https://github.com/breakend/experiment-impact-tracker\",\"Meant to be a simple drop-in method to track energy usage,<br>carbon emissions, and compute utilization of your system.\",\"Consumption\",\"Computation and Communication\",\"Python\"]],\"hovertemplate\":\"<extra></extra>Downloads: <b>%{customdata[1]}</b><br>Git URL: <b>%{customdata[2]}</b><br>Description: <b>%{customdata[3]}</b><br>Category: <b>%{customdata[4]}</b><br>Sub Category: <b>%{customdata[5]}</b><br>Language: <b>%{customdata[6]}</b>\",\"legendgroup\":\"Consumption\",\"marker\":{\"color\":\"rgb(153, 201, 69)\",\"pattern\":{\"shape\":\"\"}},\"name\":\"Consumption\",\"offsetgroup\":\"Consumption\",\"orientation\":\"h\",\"showlegend\":true,\"textposition\":\"auto\",\"x\":[83024,35917,32798,6611,2973,2168,2115,1791,1374,1339,1156,1013,884,813,600,579,571,530,503,480,477,456,445],\"xaxis\":\"x\",\"y\":[\"<a href=\\\"https://github.com/mobilityhouse/ocpp\\\" target=\\\"_blank\\\" style = \\\"color: black\\\">ocpp</a>\",\"<a href=\\\"https://github.com/thegreenwebfoundation/co2.js\\\" target=\\\"_blank\\\" style = \\\"color: black\\\">co2.js</a>\",\"<a href=\\\"https://github.com/cloud-carbon-footprint/cloud-carbon-footprint\\\" target=\\\"_blank\\\" style = \\\"color: black\\\">Cloud Carbon Footprint</a>\",\"<a href=\\\"https://github.com/CenterForTheBuiltEnvironment/pythermalcomfort\\\" target=\\\"_blank\\\" style = \\\"color: black\\\">pythermalcomfort</a>\",\"<a href=\\\"https://github.com/kwstat/agridat\\\" target=\\\"_blank\\\" style = \\\"color: black\\\">Agridat</a>\",\"<a href=\\\"https://github.com/maasglobal/maas-schemas\\\" target=\\\"_blank\\\" style = \\\"color: black\\\">MaaS Global</a>\",\"<a href=\\\"https://github.com/jrester/tesla_powerwall\\\" target=\\\"_blank\\\" style = \\\"color: black\\\">tesla_powerwall</a>\",\"<a href=\\\"https://github.com/blinktaginc/node-gtfs\\\" target=\\\"_blank\\\" style = \\\"color: black\\\">node-gtfs</a>\",\"<a href=\\\"https://github.com/oemof/tespy\\\" target=\\\"_blank\\\" style = \\\"color: black\\\">tespy</a>\",\"<a href=\\\"https://github.com/NREL/OpenStudio\\\" target=\\\"_blank\\\" style = \\\"color: black\\\">OpenStudio</a>\",\"<a href=\\\"https://github.com/ropensci/stplanr\\\" target=\\\"_blank\\\" style = \\\"color: black\\\">stplanr</a>\",\"<a href=\\\"https://github.com/JRCSTU/co2mpas-ta\\\" target=\\\"_blank\\\" style = \\\"color: black\\\">CO2MPAS-TA</a>\",\"<a href=\\\"https://github.com/aquacropos/aquacrop\\\" target=\\\"_blank\\\" style = \\\"color: black\\\">AquaCrop</a>\",\"<a href=\\\"https://github.com/hongyuanjia/eplusr\\\" target=\\\"_blank\\\" style = \\\"color: black\\\">eplusr</a>\",\"<a href=\\\"https://github.com/patch-technology/patch-node\\\" target=\\\"_blank\\\" style = \\\"color: black\\\">patch-node</a>\",\"<a href=\\\"https://github.com/rwth-ebc/teaser\\\" target=\\\"_blank\\\" style = \\\"color: black\\\">TEASER</a>\",\"<a href=\\\"https://github.com/ajwdewit/pcse\\\" target=\\\"_blank\\\" style = \\\"color: black\\\">PCSE</a>\",\"<a href=\\\"https://gitlab.com/energyincities/besos\\\" target=\\\"_blank\\\" style = \\\"color: black\\\">BESOS</a>\",\"<a href=\\\"https://github.com/powerapi-ng/pyjoules\\\" target=\\\"_blank\\\" style = \\\"color: black\\\">pyJoules</a>\",\"<a href=\\\"https://github.com/cyclestreets/cyclestreets-r\\\" target=\\\"_blank\\\" style = \\\"color: black\\\">cyclestreets</a>\",\"<a href=\\\"https://github.com/ml-energy/zeus\\\" target=\\\"_blank\\\" style = \\\"color: black\\\">Zeus</a>\",\"<a href=\\\"https://github.com/responsibleproblemsolving/energy-usage\\\" target=\\\"_blank\\\" style = \\\"color: black\\\">energyusage</a>\",\"<a href=\\\"https://github.com/breakend/experiment-impact-tracker\\\" target=\\\"_blank\\\" style = \\\"color: black\\\">experiment-impact-tracker</a>\"],\"yaxis\":\"y\",\"type\":\"bar\",\"hoverinfo\":\"name+z\"},{\"alignmentgroup\":\"True\",\"customdata\":[[\"<a href=\\\"https://github.com/energywebfoundation/origin\\\" target=\\\"_blank\\\" style = \\\"color: black\\\">origin</a>\",81160,\"https://github.com/energywebfoundation/origin\",\"A set of toolkits that together provide a system for issuance<br>and management of Energy Attribute Certificates.\",\"Energy Systems\",\"Energy Distribution and Grids\",\"TypeScript\"],[\"<a href=\\\"https://github.com/EnergieID/entsoe-py\\\" target=\\\"_blank\\\" style = \\\"color: black\\\">entsoe-py</a>\",36438,\"https://github.com/EnergieID/entsoe-py\",\"A Python client for the ENTSO-E API (European Network of<br>Transmission System Operators for Electricity).\",\"Energy Systems\",\"Energy System Data Access\",\"Python\"],[\"<a href=\\\"https://github.com/openeemeter/eemeter\\\" target=\\\"_blank\\\" style = \\\"color: black\\\">eemeter</a>\",14889,\"https://github.com/openeemeter/eemeter\",\"An open source Python package for implementing and developing<br>standard methods for calculating normalized metered energy<br>consumption and avoided energy use.\",\"Energy Systems\",\"Energy Monitoring and Management\",\"Python\"],[\"<a href=\\\"https://github.com/PyPSA/PyPSA\\\" target=\\\"_blank\\\" style = \\\"color: black\\\">PyPSA</a>\",6921,\"https://github.com/PyPSA/PyPSA\",\"A free software toolbox for simulating and optimizing modern<br>power systems that include features such as conventional<br>generators with unit commitment, variable wind and solar<br>generation, storage units, coupling to other energy sectors, and<br>mixed alternating and direct current networks.\",\"Energy Systems\",\"Energy Modeling and Optimization\",\"Python\"],[\"<a href=\\\"https://github.com/grid-parity-exchange/Egret\\\" target=\\\"_blank\\\" style = \\\"color: black\\\">Egret</a>\",6127,\"https://github.com/grid-parity-exchange/Egret\",\"A Python-based package for electrical grid optimization based on<br>the Pyomo optimization modeling language.\",\"Energy Systems\",\"Energy Distribution and Grids\",\"Python\"],[\"<a href=\\\"https://github.com/kmax12/gridstatus\\\" target=\\\"_blank\\\" style = \\\"color: black\\\">gridstatus</a>\",4260,\"https://github.com/kmax12/gridstatus\",\"Provides standardized API to access energy data from the major<br>Independent System Operators in the United States.\",\"Energy Systems\",\"Energy System Data Access\",\"Python\"],[\"<a href=\\\"https://github.com/robinhenry/gym-anm\\\" target=\\\"_blank\\\" style = \\\"color: black\\\">Gym-ANM</a>\",3337,\"https://github.com/robinhenry/gym-anm\",\"Design Reinforcement Learning environments that model Active<br>Network Management tasks in electricity distribution networks.\",\"Energy Systems\",\"Energy Distribution and Grids\",\"Python\"],[\"<a href=\\\"https://github.com/OSUKED/ElexonDataPortal\\\" target=\\\"_blank\\\" style = \\\"color: black\\\">ElexonDataPortal</a>\",3270,\"https://github.com/OSUKED/ElexonDataPortal\",\"Wrapper for the Balancing Mechanism Reporting Service API to<br>balance power flowing on to and off from the electricity<br>Transmission System in Great Britain.\",\"Energy Systems\",\"Energy System Data Access\",\"Jupyter Notebook\"],[\"<a href=\\\"https://github.com/sanpen/gridcal\\\" target=\\\"_blank\\\" style = \\\"color: black\\\">GridCal</a>\",2660,\"https://github.com/sanpen/gridcal\",\"Aims to be a complete platform for power systems research and<br>simulation.\",\"Energy Systems\",\"Energy Distribution and Grids\",\"Python\"],[\"<a href=\\\"https://github.com/pypsa/atlite\\\" target=\\\"_blank\\\" style = \\\"color: black\\\">atlite</a>\",2632,\"https://github.com/pypsa/atlite\",\"Light-weight version of Aarhus RE Atlas for converting weather<br>data to power systems data.\",\"Energy Systems\",\"Energy System Data Access\",\"Python\"],[\"<a href=\\\"https://github.com/rte-france/grid2op\\\" target=\\\"_blank\\\" style = \\\"color: black\\\">Grid2Op</a>\",1844,\"https://github.com/rte-france/grid2op\",\"A testbed platform to model sequential decision making in power<br>systems.\",\"Energy Systems\",\"Energy Distribution and Grids\",\"Python\"],[\"<a href=\\\"https://github.com/mzy2240/ESA\\\" target=\\\"_blank\\\" style = \\\"color: black\\\">Easy SimAuto</a>\",1700,\"https://github.com/mzy2240/ESA\",\"An easy-to-use Power System Analysis Automation Platform atop<br>PowerWorld's Simulator Automation Server.\",\"Energy Systems\",\"Energy Distribution and Grids\",\"Python\"],[\"<a href=\\\"https://github.com/intelligent-environments-lab/CityLearn\\\" target=\\\"_blank\\\" style = \\\"color: black\\\">CityLearn</a>\",1612,\"https://github.com/intelligent-environments-lab/CityLearn\",\"Official reinforcement learning environment for demand response<br>and load shaping.\",\"Energy Systems\",\"Energy Modeling and Optimization\",\"Python\"],[\"<a href=\\\"https://github.com/fzj-iek3-vsa/tsam\\\" target=\\\"_blank\\\" style = \\\"color: black\\\">tsam</a>\",1525,\"https://github.com/fzj-iek3-vsa/tsam\",\"A Python package which uses different machine learning<br>algorithms for the aggregation of time series.\",\"Energy Systems\",\"Energy Modeling and Optimization\",\"Python\"],[\"<a href=\\\"https://github.com/OpenSTEF/openstef\\\" target=\\\"_blank\\\" style = \\\"color: black\\\">OpenSTEF</a>\",901,\"https://github.com/OpenSTEF/openstef\",\"A Python package which is used to make short term forecasts for<br>the energy sector.\",\"Energy Systems\",\"Energy Modeling and Optimization\",\"HTML\"],[\"<a href=\\\"https://github.com/oemof/demandlib\\\" target=\\\"_blank\\\" style = \\\"color: black\\\">demandlib</a>\",890,\"https://github.com/oemof/demandlib\",\"With the demandlib you can create power and heat profiles for<br>various sectors by scaling them to your desired demand.\",\"Energy Systems\",\"Energy Modeling and Optimization\",\"Python\"],[\"<a href=\\\"https://github.com/GMLC-TDC/HELICS\\\" target=\\\"_blank\\\" style = \\\"color: black\\\">HELICS</a>\",881,\"https://github.com/GMLC-TDC/HELICS\",\"Today the core uses are in the energy domain, where there is<br>extensive and growing support for a wide-range of electric power<br>system, natural gas, communications and control-schemes,<br>transportation, buildings, and related domain tools.\",\"Energy Systems\",\"Energy Modeling and Optimization\",\"C++\"],[\"<a href=\\\"https://github.com/rte-antares-rpackage/antaresread\\\" target=\\\"_blank\\\" style = \\\"color: black\\\">antaresRead</a>\",836,\"https://github.com/rte-antares-rpackage/antaresread\",\"Import, manipulate and explore the results of an Antares<br>simulation.\",\"Energy Systems\",\"Energy Modeling and Optimization\",\"R\"],[\"<a href=\\\"https://github.com/NREL/reV\\\" target=\\\"_blank\\\" style = \\\"color: black\\\">reV</a>\",560,\"https://github.com/NREL/reV\",\"Enables the efficient and scalable computation of renewable<br>energy generation, levelized cost of energy, application of<br>geospatial exclusion layers, and generation of renewable energy<br>supply curves.\",\"Energy Systems\",\"Energy Modeling and Optimization\",\"Python\"],[\"<a href=\\\"https://github.com/rte-antares-rpackage/antaresviz\\\" target=\\\"_blank\\\" style = \\\"color: black\\\">antaresViz</a>\",513,\"https://github.com/rte-antares-rpackage/antaresviz\",\"Visualize the results of Antares, an Open Source power system<br>simulator meant to be used by anybody placing value in<br>quantifying the adequacy or the economic performance of<br>interconnected energy systems, at short or remote time horizons.\",\"Energy Systems\",\"Energy Modeling and Optimization\",\"R\"],[\"<a href=\\\"https://github.com/epri-dev/OpenDER\\\" target=\\\"_blank\\\" style = \\\"color: black\\\">OpenDER</a>\",494,\"https://github.com/epri-dev/OpenDER\",\"Aims to accurately represent steady-state and dynamic behaviors<br>of inverter-based distributed energy resources.\",\"Energy Systems\",\"Energy Modeling and Optimization\",\"Python\"],[\"<a href=\\\"https://github.com/rl-institut/multi-vector-simulator\\\" target=\\\"_blank\\\" style = \\\"color: black\\\">MVS</a>\",455,\"https://github.com/rl-institut/multi-vector-simulator\",\"The multi-vector simulator allows the evaluation of local<br>sector-coupled energy systems that include the energy carriers<br>electricity, heat and/or gas.\",\"Energy Systems\",\"Energy Modeling and Optimization\",\"Python\"],[\"<a href=\\\"https://gitlab.com/energyincities/python-ehub\\\" target=\\\"_blank\\\" style = \\\"color: black\\\">pyehub</a>\",455,\"https://gitlab.com/energyincities/python-ehub\",\"A Python-based, modular and nestable implementation of the<br>Energy Hub model (balancing demand and supply, system capacity<br>sizing and network flows using Mixed-Integer Linear<br>Programming).\",\"Energy Systems\",\"Energy Distribution and Grids\",null],[\"<a href=\\\"https://github.com/openenergyplatform/open-mastr\\\" target=\\\"_blank\\\" style = \\\"color: black\\\">open-MaStR</a>\",442,\"https://github.com/openenergyplatform/open-mastr\",\"Download and process German energy data from BNetzA database<br>Marktstammdatenregister.\",\"Energy Systems\",\"Energy System Data Access\",\"Python\"],[\"<a href=\\\"https://github.com/UNSW-CEEM/nempy\\\" target=\\\"_blank\\\" style = \\\"color: black\\\">nempy</a>\",433,\"https://github.com/UNSW-CEEM/nempy\",\"Aims to enhance the Australian electricity industries modeling<br>and analytical capabilities.\",\"Energy Systems\",\"Energy Modeling and Optimization\",\"Python\"]],\"hovertemplate\":\"<extra></extra>Downloads: <b>%{customdata[1]}</b><br>Git URL: <b>%{customdata[2]}</b><br>Description: <b>%{customdata[3]}</b><br>Category: <b>%{customdata[4]}</b><br>Sub Category: <b>%{customdata[5]}</b><br>Language: <b>%{customdata[6]}</b>\",\"legendgroup\":\"Energy Systems\",\"marker\":{\"color\":\"rgb(204, 97, 176)\",\"pattern\":{\"shape\":\"\"}},\"name\":\"Energy Systems\",\"offsetgroup\":\"Energy Systems\",\"orientation\":\"h\",\"showlegend\":true,\"textposition\":\"auto\",\"x\":[81160,36438,14889,6921,6127,4260,3337,3270,2660,2632,1844,1700,1612,1525,901,890,881,836,560,513,494,455,455,442,433],\"xaxis\":\"x\",\"y\":[\"<a href=\\\"https://github.com/energywebfoundation/origin\\\" target=\\\"_blank\\\" style = \\\"color: black\\\">origin</a>\",\"<a href=\\\"https://github.com/EnergieID/entsoe-py\\\" target=\\\"_blank\\\" style = \\\"color: black\\\">entsoe-py</a>\",\"<a href=\\\"https://github.com/openeemeter/eemeter\\\" target=\\\"_blank\\\" style = \\\"color: black\\\">eemeter</a>\",\"<a href=\\\"https://github.com/PyPSA/PyPSA\\\" target=\\\"_blank\\\" style = \\\"color: black\\\">PyPSA</a>\",\"<a href=\\\"https://github.com/grid-parity-exchange/Egret\\\" target=\\\"_blank\\\" style = \\\"color: black\\\">Egret</a>\",\"<a href=\\\"https://github.com/kmax12/gridstatus\\\" target=\\\"_blank\\\" style = \\\"color: black\\\">gridstatus</a>\",\"<a href=\\\"https://github.com/robinhenry/gym-anm\\\" target=\\\"_blank\\\" style = \\\"color: black\\\">Gym-ANM</a>\",\"<a href=\\\"https://github.com/OSUKED/ElexonDataPortal\\\" target=\\\"_blank\\\" style = \\\"color: black\\\">ElexonDataPortal</a>\",\"<a href=\\\"https://github.com/sanpen/gridcal\\\" target=\\\"_blank\\\" style = \\\"color: black\\\">GridCal</a>\",\"<a href=\\\"https://github.com/pypsa/atlite\\\" target=\\\"_blank\\\" style = \\\"color: black\\\">atlite</a>\",\"<a href=\\\"https://github.com/rte-france/grid2op\\\" target=\\\"_blank\\\" style = \\\"color: black\\\">Grid2Op</a>\",\"<a href=\\\"https://github.com/mzy2240/ESA\\\" target=\\\"_blank\\\" style = \\\"color: black\\\">Easy SimAuto</a>\",\"<a href=\\\"https://github.com/intelligent-environments-lab/CityLearn\\\" target=\\\"_blank\\\" style = \\\"color: black\\\">CityLearn</a>\",\"<a href=\\\"https://github.com/fzj-iek3-vsa/tsam\\\" target=\\\"_blank\\\" style = \\\"color: black\\\">tsam</a>\",\"<a href=\\\"https://github.com/OpenSTEF/openstef\\\" target=\\\"_blank\\\" style = \\\"color: black\\\">OpenSTEF</a>\",\"<a href=\\\"https://github.com/oemof/demandlib\\\" target=\\\"_blank\\\" style = \\\"color: black\\\">demandlib</a>\",\"<a href=\\\"https://github.com/GMLC-TDC/HELICS\\\" target=\\\"_blank\\\" style = \\\"color: black\\\">HELICS</a>\",\"<a href=\\\"https://github.com/rte-antares-rpackage/antaresread\\\" target=\\\"_blank\\\" style = \\\"color: black\\\">antaresRead</a>\",\"<a href=\\\"https://github.com/NREL/reV\\\" target=\\\"_blank\\\" style = \\\"color: black\\\">reV</a>\",\"<a href=\\\"https://github.com/rte-antares-rpackage/antaresviz\\\" target=\\\"_blank\\\" style = \\\"color: black\\\">antaresViz</a>\",\"<a href=\\\"https://github.com/epri-dev/OpenDER\\\" target=\\\"_blank\\\" style = \\\"color: black\\\">OpenDER</a>\",\"<a href=\\\"https://github.com/rl-institut/multi-vector-simulator\\\" target=\\\"_blank\\\" style = \\\"color: black\\\">MVS</a>\",\"<a href=\\\"https://gitlab.com/energyincities/python-ehub\\\" target=\\\"_blank\\\" style = \\\"color: black\\\">pyehub</a>\",\"<a href=\\\"https://github.com/openenergyplatform/open-mastr\\\" target=\\\"_blank\\\" style = \\\"color: black\\\">open-MaStR</a>\",\"<a href=\\\"https://github.com/UNSW-CEEM/nempy\\\" target=\\\"_blank\\\" style = \\\"color: black\\\">nempy</a>\"],\"yaxis\":\"y\",\"type\":\"bar\",\"hoverinfo\":\"name+z\"},{\"alignmentgroup\":\"True\",\"customdata\":[[\"<a href=\\\"https://github.com/onaci/leaflet-velocity\\\" target=\\\"_blank\\\" style = \\\"color: black\\\">leaflet-velocity</a>\",44058,\"https://github.com/onaci/leaflet-velocity\",\"Create a canvas visualization layer for direction and intensity<br>of arbitrary velocities (e.g. wind, ocean current).\",\"Hydrosphere\",\"Waves and Currents\",\"JavaScript\"],[\"<a href=\\\"https://github.com/dankelley/oce\\\" target=\\\"_blank\\\" style = \\\"color: black\\\">oce</a>\",3569,\"https://github.com/dankelley/oce\",\"An R package for oceanographic processing.\",\"Hydrosphere\",\"Ocean and Hydrology Data Access\",\"R\"],[\"<a href=\\\"https://github.com/gclunies/noaa_coops\\\" target=\\\"_blank\\\" style = \\\"color: black\\\">noaa_coops</a>\",2457,\"https://github.com/gclunies/noaa_coops\",\"A Python wrapper for the NOAA CO-OPS Tides & Currents Data and<br>Metadata APIs.\",\"Hydrosphere\",\"Ocean and Hydrology Data Access\",\"Python\"],[\"<a href=\\\"https://github.com/kvos/CoastSat\\\" target=\\\"_blank\\\" style = \\\"color: black\\\">CoastSat</a>\",1218,\"https://github.com/kvos/CoastSat\",\"Enables users to obtain time-series of shoreline position at any<br>coastline worldwide from 30+ years of publicly available<br>satellite imagery.\",\"Hydrosphere\",\"Coastal and Reefs\",\"Jupyter Notebook\"],[\"<a href=\\\"https://github.com/parflow/parflow\\\" target=\\\"_blank\\\" style = \\\"color: black\\\">ParFlow</a>\",790,\"https://github.com/parflow/parflow\",\"An open-source, modular, parallel watershed flow model.\",\"Hydrosphere\",\"Freshwater and Hydrology\",\"C\"],[\"<a href=\\\"https://github.com/ropensci/tidyhydat\\\" target=\\\"_blank\\\" style = \\\"color: black\\\">tidyhydat</a>\",655,\"https://github.com/ropensci/tidyhydat\",\"An R package to import Water Survey of Canada hydrometric data<br>and make it tidy.\",\"Hydrosphere\",\"Ocean and Hydrology Data Access\",\"R\"],[\"<a href=\\\"https://github.com/robwschlegel/heatwaveR\\\" target=\\\"_blank\\\" style = \\\"color: black\\\">heatwaveR</a>\",646,\"https://github.com/robwschlegel/heatwaveR\",\"Contains the original functions from the RmarineHeatWaves<br>package that calculate and display marine heatwaves according to<br>the definition of Hobday et al. (2016).\",\"Hydrosphere\",\"Ocean Carbon and Temperature\",\"R\"],[\"<a href=\\\"https://github.com/floschl/pysamosa\\\" target=\\\"_blank\\\" style = \\\"color: black\\\">PySAMOSA</a>\",505,\"https://github.com/floschl/pysamosa\",\"A Python-based software for processing open ocean and coastal<br>waveforms from SAR satellite altimetry to measure sea surface<br>heights, wave heights, and wind speed for the oceans and inland<br>waters.\",\"Hydrosphere\",\"Coastal and Reefs\",\"Jupyter Notebook\"],[\"<a href=\\\"https://github.com/wavespectra/wavespectra\\\" target=\\\"_blank\\\" style = \\\"color: black\\\">wavespectra</a>\",455,\"https://github.com/wavespectra/wavespectra\",\"An open source project for working with ocean wave spectral<br>data.\",\"Hydrosphere\",\"Waves and Currents\",\"Python\"]],\"hovertemplate\":\"<extra></extra>Downloads: <b>%{customdata[1]}</b><br>Git URL: <b>%{customdata[2]}</b><br>Description: <b>%{customdata[3]}</b><br>Category: <b>%{customdata[4]}</b><br>Sub Category: <b>%{customdata[5]}</b><br>Language: <b>%{customdata[6]}</b>\",\"legendgroup\":\"Hydrosphere\",\"marker\":{\"color\":\"rgb(36, 121, 108)\",\"pattern\":{\"shape\":\"\"}},\"name\":\"Hydrosphere\",\"offsetgroup\":\"Hydrosphere\",\"orientation\":\"h\",\"showlegend\":true,\"textposition\":\"auto\",\"x\":[44058,3569,2457,1218,790,655,646,505,455],\"xaxis\":\"x\",\"y\":[\"<a href=\\\"https://github.com/onaci/leaflet-velocity\\\" target=\\\"_blank\\\" style = \\\"color: black\\\">leaflet-velocity</a>\",\"<a href=\\\"https://github.com/dankelley/oce\\\" target=\\\"_blank\\\" style = \\\"color: black\\\">oce</a>\",\"<a href=\\\"https://github.com/gclunies/noaa_coops\\\" target=\\\"_blank\\\" style = \\\"color: black\\\">noaa_coops</a>\",\"<a href=\\\"https://github.com/kvos/CoastSat\\\" target=\\\"_blank\\\" style = \\\"color: black\\\">CoastSat</a>\",\"<a href=\\\"https://github.com/parflow/parflow\\\" target=\\\"_blank\\\" style = \\\"color: black\\\">ParFlow</a>\",\"<a href=\\\"https://github.com/ropensci/tidyhydat\\\" target=\\\"_blank\\\" style = \\\"color: black\\\">tidyhydat</a>\",\"<a href=\\\"https://github.com/robwschlegel/heatwaveR\\\" target=\\\"_blank\\\" style = \\\"color: black\\\">heatwaveR</a>\",\"<a href=\\\"https://github.com/floschl/pysamosa\\\" target=\\\"_blank\\\" style = \\\"color: black\\\">PySAMOSA</a>\",\"<a href=\\\"https://github.com/wavespectra/wavespectra\\\" target=\\\"_blank\\\" style = \\\"color: black\\\">wavespectra</a>\"],\"yaxis\":\"y\",\"type\":\"bar\",\"hoverinfo\":\"name+z\"},{\"alignmentgroup\":\"True\",\"customdata\":[[\"<a href=\\\"https://github.com/sentinel-hub/sentinelhub-py\\\" target=\\\"_blank\\\" style = \\\"color: black\\\">sentinelhub-py</a>\",24785,\"https://github.com/sentinel-hub/sentinelhub-py\",\"Download and process satellite imagery in Python using Sentinel<br>Hub services.\",\"Sustainable Development\",\"Environmental Satellites\",\"Python\"],[\"<a href=\\\"https://github.com/sentinelsat/sentinelsat\\\" target=\\\"_blank\\\" style = \\\"color: black\\\">sentinelsat</a>\",17702,\"https://github.com/sentinelsat/sentinelsat\",\"Makes searching, downloading and retrieving the metadata of<br>Sentinel satellite images from the Copernicus Open Access Hub<br>easy.\",\"Sustainable Development\",\"Environmental Satellites\",\"Python\"],[\"<a href=\\\"https://github.com/kapadia/usgs\\\" target=\\\"_blank\\\" style = \\\"color: black\\\">USGS</a>\",9333,\"https://github.com/kapadia/usgs\",\"A python module for interfacing with the US Geological Survey's<br>API.\",\"Sustainable Development\",\"Data Catalogs and Interfaces\",\"Python\"],[\"<a href=\\\"https://github.com/pytroll/satpy\\\" target=\\\"_blank\\\" style = \\\"color: black\\\">satpy</a>\",8314,\"https://github.com/pytroll/satpy\",\"A python library for reading and manipulating meteorological<br>remote sensing data and writing it to various image and data<br>file formats.\",\"Sustainable Development\",\"Environmental Satellites\",\"Python\"],[\"<a href=\\\"https://github.com/michaeldavie/env_canada\\\" target=\\\"_blank\\\" style = \\\"color: black\\\">env_canada</a>\",5157,\"https://github.com/michaeldavie/env_canada\",\"Provides access to various data sources published by Environment<br>and Climate Change Canada.\",\"Sustainable Development\",\"Data Catalogs and Interfaces\",\"Python\"],[\"<a href=\\\"https://github.com/Unidata/siphon\\\" target=\\\"_blank\\\" style = \\\"color: black\\\">Siphon</a>\",4919,\"https://github.com/Unidata/siphon\",\"A collection of Python utilities for retrieving atmospheric and<br>oceanic data from remote sources, focusing on being able to<br>retrieve data from Unidata data technologies.\",\"Sustainable Development\",\"Data Catalogs and Interfaces\",\"Python\"],[\"<a href=\\\"https://github.com/r-earthengine/ee_extra\\\" target=\\\"_blank\\\" style = \\\"color: black\\\">eeExtra</a>\",3972,\"https://github.com/r-earthengine/ee_extra\",\"A ninja python package that unifies the Google Earth Engine<br>ecosystem.\",\"Sustainable Development\",\"Data Catalogs and Interfaces\",\"Python\"],[\"<a href=\\\"https://github.com/ropengov/eurostat\\\" target=\\\"_blank\\\" style = \\\"color: black\\\">eurostat R package</a>\",3183,\"https://github.com/ropengov/eurostat\",\"R tools to access open data from Eurostat, the statistical<br>office of the European Union.\",\"Sustainable Development\",\"Data Catalogs and Interfaces\",\"CSS\"],[\"<a href=\\\"https://github.com/Open-EO/openeo-python-client\\\" target=\\\"_blank\\\" style = \\\"color: black\\\">openEO</a>\",2920,\"https://github.com/Open-EO/openeo-python-client\",\"Provides intuitive programming libraries to process a wide<br>variety of earth observation datasets.\",\"Sustainable Development\",\"Environmental Satellites\",\"Python\"],[\"<a href=\\\"https://github.com/rOpenGov/giscoR\\\" target=\\\"_blank\\\" style = \\\"color: black\\\">giscoR</a>\",2442,\"https://github.com/rOpenGov/giscoR\",\"An R API package that helps to retrieve data from Eurostat<br>Geographic Information System of the Commission.\",\"Sustainable Development\",\"Data Catalogs and Interfaces\",\"R\"],[\"<a href=\\\"https://github.com/radiantearth/radiant-mlhub\\\" target=\\\"_blank\\\" style = \\\"color: black\\\">Radiant MLHub Python Client</a>\",1927,\"https://github.com/radiantearth/radiant-mlhub\",\"Open community commons for geospatial training data, machine<br>learning models, and standards to encourage collaboration and<br>share information.\",\"Sustainable Development\",\"Data Catalogs and Interfaces\",\"Python\"],[\"<a href=\\\"https://github.com/nsidc/earthaccess\\\" target=\\\"_blank\\\" style = \\\"color: black\\\">earthaccess</a>\",1792,\"https://github.com/nsidc/earthaccess\",\"Search, download or stream NASA Earth science data with just a<br>few lines of code.\",\"Sustainable Development\",\"Data Catalogs and Interfaces\",\"Python\"],[\"<a href=\\\"https://github.com/digitalearthafrica/deafrica-sandbox-notebooks\\\" target=\\\"_blank\\\" style = \\\"color: black\\\">Digital Earth Africa Notebooks</a>\",1362,\"https://github.com/digitalearthafrica/deafrica-sandbox-notebooks\",\"Using Earth observations to address social, environmental and<br>economic changes on the Africa continent.\",\"Sustainable Development\",\"Data Catalogs and Interfaces\",\"Jupyter Notebook\"],[\"<a href=\\\"https://github.com/NEONScience/NEON-utilities\\\" target=\\\"_blank\\\" style = \\\"color: black\\\">NEON</a>\",1318,\"https://github.com/NEONScience/NEON-utilities\",\"The National Ecological Observatory Network provides open data<br>to understand changing ecosystems.\",\"Sustainable Development\",\"Data Catalogs and Interfaces\",\"R\"],[\"<a href=\\\"https://github.com/yannforget/landsatxplore\\\" target=\\\"_blank\\\" style = \\\"color: black\\\">landsatxplore</a>\",948,\"https://github.com/yannforget/landsatxplore\",\"Provides an interface to the EarthExplorer portal to search and<br>download Landsat Collections scenes through a command-line<br>interface or a Python API.\",\"Sustainable Development\",\"Environmental Satellites\",\"Python\"],[\"<a href=\\\"https://github.com/ropensci/MODIStsp\\\" target=\\\"_blank\\\" style = \\\"color: black\\\">MODIStsp</a>\",911,\"https://github.com/ropensci/MODIStsp\",\"An R package for automatic download and preprocessing of MODIS<br>Land Products Time-Series.\",\"Sustainable Development\",\"Environmental Satellites\",\"R\"],[\"<a href=\\\"https://github.com/bluegreen-labs/MODISTools\\\" target=\\\"_blank\\\" style = \\\"color: black\\\">MODISTools</a>\",871,\"https://github.com/bluegreen-labs/MODISTools\",\"Interface to the MODIS Land Products Subsets Web Services.\",\"Sustainable Development\",\"Environmental Satellites\",\"R\"],[\"<a href=\\\"https://github.com/dataoneorg/d1_python\\\" target=\\\"_blank\\\" style = \\\"color: black\\\">DataONE</a>\",837,\"https://github.com/dataoneorg/d1_python\",\"A community driven project providing access to data across<br>multiple member repositories, supporting enhanced search and<br>discovery of Earth and environmental data.\",\"Sustainable Development\",\"Data Catalogs and Interfaces\",\"Python\"],[\"<a href=\\\"https://github.com/piersyork/owidR\\\" target=\\\"_blank\\\" style = \\\"color: black\\\">owidR</a>\",556,\"https://github.com/piersyork/owidR\",\"An R Package for Interacting with Data from Our World in Data.\",\"Sustainable Development\",\"Data Catalogs and Interfaces\",\"R\"],[\"<a href=\\\"https://github.com/os-climate/physrisk\\\" target=\\\"_blank\\\" style = \\\"color: black\\\">physrisk</a>\",478,\"https://github.com/os-climate/physrisk\",\"Primarily designed to run 'bottom-up' calculations that model<br>the impact of climate hazards on large numbers of individual<br>assets including natural and operations.\",\"Sustainable Development\",\"Sustainable Investment\",\"Python\"],[\"<a href=\\\"https://github.com/pik-primap/climate_categories\\\" target=\\\"_blank\\\" style = \\\"color: black\\\">Climate categories</a>\",460,\"https://github.com/pik-primap/climate_categories\",\"Commonly used codes, categories, terminologies, and<br>nomenclatures used in climate policy analysis in a nice Python<br>package.\",\"Sustainable Development\",\"Taxonomy and Ontology\",\"Python\"],[\"<a href=\\\"https://github.com/dataoneorg/rdataone\\\" target=\\\"_blank\\\" style = \\\"color: black\\\">rdataone</a>\",451,\"https://github.com/dataoneorg/rdataone\",\"R package for reading and writing data at DataONE data<br>repositories.\",\"Sustainable Development\",\"Data Catalogs and Interfaces\",\"R\"],[\"<a href=\\\"https://github.com/lucadelu/pymodis\\\" target=\\\"_blank\\\" style = \\\"color: black\\\">pyModis</a>\",429,\"https://github.com/lucadelu/pymodis\",\"A Python library to download and process MODIS data from NASA<br>server.\",\"Sustainable Development\",\"Environmental Satellites\",\"Python\"]],\"hovertemplate\":\"<extra></extra>Downloads: <b>%{customdata[1]}</b><br>Git URL: <b>%{customdata[2]}</b><br>Description: <b>%{customdata[3]}</b><br>Category: <b>%{customdata[4]}</b><br>Sub Category: <b>%{customdata[5]}</b><br>Language: <b>%{customdata[6]}</b>\",\"legendgroup\":\"Sustainable Development\",\"marker\":{\"color\":\"rgb(218, 165, 27)\",\"pattern\":{\"shape\":\"\"}},\"name\":\"Sustainable Development\",\"offsetgroup\":\"Sustainable Development\",\"orientation\":\"h\",\"showlegend\":true,\"textposition\":\"auto\",\"x\":[24785,17702,9333,8314,5157,4919,3972,3183,2920,2442,1927,1792,1362,1318,948,911,871,837,556,478,460,451,429],\"xaxis\":\"x\",\"y\":[\"<a href=\\\"https://github.com/sentinel-hub/sentinelhub-py\\\" target=\\\"_blank\\\" style = \\\"color: black\\\">sentinelhub-py</a>\",\"<a href=\\\"https://github.com/sentinelsat/sentinelsat\\\" target=\\\"_blank\\\" style = \\\"color: black\\\">sentinelsat</a>\",\"<a href=\\\"https://github.com/kapadia/usgs\\\" target=\\\"_blank\\\" style = \\\"color: black\\\">USGS</a>\",\"<a href=\\\"https://github.com/pytroll/satpy\\\" target=\\\"_blank\\\" style = \\\"color: black\\\">satpy</a>\",\"<a href=\\\"https://github.com/michaeldavie/env_canada\\\" target=\\\"_blank\\\" style = \\\"color: black\\\">env_canada</a>\",\"<a href=\\\"https://github.com/Unidata/siphon\\\" target=\\\"_blank\\\" style = \\\"color: black\\\">Siphon</a>\",\"<a href=\\\"https://github.com/r-earthengine/ee_extra\\\" target=\\\"_blank\\\" style = \\\"color: black\\\">eeExtra</a>\",\"<a href=\\\"https://github.com/ropengov/eurostat\\\" target=\\\"_blank\\\" style = \\\"color: black\\\">eurostat R package</a>\",\"<a href=\\\"https://github.com/Open-EO/openeo-python-client\\\" target=\\\"_blank\\\" style = \\\"color: black\\\">openEO</a>\",\"<a href=\\\"https://github.com/rOpenGov/giscoR\\\" target=\\\"_blank\\\" style = \\\"color: black\\\">giscoR</a>\",\"<a href=\\\"https://github.com/radiantearth/radiant-mlhub\\\" target=\\\"_blank\\\" style = \\\"color: black\\\">Radiant MLHub Python Client</a>\",\"<a href=\\\"https://github.com/nsidc/earthaccess\\\" target=\\\"_blank\\\" style = \\\"color: black\\\">earthaccess</a>\",\"<a href=\\\"https://github.com/digitalearthafrica/deafrica-sandbox-notebooks\\\" target=\\\"_blank\\\" style = \\\"color: black\\\">Digital Earth Africa Notebooks</a>\",\"<a href=\\\"https://github.com/NEONScience/NEON-utilities\\\" target=\\\"_blank\\\" style = \\\"color: black\\\">NEON</a>\",\"<a href=\\\"https://github.com/yannforget/landsatxplore\\\" target=\\\"_blank\\\" style = \\\"color: black\\\">landsatxplore</a>\",\"<a href=\\\"https://github.com/ropensci/MODIStsp\\\" target=\\\"_blank\\\" style = \\\"color: black\\\">MODIStsp</a>\",\"<a href=\\\"https://github.com/bluegreen-labs/MODISTools\\\" target=\\\"_blank\\\" style = \\\"color: black\\\">MODISTools</a>\",\"<a href=\\\"https://github.com/dataoneorg/d1_python\\\" target=\\\"_blank\\\" style = \\\"color: black\\\">DataONE</a>\",\"<a href=\\\"https://github.com/piersyork/owidR\\\" target=\\\"_blank\\\" style = \\\"color: black\\\">owidR</a>\",\"<a href=\\\"https://github.com/os-climate/physrisk\\\" target=\\\"_blank\\\" style = \\\"color: black\\\">physrisk</a>\",\"<a href=\\\"https://github.com/pik-primap/climate_categories\\\" target=\\\"_blank\\\" style = \\\"color: black\\\">Climate categories</a>\",\"<a href=\\\"https://github.com/dataoneorg/rdataone\\\" target=\\\"_blank\\\" style = \\\"color: black\\\">rdataone</a>\",\"<a href=\\\"https://github.com/lucadelu/pymodis\\\" target=\\\"_blank\\\" style = \\\"color: black\\\">pyModis</a>\"],\"yaxis\":\"y\",\"type\":\"bar\",\"hoverinfo\":\"name+z\"},{\"alignmentgroup\":\"True\",\"customdata\":[[\"<a href=\\\"https://github.com/scikit-maad/scikit-maad\\\" target=\\\"_blank\\\" style = \\\"color: black\\\">scikit-maad</a>\",17188,\"https://github.com/scikit-maad/scikit-maad\",\"Enables quantitative analysis of environmental audio, offering<br>tools for processing, segmenting, and computing acoustic<br>features.\",\"Biosphere\",\"Biodiversity and Species Distribution\",\"Python\"],[\"<a href=\\\"https://github.com/fishR-Core-Team/FSA\\\" target=\\\"_blank\\\" style = \\\"color: black\\\">Fisheries Stock Assessment</a>\",13745,\"https://github.com/fishR-Core-Team/FSA\",\"Provides R functions to conduct typical introductory fisheries<br>analyses.\",\"Biosphere\",\"Marine Life and Fishery\",\"R\"],[\"<a href=\\\"https://github.com/r-lidar/lidR\\\" target=\\\"_blank\\\" style = \\\"color: black\\\">lidR</a>\",3737,\"https://github.com/r-lidar/lidR\",\"An R package for airborne LiDAR data manipulation and<br>visualization for forestry application.\",\"Biosphere\",\"Forest Observation and Management\",\"R\"],[\"<a href=\\\"https://github.com/weecology/DeepForest\\\" target=\\\"_blank\\\" style = \\\"color: black\\\">DeepForest</a>\",2304,\"https://github.com/weecology/DeepForest\",\"Python Package for Tree Crown Detection in Airborne RGB imagery.\",\"Biosphere\",\"Forest Observation and Management\",\"Python\"],[\"<a href=\\\"https://github.com/jamiemkass/ENMeval\\\" target=\\\"_blank\\\" style = \\\"color: black\\\">ENMeval</a>\",1932,\"https://github.com/jamiemkass/ENMeval\",\"R package for automated runs and evaluations of ecological niche<br>models.\",\"Biosphere\",\"Biodiversity and Species Distribution\",\"R\"],[\"<a href=\\\"https://github.com/jeffreyevans/spatialeco\\\" target=\\\"_blank\\\" style = \\\"color: black\\\">spatialEco</a>\",1759,\"https://github.com/jeffreyevans/spatialeco\",\"R package for spatial analysis and modelling of ecological<br>systems.\",\"Biosphere\",\"Biodiversity and Species Distribution\",\"R\"],[\"<a href=\\\"https://github.com/pyinat/pyinaturalist\\\" target=\\\"_blank\\\" style = \\\"color: black\\\">pyinaturalist</a>\",1425,\"https://github.com/pyinat/pyinaturalist\",\"Python client for iNaturalist, a community science platform that<br>helps people get involved in the natural world by observing and<br>identifying the living things around them.\",\"Biosphere\",\"Biodiversity and Species Distribution\",\"Python\"],[\"<a href=\\\"https://github.com/fishr-core-team/fsadata\\\" target=\\\"_blank\\\" style = \\\"color: black\\\">FSAdata</a>\",1391,\"https://github.com/fishr-core-team/fsadata\",\"Contains data for use in common fisheries stock analyses. See<br>installation instructions further below.\",\"Biosphere\",\"Marine Life and Fishery\",\"R\"],[\"<a href=\\\"https://github.com/ropensci/rfishbase\\\" target=\\\"_blank\\\" style = \\\"color: black\\\">rfishbase</a>\",974,\"https://github.com/ropensci/rfishbase\",\"An R interface to the fishbase.org database.\",\"Biosphere\",\"Marine Life and Fishery\",\"R\"],[\"<a href=\\\"https://github.com/prioritizr/prioritizr\\\" target=\\\"_blank\\\" style = \\\"color: black\\\">prioritizr</a>\",899,\"https://github.com/prioritizr/prioritizr\",\"Uses mixed integer linear programming techniques to provide a<br>flexible interface for building and solving conservation<br>planning problems.\",\"Biosphere\",\"Conservation and Restoration\",\"R\"],[\"<a href=\\\"https://github.com/CornellLabofOrnithology/auk\\\" target=\\\"_blank\\\" style = \\\"color: black\\\">auk</a>\",891,\"https://github.com/CornellLabofOrnithology/auk\",\"eBird Data Extraction and Processing in R.\",\"Biosphere\",\"Terrestrial Animals\",\"R\"],[\"<a href=\\\"https://github.com/sollano/forestmangr\\\" target=\\\"_blank\\\" style = \\\"color: black\\\">forestmangr</a>\",876,\"https://github.com/sollano/forestmangr\",\"An R package for forest mensuration and management.\",\"Biosphere\",\"Forest Observation and Management\",\"R\"],[\"<a href=\\\"https://github.com/BelgianBiodiversityPlatform/python-dwca-reader\\\" target=\\\"_blank\\\" style = \\\"color: black\\\">python-dwca-reader</a>\",836,\"https://github.com/BelgianBiodiversityPlatform/python-dwca-reader\",\"A Python package to read and parse Darwin Core Archive (DwC-A)<br>files, as produced by the GBIF website, the IPT and many other<br>biodiversity informatics tools.\",\"Biosphere\",\"Biodiversity and Species Distribution\",\"Python\"],[\"<a href=\\\"https://github.com/umr-amap/BIOMASS\\\" target=\\\"_blank\\\" style = \\\"color: black\\\">BIOMASS</a>\",804,\"https://github.com/umr-amap/BIOMASS\",\"An R package for estimating aboveground biomass and its<br>uncertainty in tropical forests.\",\"Biosphere\",\"Biomass\",\"HTML\"],[\"<a href=\\\"https://github.com/ebird/ebirdst\\\" target=\\\"_blank\\\" style = \\\"color: black\\\">ebirdst</a>\",736,\"https://github.com/ebird/ebirdst\",\"Access and Analyze eBird Status and Trends Data.\",\"Biosphere\",\"Terrestrial Animals\",\"R\"],[\"<a href=\\\"https://github.com/prioritizr/wdpar\\\" target=\\\"_blank\\\" style = \\\"color: black\\\">wdpar</a>\",566,\"https://github.com/prioritizr/wdpar\",\"R Interface to the World Database on Protected Areas.\",\"Biosphere\",\"Conservation and Restoration\",\"R\"],[\"<a href=\\\"https://github.com/OSOceanAcoustics/echopype\\\" target=\\\"_blank\\\" style = \\\"color: black\\\">Echopype</a>\",539,\"https://github.com/OSOceanAcoustics/echopype\",\"A package built to enable interoperability and scalability in<br>ocean sonar data processing.\",\"Biosphere\",\"Marine Life and Fishery\",\"Python\"],[\"<a href=\\\"https://github.com/emf-creaf/medfate\\\" target=\\\"_blank\\\" style = \\\"color: black\\\">medfate</a>\",525,\"https://github.com/emf-creaf/medfate\",\"Functions to simulate Mediterranean forest functioning and<br>dynamics using cohort-based description of vegetation.\",\"Biosphere\",\"Forest Observation and Management\",\"C++\"],[\"<a href=\\\"https://github.com/ices-tools-prod/icesTAF\\\" target=\\\"_blank\\\" style = \\\"color: black\\\">icesTAF</a>\",516,\"https://github.com/ices-tools-prod/icesTAF\",\"Functions to support the International Council for the<br>Exploration of the Sea Transparent Assessment Framework.\",\"Biosphere\",\"Marine Life and Fishery\",\"R\"],[\"<a href=\\\"https://github.com/andrew-plowright/ForestTools\\\" target=\\\"_blank\\\" style = \\\"color: black\\\">ForestTools</a>\",477,\"https://github.com/andrew-plowright/ForestTools\",\"Detect and segment individual tree from remotely sensed data.\",\"Biosphere\",\"Forest Observation and Management\",\"R\"],[\"<a href=\\\"https://github.com/achubaty/grainscape\\\" target=\\\"_blank\\\" style = \\\"color: black\\\">grainscape</a>\",466,\"https://github.com/achubaty/grainscape\",\"Efficient Modelling of Landscape Connectivity, Habitat, and<br>Protected Area Networks.\",\"Biosphere\",\"Conservation and Restoration\",\"TeX\"],[\"<a href=\\\"https://github.com/r4ss/r4ss\\\" target=\\\"_blank\\\" style = \\\"color: black\\\">r4ss</a>\",463,\"https://github.com/r4ss/r4ss\",\"A fisheries stock assessment model written by Rick Methot.\",\"Biosphere\",\"Marine Life and Fishery\",\"R\"],[\"<a href=\\\"https://github.com/adokter/bioRad\\\" target=\\\"_blank\\\" style = \\\"color: black\\\">bioRad</a>\",426,\"https://github.com/adokter/bioRad\",\"R package for analysis and visualisation of biological signals<br>in weather radar data.\",\"Biosphere\",\"Terrestrial Animals\",\"R\"]],\"hovertemplate\":\"<extra></extra>Downloads: <b>%{customdata[1]}</b><br>Git URL: <b>%{customdata[2]}</b><br>Description: <b>%{customdata[3]}</b><br>Category: <b>%{customdata[4]}</b><br>Sub Category: <b>%{customdata[5]}</b><br>Language: <b>%{customdata[6]}</b>\",\"legendgroup\":\"Biosphere\",\"marker\":{\"color\":\"rgb(47, 138, 196)\",\"pattern\":{\"shape\":\"\"}},\"name\":\"Biosphere\",\"offsetgroup\":\"Biosphere\",\"orientation\":\"h\",\"showlegend\":true,\"textposition\":\"auto\",\"x\":[17188,13745,3737,2304,1932,1759,1425,1391,974,899,891,876,836,804,736,566,539,525,516,477,466,463,426],\"xaxis\":\"x\",\"y\":[\"<a href=\\\"https://github.com/scikit-maad/scikit-maad\\\" target=\\\"_blank\\\" style = \\\"color: black\\\">scikit-maad</a>\",\"<a href=\\\"https://github.com/fishR-Core-Team/FSA\\\" target=\\\"_blank\\\" style = \\\"color: black\\\">Fisheries Stock Assessment</a>\",\"<a href=\\\"https://github.com/r-lidar/lidR\\\" target=\\\"_blank\\\" style = \\\"color: black\\\">lidR</a>\",\"<a href=\\\"https://github.com/weecology/DeepForest\\\" target=\\\"_blank\\\" style = \\\"color: black\\\">DeepForest</a>\",\"<a href=\\\"https://github.com/jamiemkass/ENMeval\\\" target=\\\"_blank\\\" style = \\\"color: black\\\">ENMeval</a>\",\"<a href=\\\"https://github.com/jeffreyevans/spatialeco\\\" target=\\\"_blank\\\" style = \\\"color: black\\\">spatialEco</a>\",\"<a href=\\\"https://github.com/pyinat/pyinaturalist\\\" target=\\\"_blank\\\" style = \\\"color: black\\\">pyinaturalist</a>\",\"<a href=\\\"https://github.com/fishr-core-team/fsadata\\\" target=\\\"_blank\\\" style = \\\"color: black\\\">FSAdata</a>\",\"<a href=\\\"https://github.com/ropensci/rfishbase\\\" target=\\\"_blank\\\" style = \\\"color: black\\\">rfishbase</a>\",\"<a href=\\\"https://github.com/prioritizr/prioritizr\\\" target=\\\"_blank\\\" style = \\\"color: black\\\">prioritizr</a>\",\"<a href=\\\"https://github.com/CornellLabofOrnithology/auk\\\" target=\\\"_blank\\\" style = \\\"color: black\\\">auk</a>\",\"<a href=\\\"https://github.com/sollano/forestmangr\\\" target=\\\"_blank\\\" style = \\\"color: black\\\">forestmangr</a>\",\"<a href=\\\"https://github.com/BelgianBiodiversityPlatform/python-dwca-reader\\\" target=\\\"_blank\\\" style = \\\"color: black\\\">python-dwca-reader</a>\",\"<a href=\\\"https://github.com/umr-amap/BIOMASS\\\" target=\\\"_blank\\\" style = \\\"color: black\\\">BIOMASS</a>\",\"<a href=\\\"https://github.com/ebird/ebirdst\\\" target=\\\"_blank\\\" style = \\\"color: black\\\">ebirdst</a>\",\"<a href=\\\"https://github.com/prioritizr/wdpar\\\" target=\\\"_blank\\\" style = \\\"color: black\\\">wdpar</a>\",\"<a href=\\\"https://github.com/OSOceanAcoustics/echopype\\\" target=\\\"_blank\\\" style = \\\"color: black\\\">Echopype</a>\",\"<a href=\\\"https://github.com/emf-creaf/medfate\\\" target=\\\"_blank\\\" style = \\\"color: black\\\">medfate</a>\",\"<a href=\\\"https://github.com/ices-tools-prod/icesTAF\\\" target=\\\"_blank\\\" style = \\\"color: black\\\">icesTAF</a>\",\"<a href=\\\"https://github.com/andrew-plowright/ForestTools\\\" target=\\\"_blank\\\" style = \\\"color: black\\\">ForestTools</a>\",\"<a href=\\\"https://github.com/achubaty/grainscape\\\" target=\\\"_blank\\\" style = \\\"color: black\\\">grainscape</a>\",\"<a href=\\\"https://github.com/r4ss/r4ss\\\" target=\\\"_blank\\\" style = \\\"color: black\\\">r4ss</a>\",\"<a href=\\\"https://github.com/adokter/bioRad\\\" target=\\\"_blank\\\" style = \\\"color: black\\\">bioRad</a>\"],\"yaxis\":\"y\",\"type\":\"bar\",\"hoverinfo\":\"name+z\"},{\"alignmentgroup\":\"True\",\"customdata\":[[\"<a href=\\\"https://github.com/pybamm-team/pybamm\\\" target=\\\"_blank\\\" style = \\\"color: black\\\">PyBaMM</a>\",9485,\"https://github.com/pybamm-team/pybamm\",\"Fast and flexible physics-based battery models in Python.\",\"Energy Storage\",\"Battery\",\"Python\"],[\"<a href=\\\"https://github.com/FZJ-IEK3-VSA/bslib\\\" target=\\\"_blank\\\" style = \\\"color: black\\\">bslib</a>\",1514,\"https://github.com/FZJ-IEK3-VSA/bslib\",\"Database with battery parameters based on PerMod as well as<br>functions in order to simulate battery storages.\",\"Energy Storage\",\"Battery\",\"Python\"],[\"<a href=\\\"https://github.com/tri-amdd/beep\\\" target=\\\"_blank\\\" style = \\\"color: black\\\">beep</a>\",1067,\"https://github.com/tri-amdd/beep\",\"A set of tools designed to support Battery Evaluation and Early<br>Prediction of cycle life corresponding to the research of the<br>d3batt program and the Toyota Research Institute.\",\"Energy Storage\",\"Battery\",\"Python\"]],\"hovertemplate\":\"<extra></extra>Downloads: <b>%{customdata[1]}</b><br>Git URL: <b>%{customdata[2]}</b><br>Description: <b>%{customdata[3]}</b><br>Category: <b>%{customdata[4]}</b><br>Sub Category: <b>%{customdata[5]}</b><br>Language: <b>%{customdata[6]}</b>\",\"legendgroup\":\"Energy Storage\",\"marker\":{\"color\":\"rgb(118, 78, 159)\",\"pattern\":{\"shape\":\"\"}},\"name\":\"Energy Storage\",\"offsetgroup\":\"Energy Storage\",\"orientation\":\"h\",\"showlegend\":true,\"textposition\":\"auto\",\"x\":[9485,1514,1067],\"xaxis\":\"x\",\"y\":[\"<a href=\\\"https://github.com/pybamm-team/pybamm\\\" target=\\\"_blank\\\" style = \\\"color: black\\\">PyBaMM</a>\",\"<a href=\\\"https://github.com/FZJ-IEK3-VSA/bslib\\\" target=\\\"_blank\\\" style = \\\"color: black\\\">bslib</a>\",\"<a href=\\\"https://github.com/tri-amdd/beep\\\" target=\\\"_blank\\\" style = \\\"color: black\\\">beep</a>\"],\"yaxis\":\"y\",\"type\":\"bar\",\"hoverinfo\":\"name+z\"},{\"alignmentgroup\":\"True\",\"customdata\":[[\"<a href=\\\"https://github.com/davidcarslaw/openair\\\" target=\\\"_blank\\\" style = \\\"color: black\\\">openair</a>\",6268,\"https://github.com/davidcarslaw/openair\",\"An R package developed for the purpose of analyzing air quality<br>data — or more generally atmospheric composition data.\",\"Natural Resources\",\"Air Quality\",\"R\"],[\"<a href=\\\"https://github.com/modflowpy/flopy\\\" target=\\\"_blank\\\" style = \\\"color: black\\\">flopy</a>\",4692,\"https://github.com/modflowpy/flopy\",\"A Python package to create, run, and post-process MODFLOW-based<br>models.\",\"Natural Resources\",\"Water Supply\",\"Visual Basic 6.0\"],[\"<a href=\\\"https://github.com/Deltares/Ribasim\\\" target=\\\"_blank\\\" style = \\\"color: black\\\">Ribasim</a>\",4289,\"https://github.com/Deltares/Ribasim\",\"A water resources model, designed to be the replacement of the<br>regional surface water modules Mozart and SIMRES in the<br>Netherlands Hydrological Instrument.\",\"Natural Resources\",\"Water Supply\",\"Python\"],[\"<a href=\\\"https://github.com/usepa/wntr\\\" target=\\\"_blank\\\" style = \\\"color: black\\\">Water Network Tool for Resilience</a>\",3985,\"https://github.com/usepa/wntr\",\"A Python package designed to simulate and analyze resilience of<br>water distribution networks.\",\"Natural Resources\",\"Water Supply\",\"Python\"],[\"<a href=\\\"https://github.com/ncss-tech/aqp\\\" target=\\\"_blank\\\" style = \\\"color: black\\\">AQP</a>\",2351,\"https://github.com/ncss-tech/aqp\",\"Algorithms for Quantitative Pedology is a collection of code,<br>ideas, documentation, and examples wrapped-up into several R<br>packages.\",\"Natural Resources\",\"Soil and Land\",\"R\"],[\"<a href=\\\"https://github.com/r-spatialecology/landscapemetrics\\\" target=\\\"_blank\\\" style = \\\"color: black\\\">landscapemetrics</a>\",2125,\"https://github.com/r-spatialecology/landscapemetrics\",\"Landscape Metrics for Categorical Map Patterns in R.\",\"Natural Resources\",\"Soil and Land\",\"R\"],[\"<a href=\\\"https://github.com/sbegueria/SPEI\\\" target=\\\"_blank\\\" style = \\\"color: black\\\">SPEI</a>\",1886,\"https://github.com/sbegueria/SPEI\",\"Computing the Standardized Precipitation-Evapotranspiration<br>Index and other reference evapotranspiration.\",\"Natural Resources\",\"Water Supply\",\"R\"],[\"<a href=\\\"https://github.com/ncss-tech/soilDB\\\" target=\\\"_blank\\\" style = \\\"color: black\\\">soilDB</a>\",1435,\"https://github.com/ncss-tech/soilDB\",\"Simplified Access to NCSS Soil Databases.\",\"Natural Resources\",\"Soil and Land\",\"R\"],[\"<a href=\\\"https://github.com/pywr/pywr\\\" target=\\\"_blank\\\" style = \\\"color: black\\\">Pywr</a>\",1287,\"https://github.com/pywr/pywr\",\"Simulates customisable water allocation and operation rules<br>throughout complex multi-purpose managed water systems at each<br>user-defined time-step.\",\"Natural Resources\",\"Water Supply\",\"Python\"],[\"<a href=\\\"https://github.com/pySTEPS/pysteps\\\" target=\\\"_blank\\\" style = \\\"color: black\\\">pySTEPS</a>\",1204,\"https://github.com/pySTEPS/pysteps\",\"An open-source and community-driven Python library for<br>probabilistic precipitation nowcasting, i.e. short-term ensemble<br>prediction systems.\",\"Natural Resources\",\"Water Supply\",\"Python\"],[\"<a href=\\\"https://github.com/e-sensing/sits\\\" target=\\\"_blank\\\" style = \\\"color: black\\\">SITS</a>\",716,\"https://github.com/e-sensing/sits\",\"Enables users to apply machine learning techniques for<br>classifying image time series obtained from earth observation<br>data cubes.\",\"Natural Resources\",\"Soil and Land\",\"R\"],[\"<a href=\\\"https://github.com/DOI-USGS/nhdplusTools\\\" target=\\\"_blank\\\" style = \\\"color: black\\\">nhdplusTools</a>\",704,\"https://github.com/DOI-USGS/nhdplusTools\",\"This package is a growing set of tools for manipulation of<br>hydrographic data using the NHDPlus data model.\",\"Natural Resources\",\"Water Supply\",\"R\"],[\"<a href=\\\"https://github.com/martibosch/pylandstats\\\" target=\\\"_blank\\\" style = \\\"color: black\\\">PyLandStats</a>\",632,\"https://github.com/martibosch/pylandstats\",\"An open-source Pythonic library to compute landscape metrics.\",\"Natural Resources\",\"Soil and Land\",\"Python\"],[\"<a href=\\\"https://github.com/davidcarslaw/openairmaps\\\" target=\\\"_blank\\\" style = \\\"color: black\\\">openairmaps</a>\",607,\"https://github.com/davidcarslaw/openairmaps\",\"Combine the robust analytical methods found in openair with the<br>highly capable leaflet package.\",\"Natural Resources\",\"Air Quality\",\"R\"],[\"<a href=\\\"https://github.com/emf-creaf/meteoland\\\" target=\\\"_blank\\\" style = \\\"color: black\\\">meteoland</a>\",603,\"https://github.com/emf-creaf/meteoland\",\"Functions to estimate weather variables at any position of a<br>landscape.\",\"Natural Resources\",\"Soil and Land\",\"R\"],[\"<a href=\\\"https://github.com/pschmidtwalter/lwfbrook90r\\\" target=\\\"_blank\\\" style = \\\"color: black\\\">LWFBrook90R</a>\",579,\"https://github.com/pschmidtwalter/lwfbrook90r\",\"Simulates daily transpiration, interception, soil and snow<br>evaporation, streamflow and soil water fluxes through a soil<br>profile covered with vegetation.\",\"Natural Resources\",\"Soil and Land\",\"R\"],[\"<a href=\\\"https://github.com/ncss-tech/sharpshootR\\\" target=\\\"_blank\\\" style = \\\"color: black\\\">sharpshootR</a>\",566,\"https://github.com/ncss-tech/sharpshootR\",\"Miscellaneous soil data management, summary, visualization, and<br>conversion utilities to support soil survey.\",\"Natural Resources\",\"Soil and Land\",\"R\"],[\"<a href=\\\"https://github.com/uw-saswe/rat\\\" target=\\\"_blank\\\" style = \\\"color: black\\\">RAT</a>\",538,\"https://github.com/uw-saswe/rat\",\"Uses satellite remote sensing data to monitor water surface area<br>and water level changes in artificial reservoirs.\",\"Natural Resources\",\"Water Supply\",\"Python\"],[\"<a href=\\\"https://github.com/USEPA/RAQSAPI\\\" target=\\\"_blank\\\" style = \\\"color: black\\\">RAQSAPI</a>\",431,\"https://github.com/USEPA/RAQSAPI\",\"Retrieve data from the United States Environmental Protection<br>Agency's Air Quality Systems.\",\"Natural Resources\",\"Air Quality\",\"R\"]],\"hovertemplate\":\"<extra></extra>Downloads: <b>%{customdata[1]}</b><br>Git URL: <b>%{customdata[2]}</b><br>Description: <b>%{customdata[3]}</b><br>Category: <b>%{customdata[4]}</b><br>Sub Category: <b>%{customdata[5]}</b><br>Language: <b>%{customdata[6]}</b>\",\"legendgroup\":\"Natural Resources\",\"marker\":{\"color\":\"rgb(237, 100, 90)\",\"pattern\":{\"shape\":\"\"}},\"name\":\"Natural Resources\",\"offsetgroup\":\"Natural Resources\",\"orientation\":\"h\",\"showlegend\":true,\"textposition\":\"auto\",\"x\":[6268,4692,4289,3985,2351,2125,1886,1435,1287,1204,716,704,632,607,603,579,566,538,431],\"xaxis\":\"x\",\"y\":[\"<a href=\\\"https://github.com/davidcarslaw/openair\\\" target=\\\"_blank\\\" style = \\\"color: black\\\">openair</a>\",\"<a href=\\\"https://github.com/modflowpy/flopy\\\" target=\\\"_blank\\\" style = \\\"color: black\\\">flopy</a>\",\"<a href=\\\"https://github.com/Deltares/Ribasim\\\" target=\\\"_blank\\\" style = \\\"color: black\\\">Ribasim</a>\",\"<a href=\\\"https://github.com/usepa/wntr\\\" target=\\\"_blank\\\" style = \\\"color: black\\\">Water Network Tool for Resilience</a>\",\"<a href=\\\"https://github.com/ncss-tech/aqp\\\" target=\\\"_blank\\\" style = \\\"color: black\\\">AQP</a>\",\"<a href=\\\"https://github.com/r-spatialecology/landscapemetrics\\\" target=\\\"_blank\\\" style = \\\"color: black\\\">landscapemetrics</a>\",\"<a href=\\\"https://github.com/sbegueria/SPEI\\\" target=\\\"_blank\\\" style = \\\"color: black\\\">SPEI</a>\",\"<a href=\\\"https://github.com/ncss-tech/soilDB\\\" target=\\\"_blank\\\" style = \\\"color: black\\\">soilDB</a>\",\"<a href=\\\"https://github.com/pywr/pywr\\\" target=\\\"_blank\\\" style = \\\"color: black\\\">Pywr</a>\",\"<a href=\\\"https://github.com/pySTEPS/pysteps\\\" target=\\\"_blank\\\" style = \\\"color: black\\\">pySTEPS</a>\",\"<a href=\\\"https://github.com/e-sensing/sits\\\" target=\\\"_blank\\\" style = \\\"color: black\\\">SITS</a>\",\"<a href=\\\"https://github.com/DOI-USGS/nhdplusTools\\\" target=\\\"_blank\\\" style = \\\"color: black\\\">nhdplusTools</a>\",\"<a href=\\\"https://github.com/martibosch/pylandstats\\\" target=\\\"_blank\\\" style = \\\"color: black\\\">PyLandStats</a>\",\"<a href=\\\"https://github.com/davidcarslaw/openairmaps\\\" target=\\\"_blank\\\" style = \\\"color: black\\\">openairmaps</a>\",\"<a href=\\\"https://github.com/emf-creaf/meteoland\\\" target=\\\"_blank\\\" style = \\\"color: black\\\">meteoland</a>\",\"<a href=\\\"https://github.com/pschmidtwalter/lwfbrook90r\\\" target=\\\"_blank\\\" style = \\\"color: black\\\">LWFBrook90R</a>\",\"<a href=\\\"https://github.com/ncss-tech/sharpshootR\\\" target=\\\"_blank\\\" style = \\\"color: black\\\">sharpshootR</a>\",\"<a href=\\\"https://github.com/uw-saswe/rat\\\" target=\\\"_blank\\\" style = \\\"color: black\\\">RAT</a>\",\"<a href=\\\"https://github.com/USEPA/RAQSAPI\\\" target=\\\"_blank\\\" style = \\\"color: black\\\">RAQSAPI</a>\"],\"yaxis\":\"y\",\"type\":\"bar\",\"hoverinfo\":\"name+z\"},{\"alignmentgroup\":\"True\",\"customdata\":[[\"<a href=\\\"https://github.com/brightway-lca/brightway2\\\" target=\\\"_blank\\\" style = \\\"color: black\\\">brightway2</a>\",1932,\"https://github.com/brightway-lca/brightway2\",\"An open source framework for life cycle assessment.\",\"Industrial Ecology\",\"Life Cycle Assessment\",\"Jupyter Notebook\"],[\"<a href=\\\"https://github.com/IndEcol/pymrio\\\" target=\\\"_blank\\\" style = \\\"color: black\\\">pymrio</a>\",1850,\"https://github.com/IndEcol/pymrio\",\"Multi-Regional Input-Output Analysis in Python.\",\"Industrial Ecology\",\"Life Cycle Assessment\",\"Python\"],[\"<a href=\\\"https://github.com/polca/premise\\\" target=\\\"_blank\\\" style = \\\"color: black\\\">premise</a>\",660,\"https://github.com/polca/premise\",\"Coupling Integrated Assessment Models output with Life Cycle<br>Assessment.\",\"Industrial Ecology\",\"Life Cycle Assessment\",\"Jupyter Notebook\"],[\"<a href=\\\"https://github.com/oie-mines-paristech/lca_algebraic\\\" target=\\\"_blank\\\" style = \\\"color: black\\\">lca_algebraic</a>\",515,\"https://github.com/oie-mines-paristech/lca_algebraic\",\"This library is a small layer above brightway2, designed for the<br>definition of parametric inventories with fast computation of<br>LCA impacts, suitable for monte-carlo analyis.\",\"Industrial Ecology\",\"Life Cycle Assessment\",\"Python\"]],\"hovertemplate\":\"<extra></extra>Downloads: <b>%{customdata[1]}</b><br>Git URL: <b>%{customdata[2]}</b><br>Description: <b>%{customdata[3]}</b><br>Category: <b>%{customdata[4]}</b><br>Sub Category: <b>%{customdata[5]}</b><br>Language: <b>%{customdata[6]}</b>\",\"legendgroup\":\"Industrial Ecology\",\"marker\":{\"color\":\"rgb(165, 170, 153)\",\"pattern\":{\"shape\":\"\"}},\"name\":\"Industrial Ecology\",\"offsetgroup\":\"Industrial Ecology\",\"orientation\":\"h\",\"showlegend\":true,\"textposition\":\"auto\",\"x\":[1932,1850,660,515],\"xaxis\":\"x\",\"y\":[\"<a href=\\\"https://github.com/brightway-lca/brightway2\\\" target=\\\"_blank\\\" style = \\\"color: black\\\">brightway2</a>\",\"<a href=\\\"https://github.com/IndEcol/pymrio\\\" target=\\\"_blank\\\" style = \\\"color: black\\\">pymrio</a>\",\"<a href=\\\"https://github.com/polca/premise\\\" target=\\\"_blank\\\" style = \\\"color: black\\\">premise</a>\",\"<a href=\\\"https://github.com/oie-mines-paristech/lca_algebraic\\\" target=\\\"_blank\\\" style = \\\"color: black\\\">lca_algebraic</a>\"],\"yaxis\":\"y\",\"type\":\"bar\",\"hoverinfo\":\"name+z\"},{\"alignmentgroup\":\"True\",\"customdata\":[[\"<a href=\\\"https://github.com/undp/carbon-registry\\\" target=\\\"_blank\\\" style = \\\"color: black\\\">National Carbon Credit Registry</a>\",1491,\"https://github.com/undp/carbon-registry\",\"As an online database using national and international standards<br>for quantifying and verifying greenhouse gas emissions<br>reductions by programmes.\",\"Emissions\",\"Carbon Offsets and Trading\",\"TypeScript\"],[\"<a href=\\\"https://github.com/GranthamImperial/silicone\\\" target=\\\"_blank\\\" style = \\\"color: black\\\">Silicone</a>\",563,\"https://github.com/GranthamImperial/silicone\",\"Automated filling of detail in reported emission scenarios.\",\"Emissions\",\"Carbon Intensity and Accounting\",\"Jupyter Notebook\"],[\"<a href=\\\"https://github.com/pik-primap/unfccc_di_api\\\" target=\\\"_blank\\\" style = \\\"color: black\\\">UNFCCC DI API</a>\",447,\"https://github.com/pik-primap/unfccc_di_api\",\"Data access to the total greenhouse gas emissions by country<br>reported to the United Nations Framework Convention on Climate<br>Change (UNFCCC).\",\"Emissions\",\"Emission Observation and Modeling\",\"Python\"]],\"hovertemplate\":\"<extra></extra>Downloads: <b>%{customdata[1]}</b><br>Git URL: <b>%{customdata[2]}</b><br>Description: <b>%{customdata[3]}</b><br>Category: <b>%{customdata[4]}</b><br>Sub Category: <b>%{customdata[5]}</b><br>Language: <b>%{customdata[6]}</b>\",\"legendgroup\":\"Emissions\",\"marker\":{\"color\":\"rgb(229, 134, 6)\",\"pattern\":{\"shape\":\"\"}},\"name\":\"Emissions\",\"offsetgroup\":\"Emissions\",\"orientation\":\"h\",\"showlegend\":true,\"textposition\":\"auto\",\"x\":[1491,563,447],\"xaxis\":\"x\",\"y\":[\"<a href=\\\"https://github.com/undp/carbon-registry\\\" target=\\\"_blank\\\" style = \\\"color: black\\\">National Carbon Credit Registry</a>\",\"<a href=\\\"https://github.com/GranthamImperial/silicone\\\" target=\\\"_blank\\\" style = \\\"color: black\\\">Silicone</a>\",\"<a href=\\\"https://github.com/pik-primap/unfccc_di_api\\\" target=\\\"_blank\\\" style = \\\"color: black\\\">UNFCCC DI API</a>\"],\"yaxis\":\"y\",\"type\":\"bar\",\"hoverinfo\":\"name+z\"},{\"alignmentgroup\":\"True\",\"customdata\":[[\"<a href=\\\"https://github.com/icesat2py/icepyx\\\" target=\\\"_blank\\\" style = \\\"color: black\\\">icepyx</a>\",585,\"https://github.com/icesat2py/icepyx\",\"Python tools for obtaining and working with ICESat-2 data.\",\"Cryosphere\",\"Glacier and Ice Sheets\",\"Python\"]],\"hovertemplate\":\"<extra></extra>Downloads: <b>%{customdata[1]}</b><br>Git URL: <b>%{customdata[2]}</b><br>Description: <b>%{customdata[3]}</b><br>Category: <b>%{customdata[4]}</b><br>Sub Category: <b>%{customdata[5]}</b><br>Language: <b>%{customdata[6]}</b>\",\"legendgroup\":\"Cryosphere\",\"marker\":{\"color\":\"rgb(93, 105, 177)\",\"pattern\":{\"shape\":\"\"}},\"name\":\"Cryosphere\",\"offsetgroup\":\"Cryosphere\",\"orientation\":\"h\",\"showlegend\":true,\"textposition\":\"auto\",\"x\":[585],\"xaxis\":\"x\",\"y\":[\"<a href=\\\"https://github.com/icesat2py/icepyx\\\" target=\\\"_blank\\\" style = \\\"color: black\\\">icepyx</a>\"],\"yaxis\":\"y\",\"type\":\"bar\",\"hoverinfo\":\"name+z\"}],                        {\"template\":{\"data\":{\"barpolar\":[{\"marker\":{\"line\":{\"color\":\"#E5ECF6\",\"width\":0.5},\"pattern\":{\"fillmode\":\"overlay\",\"size\":10,\"solidity\":0.2}},\"type\":\"barpolar\"}],\"bar\":[{\"error_x\":{\"color\":\"#2a3f5f\"},\"error_y\":{\"color\":\"#2a3f5f\"},\"marker\":{\"line\":{\"color\":\"#E5ECF6\",\"width\":0.5},\"pattern\":{\"fillmode\":\"overlay\",\"size\":10,\"solidity\":0.2}},\"type\":\"bar\"}],\"carpet\":[{\"aaxis\":{\"endlinecolor\":\"#2a3f5f\",\"gridcolor\":\"white\",\"linecolor\":\"white\",\"minorgridcolor\":\"white\",\"startlinecolor\":\"#2a3f5f\"},\"baxis\":{\"endlinecolor\":\"#2a3f5f\",\"gridcolor\":\"white\",\"linecolor\":\"white\",\"minorgridcolor\":\"white\",\"startlinecolor\":\"#2a3f5f\"},\"type\":\"carpet\"}],\"choropleth\":[{\"colorbar\":{\"outlinewidth\":0,\"ticks\":\"\"},\"type\":\"choropleth\"}],\"contourcarpet\":[{\"colorbar\":{\"outlinewidth\":0,\"ticks\":\"\"},\"type\":\"contourcarpet\"}],\"contour\":[{\"colorbar\":{\"outlinewidth\":0,\"ticks\":\"\"},\"colorscale\":[[0.0,\"#0d0887\"],[0.1111111111111111,\"#46039f\"],[0.2222222222222222,\"#7201a8\"],[0.3333333333333333,\"#9c179e\"],[0.4444444444444444,\"#bd3786\"],[0.5555555555555556,\"#d8576b\"],[0.6666666666666666,\"#ed7953\"],[0.7777777777777778,\"#fb9f3a\"],[0.8888888888888888,\"#fdca26\"],[1.0,\"#f0f921\"]],\"type\":\"contour\"}],\"heatmapgl\":[{\"colorbar\":{\"outlinewidth\":0,\"ticks\":\"\"},\"colorscale\":[[0.0,\"#0d0887\"],[0.1111111111111111,\"#46039f\"],[0.2222222222222222,\"#7201a8\"],[0.3333333333333333,\"#9c179e\"],[0.4444444444444444,\"#bd3786\"],[0.5555555555555556,\"#d8576b\"],[0.6666666666666666,\"#ed7953\"],[0.7777777777777778,\"#fb9f3a\"],[0.8888888888888888,\"#fdca26\"],[1.0,\"#f0f921\"]],\"type\":\"heatmapgl\"}],\"heatmap\":[{\"colorbar\":{\"outlinewidth\":0,\"ticks\":\"\"},\"colorscale\":[[0.0,\"#0d0887\"],[0.1111111111111111,\"#46039f\"],[0.2222222222222222,\"#7201a8\"],[0.3333333333333333,\"#9c179e\"],[0.4444444444444444,\"#bd3786\"],[0.5555555555555556,\"#d8576b\"],[0.6666666666666666,\"#ed7953\"],[0.7777777777777778,\"#fb9f3a\"],[0.8888888888888888,\"#fdca26\"],[1.0,\"#f0f921\"]],\"type\":\"heatmap\"}],\"histogram2dcontour\":[{\"colorbar\":{\"outlinewidth\":0,\"ticks\":\"\"},\"colorscale\":[[0.0,\"#0d0887\"],[0.1111111111111111,\"#46039f\"],[0.2222222222222222,\"#7201a8\"],[0.3333333333333333,\"#9c179e\"],[0.4444444444444444,\"#bd3786\"],[0.5555555555555556,\"#d8576b\"],[0.6666666666666666,\"#ed7953\"],[0.7777777777777778,\"#fb9f3a\"],[0.8888888888888888,\"#fdca26\"],[1.0,\"#f0f921\"]],\"type\":\"histogram2dcontour\"}],\"histogram2d\":[{\"colorbar\":{\"outlinewidth\":0,\"ticks\":\"\"},\"colorscale\":[[0.0,\"#0d0887\"],[0.1111111111111111,\"#46039f\"],[0.2222222222222222,\"#7201a8\"],[0.3333333333333333,\"#9c179e\"],[0.4444444444444444,\"#bd3786\"],[0.5555555555555556,\"#d8576b\"],[0.6666666666666666,\"#ed7953\"],[0.7777777777777778,\"#fb9f3a\"],[0.8888888888888888,\"#fdca26\"],[1.0,\"#f0f921\"]],\"type\":\"histogram2d\"}],\"histogram\":[{\"marker\":{\"pattern\":{\"fillmode\":\"overlay\",\"size\":10,\"solidity\":0.2}},\"type\":\"histogram\"}],\"mesh3d\":[{\"colorbar\":{\"outlinewidth\":0,\"ticks\":\"\"},\"type\":\"mesh3d\"}],\"parcoords\":[{\"line\":{\"colorbar\":{\"outlinewidth\":0,\"ticks\":\"\"}},\"type\":\"parcoords\"}],\"pie\":[{\"automargin\":true,\"type\":\"pie\"}],\"scatter3d\":[{\"line\":{\"colorbar\":{\"outlinewidth\":0,\"ticks\":\"\"}},\"marker\":{\"colorbar\":{\"outlinewidth\":0,\"ticks\":\"\"}},\"type\":\"scatter3d\"}],\"scattercarpet\":[{\"marker\":{\"colorbar\":{\"outlinewidth\":0,\"ticks\":\"\"}},\"type\":\"scattercarpet\"}],\"scattergeo\":[{\"marker\":{\"colorbar\":{\"outlinewidth\":0,\"ticks\":\"\"}},\"type\":\"scattergeo\"}],\"scattergl\":[{\"marker\":{\"colorbar\":{\"outlinewidth\":0,\"ticks\":\"\"}},\"type\":\"scattergl\"}],\"scattermapbox\":[{\"marker\":{\"colorbar\":{\"outlinewidth\":0,\"ticks\":\"\"}},\"type\":\"scattermapbox\"}],\"scatterpolargl\":[{\"marker\":{\"colorbar\":{\"outlinewidth\":0,\"ticks\":\"\"}},\"type\":\"scatterpolargl\"}],\"scatterpolar\":[{\"marker\":{\"colorbar\":{\"outlinewidth\":0,\"ticks\":\"\"}},\"type\":\"scatterpolar\"}],\"scatter\":[{\"fillpattern\":{\"fillmode\":\"overlay\",\"size\":10,\"solidity\":0.2},\"type\":\"scatter\"}],\"scatterternary\":[{\"marker\":{\"colorbar\":{\"outlinewidth\":0,\"ticks\":\"\"}},\"type\":\"scatterternary\"}],\"surface\":[{\"colorbar\":{\"outlinewidth\":0,\"ticks\":\"\"},\"colorscale\":[[0.0,\"#0d0887\"],[0.1111111111111111,\"#46039f\"],[0.2222222222222222,\"#7201a8\"],[0.3333333333333333,\"#9c179e\"],[0.4444444444444444,\"#bd3786\"],[0.5555555555555556,\"#d8576b\"],[0.6666666666666666,\"#ed7953\"],[0.7777777777777778,\"#fb9f3a\"],[0.8888888888888888,\"#fdca26\"],[1.0,\"#f0f921\"]],\"type\":\"surface\"}],\"table\":[{\"cells\":{\"fill\":{\"color\":\"#EBF0F8\"},\"line\":{\"color\":\"white\"}},\"header\":{\"fill\":{\"color\":\"#C8D4E3\"},\"line\":{\"color\":\"white\"}},\"type\":\"table\"}]},\"layout\":{\"annotationdefaults\":{\"arrowcolor\":\"#2a3f5f\",\"arrowhead\":0,\"arrowwidth\":1},\"autotypenumbers\":\"strict\",\"coloraxis\":{\"colorbar\":{\"outlinewidth\":0,\"ticks\":\"\"}},\"colorscale\":{\"diverging\":[[0,\"#8e0152\"],[0.1,\"#c51b7d\"],[0.2,\"#de77ae\"],[0.3,\"#f1b6da\"],[0.4,\"#fde0ef\"],[0.5,\"#f7f7f7\"],[0.6,\"#e6f5d0\"],[0.7,\"#b8e186\"],[0.8,\"#7fbc41\"],[0.9,\"#4d9221\"],[1,\"#276419\"]],\"sequential\":[[0.0,\"#0d0887\"],[0.1111111111111111,\"#46039f\"],[0.2222222222222222,\"#7201a8\"],[0.3333333333333333,\"#9c179e\"],[0.4444444444444444,\"#bd3786\"],[0.5555555555555556,\"#d8576b\"],[0.6666666666666666,\"#ed7953\"],[0.7777777777777778,\"#fb9f3a\"],[0.8888888888888888,\"#fdca26\"],[1.0,\"#f0f921\"]],\"sequentialminus\":[[0.0,\"#0d0887\"],[0.1111111111111111,\"#46039f\"],[0.2222222222222222,\"#7201a8\"],[0.3333333333333333,\"#9c179e\"],[0.4444444444444444,\"#bd3786\"],[0.5555555555555556,\"#d8576b\"],[0.6666666666666666,\"#ed7953\"],[0.7777777777777778,\"#fb9f3a\"],[0.8888888888888888,\"#fdca26\"],[1.0,\"#f0f921\"]]},\"colorway\":[\"#636efa\",\"#EF553B\",\"#00cc96\",\"#ab63fa\",\"#FFA15A\",\"#19d3f3\",\"#FF6692\",\"#B6E880\",\"#FF97FF\",\"#FECB52\"],\"font\":{\"color\":\"#040404\",\"family\":\"Open Sans\",\"size\":15},\"geo\":{\"bgcolor\":\"white\",\"lakecolor\":\"white\",\"landcolor\":\"#E5ECF6\",\"showlakes\":true,\"showland\":true,\"subunitcolor\":\"white\"},\"hoverlabel\":{\"align\":\"left\"},\"hovermode\":\"closest\",\"mapbox\":{\"style\":\"light\"},\"paper_bgcolor\":\"white\",\"plot_bgcolor\":\"#E5ECF6\",\"polar\":{\"angularaxis\":{\"gridcolor\":\"white\",\"linecolor\":\"white\",\"ticks\":\"\"},\"bgcolor\":\"#E5ECF6\",\"radialaxis\":{\"gridcolor\":\"white\",\"linecolor\":\"white\",\"ticks\":\"\"}},\"scene\":{\"xaxis\":{\"backgroundcolor\":\"#E5ECF6\",\"gridcolor\":\"white\",\"gridwidth\":2,\"linecolor\":\"white\",\"showbackground\":true,\"ticks\":\"\",\"zerolinecolor\":\"white\"},\"yaxis\":{\"backgroundcolor\":\"#E5ECF6\",\"gridcolor\":\"white\",\"gridwidth\":2,\"linecolor\":\"white\",\"showbackground\":true,\"ticks\":\"\",\"zerolinecolor\":\"white\"},\"zaxis\":{\"backgroundcolor\":\"#E5ECF6\",\"gridcolor\":\"white\",\"gridwidth\":2,\"linecolor\":\"white\",\"showbackground\":true,\"ticks\":\"\",\"zerolinecolor\":\"white\"}},\"shapedefaults\":{\"line\":{\"color\":\"#2a3f5f\"}},\"ternary\":{\"aaxis\":{\"gridcolor\":\"white\",\"linecolor\":\"white\",\"ticks\":\"\"},\"baxis\":{\"gridcolor\":\"white\",\"linecolor\":\"white\",\"ticks\":\"\"},\"bgcolor\":\"#E5ECF6\",\"caxis\":{\"gridcolor\":\"white\",\"linecolor\":\"white\",\"ticks\":\"\"}},\"title\":{\"x\":0.05,\"font\":{\"color\":\"#040404\",\"family\":\"Open Sans\"}},\"xaxis\":{\"automargin\":true,\"gridcolor\":\"white\",\"linecolor\":\"white\",\"ticks\":\"\",\"title\":{\"standoff\":15},\"zerolinecolor\":\"white\",\"zerolinewidth\":2},\"yaxis\":{\"automargin\":true,\"gridcolor\":\"white\",\"linecolor\":\"white\",\"ticks\":\"\",\"title\":{\"standoff\":15},\"zerolinecolor\":\"white\",\"zerolinewidth\":2},\"margin\":{\"b\":0}}},\"xaxis\":{\"anchor\":\"y\",\"domain\":[0.0,1.0],\"title\":{\"text\":\"\"},\"showspikes\":false,\"type\":\"log\",\"side\":\"top\"},\"yaxis\":{\"anchor\":\"x\",\"domain\":[0.0,1.0],\"title\":{},\"autorange\":\"reversed\",\"showspikes\":false,\"categoryorder\":\"total descending\"},\"legend\":{\"title\":{},\"tracegroupgap\":0},\"margin\":{\"t\":60},\"barmode\":\"relative\",\"hoverlabel\":{\"bgcolor\":\"white\"},\"height\":4000,\"title\":{\"text\":\"Package downloads in the last month\"},\"dragmode\":false,\"images\":[{\"sizex\":0.1,\"sizey\":0.1,\"source\":\"data:image/png;base64,iVBORw0KGgoAAAANSUhEUgAAADwAAAA8CAYAAAA6/NlyAAAD20lEQVR4nO2ZTWgcZRjHf8/spjWkFYmKmbR+oVKaCPbQU8i2tCBqEbrU7LIJVhG0PVWQih4UehAVQVAkAQ/qRW1WdhPrB+pJ1DQF6aEnQ0WqqCQbhfpFW6nJzOMhBgQ3u+/MvPORmP91n/n/nx/v7DvPvCOqyv9JTtoNJK114LWufBIh5TIbZj3uQLldhJtV2CJwlfrkpicpJtHDsmIDHtzPZjo4gM8IQkGgE1n6Tf7ZJ0W4HFf+SrIOvLvI9YsORyXPwyhdy5BZkTXgwf1s1jzHJMejAh22fG3LCnDhAHeT53WBXht+cSoS8J495Beu5nmEo5C1m7e5QgPv28fGxW7eQhmy2VDcCgV81wN0XezkE2DQcj+xKzDwzsN0XHGJGqsQFkJMWp3nGUO5J45mklCgFS7cx0GFRyzk/izCT6p8Z8ErkMT09XCgzBZnkRmEK0NmTaswicd70+9yLqRHZBmvcM7jZQ0He1qEZ6bqfBDiWusyWuGBEgOOz3RAb1+Ep05O8IIqmTllMFphR3k6oO8FUYanJvgwRE+xqu0K7yrT53t8FcDTE6U4NZk9WDB4LKnHg0EMVXgiq7DQBlgEAUYC+H15aoKXorUUr1oCF0psV9hqaibK41naoJqpJbDvs9fYSflsapKTkTuKWa3/w8oOUyOBetRmklC7TWuboY86Pu9HbSYJtQO+0dDn/Ocn+DFqM0mo9S6N8Sg5Z6GXRNRy0lIYUyHXzkSUb+y1FK+M35bWitY/tSQhaVQvAxvaV+oX6g7vtpmd1gpfMCsT13ZwWsC/GdZZP9hPCVi/NSzsktnjO2wmpwOs8rVxrThFm9HpADt62rhWGBKLn3HSAfbl0wDV/cxVy7aiUxs8pFGdAbYblp/j11yf9pX+ipqb5uBxPEDtLXT7L9oITRHYfxPwjMtVj0jjnUNRU1MDVnfkeyTooYGOSmP8cJTcdGfpRX0OAp2BdYC8KnPVUZmpGYym/1Xqb0syP/4GKg+FuPQHkGdxz76mHPON89IHrl2LemeB7nAOOoNSBzmhvZUzbfPSBgaQ+eoQSs2C1Z8IsygNdSu7mhVk4n1Yeyp1lDELVp0otwKFlQoyAQxA7x+PAR/HHZMZYOXQAs5CCTgVZ05mgAH0uoMXYdOdIB/FlZEpYAB1772E+3sRYTQO/8wBw9LtrT2VIwgl4Beb3pkEXpb2VOp4uduAVwDj4aKVMvEcNpHMj/ej8iQwjMFpq7qVpocGqwZ4WdKo3QDe/Sx9qO9fqW7NAP9bMvv2VnL5vcBOVLcBNwHXAJvUrWxses1qBg6jTG9acWgdeK3rb5uuGEmTzESgAAAAAElFTkSuQmCC\",\"x\":1,\"xanchor\":\"right\",\"xref\":\"paper\",\"y\":0,\"yanchor\":\"bottom\",\"yref\":\"paper\"}],\"hovermode\":\"y unified\",\"hoverdistance\":1000},                        {\"toImageButtonOptions\": {\"format\": \"png\"}, \"responsive\": \"true\"}                    ).then(function(){\n",
       "                            \n",
       "var gd = document.getElementById('201e70c8-62cf-4d47-8e91-f76562280059');\n",
       "var x = new MutationObserver(function (mutations, observer) {{\n",
       "        var display = window.getComputedStyle(gd).display;\n",
       "        if (!display || display === 'none') {{\n",
       "            console.log([gd, 'removed!']);\n",
       "            Plotly.purge(gd);\n",
       "            observer.disconnect();\n",
       "        }}\n",
       "}});\n",
       "\n",
       "// Listen for the removal of the full notebook cells\n",
       "var notebookContainer = gd.closest('#notebook-container');\n",
       "if (notebookContainer) {{\n",
       "    x.observe(notebookContainer, {childList: true});\n",
       "}}\n",
       "\n",
       "// Listen for the clearing of the current output cell\n",
       "var outputEl = gd.closest('.output');\n",
       "if (outputEl) {{\n",
       "    x.observe(outputEl, {childList: true});\n",
       "}}\n",
       "\n",
       "                        })                };                });            </script>        </div>"
      ]
     },
     "metadata": {},
     "output_type": "display_data"
    }
   ],
   "source": [
    "import numpy as np\n",
    "import pandas as pd\n",
    "import plotly.io as pio\n",
    "import plotly.graph_objects as go\n",
    "import plotly.express as px\n",
    "\n",
    "#df_extract = df_extract[df_extract[\"category\"] == \"Renewable Energy\"]\n",
    "\n",
    "top_downloaders = df_extract.nlargest(200, \"download_counts\")\n",
    "\n",
    "color_discrete_sequence = px.colors.qualitative.Vivid\n",
    "fig = px.bar(\n",
    "    top_downloaders,\n",
    "    x=top_downloaders[\"download_counts\"],\n",
    "    y=top_downloaders[\"project_names\"],\n",
    "    custom_data=[\"project_names\", \"download_counts\", \"git_url\", \"description\",\"category\",\"sub_category\",\"language\"],\n",
    "    orientation=\"h\",\n",
    "    color = 'category',\n",
    "    color_discrete_sequence=color_discrete_sequence,\n",
    ")\n",
    "\n",
    "fig.update_layout(\n",
    "    height=4000,  # Added parameter\n",
    "    #width=700,\n",
    "    xaxis_title=\"\",\n",
    "    yaxis_title=None,\n",
    "    title=\"Package downloads in the last month\",\n",
    "    hoverlabel=dict(bgcolor=\"white\"),\n",
    "    dragmode=False,\n",
    ")\n",
    "\n",
    "fig.add_layout_image(\n",
    "    dict(\n",
    "        source=logo_img,\n",
    "        xref=\"paper\",\n",
    "        yref=\"paper\",\n",
    "        x=1,\n",
    "        y=0,\n",
    "        sizex=0.10,\n",
    "        sizey=0.10,\n",
    "        xanchor=\"right\",\n",
    "        yanchor=\"bottom\",\n",
    "    )\n",
    ")\n",
    "fig.update_layout(hovermode=\"y unified\",hoverdistance=1000)\n",
    "\n",
    "fig.update_traces(\n",
    "    hovertemplate=\"<extra></extra>\"+\"<br>\".join(\n",
    "        [\n",
    "            \"Downloads: <b>%{customdata[1]}</b>\",\n",
    "            \"Git URL: <b>%{customdata[2]}</b>\",\n",
    "            \"Description: <b>%{customdata[3]}</b>\",\n",
    "            \"Category: <b>%{customdata[4]}</b>\",\n",
    "            \"Sub Category: <b>%{customdata[5]}</b>\",\n",
    "            \"Language: <b>%{customdata[6]}</b>\",\n",
    "        ]\n",
    "    )\n",
    "                  \n",
    ")\n",
    "\n",
    "#fig.update(layout_showlegend=False)\n",
    "\n",
    "\n",
    "config = {\n",
    "  'toImageButtonOptions': {\n",
    "    'format': 'png', # one of png, svg, jpeg, webp\n",
    "  },\n",
    "  'responsive':'true'\n",
    "}\n",
    "\n",
    "fig[\"layout\"][\"yaxis\"][\"autorange\"] = \"reversed\"\n",
    "\n",
    "fig.update_xaxes(showspikes=False)  # <-- add this line\n",
    "fig.update_yaxes(showspikes=False)  # <-- add this line\n",
    "fig.update_traces(hoverinfo = 'name+z')\n",
    "\n",
    "\n",
    "#fig.update_layout(barmode='stack', xaxis={'categoryorder':'total ascending'})\n",
    "fig.update_layout(xaxis_type = \"log\",yaxis_categoryorder = 'total descending',legend_title=None, xaxis={'side': 'top'}, )\n",
    "fig.show(config=config)\n",
    "\n",
    "pio.write_json(fig,\"download_plot.json\")"
   ]
  },
  {
   "cell_type": "code",
   "execution_count": null,
   "id": "dc07541a",
   "metadata": {},
   "outputs": [],
   "source": []
  }
 ],
 "metadata": {
  "kernelspec": {
   "display_name": "Python 3.8 (XPython)",
   "language": "python",
   "name": "xpython"
  },
  "language_info": {
   "file_extension": ".py",
   "mimetype": "text/x-python",
   "name": "python",
   "version": "3.8.9"
  }
 },
 "nbformat": 4,
 "nbformat_minor": 5
}

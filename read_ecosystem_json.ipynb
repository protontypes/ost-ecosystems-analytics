{
 "cells": [
  {
   "cell_type": "code",
   "execution_count": 2,
   "id": "4405547e",
   "metadata": {},
   "outputs": [],
   "source": [
    "import requests\n",
    "import pandas as pd\n",
    "from opensustainTemplate import *\n",
    "\n",
    "URL = \"https://ost.ecosyste.ms/api/v1/projects/packages\"\n",
    "FILE_TO_SAVE_AS = \"ecosystems_downloads.json\" # the name you want to save file as\n",
    "\n",
    "\n",
    "resp = requests.get(URL) # making requests to server\n",
    "\n",
    "with open(FILE_TO_SAVE_AS, \"wb\") as f: # opening a file handler to create new file \n",
    "    f.write(resp.content) # writing content to file"
   ]
  },
  {
   "cell_type": "code",
   "execution_count": 3,
   "id": "61707d43",
   "metadata": {},
   "outputs": [
    {
     "data": {
      "text/html": [
       "<div>\n",
       "<style scoped>\n",
       "    .dataframe tbody tr th:only-of-type {\n",
       "        vertical-align: middle;\n",
       "    }\n",
       "\n",
       "    .dataframe tbody tr th {\n",
       "        vertical-align: top;\n",
       "    }\n",
       "\n",
       "    .dataframe thead th {\n",
       "        text-align: right;\n",
       "    }\n",
       "</style>\n",
       "<table border=\"1\" class=\"dataframe\">\n",
       "  <thead>\n",
       "    <tr style=\"text-align: right;\">\n",
       "      <th></th>\n",
       "      <th>id</th>\n",
       "      <th>name</th>\n",
       "      <th>description</th>\n",
       "      <th>url</th>\n",
       "      <th>last_synced_at</th>\n",
       "      <th>repository</th>\n",
       "      <th>owner</th>\n",
       "      <th>packages</th>\n",
       "      <th>commits</th>\n",
       "      <th>issues_stats</th>\n",
       "      <th>...</th>\n",
       "      <th>dependencies</th>\n",
       "      <th>score</th>\n",
       "      <th>created_at</th>\n",
       "      <th>updated_at</th>\n",
       "      <th>avatar_url</th>\n",
       "      <th>language</th>\n",
       "      <th>category</th>\n",
       "      <th>sub_category</th>\n",
       "      <th>project_url</th>\n",
       "      <th>html_url</th>\n",
       "    </tr>\n",
       "  </thead>\n",
       "  <tbody>\n",
       "    <tr>\n",
       "      <th>0</th>\n",
       "      <td>20618</td>\n",
       "      <td>netcdf-python</td>\n",
       "      <td>The Unidata network Common Data Form (netCDF) ...</td>\n",
       "      <td>https://github.com/Unidata/netcdf4-python</td>\n",
       "      <td>2023-12-07 01:19:20.097000+00:00</td>\n",
       "      <td>{'uuid': '15884459', 'full_name': 'Unidata/net...</td>\n",
       "      <td>{'login': 'Unidata', 'name': 'Unidata', 'uuid'...</td>\n",
       "      <td>[{'name': 'netcdf4', 'ecosystem': 'pypi', 'des...</td>\n",
       "      <td>{'full_name': 'Unidata/netcdf4-python', 'defau...</td>\n",
       "      <td>{'full_name': 'Unidata/netcdf4-python', 'html_...</td>\n",
       "      <td>...</td>\n",
       "      <td>[{'ecosystem': 'actions', 'filepath': '.github...</td>\n",
       "      <td>25.510734</td>\n",
       "      <td>2023-09-11 14:52:14.006000+00:00</td>\n",
       "      <td>2023-12-07 01:19:20.100000+00:00</td>\n",
       "      <td>https://github.com/Unidata.png</td>\n",
       "      <td>Cython</td>\n",
       "      <td>Climate Change</td>\n",
       "      <td>Climate Data Standards</td>\n",
       "      <td>https://ost.ecosyste.ms/api/v1/projects/20618</td>\n",
       "      <td>https://ost.ecosyste.ms/projects/20618</td>\n",
       "    </tr>\n",
       "    <tr>\n",
       "      <th>1</th>\n",
       "      <td>19753</td>\n",
       "      <td>pvlib-python</td>\n",
       "      <td>A set of documented functions for simulating t...</td>\n",
       "      <td>https://github.com/pvlib/pvlib-python</td>\n",
       "      <td>2023-12-07 00:53:31.605000+00:00</td>\n",
       "      <td>{'uuid': '30895522', 'full_name': 'pvlib/pvlib...</td>\n",
       "      <td>{'login': 'pvlib', 'name': 'pvlib', 'uuid': '1...</td>\n",
       "      <td>[{'name': 'pvlib', 'ecosystem': 'pypi', 'descr...</td>\n",
       "      <td>{'full_name': 'pvlib/pvlib-python', 'default_b...</td>\n",
       "      <td>{'full_name': 'pvlib/pvlib-python', 'html_url'...</td>\n",
       "      <td>...</td>\n",
       "      <td>[{'ecosystem': 'actions', 'filepath': '.github...</td>\n",
       "      <td>24.248670</td>\n",
       "      <td>2023-09-11 14:52:06.879000+00:00</td>\n",
       "      <td>2023-12-07 00:53:31.610000+00:00</td>\n",
       "      <td>https://github.com/pvlib.png</td>\n",
       "      <td>Python</td>\n",
       "      <td>Renewable Energy</td>\n",
       "      <td>Photovoltaics and Solar Energy</td>\n",
       "      <td>https://ost.ecosyste.ms/api/v1/projects/19753</td>\n",
       "      <td>https://ost.ecosyste.ms/projects/19753</td>\n",
       "    </tr>\n",
       "    <tr>\n",
       "      <th>2</th>\n",
       "      <td>20183</td>\n",
       "      <td>kube-green</td>\n",
       "      <td>A k8s operator to reduce CO2 footprint of your...</td>\n",
       "      <td>https://github.com/kube-green/kube-green</td>\n",
       "      <td>2023-12-08 05:15:16.153000+00:00</td>\n",
       "      <td>{'uuid': '340965344', 'full_name': 'kube-green...</td>\n",
       "      <td>{'login': 'kube-green', 'name': 'kube-green', ...</td>\n",
       "      <td>[{'name': 'kubegreen/kube-green', 'ecosystem':...</td>\n",
       "      <td>{'full_name': 'kube-green/kube-green', 'defaul...</td>\n",
       "      <td>{'full_name': 'kube-green/kube-green', 'html_u...</td>\n",
       "      <td>...</td>\n",
       "      <td>[{'ecosystem': 'actions', 'filepath': '.github...</td>\n",
       "      <td>21.249127</td>\n",
       "      <td>2023-09-11 14:52:10.530000+00:00</td>\n",
       "      <td>2023-12-08 05:15:16.167000+00:00</td>\n",
       "      <td>https://github.com/kube-green.png</td>\n",
       "      <td>Go</td>\n",
       "      <td>Consumption</td>\n",
       "      <td>Computation and Communication</td>\n",
       "      <td>https://ost.ecosyste.ms/api/v1/projects/20183</td>\n",
       "      <td>https://ost.ecosyste.ms/projects/20183</td>\n",
       "    </tr>\n",
       "    <tr>\n",
       "      <th>3</th>\n",
       "      <td>764</td>\n",
       "      <td>eeweather</td>\n",
       "      <td>Fetch NCDC ISD, TMY3, or CZ2010 weather data t...</td>\n",
       "      <td>https://github.com/openeemeter/eeweather</td>\n",
       "      <td>2023-12-07 00:50:29.800000+00:00</td>\n",
       "      <td>{'uuid': '119442616', 'full_name': 'openeemete...</td>\n",
       "      <td>{'login': 'openeemeter', 'name': 'OpenEEmeter'...</td>\n",
       "      <td>[{'name': 'eeweather', 'ecosystem': 'pypi', 'd...</td>\n",
       "      <td>{'full_name': 'openeemeter/eeweather', 'defaul...</td>\n",
       "      <td>{'full_name': 'openeemeter/eeweather', 'html_u...</td>\n",
       "      <td>...</td>\n",
       "      <td>[{'ecosystem': 'pypi', 'filepath': 'Pipfile', ...</td>\n",
       "      <td>18.043913</td>\n",
       "      <td>2023-09-11 11:54:35.868000+00:00</td>\n",
       "      <td>2023-12-07 00:50:29.813000+00:00</td>\n",
       "      <td>https://github.com/openeemeter.png</td>\n",
       "      <td>HTML</td>\n",
       "      <td>Atmosphere</td>\n",
       "      <td>Meteorological Observation and Forecast</td>\n",
       "      <td>https://ost.ecosyste.ms/api/v1/projects/764</td>\n",
       "      <td>https://ost.ecosyste.ms/projects/764</td>\n",
       "    </tr>\n",
       "    <tr>\n",
       "      <th>4</th>\n",
       "      <td>899</td>\n",
       "      <td>cfgrib</td>\n",
       "      <td>A Python interface to map GRIB files to the Ne...</td>\n",
       "      <td>https://github.com/ecmwf/cfgrib</td>\n",
       "      <td>2023-12-07 00:52:34.924000+00:00</td>\n",
       "      <td>{'uuid': '141110423', 'full_name': 'ecmwf/cfgr...</td>\n",
       "      <td>{'login': 'ecmwf', 'name': 'European Centre fo...</td>\n",
       "      <td>[{'name': 'cfgrib', 'ecosystem': 'pypi', 'desc...</td>\n",
       "      <td>{'full_name': 'ecmwf/cfgrib', 'default_branch'...</td>\n",
       "      <td>{'full_name': 'ecmwf/cfgrib', 'html_url': 'htt...</td>\n",
       "      <td>...</td>\n",
       "      <td>[{'ecosystem': 'pypi', 'filepath': 'ci/require...</td>\n",
       "      <td>20.712966</td>\n",
       "      <td>2023-09-11 11:54:36.281000+00:00</td>\n",
       "      <td>2023-12-07 00:52:34.927000+00:00</td>\n",
       "      <td>https://github.com/ecmwf.png</td>\n",
       "      <td>Python</td>\n",
       "      <td>Climate Change</td>\n",
       "      <td>Climate Data Processing and Analysis</td>\n",
       "      <td>https://ost.ecosyste.ms/api/v1/projects/899</td>\n",
       "      <td>https://ost.ecosyste.ms/projects/899</td>\n",
       "    </tr>\n",
       "    <tr>\n",
       "      <th>...</th>\n",
       "      <td>...</td>\n",
       "      <td>...</td>\n",
       "      <td>...</td>\n",
       "      <td>...</td>\n",
       "      <td>...</td>\n",
       "      <td>...</td>\n",
       "      <td>...</td>\n",
       "      <td>...</td>\n",
       "      <td>...</td>\n",
       "      <td>...</td>\n",
       "      <td>...</td>\n",
       "      <td>...</td>\n",
       "      <td>...</td>\n",
       "      <td>...</td>\n",
       "      <td>...</td>\n",
       "      <td>...</td>\n",
       "      <td>...</td>\n",
       "      <td>...</td>\n",
       "      <td>...</td>\n",
       "      <td>...</td>\n",
       "      <td>...</td>\n",
       "    </tr>\n",
       "    <tr>\n",
       "      <th>662</th>\n",
       "      <td>75800</td>\n",
       "      <td>OpenClimate</td>\n",
       "      <td>An open source initiative exploring the applic...</td>\n",
       "      <td>https://github.com/YaleOpenLab/openclimate-demo</td>\n",
       "      <td>2023-12-06 10:24:22.048000+00:00</td>\n",
       "      <td>{'uuid': '192364373', 'full_name': 'YaleOpenLa...</td>\n",
       "      <td>{'login': 'YaleOpenLab', 'name': 'Yale OpenLab...</td>\n",
       "      <td>[{'name': 'github.com/yaleopenlab/openclimate-...</td>\n",
       "      <td>{'full_name': 'YaleOpenLab/openclimate-demo', ...</td>\n",
       "      <td>{'full_name': 'YaleOpenLab/openclimate-demo', ...</td>\n",
       "      <td>...</td>\n",
       "      <td>[]</td>\n",
       "      <td>NaN</td>\n",
       "      <td>2023-09-19 00:00:46.238000+00:00</td>\n",
       "      <td>2023-12-06 10:24:22.051000+00:00</td>\n",
       "      <td>https://github.com/YaleOpenLab.png</td>\n",
       "      <td>Go</td>\n",
       "      <td>Sustainable Development</td>\n",
       "      <td>Knowledge Platforms</td>\n",
       "      <td>https://ost.ecosyste.ms/api/v1/projects/75800</td>\n",
       "      <td>https://ost.ecosyste.ms/projects/75800</td>\n",
       "    </tr>\n",
       "    <tr>\n",
       "      <th>663</th>\n",
       "      <td>91407</td>\n",
       "      <td>LiBRA</td>\n",
       "      <td>Create reduced-order state-space models for li...</td>\n",
       "      <td>https://github.com/bradyplanden/liibra.jl</td>\n",
       "      <td>2023-12-06 17:38:04.250000+00:00</td>\n",
       "      <td>{'uuid': '310030771', 'full_name': 'BradyPland...</td>\n",
       "      <td>{'login': 'BradyPlanden', 'name': 'Brady Pland...</td>\n",
       "      <td>[{'name': 'LiiBRA', 'ecosystem': 'julia', 'des...</td>\n",
       "      <td>{'full_name': 'BradyPlanden/LiiBRA.jl', 'defau...</td>\n",
       "      <td>{'full_name': 'BradyPlanden/LiiBRA.jl', 'html_...</td>\n",
       "      <td>...</td>\n",
       "      <td>[{'ecosystem': 'actions', 'filepath': '.github...</td>\n",
       "      <td>NaN</td>\n",
       "      <td>2023-09-24 00:09:27.532000+00:00</td>\n",
       "      <td>2023-12-06 17:38:04.252000+00:00</td>\n",
       "      <td>https://github.com/BradyPlanden.png</td>\n",
       "      <td>Julia</td>\n",
       "      <td>Energy Storage</td>\n",
       "      <td>Battery</td>\n",
       "      <td>https://ost.ecosyste.ms/api/v1/projects/91407</td>\n",
       "      <td>https://ost.ecosyste.ms/projects/91407</td>\n",
       "    </tr>\n",
       "    <tr>\n",
       "      <th>664</th>\n",
       "      <td>81463</td>\n",
       "      <td>worldpa</td>\n",
       "      <td>R interface to the World Database on Protected...</td>\n",
       "      <td>https://github.com/frbcesab/worldpa</td>\n",
       "      <td>2023-12-06 13:12:57.799000+00:00</td>\n",
       "      <td>{'uuid': '221718108', 'full_name': 'FRBCesab/w...</td>\n",
       "      <td>{'login': 'FRBCesab', 'name': 'FRB CESAB', 'uu...</td>\n",
       "      <td>[{'name': 'github.com/FRBCesab/worldpa', 'ecos...</td>\n",
       "      <td>{'full_name': 'FRBCesab/worldpa', 'default_bra...</td>\n",
       "      <td>{'full_name': 'FRBCesab/worldpa', 'html_url': ...</td>\n",
       "      <td>...</td>\n",
       "      <td>[{'ecosystem': 'actions', 'filepath': '.github...</td>\n",
       "      <td>NaN</td>\n",
       "      <td>2023-09-19 11:40:36.047000+00:00</td>\n",
       "      <td>2023-12-06 13:12:57.801000+00:00</td>\n",
       "      <td>https://github.com/FRBCesab.png</td>\n",
       "      <td>R</td>\n",
       "      <td>Biosphere</td>\n",
       "      <td>Conservation and Restoration</td>\n",
       "      <td>https://ost.ecosyste.ms/api/v1/projects/81463</td>\n",
       "      <td>https://ost.ecosyste.ms/projects/81463</td>\n",
       "    </tr>\n",
       "    <tr>\n",
       "      <th>665</th>\n",
       "      <td>19855</td>\n",
       "      <td>GeoThermalCloud.jl</td>\n",
       "      <td>A repository containing all the data and codes...</td>\n",
       "      <td>https://github.com/SmartTensors/GeoThermalClou...</td>\n",
       "      <td>2023-12-07 00:52:22.235000+00:00</td>\n",
       "      <td>{'uuid': '329091229', 'full_name': 'SmartTenso...</td>\n",
       "      <td>{'login': 'SmartTensors', 'name': 'SmartTensor...</td>\n",
       "      <td>[{'name': 'GeoThermalCloud', 'ecosystem': 'jul...</td>\n",
       "      <td>{'full_name': 'SmartTensors/GeoThermalCloud.jl...</td>\n",
       "      <td>{'full_name': 'SmartTensors/GeoThermalCloud.jl...</td>\n",
       "      <td>...</td>\n",
       "      <td>[{'ecosystem': 'actions', 'filepath': '.github...</td>\n",
       "      <td>NaN</td>\n",
       "      <td>2023-09-11 14:52:07.609000+00:00</td>\n",
       "      <td>2023-12-07 00:52:22.239000+00:00</td>\n",
       "      <td>https://github.com/SmartTensors.png</td>\n",
       "      <td>Jupyter Notebook</td>\n",
       "      <td>Renewable Energy</td>\n",
       "      <td>Geothermal Energy</td>\n",
       "      <td>https://ost.ecosyste.ms/api/v1/projects/19855</td>\n",
       "      <td>https://ost.ecosyste.ms/projects/19855</td>\n",
       "    </tr>\n",
       "    <tr>\n",
       "      <th>666</th>\n",
       "      <td>81469</td>\n",
       "      <td>ClimateMARGO.jl</td>\n",
       "      <td>A Julia implementation of MARGO, an idealized ...</td>\n",
       "      <td>https://github.com/climatemargo/climatemargo.jl</td>\n",
       "      <td>2023-12-06 13:14:17.200000+00:00</td>\n",
       "      <td>{'uuid': '266830976', 'full_name': 'ClimateMAR...</td>\n",
       "      <td>{'login': 'ClimateMARGO', 'name': 'ClimateMARG...</td>\n",
       "      <td>[{'name': 'ClimateMARGO', 'ecosystem': 'julia'...</td>\n",
       "      <td>{'full_name': 'ClimateMARGO/ClimateMARGO.jl', ...</td>\n",
       "      <td>{'full_name': 'ClimateMARGO/ClimateMARGO.jl', ...</td>\n",
       "      <td>...</td>\n",
       "      <td>[{'ecosystem': 'actions', 'filepath': '.github...</td>\n",
       "      <td>NaN</td>\n",
       "      <td>2023-09-19 11:41:05.920000+00:00</td>\n",
       "      <td>2023-12-06 13:14:17.202000+00:00</td>\n",
       "      <td>https://github.com/ClimateMARGO.png</td>\n",
       "      <td>Julia</td>\n",
       "      <td>Emissions</td>\n",
       "      <td>Carbon Capture</td>\n",
       "      <td>https://ost.ecosyste.ms/api/v1/projects/81469</td>\n",
       "      <td>https://ost.ecosyste.ms/projects/81469</td>\n",
       "    </tr>\n",
       "  </tbody>\n",
       "</table>\n",
       "<p>667 rows × 22 columns</p>\n",
       "</div>"
      ],
      "text/plain": [
       "        id                name  \\\n",
       "0    20618       netcdf-python   \n",
       "1    19753        pvlib-python   \n",
       "2    20183          kube-green   \n",
       "3      764           eeweather   \n",
       "4      899              cfgrib   \n",
       "..     ...                 ...   \n",
       "662  75800         OpenClimate   \n",
       "663  91407               LiBRA   \n",
       "664  81463             worldpa   \n",
       "665  19855  GeoThermalCloud.jl   \n",
       "666  81469     ClimateMARGO.jl   \n",
       "\n",
       "                                           description  \\\n",
       "0    The Unidata network Common Data Form (netCDF) ...   \n",
       "1    A set of documented functions for simulating t...   \n",
       "2    A k8s operator to reduce CO2 footprint of your...   \n",
       "3    Fetch NCDC ISD, TMY3, or CZ2010 weather data t...   \n",
       "4    A Python interface to map GRIB files to the Ne...   \n",
       "..                                                 ...   \n",
       "662  An open source initiative exploring the applic...   \n",
       "663  Create reduced-order state-space models for li...   \n",
       "664  R interface to the World Database on Protected...   \n",
       "665  A repository containing all the data and codes...   \n",
       "666  A Julia implementation of MARGO, an idealized ...   \n",
       "\n",
       "                                                   url  \\\n",
       "0            https://github.com/Unidata/netcdf4-python   \n",
       "1                https://github.com/pvlib/pvlib-python   \n",
       "2             https://github.com/kube-green/kube-green   \n",
       "3             https://github.com/openeemeter/eeweather   \n",
       "4                      https://github.com/ecmwf/cfgrib   \n",
       "..                                                 ...   \n",
       "662    https://github.com/YaleOpenLab/openclimate-demo   \n",
       "663          https://github.com/bradyplanden/liibra.jl   \n",
       "664                https://github.com/frbcesab/worldpa   \n",
       "665  https://github.com/SmartTensors/GeoThermalClou...   \n",
       "666    https://github.com/climatemargo/climatemargo.jl   \n",
       "\n",
       "                      last_synced_at  \\\n",
       "0   2023-12-07 01:19:20.097000+00:00   \n",
       "1   2023-12-07 00:53:31.605000+00:00   \n",
       "2   2023-12-08 05:15:16.153000+00:00   \n",
       "3   2023-12-07 00:50:29.800000+00:00   \n",
       "4   2023-12-07 00:52:34.924000+00:00   \n",
       "..                               ...   \n",
       "662 2023-12-06 10:24:22.048000+00:00   \n",
       "663 2023-12-06 17:38:04.250000+00:00   \n",
       "664 2023-12-06 13:12:57.799000+00:00   \n",
       "665 2023-12-07 00:52:22.235000+00:00   \n",
       "666 2023-12-06 13:14:17.200000+00:00   \n",
       "\n",
       "                                            repository  \\\n",
       "0    {'uuid': '15884459', 'full_name': 'Unidata/net...   \n",
       "1    {'uuid': '30895522', 'full_name': 'pvlib/pvlib...   \n",
       "2    {'uuid': '340965344', 'full_name': 'kube-green...   \n",
       "3    {'uuid': '119442616', 'full_name': 'openeemete...   \n",
       "4    {'uuid': '141110423', 'full_name': 'ecmwf/cfgr...   \n",
       "..                                                 ...   \n",
       "662  {'uuid': '192364373', 'full_name': 'YaleOpenLa...   \n",
       "663  {'uuid': '310030771', 'full_name': 'BradyPland...   \n",
       "664  {'uuid': '221718108', 'full_name': 'FRBCesab/w...   \n",
       "665  {'uuid': '329091229', 'full_name': 'SmartTenso...   \n",
       "666  {'uuid': '266830976', 'full_name': 'ClimateMAR...   \n",
       "\n",
       "                                                 owner  \\\n",
       "0    {'login': 'Unidata', 'name': 'Unidata', 'uuid'...   \n",
       "1    {'login': 'pvlib', 'name': 'pvlib', 'uuid': '1...   \n",
       "2    {'login': 'kube-green', 'name': 'kube-green', ...   \n",
       "3    {'login': 'openeemeter', 'name': 'OpenEEmeter'...   \n",
       "4    {'login': 'ecmwf', 'name': 'European Centre fo...   \n",
       "..                                                 ...   \n",
       "662  {'login': 'YaleOpenLab', 'name': 'Yale OpenLab...   \n",
       "663  {'login': 'BradyPlanden', 'name': 'Brady Pland...   \n",
       "664  {'login': 'FRBCesab', 'name': 'FRB CESAB', 'uu...   \n",
       "665  {'login': 'SmartTensors', 'name': 'SmartTensor...   \n",
       "666  {'login': 'ClimateMARGO', 'name': 'ClimateMARG...   \n",
       "\n",
       "                                              packages  \\\n",
       "0    [{'name': 'netcdf4', 'ecosystem': 'pypi', 'des...   \n",
       "1    [{'name': 'pvlib', 'ecosystem': 'pypi', 'descr...   \n",
       "2    [{'name': 'kubegreen/kube-green', 'ecosystem':...   \n",
       "3    [{'name': 'eeweather', 'ecosystem': 'pypi', 'd...   \n",
       "4    [{'name': 'cfgrib', 'ecosystem': 'pypi', 'desc...   \n",
       "..                                                 ...   \n",
       "662  [{'name': 'github.com/yaleopenlab/openclimate-...   \n",
       "663  [{'name': 'LiiBRA', 'ecosystem': 'julia', 'des...   \n",
       "664  [{'name': 'github.com/FRBCesab/worldpa', 'ecos...   \n",
       "665  [{'name': 'GeoThermalCloud', 'ecosystem': 'jul...   \n",
       "666  [{'name': 'ClimateMARGO', 'ecosystem': 'julia'...   \n",
       "\n",
       "                                               commits  \\\n",
       "0    {'full_name': 'Unidata/netcdf4-python', 'defau...   \n",
       "1    {'full_name': 'pvlib/pvlib-python', 'default_b...   \n",
       "2    {'full_name': 'kube-green/kube-green', 'defaul...   \n",
       "3    {'full_name': 'openeemeter/eeweather', 'defaul...   \n",
       "4    {'full_name': 'ecmwf/cfgrib', 'default_branch'...   \n",
       "..                                                 ...   \n",
       "662  {'full_name': 'YaleOpenLab/openclimate-demo', ...   \n",
       "663  {'full_name': 'BradyPlanden/LiiBRA.jl', 'defau...   \n",
       "664  {'full_name': 'FRBCesab/worldpa', 'default_bra...   \n",
       "665  {'full_name': 'SmartTensors/GeoThermalCloud.jl...   \n",
       "666  {'full_name': 'ClimateMARGO/ClimateMARGO.jl', ...   \n",
       "\n",
       "                                          issues_stats  ...  \\\n",
       "0    {'full_name': 'Unidata/netcdf4-python', 'html_...  ...   \n",
       "1    {'full_name': 'pvlib/pvlib-python', 'html_url'...  ...   \n",
       "2    {'full_name': 'kube-green/kube-green', 'html_u...  ...   \n",
       "3    {'full_name': 'openeemeter/eeweather', 'html_u...  ...   \n",
       "4    {'full_name': 'ecmwf/cfgrib', 'html_url': 'htt...  ...   \n",
       "..                                                 ...  ...   \n",
       "662  {'full_name': 'YaleOpenLab/openclimate-demo', ...  ...   \n",
       "663  {'full_name': 'BradyPlanden/LiiBRA.jl', 'html_...  ...   \n",
       "664  {'full_name': 'FRBCesab/worldpa', 'html_url': ...  ...   \n",
       "665  {'full_name': 'SmartTensors/GeoThermalCloud.jl...  ...   \n",
       "666  {'full_name': 'ClimateMARGO/ClimateMARGO.jl', ...  ...   \n",
       "\n",
       "                                          dependencies      score  \\\n",
       "0    [{'ecosystem': 'actions', 'filepath': '.github...  25.510734   \n",
       "1    [{'ecosystem': 'actions', 'filepath': '.github...  24.248670   \n",
       "2    [{'ecosystem': 'actions', 'filepath': '.github...  21.249127   \n",
       "3    [{'ecosystem': 'pypi', 'filepath': 'Pipfile', ...  18.043913   \n",
       "4    [{'ecosystem': 'pypi', 'filepath': 'ci/require...  20.712966   \n",
       "..                                                 ...        ...   \n",
       "662                                                 []        NaN   \n",
       "663  [{'ecosystem': 'actions', 'filepath': '.github...        NaN   \n",
       "664  [{'ecosystem': 'actions', 'filepath': '.github...        NaN   \n",
       "665  [{'ecosystem': 'actions', 'filepath': '.github...        NaN   \n",
       "666  [{'ecosystem': 'actions', 'filepath': '.github...        NaN   \n",
       "\n",
       "                          created_at                       updated_at  \\\n",
       "0   2023-09-11 14:52:14.006000+00:00 2023-12-07 01:19:20.100000+00:00   \n",
       "1   2023-09-11 14:52:06.879000+00:00 2023-12-07 00:53:31.610000+00:00   \n",
       "2   2023-09-11 14:52:10.530000+00:00 2023-12-08 05:15:16.167000+00:00   \n",
       "3   2023-09-11 11:54:35.868000+00:00 2023-12-07 00:50:29.813000+00:00   \n",
       "4   2023-09-11 11:54:36.281000+00:00 2023-12-07 00:52:34.927000+00:00   \n",
       "..                               ...                              ...   \n",
       "662 2023-09-19 00:00:46.238000+00:00 2023-12-06 10:24:22.051000+00:00   \n",
       "663 2023-09-24 00:09:27.532000+00:00 2023-12-06 17:38:04.252000+00:00   \n",
       "664 2023-09-19 11:40:36.047000+00:00 2023-12-06 13:12:57.801000+00:00   \n",
       "665 2023-09-11 14:52:07.609000+00:00 2023-12-07 00:52:22.239000+00:00   \n",
       "666 2023-09-19 11:41:05.920000+00:00 2023-12-06 13:14:17.202000+00:00   \n",
       "\n",
       "                              avatar_url          language  \\\n",
       "0         https://github.com/Unidata.png            Cython   \n",
       "1           https://github.com/pvlib.png            Python   \n",
       "2      https://github.com/kube-green.png                Go   \n",
       "3     https://github.com/openeemeter.png              HTML   \n",
       "4           https://github.com/ecmwf.png            Python   \n",
       "..                                   ...               ...   \n",
       "662   https://github.com/YaleOpenLab.png                Go   \n",
       "663  https://github.com/BradyPlanden.png             Julia   \n",
       "664      https://github.com/FRBCesab.png                 R   \n",
       "665  https://github.com/SmartTensors.png  Jupyter Notebook   \n",
       "666  https://github.com/ClimateMARGO.png             Julia   \n",
       "\n",
       "                    category                             sub_category  \\\n",
       "0             Climate Change                   Climate Data Standards   \n",
       "1           Renewable Energy           Photovoltaics and Solar Energy   \n",
       "2                Consumption            Computation and Communication   \n",
       "3                 Atmosphere  Meteorological Observation and Forecast   \n",
       "4             Climate Change     Climate Data Processing and Analysis   \n",
       "..                       ...                                      ...   \n",
       "662  Sustainable Development                      Knowledge Platforms   \n",
       "663           Energy Storage                                  Battery   \n",
       "664                Biosphere             Conservation and Restoration   \n",
       "665         Renewable Energy                        Geothermal Energy   \n",
       "666                Emissions                           Carbon Capture   \n",
       "\n",
       "                                       project_url  \\\n",
       "0    https://ost.ecosyste.ms/api/v1/projects/20618   \n",
       "1    https://ost.ecosyste.ms/api/v1/projects/19753   \n",
       "2    https://ost.ecosyste.ms/api/v1/projects/20183   \n",
       "3      https://ost.ecosyste.ms/api/v1/projects/764   \n",
       "4      https://ost.ecosyste.ms/api/v1/projects/899   \n",
       "..                                             ...   \n",
       "662  https://ost.ecosyste.ms/api/v1/projects/75800   \n",
       "663  https://ost.ecosyste.ms/api/v1/projects/91407   \n",
       "664  https://ost.ecosyste.ms/api/v1/projects/81463   \n",
       "665  https://ost.ecosyste.ms/api/v1/projects/19855   \n",
       "666  https://ost.ecosyste.ms/api/v1/projects/81469   \n",
       "\n",
       "                                   html_url  \n",
       "0    https://ost.ecosyste.ms/projects/20618  \n",
       "1    https://ost.ecosyste.ms/projects/19753  \n",
       "2    https://ost.ecosyste.ms/projects/20183  \n",
       "3      https://ost.ecosyste.ms/projects/764  \n",
       "4      https://ost.ecosyste.ms/projects/899  \n",
       "..                                      ...  \n",
       "662  https://ost.ecosyste.ms/projects/75800  \n",
       "663  https://ost.ecosyste.ms/projects/91407  \n",
       "664  https://ost.ecosyste.ms/projects/81463  \n",
       "665  https://ost.ecosyste.ms/projects/19855  \n",
       "666  https://ost.ecosyste.ms/projects/81469  \n",
       "\n",
       "[667 rows x 22 columns]"
      ]
     },
     "execution_count": 2,
     "metadata": {},
     "output_type": "execute_result"
    }
   ],
   "source": [
    "df = pd.read_json(resp.content)\n",
    "df"
   ]
  },
  {
   "cell_type": "code",
   "execution_count": 4,
   "id": "e6c85dc5",
   "metadata": {},
   "outputs": [],
   "source": [
    "names = []\n",
    "download_counts = []\n",
    "url = []\n",
    "description = []\n",
    "category = []\n",
    "\n",
    "for index, row in df.iterrows():\n",
    "    if row['name'] == \"netcdf-python\":\n",
    "        continue\n",
    "    names.append(row['name'])\n",
    "    download_counts.append(row['packages'][0]['downloads'])\n",
    "    url.append(row['url'])\n",
    "    description.append(row['description'])\n",
    "    category.append(row['category'])"
   ]
  },
  {
   "cell_type": "code",
   "execution_count": 5,
   "id": "e07725b3",
   "metadata": {},
   "outputs": [
    {
     "data": {
      "text/html": [
       "<div>\n",
       "<style scoped>\n",
       "    .dataframe tbody tr th:only-of-type {\n",
       "        vertical-align: middle;\n",
       "    }\n",
       "\n",
       "    .dataframe tbody tr th {\n",
       "        vertical-align: top;\n",
       "    }\n",
       "\n",
       "    .dataframe thead th {\n",
       "        text-align: right;\n",
       "    }\n",
       "</style>\n",
       "<table border=\"1\" class=\"dataframe\">\n",
       "  <thead>\n",
       "    <tr style=\"text-align: right;\">\n",
       "      <th></th>\n",
       "      <th>project_names</th>\n",
       "      <th>download_counts</th>\n",
       "      <th>git_url</th>\n",
       "      <th>description</th>\n",
       "      <th>category</th>\n",
       "    </tr>\n",
       "  </thead>\n",
       "  <tbody>\n",
       "    <tr>\n",
       "      <th>0</th>\n",
       "      <td>pvlib-python</td>\n",
       "      <td>247853.0</td>\n",
       "      <td>https://github.com/pvlib/pvlib-python</td>\n",
       "      <td>A set of documented functions for simulating t...</td>\n",
       "      <td>Renewable Energy</td>\n",
       "    </tr>\n",
       "    <tr>\n",
       "      <th>1</th>\n",
       "      <td>kube-green</td>\n",
       "      <td>233663.0</td>\n",
       "      <td>https://github.com/kube-green/kube-green</td>\n",
       "      <td>A k8s operator to reduce CO2 footprint of your...</td>\n",
       "      <td>Consumption</td>\n",
       "    </tr>\n",
       "    <tr>\n",
       "      <th>2</th>\n",
       "      <td>eeweather</td>\n",
       "      <td>116274.0</td>\n",
       "      <td>https://github.com/openeemeter/eeweather</td>\n",
       "      <td>Fetch NCDC ISD, TMY3, or CZ2010 weather data t...</td>\n",
       "      <td>Atmosphere</td>\n",
       "    </tr>\n",
       "    <tr>\n",
       "      <th>3</th>\n",
       "      <td>cfgrib</td>\n",
       "      <td>97874.0</td>\n",
       "      <td>https://github.com/ecmwf/cfgrib</td>\n",
       "      <td>A Python interface to map GRIB files to the Ne...</td>\n",
       "      <td>Climate Change</td>\n",
       "    </tr>\n",
       "    <tr>\n",
       "      <th>4</th>\n",
       "      <td>ocpp</td>\n",
       "      <td>83024.0</td>\n",
       "      <td>https://github.com/mobilityhouse/ocpp</td>\n",
       "      <td>Python implementation of the Open Charge Point...</td>\n",
       "      <td>Consumption</td>\n",
       "    </tr>\n",
       "    <tr>\n",
       "      <th>...</th>\n",
       "      <td>...</td>\n",
       "      <td>...</td>\n",
       "      <td>...</td>\n",
       "      <td>...</td>\n",
       "      <td>...</td>\n",
       "    </tr>\n",
       "    <tr>\n",
       "      <th>661</th>\n",
       "      <td>OpenClimate</td>\n",
       "      <td>NaN</td>\n",
       "      <td>https://github.com/YaleOpenLab/openclimate-demo</td>\n",
       "      <td>An open source initiative exploring the applic...</td>\n",
       "      <td>Sustainable Development</td>\n",
       "    </tr>\n",
       "    <tr>\n",
       "      <th>662</th>\n",
       "      <td>LiBRA</td>\n",
       "      <td>NaN</td>\n",
       "      <td>https://github.com/bradyplanden/liibra.jl</td>\n",
       "      <td>Create reduced-order state-space models for li...</td>\n",
       "      <td>Energy Storage</td>\n",
       "    </tr>\n",
       "    <tr>\n",
       "      <th>663</th>\n",
       "      <td>worldpa</td>\n",
       "      <td>NaN</td>\n",
       "      <td>https://github.com/frbcesab/worldpa</td>\n",
       "      <td>R interface to the World Database on Protected...</td>\n",
       "      <td>Biosphere</td>\n",
       "    </tr>\n",
       "    <tr>\n",
       "      <th>664</th>\n",
       "      <td>GeoThermalCloud.jl</td>\n",
       "      <td>NaN</td>\n",
       "      <td>https://github.com/SmartTensors/GeoThermalClou...</td>\n",
       "      <td>A repository containing all the data and codes...</td>\n",
       "      <td>Renewable Energy</td>\n",
       "    </tr>\n",
       "    <tr>\n",
       "      <th>665</th>\n",
       "      <td>ClimateMARGO.jl</td>\n",
       "      <td>NaN</td>\n",
       "      <td>https://github.com/climatemargo/climatemargo.jl</td>\n",
       "      <td>A Julia implementation of MARGO, an idealized ...</td>\n",
       "      <td>Emissions</td>\n",
       "    </tr>\n",
       "  </tbody>\n",
       "</table>\n",
       "<p>666 rows × 5 columns</p>\n",
       "</div>"
      ],
      "text/plain": [
       "          project_names  download_counts  \\\n",
       "0          pvlib-python         247853.0   \n",
       "1            kube-green         233663.0   \n",
       "2             eeweather         116274.0   \n",
       "3                cfgrib          97874.0   \n",
       "4                  ocpp          83024.0   \n",
       "..                  ...              ...   \n",
       "661         OpenClimate              NaN   \n",
       "662               LiBRA              NaN   \n",
       "663             worldpa              NaN   \n",
       "664  GeoThermalCloud.jl              NaN   \n",
       "665     ClimateMARGO.jl              NaN   \n",
       "\n",
       "                                               git_url  \\\n",
       "0                https://github.com/pvlib/pvlib-python   \n",
       "1             https://github.com/kube-green/kube-green   \n",
       "2             https://github.com/openeemeter/eeweather   \n",
       "3                      https://github.com/ecmwf/cfgrib   \n",
       "4                https://github.com/mobilityhouse/ocpp   \n",
       "..                                                 ...   \n",
       "661    https://github.com/YaleOpenLab/openclimate-demo   \n",
       "662          https://github.com/bradyplanden/liibra.jl   \n",
       "663                https://github.com/frbcesab/worldpa   \n",
       "664  https://github.com/SmartTensors/GeoThermalClou...   \n",
       "665    https://github.com/climatemargo/climatemargo.jl   \n",
       "\n",
       "                                           description  \\\n",
       "0    A set of documented functions for simulating t...   \n",
       "1    A k8s operator to reduce CO2 footprint of your...   \n",
       "2    Fetch NCDC ISD, TMY3, or CZ2010 weather data t...   \n",
       "3    A Python interface to map GRIB files to the Ne...   \n",
       "4    Python implementation of the Open Charge Point...   \n",
       "..                                                 ...   \n",
       "661  An open source initiative exploring the applic...   \n",
       "662  Create reduced-order state-space models for li...   \n",
       "663  R interface to the World Database on Protected...   \n",
       "664  A repository containing all the data and codes...   \n",
       "665  A Julia implementation of MARGO, an idealized ...   \n",
       "\n",
       "                    category  \n",
       "0           Renewable Energy  \n",
       "1                Consumption  \n",
       "2                 Atmosphere  \n",
       "3             Climate Change  \n",
       "4                Consumption  \n",
       "..                       ...  \n",
       "661  Sustainable Development  \n",
       "662           Energy Storage  \n",
       "663                Biosphere  \n",
       "664         Renewable Energy  \n",
       "665                Emissions  \n",
       "\n",
       "[666 rows x 5 columns]"
      ]
     },
     "execution_count": 4,
     "metadata": {},
     "output_type": "execute_result"
    }
   ],
   "source": [
    "df_extract = pd.DataFrame()\n",
    "df_extract['project_names'] = names\n",
    "df_extract['download_counts'] = download_counts\n",
    "df_extract['git_url'] = url\n",
    "df_extract['description'] = description\n",
    "df_extract['category'] = category\n",
    "df_extract\n"
   ]
  },
  {
   "cell_type": "code",
   "execution_count": 6,
   "id": "55be4c73",
   "metadata": {},
   "outputs": [
    {
     "data": {
      "text/html": [
       "<div>\n",
       "<style scoped>\n",
       "    .dataframe tbody tr th:only-of-type {\n",
       "        vertical-align: middle;\n",
       "    }\n",
       "\n",
       "    .dataframe tbody tr th {\n",
       "        vertical-align: top;\n",
       "    }\n",
       "\n",
       "    .dataframe thead th {\n",
       "        text-align: right;\n",
       "    }\n",
       "</style>\n",
       "<table border=\"1\" class=\"dataframe\">\n",
       "  <thead>\n",
       "    <tr style=\"text-align: right;\">\n",
       "      <th></th>\n",
       "      <th>project_names</th>\n",
       "      <th>download_counts</th>\n",
       "      <th>git_url</th>\n",
       "      <th>description</th>\n",
       "      <th>category</th>\n",
       "    </tr>\n",
       "  </thead>\n",
       "  <tbody>\n",
       "    <tr>\n",
       "      <th>0</th>\n",
       "      <td>&lt;a href=\"https://github.com/pvlib/pvlib-python...</td>\n",
       "      <td>247853.0</td>\n",
       "      <td>https://github.com/pvlib/pvlib-python</td>\n",
       "      <td>A set of documented functions for simulating t...</td>\n",
       "      <td>Renewable Energy</td>\n",
       "    </tr>\n",
       "    <tr>\n",
       "      <th>1</th>\n",
       "      <td>&lt;a href=\"https://github.com/kube-green/kube-gr...</td>\n",
       "      <td>233663.0</td>\n",
       "      <td>https://github.com/kube-green/kube-green</td>\n",
       "      <td>A k8s operator to reduce CO2 footprint of your...</td>\n",
       "      <td>Consumption</td>\n",
       "    </tr>\n",
       "    <tr>\n",
       "      <th>2</th>\n",
       "      <td>&lt;a href=\"https://github.com/openeemeter/eeweat...</td>\n",
       "      <td>116274.0</td>\n",
       "      <td>https://github.com/openeemeter/eeweather</td>\n",
       "      <td>Fetch NCDC ISD, TMY3, or CZ2010 weather data t...</td>\n",
       "      <td>Atmosphere</td>\n",
       "    </tr>\n",
       "    <tr>\n",
       "      <th>3</th>\n",
       "      <td>&lt;a href=\"https://github.com/ecmwf/cfgrib\" targ...</td>\n",
       "      <td>97874.0</td>\n",
       "      <td>https://github.com/ecmwf/cfgrib</td>\n",
       "      <td>A Python interface to map GRIB files to the Ne...</td>\n",
       "      <td>Climate Change</td>\n",
       "    </tr>\n",
       "    <tr>\n",
       "      <th>4</th>\n",
       "      <td>&lt;a href=\"https://github.com/mobilityhouse/ocpp...</td>\n",
       "      <td>83024.0</td>\n",
       "      <td>https://github.com/mobilityhouse/ocpp</td>\n",
       "      <td>Python implementation of the Open Charge Point...</td>\n",
       "      <td>Consumption</td>\n",
       "    </tr>\n",
       "    <tr>\n",
       "      <th>...</th>\n",
       "      <td>...</td>\n",
       "      <td>...</td>\n",
       "      <td>...</td>\n",
       "      <td>...</td>\n",
       "      <td>...</td>\n",
       "    </tr>\n",
       "    <tr>\n",
       "      <th>661</th>\n",
       "      <td>&lt;a href=\"https://github.com/YaleOpenLab/opencl...</td>\n",
       "      <td>NaN</td>\n",
       "      <td>https://github.com/YaleOpenLab/openclimate-demo</td>\n",
       "      <td>An open source initiative exploring the applic...</td>\n",
       "      <td>Sustainable Development</td>\n",
       "    </tr>\n",
       "    <tr>\n",
       "      <th>662</th>\n",
       "      <td>&lt;a href=\"https://github.com/bradyplanden/liibr...</td>\n",
       "      <td>NaN</td>\n",
       "      <td>https://github.com/bradyplanden/liibra.jl</td>\n",
       "      <td>Create reduced-order state-space models for li...</td>\n",
       "      <td>Energy Storage</td>\n",
       "    </tr>\n",
       "    <tr>\n",
       "      <th>663</th>\n",
       "      <td>&lt;a href=\"https://github.com/frbcesab/worldpa\" ...</td>\n",
       "      <td>NaN</td>\n",
       "      <td>https://github.com/frbcesab/worldpa</td>\n",
       "      <td>R interface to the World Database on Protected...</td>\n",
       "      <td>Biosphere</td>\n",
       "    </tr>\n",
       "    <tr>\n",
       "      <th>664</th>\n",
       "      <td>&lt;a href=\"https://github.com/SmartTensors/GeoTh...</td>\n",
       "      <td>NaN</td>\n",
       "      <td>https://github.com/SmartTensors/GeoThermalClou...</td>\n",
       "      <td>A repository containing all the data and codes...</td>\n",
       "      <td>Renewable Energy</td>\n",
       "    </tr>\n",
       "    <tr>\n",
       "      <th>665</th>\n",
       "      <td>&lt;a href=\"https://github.com/climatemargo/clima...</td>\n",
       "      <td>NaN</td>\n",
       "      <td>https://github.com/climatemargo/climatemargo.jl</td>\n",
       "      <td>A Julia implementation of MARGO, an idealized ...</td>\n",
       "      <td>Emissions</td>\n",
       "    </tr>\n",
       "  </tbody>\n",
       "</table>\n",
       "<p>666 rows × 5 columns</p>\n",
       "</div>"
      ],
      "text/plain": [
       "                                         project_names  download_counts  \\\n",
       "0    <a href=\"https://github.com/pvlib/pvlib-python...         247853.0   \n",
       "1    <a href=\"https://github.com/kube-green/kube-gr...         233663.0   \n",
       "2    <a href=\"https://github.com/openeemeter/eeweat...         116274.0   \n",
       "3    <a href=\"https://github.com/ecmwf/cfgrib\" targ...          97874.0   \n",
       "4    <a href=\"https://github.com/mobilityhouse/ocpp...          83024.0   \n",
       "..                                                 ...              ...   \n",
       "661  <a href=\"https://github.com/YaleOpenLab/opencl...              NaN   \n",
       "662  <a href=\"https://github.com/bradyplanden/liibr...              NaN   \n",
       "663  <a href=\"https://github.com/frbcesab/worldpa\" ...              NaN   \n",
       "664  <a href=\"https://github.com/SmartTensors/GeoTh...              NaN   \n",
       "665  <a href=\"https://github.com/climatemargo/clima...              NaN   \n",
       "\n",
       "                                               git_url  \\\n",
       "0                https://github.com/pvlib/pvlib-python   \n",
       "1             https://github.com/kube-green/kube-green   \n",
       "2             https://github.com/openeemeter/eeweather   \n",
       "3                      https://github.com/ecmwf/cfgrib   \n",
       "4                https://github.com/mobilityhouse/ocpp   \n",
       "..                                                 ...   \n",
       "661    https://github.com/YaleOpenLab/openclimate-demo   \n",
       "662          https://github.com/bradyplanden/liibra.jl   \n",
       "663                https://github.com/frbcesab/worldpa   \n",
       "664  https://github.com/SmartTensors/GeoThermalClou...   \n",
       "665    https://github.com/climatemargo/climatemargo.jl   \n",
       "\n",
       "                                           description  \\\n",
       "0    A set of documented functions for simulating t...   \n",
       "1    A k8s operator to reduce CO2 footprint of your...   \n",
       "2    Fetch NCDC ISD, TMY3, or CZ2010 weather data t...   \n",
       "3    A Python interface to map GRIB files to the Ne...   \n",
       "4    Python implementation of the Open Charge Point...   \n",
       "..                                                 ...   \n",
       "661  An open source initiative exploring the applic...   \n",
       "662  Create reduced-order state-space models for li...   \n",
       "663  R interface to the World Database on Protected...   \n",
       "664  A repository containing all the data and codes...   \n",
       "665  A Julia implementation of MARGO, an idealized ...   \n",
       "\n",
       "                    category  \n",
       "0           Renewable Energy  \n",
       "1                Consumption  \n",
       "2                 Atmosphere  \n",
       "3             Climate Change  \n",
       "4                Consumption  \n",
       "..                       ...  \n",
       "661  Sustainable Development  \n",
       "662           Energy Storage  \n",
       "663                Biosphere  \n",
       "664         Renewable Energy  \n",
       "665                Emissions  \n",
       "\n",
       "[666 rows x 5 columns]"
      ]
     },
     "execution_count": 5,
     "metadata": {},
     "output_type": "execute_result"
    }
   ],
   "source": [
    "def text_to_link(project_name, git_url):\n",
    "    return '<a href=\"' + git_url + '\" target=\"_blank\" style = \"color: black\">' + str(project_name) + \"</a>\"\n",
    "\n",
    "def text_to_bolt(topic):\n",
    "    return \"<b>\" + topic + \"</b>\"\n",
    "\n",
    "df_extract[\"project_names\"] = df_extract.apply(\n",
    "    lambda x: text_to_link(x.project_names, x.git_url), axis=1\n",
    ")\n",
    "df_extract"
   ]
  },
  {
   "cell_type": "code",
   "execution_count": 15,
   "id": "0cdb8937",
   "metadata": {
    "scrolled": false
   },
   "outputs": [
    {
     "data": {
      "application/vnd.plotly.v1+json": {
       "config": {
        "plotlyServerURL": "https://plot.ly",
        "responsive": "true",
        "toImageButtonOptions": {
         "format": "svg"
        }
       },
       "data": [
        {
         "alignmentgroup": "True",
         "customdata": [
          [
           "<a href=\"https://github.com/pvlib/pvlib-python\" target=\"_blank\" style = \"color: black\">pvlib-python</a>",
           247853,
           "https://github.com/pvlib/pvlib-python",
           "A set of documented functions for simulating the performance of photovoltaic energy systems.",
           "Renewable Energy"
          ],
          [
           "<a href=\"https://github.com/kube-green/kube-green\" target=\"_blank\" style = \"color: black\">kube-green</a>",
           233663,
           "https://github.com/kube-green/kube-green",
           "A k8s operator to reduce CO2 footprint of your clusters.",
           "Consumption"
          ],
          [
           "<a href=\"https://github.com/openeemeter/eeweather\" target=\"_blank\" style = \"color: black\">eeweather</a>",
           116274,
           "https://github.com/openeemeter/eeweather",
           "Fetch NCDC ISD, TMY3, or CZ2010 weather data that corresponds to ZIP Code Tabulation Areas or Latitude/Longitude.",
           "Atmosphere"
          ],
          [
           "<a href=\"https://github.com/ecmwf/cfgrib\" target=\"_blank\" style = \"color: black\">cfgrib</a>",
           97874,
           "https://github.com/ecmwf/cfgrib",
           "A Python interface to map GRIB files to the NetCDF Common Data Model following the CF Convention using ecCodes.",
           "Climate Change"
          ],
          [
           "<a href=\"https://github.com/mobilityhouse/ocpp\" target=\"_blank\" style = \"color: black\">ocpp</a>",
           83024,
           "https://github.com/mobilityhouse/ocpp",
           "Python implementation of the Open Charge Point Protocol.",
           "Consumption"
          ],
          [
           "<a href=\"https://github.com/ecmwf/cdsapi\" target=\"_blank\" style = \"color: black\">cdsapi</a>",
           48101,
           "https://github.com/ecmwf/cdsapi",
           "Python API to access the Copernicus Climate Data Store.",
           "Climate Change"
          ],
          [
           "<a href=\"https://github.com/meteostat/meteostat-python\" target=\"_blank\" style = \"color: black\">Meteostat Python</a>",
           45654,
           "https://github.com/meteostat/meteostat-python",
           "Access and analyze historical weather and climate data with Python.",
           "Climate Change"
          ],
          [
           "<a href=\"https://github.com/onaci/leaflet-velocity\" target=\"_blank\" style = \"color: black\">leaflet-velocity</a>",
           44058,
           "https://github.com/onaci/leaflet-velocity",
           "Create a canvas visualization layer for direction and intensity of arbitrary velocities (e.g. wind, ocean current).",
           "Hydrosphere"
          ],
          [
           "<a href=\"https://github.com/thegreenwebfoundation/co2.js\" target=\"_blank\" style = \"color: black\">co2.js</a>",
           35844,
           "https://github.com/thegreenwebfoundation/co2.js",
           "A npm module for accessing the green web API, and estimating the carbon emissions from using digital services.",
           "Consumption"
          ],
          [
           "<a href=\"https://github.com/intake/intake-esm\" target=\"_blank\" style = \"color: black\">Intake-esm</a>",
           34211,
           "https://github.com/intake/intake-esm",
           "An intake plugin for parsing an Earth System Model catalog and loading assets into xarray datasets.",
           "Climate Change"
          ],
          [
           "<a href=\"https://github.com/Unidata/MetPy\" target=\"_blank\" style = \"color: black\">MetPy</a>",
           26682,
           "https://github.com/Unidata/MetPy",
           "A collection of tools in Python for reading, visualizing and performing calculations with weather data.",
           "Atmosphere"
          ],
          [
           "<a href=\"https://github.com/sentinel-hub/sentinelhub-py\" target=\"_blank\" style = \"color: black\">sentinelhub-py</a>",
           24785,
           "https://github.com/sentinel-hub/sentinelhub-py",
           "Download and process satellite imagery in Python using Sentinel Hub services.",
           "Sustainable Development"
          ],
          [
           "<a href=\"https://github.com/sentinelsat/sentinelsat\" target=\"_blank\" style = \"color: black\">sentinelsat</a>",
           17674,
           "https://github.com/sentinelsat/sentinelsat",
           "Makes searching, downloading and retrieving the metadata of Sentinel satellite images from the Copernicus Open Access Hub easy.",
           "Sustainable Development"
          ],
          [
           "<a href=\"https://github.com/scikit-maad/scikit-maad\" target=\"_blank\" style = \"color: black\">scikit-maad</a>",
           17188,
           "https://github.com/scikit-maad/scikit-maad",
           "Enables quantitative analysis of environmental audio, offering tools for processing, segmenting, and computing acoustic features.",
           "Biosphere"
          ],
          [
           "<a href=\"https://github.com/openeemeter/eemeter\" target=\"_blank\" style = \"color: black\">eemeter</a>",
           14889,
           "https://github.com/openeemeter/eemeter",
           "An open source Python package for implementing and developing standard methods for calculating normalized metered energy consumption and avoided energy use.",
           "Energy Systems"
          ],
          [
           "<a href=\"https://github.com/fishR-Core-Team/FSA\" target=\"_blank\" style = \"color: black\">Fisheries Stock Assessment</a>",
           13761,
           "https://github.com/fishR-Core-Team/FSA",
           "Provides R functions to conduct typical introductory fisheries analyses.",
           "Biosphere"
          ],
          [
           "<a href=\"https://github.com/cerfacs-globc/icclim\" target=\"_blank\" style = \"color: black\">icclim</a>",
           10723,
           "https://github.com/cerfacs-globc/icclim",
           "Python library for climate indices and climate indicators calculation.",
           "Climate Change"
          ],
          [
           "<a href=\"https://github.com/pybamm-team/pybamm\" target=\"_blank\" style = \"color: black\">PyBaMM</a>",
           9799,
           "https://github.com/pybamm-team/pybamm",
           "Fast and flexible physics-based battery models in Python.",
           "Energy Storage"
          ],
          [
           "<a href=\"https://github.com/kapadia/usgs\" target=\"_blank\" style = \"color: black\">USGS</a>",
           9333,
           "https://github.com/kapadia/usgs",
           "A python module for interfacing with the US Geological Survey's API.",
           "Sustainable Development"
          ],
          [
           "<a href=\"https://github.com/python-windrose/windrose\" target=\"_blank\" style = \"color: black\">windrose</a>",
           8222,
           "https://github.com/python-windrose/windrose",
           "A graphic tool used by meteorologists to give a succinct view of how wind speed and direction are typically distributed at a particular location.",
           "Renewable Energy"
          ],
          [
           "<a href=\"https://github.com/ladybug-tools/uwg\" target=\"_blank\" style = \"color: black\">Urban Weather Generator</a>",
           8094,
           "https://github.com/ladybug-tools/uwg",
           "A Python application for modeling the urban heat island effect.",
           "Consumption"
          ],
          [
           "<a href=\"https://github.com/pytroll/satpy\" target=\"_blank\" style = \"color: black\">satpy</a>",
           7511,
           "https://github.com/pytroll/satpy",
           "A python library for reading and manipulating meteorological remote sensing data and writing it to various image and data file formats.",
           "Sustainable Development"
          ],
          [
           "<a href=\"https://github.com/xarray-contrib/xskillscore\" target=\"_blank\" style = \"color: black\">xskillscore</a>",
           7174,
           "https://github.com/xarray-contrib/xskillscore",
           "An open source project and Python package that provides verification metrics of deterministic (and probabilistic from properscoring) forecasts with xarray.",
           "Climate Change"
          ],
          [
           "<a href=\"https://github.com/CenterForTheBuiltEnvironment/pythermalcomfort\" target=\"_blank\" style = \"color: black\">pythermalcomfort</a>",
           6611,
           "https://github.com/CenterForTheBuiltEnvironment/pythermalcomfort",
           "Package to calculate several thermal comfort indices (e.g. PMV, PPD, SET, adaptive) and convert physical variables.",
           "Consumption"
          ],
          [
           "<a href=\"https://github.com/cloud-carbon-footprint/cloud-carbon-footprint\" target=\"_blank\" style = \"color: black\">Cloud Carbon Footprint</a>",
           6520,
           "https://github.com/cloud-carbon-footprint/cloud-carbon-footprint",
           "A tool to estimate energy use (kilowatt-hours) and carbon emissions (metric tons CO2e) from public cloud usage.",
           "Consumption"
          ],
          [
           "<a href=\"https://github.com/davidcarslaw/openair\" target=\"_blank\" style = \"color: black\">openair</a>",
           6268,
           "https://github.com/davidcarslaw/openair",
           "An R package developed for the purpose of analyzing air quality data — or more generally atmospheric composition data.",
           "Natural Resources"
          ],
          [
           "<a href=\"https://github.com/grid-parity-exchange/Egret\" target=\"_blank\" style = \"color: black\">Egret</a>",
           6127,
           "https://github.com/grid-parity-exchange/Egret",
           "A Python-based package for electrical grid optimization based on the Pyomo optimization modeling language.",
           "Energy Systems"
          ],
          [
           "<a href=\"https://github.com/oms-netzero/fair\" target=\"_blank\" style = \"color: black\">FAIR</a>",
           5935,
           "https://github.com/oms-netzero/fair",
           "Finite Amplitude Impulse-Response simple climate-carbon-cycle model.",
           "Climate Change"
          ],
          [
           "<a href=\"https://github.com/CalebBell/thermo\" target=\"_blank\" style = \"color: black\">thermo</a>",
           5713,
           "https://github.com/CalebBell/thermo",
           "Thermodynamics, phase equilibrium, transport properties and chemical database component of Chemical Engineering Design Library.",
           "Renewable Energy"
          ],
          [
           "<a href=\"https://github.com/OasisLMF/oasislmf\" target=\"_blank\" style = \"color: black\">OasisLMF</a>",
           5458,
           "https://github.com/OasisLMF/oasislmf",
           "An open source catastrophe modelling platform, free to use by anyone.",
           "Climate Change"
          ],
          [
           "<a href=\"https://github.com/earthobservations/wetterdienst\" target=\"_blank\" style = \"color: black\">wetterdienst</a>",
           4753,
           "https://github.com/earthobservations/wetterdienst",
           "Trying to make access to weather data in Python feel like a warm summer breeze.",
           "Atmosphere"
          ],
          [
           "<a href=\"https://github.com/michaeldavie/env_canada\" target=\"_blank\" style = \"color: black\">env_canada</a>",
           4505,
           "https://github.com/michaeldavie/env_canada",
           "Provides access to various data sources published by Environment and Climate Change Canada.",
           "Sustainable Development"
          ],
          [
           "<a href=\"https://github.com/Deltares/Ribasim\" target=\"_blank\" style = \"color: black\">Ribasim</a>",
           4331,
           "https://github.com/Deltares/Ribasim",
           "A water resources model, designed to be the replacement of the regional surface water modules Mozart and SIMRES in the Netherlands Hydrological Instrument.",
           "Natural Resources"
          ],
          [
           "<a href=\"https://github.com/kmax12/gridstatus\" target=\"_blank\" style = \"color: black\">gridstatus</a>",
           4321,
           "https://github.com/kmax12/gridstatus",
           "Provides standardized API to access energy data from the major Independent System Operators in the United States.",
           "Energy Systems"
          ],
          [
           "<a href=\"https://github.com/eliocamp/metR\" target=\"_blank\" style = \"color: black\">metR</a>",
           4172,
           "https://github.com/eliocamp/metR",
           "Several functions and utilities that make R better for handling meteorological data in the tidy data paradigm.",
           "Atmosphere"
          ],
          [
           "<a href=\"https://github.com/r-earthengine/ee_extra\" target=\"_blank\" style = \"color: black\">eeExtra</a>",
           3972,
           "https://github.com/r-earthengine/ee_extra",
           "A ninja python package that unifies the Google Earth Engine ecosystem.",
           "Sustainable Development"
          ],
          [
           "<a href=\"https://github.com/r-lidar/lidR\" target=\"_blank\" style = \"color: black\">lidR</a>",
           3737,
           "https://github.com/r-lidar/lidR",
           "An R package for airborne LiDAR data manipulation and visualization for forestry application.",
           "Biosphere"
          ],
          [
           "<a href=\"https://github.com/dankelley/oce\" target=\"_blank\" style = \"color: black\">oce</a>",
           3569,
           "https://github.com/dankelley/oce",
           "An R package for oceanographic processing.",
           "Hydrosphere"
          ],
          [
           "<a href=\"https://github.com/ecmwf/ecmwf-opendata\" target=\"_blank\" style = \"color: black\">ecmwf-opendata</a>",
           3342,
           "https://github.com/ecmwf/ecmwf-opendata",
           "A package to simplify the download of ECMWF open data.",
           "Climate Change"
          ],
          [
           "<a href=\"https://github.com/robinhenry/gym-anm\" target=\"_blank\" style = \"color: black\">Gym-ANM</a>",
           3337,
           "https://github.com/robinhenry/gym-anm",
           "Design Reinforcement Learning environments that model Active Network Management tasks in electricity distribution networks.",
           "Energy Systems"
          ],
          [
           "<a href=\"https://github.com/usepa/wntr\" target=\"_blank\" style = \"color: black\">Water Network Tool for Resilience</a>",
           3319,
           "https://github.com/usepa/wntr",
           "A Python package designed to simulate and analyze resilience of water distribution networks.",
           "Natural Resources"
          ],
          [
           "<a href=\"https://github.com/OSUKED/ElexonDataPortal\" target=\"_blank\" style = \"color: black\">ElexonDataPortal</a>",
           3270,
           "https://github.com/OSUKED/ElexonDataPortal",
           "Wrapper for the Balancing Mechanism Reporting Service API to balance power flowing on to and off from the electricity Transmission System in Great Britain.",
           "Energy Systems"
          ],
          [
           "<a href=\"https://github.com/ecmwf/climetlab\" target=\"_blank\" style = \"color: black\">climetlab</a>",
           3258,
           "https://github.com/ecmwf/climetlab",
           "A Python package aiming at simplifying access to climate and meteorological datasets, allowing users to focus on science instead of technical issues such as data access and data formats.",
           "Climate Change"
          ],
          [
           "<a href=\"https://github.com/ropengov/eurostat\" target=\"_blank\" style = \"color: black\">eurostat R package</a>",
           3206,
           "https://github.com/ropengov/eurostat",
           "R tools to access open data from Eurostat, the statistical office of the European Union.",
           "Sustainable Development"
          ],
          [
           "<a href=\"https://github.com/squishykid/solax\" target=\"_blank\" style = \"color: black\">solax</a>",
           3128,
           "https://github.com/squishykid/solax",
           "Read energy usage data from the real-time API on Solax solar inverters.",
           "Renewable Energy"
          ],
          [
           "<a href=\"https://github.com/kwstat/agridat\" target=\"_blank\" style = \"color: black\">Agridat</a>",
           2973,
           "https://github.com/kwstat/agridat",
           "An extensive collection of datasets from agricultural experiments.",
           "Consumption"
          ],
          [
           "<a href=\"https://github.com/Open-EO/openeo-python-client\" target=\"_blank\" style = \"color: black\">openEO</a>",
           2920,
           "https://github.com/Open-EO/openeo-python-client",
           "Provides intuitive programming libraries to process a wide variety of earth observation datasets.",
           "Sustainable Development"
          ],
          [
           "<a href=\"https://github.com/rOpenGov/giscoR\" target=\"_blank\" style = \"color: black\">giscoR</a>",
           2703,
           "https://github.com/rOpenGov/giscoR",
           "An R API package that helps to retrieve data from Eurostat Geographic Information System of the Commission.",
           "Sustainable Development"
          ],
          [
           "<a href=\"https://github.com/wallaceEcoMod/wallace\" target=\"_blank\" style = \"color: black\">Wallace</a>",
           2588,
           "https://github.com/wallaceEcoMod/wallace",
           "A modular platform for reproducible modeling of species niches and distributions, written in R.",
           "Biosphere"
          ],
          [
           "<a href=\"https://github.com/ncss-tech/aqp\" target=\"_blank\" style = \"color: black\">AQP</a>",
           2487,
           "https://github.com/ncss-tech/aqp",
           "Algorithms for Quantitative Pedology is a collection of code, ideas, documentation, and examples wrapped-up into several R packages.",
           "Natural Resources"
          ],
          [
           "<a href=\"https://github.com/open-atmos/PySDM\" target=\"_blank\" style = \"color: black\">PySDM</a>",
           2411,
           "https://github.com/open-atmos/PySDM",
           "Pythonic particle-based warm-rain/aqueous-chemistry cloud microphysics package.",
           "Atmosphere"
          ],
          [
           "<a href=\"https://github.com/wind-python/windpowerlib\" target=\"_blank\" style = \"color: black\">windpowerlib</a>",
           2321,
           "https://github.com/wind-python/windpowerlib",
           "A library to model the output of wind turbines and farms.",
           "Renewable Energy"
          ],
          [
           "<a href=\"https://github.com/weecology/DeepForest\" target=\"_blank\" style = \"color: black\">DeepForest</a>",
           2304,
           "https://github.com/weecology/DeepForest",
           "Python Package for Tree Crown Detection in Airborne RGB imagery.",
           "Biosphere"
          ],
          [
           "<a href=\"https://github.com/NCAR/wrf-python\" target=\"_blank\" style = \"color: black\">wrf-python</a>",
           2163,
           "https://github.com/NCAR/wrf-python",
           "A collection of diagnostic and interpolation routines for use with output from the Weather Research and Forecasting Model.",
           "Atmosphere"
          ],
          [
           "<a href=\"https://github.com/jrester/tesla_powerwall\" target=\"_blank\" style = \"color: black\">tesla_powerwall</a>",
           2115,
           "https://github.com/jrester/tesla_powerwall",
           "Python Tesla Powerwall API for consuming a local endpoint.",
           "Consumption"
          ],
          [
           "<a href=\"https://gitlab.windenergy.dtu.dk/TOPFARM/PyWake\" target=\"_blank\" style = \"color: black\">PyWake</a>",
           2028,
           "https://gitlab.windenergy.dtu.dk/TOPFARM/PyWake",
           "An AEP calculator for wind farms implemented in Python including a collection of wake models.",
           "Renewable Energy"
          ],
          [
           "<a href=\"https://github.com/maasglobal/maas-schemas\" target=\"_blank\" style = \"color: black\">MaaS Global</a>",
           2027,
           "https://github.com/maasglobal/maas-schemas",
           "Mobility as a Service API - data model, tests and validation.",
           "Consumption"
          ],
          [
           "<a href=\"https://github.com/qpv-research-group/solcore5\" target=\"_blank\" style = \"color: black\">solcore5</a>",
           2016,
           "https://github.com/qpv-research-group/solcore5",
           "A multi-scale, Python-based library for the modeling of solar cells and semiconductor materials.",
           "Renewable Energy"
          ],
          [
           "<a href=\"https://gitlab.opengeosys.org/ogs/ogs\" target=\"_blank\" style = \"color: black\">OpenGeoSys 6</a>",
           2013,
           "https://gitlab.opengeosys.org/ogs/ogs",
           "A scientific open source project for the development of numerical methods for the simulation of thermo-hydro-mechanical-chemical processes in porous and fractured media.",
           "Renewable Energy"
          ],
          [
           "<a href=\"https://github.com/gclunies/noaa_coops\" target=\"_blank\" style = \"color: black\">noaa_coops</a>",
           2004,
           "https://github.com/gclunies/noaa_coops",
           "A Python wrapper for the NOAA CO-OPS Tides & Currents Data and Metadata APIs.",
           "Hydrosphere"
          ],
          [
           "<a href=\"https://github.com/IndEcol/pymrio\" target=\"_blank\" style = \"color: black\">pymrio</a>",
           1980,
           "https://github.com/IndEcol/pymrio",
           "Multi-Regional Input-Output Analysis in Python.",
           "Industrial Ecology"
          ],
          [
           "<a href=\"https://github.com/rte-france/grid2op\" target=\"_blank\" style = \"color: black\">Grid2Op</a>",
           1941,
           "https://github.com/rte-france/grid2op",
           "A testbed platform to model sequential decision making in power systems.",
           "Energy Systems"
          ],
          [
           "<a href=\"https://github.com/brightway-lca/brightway2\" target=\"_blank\" style = \"color: black\">brightway2</a>",
           1932,
           "https://github.com/brightway-lca/brightway2",
           "An open source framework for life cycle assessment.",
           "Industrial Ecology"
          ],
          [
           "<a href=\"https://github.com/jamiemkass/ENMeval\" target=\"_blank\" style = \"color: black\">ENMeval</a>",
           1932,
           "https://github.com/jamiemkass/ENMeval",
           "R package for automated runs and evaluations of ecological niche models.",
           "Biosphere"
          ],
          [
           "<a href=\"https://github.com/sbegueria/SPEI\" target=\"_blank\" style = \"color: black\">SPEI</a>",
           1886,
           "https://github.com/sbegueria/SPEI",
           "Computing the Standardized Precipitation-Evapotranspiration Index and other reference evapotranspiration.",
           "Natural Resources"
          ],
          [
           "<a href=\"https://github.com/nsidc/earthaccess\" target=\"_blank\" style = \"color: black\">earthaccess</a>",
           1792,
           "https://github.com/nsidc/earthaccess",
           "Search, download or stream NASA Earth science data with just a few lines of code.",
           "Sustainable Development"
          ],
          [
           "<a href=\"https://github.com/sunpower/pvfactors\" target=\"_blank\" style = \"color: black\">pvfactors</a>",
           1791,
           "https://github.com/sunpower/pvfactors",
           "Open source view-factor model for diffuse shading and bifacial PV modeling.",
           "Renewable Energy"
          ],
          [
           "<a href=\"https://github.com/blinktaginc/node-gtfs\" target=\"_blank\" style = \"color: black\">node-gtfs</a>",
           1780,
           "https://github.com/blinktaginc/node-gtfs",
           "Import GTFS transit data into SQLite and query routes, stops, times, fares and more.",
           "Consumption"
          ],
          [
           "<a href=\"https://github.com/roocs/clisops\" target=\"_blank\" style = \"color: black\">clisops</a>",
           1770,
           "https://github.com/roocs/clisops",
           "Climate simulation operations.",
           "Climate Change"
          ],
          [
           "<a href=\"https://github.com/oscarperpinan/solar\" target=\"_blank\" style = \"color: black\">solaR</a>",
           1677,
           "https://github.com/oscarperpinan/solar",
           "Allows for reproducible research both for photovoltaics systems performance and solar radiation.",
           "Renewable Energy"
          ],
          [
           "<a href=\"https://github.com/mzy2240/ESA\" target=\"_blank\" style = \"color: black\">Easy SimAuto</a>",
           1654,
           "https://github.com/mzy2240/ESA",
           "An easy-to-use Power System Analysis Automation Platform atop PowerWorld's Simulator Automation Server.",
           "Energy Systems"
          ],
          [
           "<a href=\"https://github.com/SciTools/iris\" target=\"_blank\" style = \"color: black\">Iris</a>",
           1643,
           "https://github.com/SciTools/iris",
           "A powerful, format-agnostic, community-driven Python package for analyzing and visualizing Earth science data.",
           "Climate Change"
          ],
          [
           "<a href=\"https://github.com/intelligent-environments-lab/CityLearn\" target=\"_blank\" style = \"color: black\">CityLearn</a>",
           1612,
           "https://github.com/intelligent-environments-lab/CityLearn",
           "Official reinforcement learning environment for demand response and load shaping.",
           "Energy Systems"
          ],
          [
           "<a href=\"https://github.com/nrel/rdtools\" target=\"_blank\" style = \"color: black\">rdtools</a>",
           1590,
           "https://github.com/nrel/rdtools",
           "An open source library to support reproducible technical analysis of time series data from photovoltaic energy systems.",
           "Renewable Energy"
          ],
          [
           "<a href=\"https://github.com/fzj-iek3-vsa/tsam\" target=\"_blank\" style = \"color: black\">tsam</a>",
           1542,
           "https://github.com/fzj-iek3-vsa/tsam",
           "A Python package which uses different machine learning algorithms for the aggregation of time series.",
           "Energy Systems"
          ],
          [
           "<a href=\"https://github.com/FZJ-IEK3-VSA/bslib\" target=\"_blank\" style = \"color: black\">bslib</a>",
           1514,
           "https://github.com/FZJ-IEK3-VSA/bslib",
           "Database with battery parameters based on PerMod as well as functions in order to simulate battery storages.",
           "Energy Storage"
          ],
          [
           "<a href=\"https://github.com/fishr-core-team/fsadata\" target=\"_blank\" style = \"color: black\">FSAdata</a>",
           1494,
           "https://github.com/fishr-core-team/fsadata",
           "Contains data for use in common fisheries stock analyses. See installation instructions further below.",
           "Biosphere"
          ],
          [
           "<a href=\"https://github.com/arm-doe/act\" target=\"_blank\" style = \"color: black\">ACT</a>",
           1485,
           "https://github.com/arm-doe/act",
           "The Atmospheric data Community Toolkit is an open source Python toolkit for working with atmospheric time-series datasets of varying dimensions.",
           "Atmosphere"
          ],
          [
           "<a href=\"https://github.com/ncss-tech/soilDB\" target=\"_blank\" style = \"color: black\">soilDB</a>",
           1435,
           "https://github.com/ncss-tech/soilDB",
           "Simplified Access to NCSS Soil Databases.",
           "Natural Resources"
          ],
          [
           "<a href=\"https://github.com/pyinat/pyinaturalist\" target=\"_blank\" style = \"color: black\">pyinaturalist</a>",
           1408,
           "https://github.com/pyinat/pyinaturalist",
           "Python client for iNaturalist, a community science platform that helps people get involved in the natural world by observing and identifying the living things around them.",
           "Biosphere"
          ],
          [
           "<a href=\"https://github.com/jeffreyevans/spatialeco\" target=\"_blank\" style = \"color: black\">spatialEco</a>",
           1405,
           "https://github.com/jeffreyevans/spatialeco",
           "R package for spatial analysis and modelling of ecological systems.",
           "Biosphere"
          ],
          [
           "<a href=\"https://github.com/contrailcirrus/pycontrails\" target=\"_blank\" style = \"color: black\">pycontrails</a>",
           1404,
           "https://github.com/contrailcirrus/pycontrails",
           "Python library for modeling aviation climate impacts.",
           "Climate Change"
          ],
          [
           "<a href=\"https://github.com/oemof/tespy\" target=\"_blank\" style = \"color: black\">tespy</a>",
           1374,
           "https://github.com/oemof/tespy",
           "Provides a powerful simulation toolkit for thermal engineering plants such as power plants, district heating systems or heat pumps.",
           "Consumption"
          ],
          [
           "<a href=\"https://github.com/digitalearthafrica/deafrica-sandbox-notebooks\" target=\"_blank\" style = \"color: black\">Digital Earth Africa Notebooks</a>",
           1362,
           "https://github.com/digitalearthafrica/deafrica-sandbox-notebooks",
           "Using Earth observations to address social, environmental and economic changes on the Africa continent.",
           "Sustainable Development"
          ],
          [
           "<a href=\"https://github.com/NREL/OpenStudio\" target=\"_blank\" style = \"color: black\">OpenStudio</a>",
           1339,
           "https://github.com/NREL/OpenStudio",
           "A cross-platform collection of software tools to support whole building energy modeling using EnergyPlus and advanced daylight analysis using Radiance.",
           "Consumption"
          ],
          [
           "<a href=\"https://github.com/nco/pynco\" target=\"_blank\" style = \"color: black\">pynco</a>",
           1322,
           "https://github.com/nco/pynco",
           "Contains the module python nco, which implements a Python style access to the NetCDF Operators (NCO).",
           "Climate Change"
          ],
          [
           "<a href=\"https://github.com/NEONScience/NEON-utilities\" target=\"_blank\" style = \"color: black\">NEON</a>",
           1318,
           "https://github.com/NEONScience/NEON-utilities",
           "The National Ecological Observatory Network provides open data to understand changing ecosystems.",
           "Sustainable Development"
          ],
          [
           "<a href=\"https://github.com/bluegreen-labs/ecmwfr\" target=\"_blank\" style = \"color: black\">ecmwfr</a>",
           1233,
           "https://github.com/bluegreen-labs/ecmwfr",
           "Provides easy access to the European Centre for Medium-Range Weather Forecasts web API services and Copernicus Climate Data Store from within R, matching and expanding upon the ECMWF Python tools.",
           "Climate Change"
          ],
          [
           "<a href=\"https://github.com/pySTEPS/pysteps\" target=\"_blank\" style = \"color: black\">pySTEPS</a>",
           1204,
           "https://github.com/pySTEPS/pysteps",
           "An open-source and community-driven Python library for probabilistic precipitation nowcasting, i.e. short-term ensemble prediction systems.",
           "Natural Resources"
          ],
          [
           "<a href=\"https://github.com/pvlib/pvanalytics\" target=\"_blank\" style = \"color: black\">pvanalytics</a>",
           1171,
           "https://github.com/pvlib/pvanalytics",
           "Quality control, filtering, feature labeling, and other tools for working with data from photovoltaic energy systems.",
           "Renewable Energy"
          ],
          [
           "<a href=\"https://github.com/ropensci/stplanr\" target=\"_blank\" style = \"color: black\">stplanr</a>",
           1156,
           "https://github.com/ropensci/stplanr",
           "A package for sustainable transport planning with R.",
           "Consumption"
          ],
          [
           "<a href=\"https://github.com/hubblo-org/scaphandre\" target=\"_blank\" style = \"color: black\">Scaphandre</a>",
           1151,
           "https://github.com/hubblo-org/scaphandre",
           "An open source software agent to track energy consumption of ICT services from the servers.",
           "Consumption"
          ],
          [
           "<a href=\"https://github.com/ecmwf/metview-python\" target=\"_blank\" style = \"color: black\">Metview Python bindings</a>",
           1135,
           "https://github.com/ecmwf/metview-python",
           "Python interface to Metview, a meteorological workstation and batch system for accessing, examining, manipulating and visualising meteorological data.",
           "Atmosphere"
          ],
          [
           "<a href=\"https://github.com/SunPower/PVMismatch\" target=\"_blank\" style = \"color: black\">PVMismatch</a>",
           1039,
           "https://github.com/SunPower/PVMismatch",
           "An explicit Python PV system IV & PV curve trace calculator which can also calculate mismatch.",
           "Renewable Energy"
          ],
          [
           "<a href=\"https://github.com/sanpen/gridcal\" target=\"_blank\" style = \"color: black\">GridCal</a>",
           998,
           "https://github.com/sanpen/gridcal",
           "Aims to be a complete platform for power systems research and simulation.",
           "Energy Systems"
          ],
          [
           "<a href=\"https://github.com/ropensci/rfishbase\" target=\"_blank\" style = \"color: black\">rfishbase</a>",
           974,
           "https://github.com/ropensci/rfishbase",
           "An R interface to the fishbase.org database.",
           "Biosphere"
          ],
          [
           "<a href=\"https://github.com/yannforget/landsatxplore\" target=\"_blank\" style = \"color: black\">landsatxplore</a>",
           948,
           "https://github.com/yannforget/landsatxplore",
           "Provides an interface to the EarthExplorer portal to search and download Landsat Collections scenes through a command-line interface or a Python API.",
           "Sustainable Development"
          ],
          [
           "<a href=\"https://github.com/JRCSTU/co2mpas-ta\" target=\"_blank\" style = \"color: black\">CO2MPAS-TA</a>",
           936,
           "https://github.com/JRCSTU/co2mpas-ta",
           "CO2MPAS is backward-looking longitudinal-dynamics CO2 and fuel-consumption simulator for light-duty vehicles.",
           "Consumption"
          ],
          [
           "<a href=\"https://github.com/tri-amdd/beep\" target=\"_blank\" style = \"color: black\">beep</a>",
           911,
           "https://github.com/tri-amdd/beep",
           "A set of tools designed to support Battery Evaluation and Early Prediction of cycle life corresponding to the research of the d3batt program and the Toyota Research Institute.",
           "Energy Storage"
          ],
          [
           "<a href=\"https://github.com/ropensci/MODIStsp\" target=\"_blank\" style = \"color: black\">MODIStsp</a>",
           911,
           "https://github.com/ropensci/MODIStsp",
           "An R package for automatic download and preprocessing of MODIS Land Products Time-Series.",
           "Sustainable Development"
          ]
         ],
         "hovertemplate": "Project Name: <b>%{customdata[0]}</b><br>Downloads: <b>%{customdata[1]}</b><br>Git URL: <b>%{customdata[2]}</b><br>Description: <b>%{customdata[3]}</b><br>Category: <b>%{customdata[4]}</b>",
         "legendgroup": "",
         "marker": {
          "color": "#636efa",
          "pattern": {
           "shape": ""
          }
         },
         "name": "",
         "offsetgroup": "",
         "orientation": "h",
         "showlegend": false,
         "textposition": "auto",
         "type": "bar",
         "x": [
          247853,
          233663,
          116274,
          97874,
          83024,
          48101,
          45654,
          44058,
          35844,
          34211,
          26682,
          24785,
          17674,
          17188,
          14889,
          13761,
          10723,
          9799,
          9333,
          8222,
          8094,
          7511,
          7174,
          6611,
          6520,
          6268,
          6127,
          5935,
          5713,
          5458,
          4753,
          4505,
          4331,
          4321,
          4172,
          3972,
          3737,
          3569,
          3342,
          3337,
          3319,
          3270,
          3258,
          3206,
          3128,
          2973,
          2920,
          2703,
          2588,
          2487,
          2411,
          2321,
          2304,
          2163,
          2115,
          2028,
          2027,
          2016,
          2013,
          2004,
          1980,
          1941,
          1932,
          1932,
          1886,
          1792,
          1791,
          1780,
          1770,
          1677,
          1654,
          1643,
          1612,
          1590,
          1542,
          1514,
          1494,
          1485,
          1435,
          1408,
          1405,
          1404,
          1374,
          1362,
          1339,
          1322,
          1318,
          1233,
          1204,
          1171,
          1156,
          1151,
          1135,
          1039,
          998,
          974,
          948,
          936,
          911,
          911
         ],
         "xaxis": "x",
         "y": [
          "<a href=\"https://github.com/pvlib/pvlib-python\" target=\"_blank\" style = \"color: black\">pvlib-python</a>",
          "<a href=\"https://github.com/kube-green/kube-green\" target=\"_blank\" style = \"color: black\">kube-green</a>",
          "<a href=\"https://github.com/openeemeter/eeweather\" target=\"_blank\" style = \"color: black\">eeweather</a>",
          "<a href=\"https://github.com/ecmwf/cfgrib\" target=\"_blank\" style = \"color: black\">cfgrib</a>",
          "<a href=\"https://github.com/mobilityhouse/ocpp\" target=\"_blank\" style = \"color: black\">ocpp</a>",
          "<a href=\"https://github.com/ecmwf/cdsapi\" target=\"_blank\" style = \"color: black\">cdsapi</a>",
          "<a href=\"https://github.com/meteostat/meteostat-python\" target=\"_blank\" style = \"color: black\">Meteostat Python</a>",
          "<a href=\"https://github.com/onaci/leaflet-velocity\" target=\"_blank\" style = \"color: black\">leaflet-velocity</a>",
          "<a href=\"https://github.com/thegreenwebfoundation/co2.js\" target=\"_blank\" style = \"color: black\">co2.js</a>",
          "<a href=\"https://github.com/intake/intake-esm\" target=\"_blank\" style = \"color: black\">Intake-esm</a>",
          "<a href=\"https://github.com/Unidata/MetPy\" target=\"_blank\" style = \"color: black\">MetPy</a>",
          "<a href=\"https://github.com/sentinel-hub/sentinelhub-py\" target=\"_blank\" style = \"color: black\">sentinelhub-py</a>",
          "<a href=\"https://github.com/sentinelsat/sentinelsat\" target=\"_blank\" style = \"color: black\">sentinelsat</a>",
          "<a href=\"https://github.com/scikit-maad/scikit-maad\" target=\"_blank\" style = \"color: black\">scikit-maad</a>",
          "<a href=\"https://github.com/openeemeter/eemeter\" target=\"_blank\" style = \"color: black\">eemeter</a>",
          "<a href=\"https://github.com/fishR-Core-Team/FSA\" target=\"_blank\" style = \"color: black\">Fisheries Stock Assessment</a>",
          "<a href=\"https://github.com/cerfacs-globc/icclim\" target=\"_blank\" style = \"color: black\">icclim</a>",
          "<a href=\"https://github.com/pybamm-team/pybamm\" target=\"_blank\" style = \"color: black\">PyBaMM</a>",
          "<a href=\"https://github.com/kapadia/usgs\" target=\"_blank\" style = \"color: black\">USGS</a>",
          "<a href=\"https://github.com/python-windrose/windrose\" target=\"_blank\" style = \"color: black\">windrose</a>",
          "<a href=\"https://github.com/ladybug-tools/uwg\" target=\"_blank\" style = \"color: black\">Urban Weather Generator</a>",
          "<a href=\"https://github.com/pytroll/satpy\" target=\"_blank\" style = \"color: black\">satpy</a>",
          "<a href=\"https://github.com/xarray-contrib/xskillscore\" target=\"_blank\" style = \"color: black\">xskillscore</a>",
          "<a href=\"https://github.com/CenterForTheBuiltEnvironment/pythermalcomfort\" target=\"_blank\" style = \"color: black\">pythermalcomfort</a>",
          "<a href=\"https://github.com/cloud-carbon-footprint/cloud-carbon-footprint\" target=\"_blank\" style = \"color: black\">Cloud Carbon Footprint</a>",
          "<a href=\"https://github.com/davidcarslaw/openair\" target=\"_blank\" style = \"color: black\">openair</a>",
          "<a href=\"https://github.com/grid-parity-exchange/Egret\" target=\"_blank\" style = \"color: black\">Egret</a>",
          "<a href=\"https://github.com/oms-netzero/fair\" target=\"_blank\" style = \"color: black\">FAIR</a>",
          "<a href=\"https://github.com/CalebBell/thermo\" target=\"_blank\" style = \"color: black\">thermo</a>",
          "<a href=\"https://github.com/OasisLMF/oasislmf\" target=\"_blank\" style = \"color: black\">OasisLMF</a>",
          "<a href=\"https://github.com/earthobservations/wetterdienst\" target=\"_blank\" style = \"color: black\">wetterdienst</a>",
          "<a href=\"https://github.com/michaeldavie/env_canada\" target=\"_blank\" style = \"color: black\">env_canada</a>",
          "<a href=\"https://github.com/Deltares/Ribasim\" target=\"_blank\" style = \"color: black\">Ribasim</a>",
          "<a href=\"https://github.com/kmax12/gridstatus\" target=\"_blank\" style = \"color: black\">gridstatus</a>",
          "<a href=\"https://github.com/eliocamp/metR\" target=\"_blank\" style = \"color: black\">metR</a>",
          "<a href=\"https://github.com/r-earthengine/ee_extra\" target=\"_blank\" style = \"color: black\">eeExtra</a>",
          "<a href=\"https://github.com/r-lidar/lidR\" target=\"_blank\" style = \"color: black\">lidR</a>",
          "<a href=\"https://github.com/dankelley/oce\" target=\"_blank\" style = \"color: black\">oce</a>",
          "<a href=\"https://github.com/ecmwf/ecmwf-opendata\" target=\"_blank\" style = \"color: black\">ecmwf-opendata</a>",
          "<a href=\"https://github.com/robinhenry/gym-anm\" target=\"_blank\" style = \"color: black\">Gym-ANM</a>",
          "<a href=\"https://github.com/usepa/wntr\" target=\"_blank\" style = \"color: black\">Water Network Tool for Resilience</a>",
          "<a href=\"https://github.com/OSUKED/ElexonDataPortal\" target=\"_blank\" style = \"color: black\">ElexonDataPortal</a>",
          "<a href=\"https://github.com/ecmwf/climetlab\" target=\"_blank\" style = \"color: black\">climetlab</a>",
          "<a href=\"https://github.com/ropengov/eurostat\" target=\"_blank\" style = \"color: black\">eurostat R package</a>",
          "<a href=\"https://github.com/squishykid/solax\" target=\"_blank\" style = \"color: black\">solax</a>",
          "<a href=\"https://github.com/kwstat/agridat\" target=\"_blank\" style = \"color: black\">Agridat</a>",
          "<a href=\"https://github.com/Open-EO/openeo-python-client\" target=\"_blank\" style = \"color: black\">openEO</a>",
          "<a href=\"https://github.com/rOpenGov/giscoR\" target=\"_blank\" style = \"color: black\">giscoR</a>",
          "<a href=\"https://github.com/wallaceEcoMod/wallace\" target=\"_blank\" style = \"color: black\">Wallace</a>",
          "<a href=\"https://github.com/ncss-tech/aqp\" target=\"_blank\" style = \"color: black\">AQP</a>",
          "<a href=\"https://github.com/open-atmos/PySDM\" target=\"_blank\" style = \"color: black\">PySDM</a>",
          "<a href=\"https://github.com/wind-python/windpowerlib\" target=\"_blank\" style = \"color: black\">windpowerlib</a>",
          "<a href=\"https://github.com/weecology/DeepForest\" target=\"_blank\" style = \"color: black\">DeepForest</a>",
          "<a href=\"https://github.com/NCAR/wrf-python\" target=\"_blank\" style = \"color: black\">wrf-python</a>",
          "<a href=\"https://github.com/jrester/tesla_powerwall\" target=\"_blank\" style = \"color: black\">tesla_powerwall</a>",
          "<a href=\"https://gitlab.windenergy.dtu.dk/TOPFARM/PyWake\" target=\"_blank\" style = \"color: black\">PyWake</a>",
          "<a href=\"https://github.com/maasglobal/maas-schemas\" target=\"_blank\" style = \"color: black\">MaaS Global</a>",
          "<a href=\"https://github.com/qpv-research-group/solcore5\" target=\"_blank\" style = \"color: black\">solcore5</a>",
          "<a href=\"https://gitlab.opengeosys.org/ogs/ogs\" target=\"_blank\" style = \"color: black\">OpenGeoSys 6</a>",
          "<a href=\"https://github.com/gclunies/noaa_coops\" target=\"_blank\" style = \"color: black\">noaa_coops</a>",
          "<a href=\"https://github.com/IndEcol/pymrio\" target=\"_blank\" style = \"color: black\">pymrio</a>",
          "<a href=\"https://github.com/rte-france/grid2op\" target=\"_blank\" style = \"color: black\">Grid2Op</a>",
          "<a href=\"https://github.com/brightway-lca/brightway2\" target=\"_blank\" style = \"color: black\">brightway2</a>",
          "<a href=\"https://github.com/jamiemkass/ENMeval\" target=\"_blank\" style = \"color: black\">ENMeval</a>",
          "<a href=\"https://github.com/sbegueria/SPEI\" target=\"_blank\" style = \"color: black\">SPEI</a>",
          "<a href=\"https://github.com/nsidc/earthaccess\" target=\"_blank\" style = \"color: black\">earthaccess</a>",
          "<a href=\"https://github.com/sunpower/pvfactors\" target=\"_blank\" style = \"color: black\">pvfactors</a>",
          "<a href=\"https://github.com/blinktaginc/node-gtfs\" target=\"_blank\" style = \"color: black\">node-gtfs</a>",
          "<a href=\"https://github.com/roocs/clisops\" target=\"_blank\" style = \"color: black\">clisops</a>",
          "<a href=\"https://github.com/oscarperpinan/solar\" target=\"_blank\" style = \"color: black\">solaR</a>",
          "<a href=\"https://github.com/mzy2240/ESA\" target=\"_blank\" style = \"color: black\">Easy SimAuto</a>",
          "<a href=\"https://github.com/SciTools/iris\" target=\"_blank\" style = \"color: black\">Iris</a>",
          "<a href=\"https://github.com/intelligent-environments-lab/CityLearn\" target=\"_blank\" style = \"color: black\">CityLearn</a>",
          "<a href=\"https://github.com/nrel/rdtools\" target=\"_blank\" style = \"color: black\">rdtools</a>",
          "<a href=\"https://github.com/fzj-iek3-vsa/tsam\" target=\"_blank\" style = \"color: black\">tsam</a>",
          "<a href=\"https://github.com/FZJ-IEK3-VSA/bslib\" target=\"_blank\" style = \"color: black\">bslib</a>",
          "<a href=\"https://github.com/fishr-core-team/fsadata\" target=\"_blank\" style = \"color: black\">FSAdata</a>",
          "<a href=\"https://github.com/arm-doe/act\" target=\"_blank\" style = \"color: black\">ACT</a>",
          "<a href=\"https://github.com/ncss-tech/soilDB\" target=\"_blank\" style = \"color: black\">soilDB</a>",
          "<a href=\"https://github.com/pyinat/pyinaturalist\" target=\"_blank\" style = \"color: black\">pyinaturalist</a>",
          "<a href=\"https://github.com/jeffreyevans/spatialeco\" target=\"_blank\" style = \"color: black\">spatialEco</a>",
          "<a href=\"https://github.com/contrailcirrus/pycontrails\" target=\"_blank\" style = \"color: black\">pycontrails</a>",
          "<a href=\"https://github.com/oemof/tespy\" target=\"_blank\" style = \"color: black\">tespy</a>",
          "<a href=\"https://github.com/digitalearthafrica/deafrica-sandbox-notebooks\" target=\"_blank\" style = \"color: black\">Digital Earth Africa Notebooks</a>",
          "<a href=\"https://github.com/NREL/OpenStudio\" target=\"_blank\" style = \"color: black\">OpenStudio</a>",
          "<a href=\"https://github.com/nco/pynco\" target=\"_blank\" style = \"color: black\">pynco</a>",
          "<a href=\"https://github.com/NEONScience/NEON-utilities\" target=\"_blank\" style = \"color: black\">NEON</a>",
          "<a href=\"https://github.com/bluegreen-labs/ecmwfr\" target=\"_blank\" style = \"color: black\">ecmwfr</a>",
          "<a href=\"https://github.com/pySTEPS/pysteps\" target=\"_blank\" style = \"color: black\">pySTEPS</a>",
          "<a href=\"https://github.com/pvlib/pvanalytics\" target=\"_blank\" style = \"color: black\">pvanalytics</a>",
          "<a href=\"https://github.com/ropensci/stplanr\" target=\"_blank\" style = \"color: black\">stplanr</a>",
          "<a href=\"https://github.com/hubblo-org/scaphandre\" target=\"_blank\" style = \"color: black\">Scaphandre</a>",
          "<a href=\"https://github.com/ecmwf/metview-python\" target=\"_blank\" style = \"color: black\">Metview Python bindings</a>",
          "<a href=\"https://github.com/SunPower/PVMismatch\" target=\"_blank\" style = \"color: black\">PVMismatch</a>",
          "<a href=\"https://github.com/sanpen/gridcal\" target=\"_blank\" style = \"color: black\">GridCal</a>",
          "<a href=\"https://github.com/ropensci/rfishbase\" target=\"_blank\" style = \"color: black\">rfishbase</a>",
          "<a href=\"https://github.com/yannforget/landsatxplore\" target=\"_blank\" style = \"color: black\">landsatxplore</a>",
          "<a href=\"https://github.com/JRCSTU/co2mpas-ta\" target=\"_blank\" style = \"color: black\">CO2MPAS-TA</a>",
          "<a href=\"https://github.com/tri-amdd/beep\" target=\"_blank\" style = \"color: black\">beep</a>",
          "<a href=\"https://github.com/ropensci/MODIStsp\" target=\"_blank\" style = \"color: black\">MODIStsp</a>"
         ],
         "yaxis": "y"
        }
       ],
       "layout": {
        "barmode": "relative",
        "coloraxis": {
         "colorbar": {
          "orientation": "h",
          "title": {
           "text": "<a href=\"https://report.opensustain.tech/chapters/development-distribution-score.html\" style = \"color: black >DDS</a>"
          },
          "x": 0.4,
          "y": -0.15
         }
        },
        "dragmode": false,
        "height": 2000,
        "hoverdistance": 1000,
        "hoverlabel": {
         "bgcolor": "white"
        },
        "hovermode": "y",
        "images": [
         {
          "sizex": 0.05,
          "sizey": 0.05,
          "source": "data:image/png;base64,iVBORw0KGgoAAAANSUhEUgAAADwAAAA8CAYAAAA6/NlyAAAD20lEQVR4nO2ZTWgcZRjHf8/spjWkFYmKmbR+oVKaCPbQU8i2tCBqEbrU7LIJVhG0PVWQih4UehAVQVAkAQ/qRW1WdhPrB+pJ1DQF6aEnQ0WqqCQbhfpFW6nJzOMhBgQ3u+/MvPORmP91n/n/nx/v7DvPvCOqyv9JTtoNJK114LWufBIh5TIbZj3uQLldhJtV2CJwlfrkpicpJtHDsmIDHtzPZjo4gM8IQkGgE1n6Tf7ZJ0W4HFf+SrIOvLvI9YsORyXPwyhdy5BZkTXgwf1s1jzHJMejAh22fG3LCnDhAHeT53WBXht+cSoS8J495Beu5nmEo5C1m7e5QgPv28fGxW7eQhmy2VDcCgV81wN0XezkE2DQcj+xKzDwzsN0XHGJGqsQFkJMWp3nGUO5J45mklCgFS7cx0GFRyzk/izCT6p8Z8ErkMT09XCgzBZnkRmEK0NmTaswicd70+9yLqRHZBmvcM7jZQ0He1qEZ6bqfBDiWusyWuGBEgOOz3RAb1+Ep05O8IIqmTllMFphR3k6oO8FUYanJvgwRE+xqu0K7yrT53t8FcDTE6U4NZk9WDB4LKnHg0EMVXgiq7DQBlgEAUYC+H15aoKXorUUr1oCF0psV9hqaibK41naoJqpJbDvs9fYSflsapKTkTuKWa3/w8oOUyOBetRmklC7TWuboY86Pu9HbSYJtQO+0dDn/Ocn+DFqM0mo9S6N8Sg5Z6GXRNRy0lIYUyHXzkSUb+y1FK+M35bWitY/tSQhaVQvAxvaV+oX6g7vtpmd1gpfMCsT13ZwWsC/GdZZP9hPCVi/NSzsktnjO2wmpwOs8rVxrThFm9HpADt62rhWGBKLn3HSAfbl0wDV/cxVy7aiUxs8pFGdAbYblp/j11yf9pX+ipqb5uBxPEDtLXT7L9oITRHYfxPwjMtVj0jjnUNRU1MDVnfkeyTooYGOSmP8cJTcdGfpRX0OAp2BdYC8KnPVUZmpGYym/1Xqb0syP/4GKg+FuPQHkGdxz76mHPON89IHrl2LemeB7nAOOoNSBzmhvZUzbfPSBgaQ+eoQSs2C1Z8IsygNdSu7mhVk4n1Yeyp1lDELVp0otwKFlQoyAQxA7x+PAR/HHZMZYOXQAs5CCTgVZ05mgAH0uoMXYdOdIB/FlZEpYAB1772E+3sRYTQO/8wBw9LtrT2VIwgl4Beb3pkEXpb2VOp4uduAVwDj4aKVMvEcNpHMj/ej8iQwjMFpq7qVpocGqwZ4WdKo3QDe/Sx9qO9fqW7NAP9bMvv2VnL5vcBOVLcBNwHXAJvUrWxses1qBg6jTG9acWgdeK3rb5uuGEmTzESgAAAAAElFTkSuQmCC",
          "x": 1,
          "xanchor": "right",
          "xref": "paper",
          "y": 0,
          "yanchor": "bottom",
          "yref": "paper"
         }
        ],
        "legend": {
         "tracegroupgap": 0
        },
        "margin": {
         "t": 60
        },
        "showlegend": false,
        "template": {
         "data": {
          "bar": [
           {
            "error_x": {
             "color": "#2a3f5f"
            },
            "error_y": {
             "color": "#2a3f5f"
            },
            "marker": {
             "line": {
              "color": "#E5ECF6",
              "width": 0.5
             },
             "pattern": {
              "fillmode": "overlay",
              "size": 10,
              "solidity": 0.2
             }
            },
            "type": "bar"
           }
          ],
          "barpolar": [
           {
            "marker": {
             "line": {
              "color": "#E5ECF6",
              "width": 0.5
             },
             "pattern": {
              "fillmode": "overlay",
              "size": 10,
              "solidity": 0.2
             }
            },
            "type": "barpolar"
           }
          ],
          "carpet": [
           {
            "aaxis": {
             "endlinecolor": "#2a3f5f",
             "gridcolor": "white",
             "linecolor": "white",
             "minorgridcolor": "white",
             "startlinecolor": "#2a3f5f"
            },
            "baxis": {
             "endlinecolor": "#2a3f5f",
             "gridcolor": "white",
             "linecolor": "white",
             "minorgridcolor": "white",
             "startlinecolor": "#2a3f5f"
            },
            "type": "carpet"
           }
          ],
          "choropleth": [
           {
            "colorbar": {
             "outlinewidth": 0,
             "ticks": ""
            },
            "type": "choropleth"
           }
          ],
          "contour": [
           {
            "colorbar": {
             "outlinewidth": 0,
             "ticks": ""
            },
            "colorscale": [
             [
              0,
              "#0d0887"
             ],
             [
              0.1111111111111111,
              "#46039f"
             ],
             [
              0.2222222222222222,
              "#7201a8"
             ],
             [
              0.3333333333333333,
              "#9c179e"
             ],
             [
              0.4444444444444444,
              "#bd3786"
             ],
             [
              0.5555555555555556,
              "#d8576b"
             ],
             [
              0.6666666666666666,
              "#ed7953"
             ],
             [
              0.7777777777777778,
              "#fb9f3a"
             ],
             [
              0.8888888888888888,
              "#fdca26"
             ],
             [
              1,
              "#f0f921"
             ]
            ],
            "type": "contour"
           }
          ],
          "contourcarpet": [
           {
            "colorbar": {
             "outlinewidth": 0,
             "ticks": ""
            },
            "type": "contourcarpet"
           }
          ],
          "heatmap": [
           {
            "colorbar": {
             "outlinewidth": 0,
             "ticks": ""
            },
            "colorscale": [
             [
              0,
              "#0d0887"
             ],
             [
              0.1111111111111111,
              "#46039f"
             ],
             [
              0.2222222222222222,
              "#7201a8"
             ],
             [
              0.3333333333333333,
              "#9c179e"
             ],
             [
              0.4444444444444444,
              "#bd3786"
             ],
             [
              0.5555555555555556,
              "#d8576b"
             ],
             [
              0.6666666666666666,
              "#ed7953"
             ],
             [
              0.7777777777777778,
              "#fb9f3a"
             ],
             [
              0.8888888888888888,
              "#fdca26"
             ],
             [
              1,
              "#f0f921"
             ]
            ],
            "type": "heatmap"
           }
          ],
          "heatmapgl": [
           {
            "colorbar": {
             "outlinewidth": 0,
             "ticks": ""
            },
            "colorscale": [
             [
              0,
              "#0d0887"
             ],
             [
              0.1111111111111111,
              "#46039f"
             ],
             [
              0.2222222222222222,
              "#7201a8"
             ],
             [
              0.3333333333333333,
              "#9c179e"
             ],
             [
              0.4444444444444444,
              "#bd3786"
             ],
             [
              0.5555555555555556,
              "#d8576b"
             ],
             [
              0.6666666666666666,
              "#ed7953"
             ],
             [
              0.7777777777777778,
              "#fb9f3a"
             ],
             [
              0.8888888888888888,
              "#fdca26"
             ],
             [
              1,
              "#f0f921"
             ]
            ],
            "type": "heatmapgl"
           }
          ],
          "histogram": [
           {
            "marker": {
             "pattern": {
              "fillmode": "overlay",
              "size": 10,
              "solidity": 0.2
             }
            },
            "type": "histogram"
           }
          ],
          "histogram2d": [
           {
            "colorbar": {
             "outlinewidth": 0,
             "ticks": ""
            },
            "colorscale": [
             [
              0,
              "#0d0887"
             ],
             [
              0.1111111111111111,
              "#46039f"
             ],
             [
              0.2222222222222222,
              "#7201a8"
             ],
             [
              0.3333333333333333,
              "#9c179e"
             ],
             [
              0.4444444444444444,
              "#bd3786"
             ],
             [
              0.5555555555555556,
              "#d8576b"
             ],
             [
              0.6666666666666666,
              "#ed7953"
             ],
             [
              0.7777777777777778,
              "#fb9f3a"
             ],
             [
              0.8888888888888888,
              "#fdca26"
             ],
             [
              1,
              "#f0f921"
             ]
            ],
            "type": "histogram2d"
           }
          ],
          "histogram2dcontour": [
           {
            "colorbar": {
             "outlinewidth": 0,
             "ticks": ""
            },
            "colorscale": [
             [
              0,
              "#0d0887"
             ],
             [
              0.1111111111111111,
              "#46039f"
             ],
             [
              0.2222222222222222,
              "#7201a8"
             ],
             [
              0.3333333333333333,
              "#9c179e"
             ],
             [
              0.4444444444444444,
              "#bd3786"
             ],
             [
              0.5555555555555556,
              "#d8576b"
             ],
             [
              0.6666666666666666,
              "#ed7953"
             ],
             [
              0.7777777777777778,
              "#fb9f3a"
             ],
             [
              0.8888888888888888,
              "#fdca26"
             ],
             [
              1,
              "#f0f921"
             ]
            ],
            "type": "histogram2dcontour"
           }
          ],
          "mesh3d": [
           {
            "colorbar": {
             "outlinewidth": 0,
             "ticks": ""
            },
            "type": "mesh3d"
           }
          ],
          "parcoords": [
           {
            "line": {
             "colorbar": {
              "outlinewidth": 0,
              "ticks": ""
             }
            },
            "type": "parcoords"
           }
          ],
          "pie": [
           {
            "automargin": true,
            "type": "pie"
           }
          ],
          "scatter": [
           {
            "fillpattern": {
             "fillmode": "overlay",
             "size": 10,
             "solidity": 0.2
            },
            "type": "scatter"
           }
          ],
          "scatter3d": [
           {
            "line": {
             "colorbar": {
              "outlinewidth": 0,
              "ticks": ""
             }
            },
            "marker": {
             "colorbar": {
              "outlinewidth": 0,
              "ticks": ""
             }
            },
            "type": "scatter3d"
           }
          ],
          "scattercarpet": [
           {
            "marker": {
             "colorbar": {
              "outlinewidth": 0,
              "ticks": ""
             }
            },
            "type": "scattercarpet"
           }
          ],
          "scattergeo": [
           {
            "marker": {
             "colorbar": {
              "outlinewidth": 0,
              "ticks": ""
             }
            },
            "type": "scattergeo"
           }
          ],
          "scattergl": [
           {
            "marker": {
             "colorbar": {
              "outlinewidth": 0,
              "ticks": ""
             }
            },
            "type": "scattergl"
           }
          ],
          "scattermapbox": [
           {
            "marker": {
             "colorbar": {
              "outlinewidth": 0,
              "ticks": ""
             }
            },
            "type": "scattermapbox"
           }
          ],
          "scatterpolar": [
           {
            "marker": {
             "colorbar": {
              "outlinewidth": 0,
              "ticks": ""
             }
            },
            "type": "scatterpolar"
           }
          ],
          "scatterpolargl": [
           {
            "marker": {
             "colorbar": {
              "outlinewidth": 0,
              "ticks": ""
             }
            },
            "type": "scatterpolargl"
           }
          ],
          "scatterternary": [
           {
            "marker": {
             "colorbar": {
              "outlinewidth": 0,
              "ticks": ""
             }
            },
            "type": "scatterternary"
           }
          ],
          "surface": [
           {
            "colorbar": {
             "outlinewidth": 0,
             "ticks": ""
            },
            "colorscale": [
             [
              0,
              "#0d0887"
             ],
             [
              0.1111111111111111,
              "#46039f"
             ],
             [
              0.2222222222222222,
              "#7201a8"
             ],
             [
              0.3333333333333333,
              "#9c179e"
             ],
             [
              0.4444444444444444,
              "#bd3786"
             ],
             [
              0.5555555555555556,
              "#d8576b"
             ],
             [
              0.6666666666666666,
              "#ed7953"
             ],
             [
              0.7777777777777778,
              "#fb9f3a"
             ],
             [
              0.8888888888888888,
              "#fdca26"
             ],
             [
              1,
              "#f0f921"
             ]
            ],
            "type": "surface"
           }
          ],
          "table": [
           {
            "cells": {
             "fill": {
              "color": "#EBF0F8"
             },
             "line": {
              "color": "white"
             }
            },
            "header": {
             "fill": {
              "color": "#C8D4E3"
             },
             "line": {
              "color": "white"
             }
            },
            "type": "table"
           }
          ]
         },
         "layout": {
          "annotationdefaults": {
           "arrowcolor": "#2a3f5f",
           "arrowhead": 0,
           "arrowwidth": 1
          },
          "autotypenumbers": "strict",
          "coloraxis": {
           "colorbar": {
            "outlinewidth": 0,
            "ticks": ""
           }
          },
          "colorscale": {
           "diverging": [
            [
             0,
             "#8e0152"
            ],
            [
             0.1,
             "#c51b7d"
            ],
            [
             0.2,
             "#de77ae"
            ],
            [
             0.3,
             "#f1b6da"
            ],
            [
             0.4,
             "#fde0ef"
            ],
            [
             0.5,
             "#f7f7f7"
            ],
            [
             0.6,
             "#e6f5d0"
            ],
            [
             0.7,
             "#b8e186"
            ],
            [
             0.8,
             "#7fbc41"
            ],
            [
             0.9,
             "#4d9221"
            ],
            [
             1,
             "#276419"
            ]
           ],
           "sequential": [
            [
             0,
             "#0d0887"
            ],
            [
             0.1111111111111111,
             "#46039f"
            ],
            [
             0.2222222222222222,
             "#7201a8"
            ],
            [
             0.3333333333333333,
             "#9c179e"
            ],
            [
             0.4444444444444444,
             "#bd3786"
            ],
            [
             0.5555555555555556,
             "#d8576b"
            ],
            [
             0.6666666666666666,
             "#ed7953"
            ],
            [
             0.7777777777777778,
             "#fb9f3a"
            ],
            [
             0.8888888888888888,
             "#fdca26"
            ],
            [
             1,
             "#f0f921"
            ]
           ],
           "sequentialminus": [
            [
             0,
             "#0d0887"
            ],
            [
             0.1111111111111111,
             "#46039f"
            ],
            [
             0.2222222222222222,
             "#7201a8"
            ],
            [
             0.3333333333333333,
             "#9c179e"
            ],
            [
             0.4444444444444444,
             "#bd3786"
            ],
            [
             0.5555555555555556,
             "#d8576b"
            ],
            [
             0.6666666666666666,
             "#ed7953"
            ],
            [
             0.7777777777777778,
             "#fb9f3a"
            ],
            [
             0.8888888888888888,
             "#fdca26"
            ],
            [
             1,
             "#f0f921"
            ]
           ]
          },
          "colorway": [
           "#636efa",
           "#EF553B",
           "#00cc96",
           "#ab63fa",
           "#FFA15A",
           "#19d3f3",
           "#FF6692",
           "#B6E880",
           "#FF97FF",
           "#FECB52"
          ],
          "font": {
           "color": "#040404",
           "family": "Open Sans",
           "size": 15
          },
          "geo": {
           "bgcolor": "white",
           "lakecolor": "white",
           "landcolor": "#E5ECF6",
           "showlakes": true,
           "showland": true,
           "subunitcolor": "white"
          },
          "hoverlabel": {
           "align": "left"
          },
          "hovermode": "closest",
          "mapbox": {
           "style": "light"
          },
          "margin": {
           "b": 0
          },
          "paper_bgcolor": "white",
          "plot_bgcolor": "#E5ECF6",
          "polar": {
           "angularaxis": {
            "gridcolor": "white",
            "linecolor": "white",
            "ticks": ""
           },
           "bgcolor": "#E5ECF6",
           "radialaxis": {
            "gridcolor": "white",
            "linecolor": "white",
            "ticks": ""
           }
          },
          "scene": {
           "xaxis": {
            "backgroundcolor": "#E5ECF6",
            "gridcolor": "white",
            "gridwidth": 2,
            "linecolor": "white",
            "showbackground": true,
            "ticks": "",
            "zerolinecolor": "white"
           },
           "yaxis": {
            "backgroundcolor": "#E5ECF6",
            "gridcolor": "white",
            "gridwidth": 2,
            "linecolor": "white",
            "showbackground": true,
            "ticks": "",
            "zerolinecolor": "white"
           },
           "zaxis": {
            "backgroundcolor": "#E5ECF6",
            "gridcolor": "white",
            "gridwidth": 2,
            "linecolor": "white",
            "showbackground": true,
            "ticks": "",
            "zerolinecolor": "white"
           }
          },
          "shapedefaults": {
           "line": {
            "color": "#2a3f5f"
           }
          },
          "ternary": {
           "aaxis": {
            "gridcolor": "white",
            "linecolor": "white",
            "ticks": ""
           },
           "baxis": {
            "gridcolor": "white",
            "linecolor": "white",
            "ticks": ""
           },
           "bgcolor": "#E5ECF6",
           "caxis": {
            "gridcolor": "white",
            "linecolor": "white",
            "ticks": ""
           }
          },
          "title": {
           "font": {
            "color": "#040404",
            "family": "Open Sans"
           },
           "x": 0.05
          },
          "xaxis": {
           "automargin": true,
           "gridcolor": "white",
           "linecolor": "white",
           "ticks": "",
           "title": {
            "standoff": 15
           },
           "zerolinecolor": "white",
           "zerolinewidth": 2
          },
          "yaxis": {
           "automargin": true,
           "gridcolor": "white",
           "linecolor": "white",
           "ticks": "",
           "title": {
            "standoff": 15
           },
           "zerolinecolor": "white",
           "zerolinewidth": 2
          }
         }
        },
        "title": {
         "text": "Projects with the most downloads"
        },
        "xaxis": {
         "anchor": "y",
         "domain": [
          0,
          1
         ],
         "title": {
          "text": "Downloads"
         }
        },
        "yaxis": {
         "anchor": "x",
         "autorange": "reversed",
         "domain": [
          0,
          1
         ],
         "title": {}
        }
       }
      },
      "text/html": [
       "<div>                            <div id=\"78925a4d-fb1a-452c-b411-280900efa9a6\" class=\"plotly-graph-div\" style=\"height:2000px; width:100%;\"></div>            <script type=\"text/javascript\">                require([\"plotly\"], function(Plotly) {                    window.PLOTLYENV=window.PLOTLYENV || {};                                    if (document.getElementById(\"78925a4d-fb1a-452c-b411-280900efa9a6\")) {                    Plotly.newPlot(                        \"78925a4d-fb1a-452c-b411-280900efa9a6\",                        [{\"alignmentgroup\":\"True\",\"customdata\":[[\"<a href=\\\"https://github.com/pvlib/pvlib-python\\\" target=\\\"_blank\\\" style = \\\"color: black\\\">pvlib-python</a>\",247853.0,\"https://github.com/pvlib/pvlib-python\",\"A set of documented functions for simulating the performance of photovoltaic energy systems.\",\"Renewable Energy\"],[\"<a href=\\\"https://github.com/kube-green/kube-green\\\" target=\\\"_blank\\\" style = \\\"color: black\\\">kube-green</a>\",233663.0,\"https://github.com/kube-green/kube-green\",\"A k8s operator to reduce CO2 footprint of your clusters.\",\"Consumption\"],[\"<a href=\\\"https://github.com/openeemeter/eeweather\\\" target=\\\"_blank\\\" style = \\\"color: black\\\">eeweather</a>\",116274.0,\"https://github.com/openeemeter/eeweather\",\"Fetch NCDC ISD, TMY3, or CZ2010 weather data that corresponds to ZIP Code Tabulation Areas or Latitude/Longitude.\",\"Atmosphere\"],[\"<a href=\\\"https://github.com/ecmwf/cfgrib\\\" target=\\\"_blank\\\" style = \\\"color: black\\\">cfgrib</a>\",97874.0,\"https://github.com/ecmwf/cfgrib\",\"A Python interface to map GRIB files to the NetCDF Common Data Model following the CF Convention using ecCodes.\",\"Climate Change\"],[\"<a href=\\\"https://github.com/mobilityhouse/ocpp\\\" target=\\\"_blank\\\" style = \\\"color: black\\\">ocpp</a>\",83024.0,\"https://github.com/mobilityhouse/ocpp\",\"Python implementation of the Open Charge Point Protocol.\",\"Consumption\"],[\"<a href=\\\"https://github.com/ecmwf/cdsapi\\\" target=\\\"_blank\\\" style = \\\"color: black\\\">cdsapi</a>\",48101.0,\"https://github.com/ecmwf/cdsapi\",\"Python API to access the Copernicus Climate Data Store.\",\"Climate Change\"],[\"<a href=\\\"https://github.com/meteostat/meteostat-python\\\" target=\\\"_blank\\\" style = \\\"color: black\\\">Meteostat Python</a>\",45654.0,\"https://github.com/meteostat/meteostat-python\",\"Access and analyze historical weather and climate data with Python.\",\"Climate Change\"],[\"<a href=\\\"https://github.com/onaci/leaflet-velocity\\\" target=\\\"_blank\\\" style = \\\"color: black\\\">leaflet-velocity</a>\",44058.0,\"https://github.com/onaci/leaflet-velocity\",\"Create a canvas visualization layer for direction and intensity of arbitrary velocities (e.g. wind, ocean current).\",\"Hydrosphere\"],[\"<a href=\\\"https://github.com/thegreenwebfoundation/co2.js\\\" target=\\\"_blank\\\" style = \\\"color: black\\\">co2.js</a>\",35844.0,\"https://github.com/thegreenwebfoundation/co2.js\",\"A npm module for accessing the green web API, and estimating the carbon emissions from using digital services.\",\"Consumption\"],[\"<a href=\\\"https://github.com/intake/intake-esm\\\" target=\\\"_blank\\\" style = \\\"color: black\\\">Intake-esm</a>\",34211.0,\"https://github.com/intake/intake-esm\",\"An intake plugin for parsing an Earth System Model catalog and loading assets into xarray datasets.\",\"Climate Change\"],[\"<a href=\\\"https://github.com/Unidata/MetPy\\\" target=\\\"_blank\\\" style = \\\"color: black\\\">MetPy</a>\",26682.0,\"https://github.com/Unidata/MetPy\",\"A collection of tools in Python for reading, visualizing and performing calculations with weather data.\",\"Atmosphere\"],[\"<a href=\\\"https://github.com/sentinel-hub/sentinelhub-py\\\" target=\\\"_blank\\\" style = \\\"color: black\\\">sentinelhub-py</a>\",24785.0,\"https://github.com/sentinel-hub/sentinelhub-py\",\"Download and process satellite imagery in Python using Sentinel Hub services.\",\"Sustainable Development\"],[\"<a href=\\\"https://github.com/sentinelsat/sentinelsat\\\" target=\\\"_blank\\\" style = \\\"color: black\\\">sentinelsat</a>\",17674.0,\"https://github.com/sentinelsat/sentinelsat\",\"Makes searching, downloading and retrieving the metadata of Sentinel satellite images from the Copernicus Open Access Hub easy.\",\"Sustainable Development\"],[\"<a href=\\\"https://github.com/scikit-maad/scikit-maad\\\" target=\\\"_blank\\\" style = \\\"color: black\\\">scikit-maad</a>\",17188.0,\"https://github.com/scikit-maad/scikit-maad\",\"Enables quantitative analysis of environmental audio, offering tools for processing, segmenting, and computing acoustic features.\",\"Biosphere\"],[\"<a href=\\\"https://github.com/openeemeter/eemeter\\\" target=\\\"_blank\\\" style = \\\"color: black\\\">eemeter</a>\",14889.0,\"https://github.com/openeemeter/eemeter\",\"An open source Python package for implementing and developing standard methods for calculating normalized metered energy consumption and avoided energy use.\",\"Energy Systems\"],[\"<a href=\\\"https://github.com/fishR-Core-Team/FSA\\\" target=\\\"_blank\\\" style = \\\"color: black\\\">Fisheries Stock Assessment</a>\",13761.0,\"https://github.com/fishR-Core-Team/FSA\",\"Provides R functions to conduct typical introductory fisheries analyses.\",\"Biosphere\"],[\"<a href=\\\"https://github.com/cerfacs-globc/icclim\\\" target=\\\"_blank\\\" style = \\\"color: black\\\">icclim</a>\",10723.0,\"https://github.com/cerfacs-globc/icclim\",\"Python library for climate indices and climate indicators calculation.\",\"Climate Change\"],[\"<a href=\\\"https://github.com/pybamm-team/pybamm\\\" target=\\\"_blank\\\" style = \\\"color: black\\\">PyBaMM</a>\",9799.0,\"https://github.com/pybamm-team/pybamm\",\"Fast and flexible physics-based battery models in Python.\",\"Energy Storage\"],[\"<a href=\\\"https://github.com/kapadia/usgs\\\" target=\\\"_blank\\\" style = \\\"color: black\\\">USGS</a>\",9333.0,\"https://github.com/kapadia/usgs\",\"A python module for interfacing with the US Geological Survey's API.\",\"Sustainable Development\"],[\"<a href=\\\"https://github.com/python-windrose/windrose\\\" target=\\\"_blank\\\" style = \\\"color: black\\\">windrose</a>\",8222.0,\"https://github.com/python-windrose/windrose\",\"A graphic tool used by meteorologists to give a succinct view of how wind speed and direction are typically distributed at a particular location.\",\"Renewable Energy\"],[\"<a href=\\\"https://github.com/ladybug-tools/uwg\\\" target=\\\"_blank\\\" style = \\\"color: black\\\">Urban Weather Generator</a>\",8094.0,\"https://github.com/ladybug-tools/uwg\",\"A Python application for modeling the urban heat island effect.\",\"Consumption\"],[\"<a href=\\\"https://github.com/pytroll/satpy\\\" target=\\\"_blank\\\" style = \\\"color: black\\\">satpy</a>\",7511.0,\"https://github.com/pytroll/satpy\",\"A python library for reading and manipulating meteorological remote sensing data and writing it to various image and data file formats.\",\"Sustainable Development\"],[\"<a href=\\\"https://github.com/xarray-contrib/xskillscore\\\" target=\\\"_blank\\\" style = \\\"color: black\\\">xskillscore</a>\",7174.0,\"https://github.com/xarray-contrib/xskillscore\",\"An open source project and Python package that provides verification metrics of deterministic (and probabilistic from properscoring) forecasts with xarray.\",\"Climate Change\"],[\"<a href=\\\"https://github.com/CenterForTheBuiltEnvironment/pythermalcomfort\\\" target=\\\"_blank\\\" style = \\\"color: black\\\">pythermalcomfort</a>\",6611.0,\"https://github.com/CenterForTheBuiltEnvironment/pythermalcomfort\",\"Package to calculate several thermal comfort indices (e.g. PMV, PPD, SET, adaptive) and convert physical variables.\",\"Consumption\"],[\"<a href=\\\"https://github.com/cloud-carbon-footprint/cloud-carbon-footprint\\\" target=\\\"_blank\\\" style = \\\"color: black\\\">Cloud Carbon Footprint</a>\",6520.0,\"https://github.com/cloud-carbon-footprint/cloud-carbon-footprint\",\"A tool to estimate energy use (kilowatt-hours) and carbon emissions (metric tons CO2e) from public cloud usage.\",\"Consumption\"],[\"<a href=\\\"https://github.com/davidcarslaw/openair\\\" target=\\\"_blank\\\" style = \\\"color: black\\\">openair</a>\",6268.0,\"https://github.com/davidcarslaw/openair\",\"An R package developed for the purpose of analyzing air quality data — or more generally atmospheric composition data.\",\"Natural Resources\"],[\"<a href=\\\"https://github.com/grid-parity-exchange/Egret\\\" target=\\\"_blank\\\" style = \\\"color: black\\\">Egret</a>\",6127.0,\"https://github.com/grid-parity-exchange/Egret\",\"A Python-based package for electrical grid optimization based on the Pyomo optimization modeling language.\",\"Energy Systems\"],[\"<a href=\\\"https://github.com/oms-netzero/fair\\\" target=\\\"_blank\\\" style = \\\"color: black\\\">FAIR</a>\",5935.0,\"https://github.com/oms-netzero/fair\",\"Finite Amplitude Impulse-Response simple climate-carbon-cycle model.\",\"Climate Change\"],[\"<a href=\\\"https://github.com/CalebBell/thermo\\\" target=\\\"_blank\\\" style = \\\"color: black\\\">thermo</a>\",5713.0,\"https://github.com/CalebBell/thermo\",\"Thermodynamics, phase equilibrium, transport properties and chemical database component of Chemical Engineering Design Library.\",\"Renewable Energy\"],[\"<a href=\\\"https://github.com/OasisLMF/oasislmf\\\" target=\\\"_blank\\\" style = \\\"color: black\\\">OasisLMF</a>\",5458.0,\"https://github.com/OasisLMF/oasislmf\",\"An open source catastrophe modelling platform, free to use by anyone.\",\"Climate Change\"],[\"<a href=\\\"https://github.com/earthobservations/wetterdienst\\\" target=\\\"_blank\\\" style = \\\"color: black\\\">wetterdienst</a>\",4753.0,\"https://github.com/earthobservations/wetterdienst\",\"Trying to make access to weather data in Python feel like a warm summer breeze.\",\"Atmosphere\"],[\"<a href=\\\"https://github.com/michaeldavie/env_canada\\\" target=\\\"_blank\\\" style = \\\"color: black\\\">env_canada</a>\",4505.0,\"https://github.com/michaeldavie/env_canada\",\"Provides access to various data sources published by Environment and Climate Change Canada.\",\"Sustainable Development\"],[\"<a href=\\\"https://github.com/Deltares/Ribasim\\\" target=\\\"_blank\\\" style = \\\"color: black\\\">Ribasim</a>\",4331.0,\"https://github.com/Deltares/Ribasim\",\"A water resources model, designed to be the replacement of the regional surface water modules Mozart and SIMRES in the Netherlands Hydrological Instrument.\",\"Natural Resources\"],[\"<a href=\\\"https://github.com/kmax12/gridstatus\\\" target=\\\"_blank\\\" style = \\\"color: black\\\">gridstatus</a>\",4321.0,\"https://github.com/kmax12/gridstatus\",\"Provides standardized API to access energy data from the major Independent System Operators in the United States.\",\"Energy Systems\"],[\"<a href=\\\"https://github.com/eliocamp/metR\\\" target=\\\"_blank\\\" style = \\\"color: black\\\">metR</a>\",4172.0,\"https://github.com/eliocamp/metR\",\"Several functions and utilities that make R better for handling meteorological data in the tidy data paradigm.\",\"Atmosphere\"],[\"<a href=\\\"https://github.com/r-earthengine/ee_extra\\\" target=\\\"_blank\\\" style = \\\"color: black\\\">eeExtra</a>\",3972.0,\"https://github.com/r-earthengine/ee_extra\",\"A ninja python package that unifies the Google Earth Engine ecosystem.\",\"Sustainable Development\"],[\"<a href=\\\"https://github.com/r-lidar/lidR\\\" target=\\\"_blank\\\" style = \\\"color: black\\\">lidR</a>\",3737.0,\"https://github.com/r-lidar/lidR\",\"An R package for airborne LiDAR data manipulation and visualization for forestry application.\",\"Biosphere\"],[\"<a href=\\\"https://github.com/dankelley/oce\\\" target=\\\"_blank\\\" style = \\\"color: black\\\">oce</a>\",3569.0,\"https://github.com/dankelley/oce\",\"An R package for oceanographic processing.\",\"Hydrosphere\"],[\"<a href=\\\"https://github.com/ecmwf/ecmwf-opendata\\\" target=\\\"_blank\\\" style = \\\"color: black\\\">ecmwf-opendata</a>\",3342.0,\"https://github.com/ecmwf/ecmwf-opendata\",\"A package to simplify the download of ECMWF open data.\",\"Climate Change\"],[\"<a href=\\\"https://github.com/robinhenry/gym-anm\\\" target=\\\"_blank\\\" style = \\\"color: black\\\">Gym-ANM</a>\",3337.0,\"https://github.com/robinhenry/gym-anm\",\"Design Reinforcement Learning environments that model Active Network Management tasks in electricity distribution networks.\",\"Energy Systems\"],[\"<a href=\\\"https://github.com/usepa/wntr\\\" target=\\\"_blank\\\" style = \\\"color: black\\\">Water Network Tool for Resilience</a>\",3319.0,\"https://github.com/usepa/wntr\",\"A Python package designed to simulate and analyze resilience of water distribution networks.\",\"Natural Resources\"],[\"<a href=\\\"https://github.com/OSUKED/ElexonDataPortal\\\" target=\\\"_blank\\\" style = \\\"color: black\\\">ElexonDataPortal</a>\",3270.0,\"https://github.com/OSUKED/ElexonDataPortal\",\"Wrapper for the Balancing Mechanism Reporting Service API to balance power flowing on to and off from the electricity Transmission System in Great Britain.\",\"Energy Systems\"],[\"<a href=\\\"https://github.com/ecmwf/climetlab\\\" target=\\\"_blank\\\" style = \\\"color: black\\\">climetlab</a>\",3258.0,\"https://github.com/ecmwf/climetlab\",\"A Python package aiming at simplifying access to climate and meteorological datasets, allowing users to focus on science instead of technical issues such as data access and data formats.\",\"Climate Change\"],[\"<a href=\\\"https://github.com/ropengov/eurostat\\\" target=\\\"_blank\\\" style = \\\"color: black\\\">eurostat R package</a>\",3206.0,\"https://github.com/ropengov/eurostat\",\"R tools to access open data from Eurostat, the statistical office of the European Union.\",\"Sustainable Development\"],[\"<a href=\\\"https://github.com/squishykid/solax\\\" target=\\\"_blank\\\" style = \\\"color: black\\\">solax</a>\",3128.0,\"https://github.com/squishykid/solax\",\"Read energy usage data from the real-time API on Solax solar inverters.\",\"Renewable Energy\"],[\"<a href=\\\"https://github.com/kwstat/agridat\\\" target=\\\"_blank\\\" style = \\\"color: black\\\">Agridat</a>\",2973.0,\"https://github.com/kwstat/agridat\",\"An extensive collection of datasets from agricultural experiments.\",\"Consumption\"],[\"<a href=\\\"https://github.com/Open-EO/openeo-python-client\\\" target=\\\"_blank\\\" style = \\\"color: black\\\">openEO</a>\",2920.0,\"https://github.com/Open-EO/openeo-python-client\",\"Provides intuitive programming libraries to process a wide variety of earth observation datasets.\",\"Sustainable Development\"],[\"<a href=\\\"https://github.com/rOpenGov/giscoR\\\" target=\\\"_blank\\\" style = \\\"color: black\\\">giscoR</a>\",2703.0,\"https://github.com/rOpenGov/giscoR\",\"An R API package that helps to retrieve data from Eurostat Geographic Information System of the Commission.\",\"Sustainable Development\"],[\"<a href=\\\"https://github.com/wallaceEcoMod/wallace\\\" target=\\\"_blank\\\" style = \\\"color: black\\\">Wallace</a>\",2588.0,\"https://github.com/wallaceEcoMod/wallace\",\"A modular platform for reproducible modeling of species niches and distributions, written in R.\",\"Biosphere\"],[\"<a href=\\\"https://github.com/ncss-tech/aqp\\\" target=\\\"_blank\\\" style = \\\"color: black\\\">AQP</a>\",2487.0,\"https://github.com/ncss-tech/aqp\",\"Algorithms for Quantitative Pedology is a collection of code, ideas, documentation, and examples wrapped-up into several R packages.\",\"Natural Resources\"],[\"<a href=\\\"https://github.com/open-atmos/PySDM\\\" target=\\\"_blank\\\" style = \\\"color: black\\\">PySDM</a>\",2411.0,\"https://github.com/open-atmos/PySDM\",\"Pythonic particle-based warm-rain/aqueous-chemistry cloud microphysics package.\",\"Atmosphere\"],[\"<a href=\\\"https://github.com/wind-python/windpowerlib\\\" target=\\\"_blank\\\" style = \\\"color: black\\\">windpowerlib</a>\",2321.0,\"https://github.com/wind-python/windpowerlib\",\"A library to model the output of wind turbines and farms.\",\"Renewable Energy\"],[\"<a href=\\\"https://github.com/weecology/DeepForest\\\" target=\\\"_blank\\\" style = \\\"color: black\\\">DeepForest</a>\",2304.0,\"https://github.com/weecology/DeepForest\",\"Python Package for Tree Crown Detection in Airborne RGB imagery.\",\"Biosphere\"],[\"<a href=\\\"https://github.com/NCAR/wrf-python\\\" target=\\\"_blank\\\" style = \\\"color: black\\\">wrf-python</a>\",2163.0,\"https://github.com/NCAR/wrf-python\",\"A collection of diagnostic and interpolation routines for use with output from the Weather Research and Forecasting Model.\",\"Atmosphere\"],[\"<a href=\\\"https://github.com/jrester/tesla_powerwall\\\" target=\\\"_blank\\\" style = \\\"color: black\\\">tesla_powerwall</a>\",2115.0,\"https://github.com/jrester/tesla_powerwall\",\"Python Tesla Powerwall API for consuming a local endpoint.\",\"Consumption\"],[\"<a href=\\\"https://gitlab.windenergy.dtu.dk/TOPFARM/PyWake\\\" target=\\\"_blank\\\" style = \\\"color: black\\\">PyWake</a>\",2028.0,\"https://gitlab.windenergy.dtu.dk/TOPFARM/PyWake\",\"An AEP calculator for wind farms implemented in Python including a collection of wake models.\",\"Renewable Energy\"],[\"<a href=\\\"https://github.com/maasglobal/maas-schemas\\\" target=\\\"_blank\\\" style = \\\"color: black\\\">MaaS Global</a>\",2027.0,\"https://github.com/maasglobal/maas-schemas\",\"Mobility as a Service API - data model, tests and validation.\",\"Consumption\"],[\"<a href=\\\"https://github.com/qpv-research-group/solcore5\\\" target=\\\"_blank\\\" style = \\\"color: black\\\">solcore5</a>\",2016.0,\"https://github.com/qpv-research-group/solcore5\",\"A multi-scale, Python-based library for the modeling of solar cells and semiconductor materials.\",\"Renewable Energy\"],[\"<a href=\\\"https://gitlab.opengeosys.org/ogs/ogs\\\" target=\\\"_blank\\\" style = \\\"color: black\\\">OpenGeoSys 6</a>\",2013.0,\"https://gitlab.opengeosys.org/ogs/ogs\",\"A scientific open source project for the development of numerical methods for the simulation of thermo-hydro-mechanical-chemical processes in porous and fractured media.\",\"Renewable Energy\"],[\"<a href=\\\"https://github.com/gclunies/noaa_coops\\\" target=\\\"_blank\\\" style = \\\"color: black\\\">noaa_coops</a>\",2004.0,\"https://github.com/gclunies/noaa_coops\",\"A Python wrapper for the NOAA CO-OPS Tides & Currents Data and Metadata APIs.\",\"Hydrosphere\"],[\"<a href=\\\"https://github.com/IndEcol/pymrio\\\" target=\\\"_blank\\\" style = \\\"color: black\\\">pymrio</a>\",1980.0,\"https://github.com/IndEcol/pymrio\",\"Multi-Regional Input-Output Analysis in Python.\",\"Industrial Ecology\"],[\"<a href=\\\"https://github.com/rte-france/grid2op\\\" target=\\\"_blank\\\" style = \\\"color: black\\\">Grid2Op</a>\",1941.0,\"https://github.com/rte-france/grid2op\",\"A testbed platform to model sequential decision making in power systems.\",\"Energy Systems\"],[\"<a href=\\\"https://github.com/brightway-lca/brightway2\\\" target=\\\"_blank\\\" style = \\\"color: black\\\">brightway2</a>\",1932.0,\"https://github.com/brightway-lca/brightway2\",\"An open source framework for life cycle assessment.\",\"Industrial Ecology\"],[\"<a href=\\\"https://github.com/jamiemkass/ENMeval\\\" target=\\\"_blank\\\" style = \\\"color: black\\\">ENMeval</a>\",1932.0,\"https://github.com/jamiemkass/ENMeval\",\"R package for automated runs and evaluations of ecological niche models.\",\"Biosphere\"],[\"<a href=\\\"https://github.com/sbegueria/SPEI\\\" target=\\\"_blank\\\" style = \\\"color: black\\\">SPEI</a>\",1886.0,\"https://github.com/sbegueria/SPEI\",\"Computing the Standardized Precipitation-Evapotranspiration Index and other reference evapotranspiration.\",\"Natural Resources\"],[\"<a href=\\\"https://github.com/nsidc/earthaccess\\\" target=\\\"_blank\\\" style = \\\"color: black\\\">earthaccess</a>\",1792.0,\"https://github.com/nsidc/earthaccess\",\"Search, download or stream NASA Earth science data with just a few lines of code.\",\"Sustainable Development\"],[\"<a href=\\\"https://github.com/sunpower/pvfactors\\\" target=\\\"_blank\\\" style = \\\"color: black\\\">pvfactors</a>\",1791.0,\"https://github.com/sunpower/pvfactors\",\"Open source view-factor model for diffuse shading and bifacial PV modeling.\",\"Renewable Energy\"],[\"<a href=\\\"https://github.com/blinktaginc/node-gtfs\\\" target=\\\"_blank\\\" style = \\\"color: black\\\">node-gtfs</a>\",1780.0,\"https://github.com/blinktaginc/node-gtfs\",\"Import GTFS transit data into SQLite and query routes, stops, times, fares and more.\",\"Consumption\"],[\"<a href=\\\"https://github.com/roocs/clisops\\\" target=\\\"_blank\\\" style = \\\"color: black\\\">clisops</a>\",1770.0,\"https://github.com/roocs/clisops\",\"Climate simulation operations.\",\"Climate Change\"],[\"<a href=\\\"https://github.com/oscarperpinan/solar\\\" target=\\\"_blank\\\" style = \\\"color: black\\\">solaR</a>\",1677.0,\"https://github.com/oscarperpinan/solar\",\"Allows for reproducible research both for photovoltaics systems performance and solar radiation.\",\"Renewable Energy\"],[\"<a href=\\\"https://github.com/mzy2240/ESA\\\" target=\\\"_blank\\\" style = \\\"color: black\\\">Easy SimAuto</a>\",1654.0,\"https://github.com/mzy2240/ESA\",\"An easy-to-use Power System Analysis Automation Platform atop PowerWorld's Simulator Automation Server.\",\"Energy Systems\"],[\"<a href=\\\"https://github.com/SciTools/iris\\\" target=\\\"_blank\\\" style = \\\"color: black\\\">Iris</a>\",1643.0,\"https://github.com/SciTools/iris\",\"A powerful, format-agnostic, community-driven Python package for analyzing and visualizing Earth science data.\",\"Climate Change\"],[\"<a href=\\\"https://github.com/intelligent-environments-lab/CityLearn\\\" target=\\\"_blank\\\" style = \\\"color: black\\\">CityLearn</a>\",1612.0,\"https://github.com/intelligent-environments-lab/CityLearn\",\"Official reinforcement learning environment for demand response and load shaping.\",\"Energy Systems\"],[\"<a href=\\\"https://github.com/nrel/rdtools\\\" target=\\\"_blank\\\" style = \\\"color: black\\\">rdtools</a>\",1590.0,\"https://github.com/nrel/rdtools\",\"An open source library to support reproducible technical analysis of time series data from photovoltaic energy systems.\",\"Renewable Energy\"],[\"<a href=\\\"https://github.com/fzj-iek3-vsa/tsam\\\" target=\\\"_blank\\\" style = \\\"color: black\\\">tsam</a>\",1542.0,\"https://github.com/fzj-iek3-vsa/tsam\",\"A Python package which uses different machine learning algorithms for the aggregation of time series.\",\"Energy Systems\"],[\"<a href=\\\"https://github.com/FZJ-IEK3-VSA/bslib\\\" target=\\\"_blank\\\" style = \\\"color: black\\\">bslib</a>\",1514.0,\"https://github.com/FZJ-IEK3-VSA/bslib\",\"Database with battery parameters based on PerMod as well as functions in order to simulate battery storages.\",\"Energy Storage\"],[\"<a href=\\\"https://github.com/fishr-core-team/fsadata\\\" target=\\\"_blank\\\" style = \\\"color: black\\\">FSAdata</a>\",1494.0,\"https://github.com/fishr-core-team/fsadata\",\"Contains data for use in common fisheries stock analyses. See installation instructions further below.\",\"Biosphere\"],[\"<a href=\\\"https://github.com/arm-doe/act\\\" target=\\\"_blank\\\" style = \\\"color: black\\\">ACT</a>\",1485.0,\"https://github.com/arm-doe/act\",\"The Atmospheric data Community Toolkit is an open source Python toolkit for working with atmospheric time-series datasets of varying dimensions.\",\"Atmosphere\"],[\"<a href=\\\"https://github.com/ncss-tech/soilDB\\\" target=\\\"_blank\\\" style = \\\"color: black\\\">soilDB</a>\",1435.0,\"https://github.com/ncss-tech/soilDB\",\"Simplified Access to NCSS Soil Databases.\",\"Natural Resources\"],[\"<a href=\\\"https://github.com/pyinat/pyinaturalist\\\" target=\\\"_blank\\\" style = \\\"color: black\\\">pyinaturalist</a>\",1408.0,\"https://github.com/pyinat/pyinaturalist\",\"Python client for iNaturalist, a community science platform that helps people get involved in the natural world by observing and identifying the living things around them.\",\"Biosphere\"],[\"<a href=\\\"https://github.com/jeffreyevans/spatialeco\\\" target=\\\"_blank\\\" style = \\\"color: black\\\">spatialEco</a>\",1405.0,\"https://github.com/jeffreyevans/spatialeco\",\"R package for spatial analysis and modelling of ecological systems.\",\"Biosphere\"],[\"<a href=\\\"https://github.com/contrailcirrus/pycontrails\\\" target=\\\"_blank\\\" style = \\\"color: black\\\">pycontrails</a>\",1404.0,\"https://github.com/contrailcirrus/pycontrails\",\"Python library for modeling aviation climate impacts.\",\"Climate Change\"],[\"<a href=\\\"https://github.com/oemof/tespy\\\" target=\\\"_blank\\\" style = \\\"color: black\\\">tespy</a>\",1374.0,\"https://github.com/oemof/tespy\",\"Provides a powerful simulation toolkit for thermal engineering plants such as power plants, district heating systems or heat pumps.\",\"Consumption\"],[\"<a href=\\\"https://github.com/digitalearthafrica/deafrica-sandbox-notebooks\\\" target=\\\"_blank\\\" style = \\\"color: black\\\">Digital Earth Africa Notebooks</a>\",1362.0,\"https://github.com/digitalearthafrica/deafrica-sandbox-notebooks\",\"Using Earth observations to address social, environmental and economic changes on the Africa continent.\",\"Sustainable Development\"],[\"<a href=\\\"https://github.com/NREL/OpenStudio\\\" target=\\\"_blank\\\" style = \\\"color: black\\\">OpenStudio</a>\",1339.0,\"https://github.com/NREL/OpenStudio\",\"A cross-platform collection of software tools to support whole building energy modeling using EnergyPlus and advanced daylight analysis using Radiance.\",\"Consumption\"],[\"<a href=\\\"https://github.com/nco/pynco\\\" target=\\\"_blank\\\" style = \\\"color: black\\\">pynco</a>\",1322.0,\"https://github.com/nco/pynco\",\"Contains the module python nco, which implements a Python style access to the NetCDF Operators (NCO).\",\"Climate Change\"],[\"<a href=\\\"https://github.com/NEONScience/NEON-utilities\\\" target=\\\"_blank\\\" style = \\\"color: black\\\">NEON</a>\",1318.0,\"https://github.com/NEONScience/NEON-utilities\",\"The National Ecological Observatory Network provides open data to understand changing ecosystems.\",\"Sustainable Development\"],[\"<a href=\\\"https://github.com/bluegreen-labs/ecmwfr\\\" target=\\\"_blank\\\" style = \\\"color: black\\\">ecmwfr</a>\",1233.0,\"https://github.com/bluegreen-labs/ecmwfr\",\"Provides easy access to the European Centre for Medium-Range Weather Forecasts web API services and Copernicus Climate Data Store from within R, matching and expanding upon the ECMWF Python tools.\",\"Climate Change\"],[\"<a href=\\\"https://github.com/pySTEPS/pysteps\\\" target=\\\"_blank\\\" style = \\\"color: black\\\">pySTEPS</a>\",1204.0,\"https://github.com/pySTEPS/pysteps\",\"An open-source and community-driven Python library for probabilistic precipitation nowcasting, i.e. short-term ensemble prediction systems.\",\"Natural Resources\"],[\"<a href=\\\"https://github.com/pvlib/pvanalytics\\\" target=\\\"_blank\\\" style = \\\"color: black\\\">pvanalytics</a>\",1171.0,\"https://github.com/pvlib/pvanalytics\",\"Quality control, filtering, feature labeling, and other tools for working with data from photovoltaic energy systems.\",\"Renewable Energy\"],[\"<a href=\\\"https://github.com/ropensci/stplanr\\\" target=\\\"_blank\\\" style = \\\"color: black\\\">stplanr</a>\",1156.0,\"https://github.com/ropensci/stplanr\",\"A package for sustainable transport planning with R.\",\"Consumption\"],[\"<a href=\\\"https://github.com/hubblo-org/scaphandre\\\" target=\\\"_blank\\\" style = \\\"color: black\\\">Scaphandre</a>\",1151.0,\"https://github.com/hubblo-org/scaphandre\",\"An open source software agent to track energy consumption of ICT services from the servers.\",\"Consumption\"],[\"<a href=\\\"https://github.com/ecmwf/metview-python\\\" target=\\\"_blank\\\" style = \\\"color: black\\\">Metview Python bindings</a>\",1135.0,\"https://github.com/ecmwf/metview-python\",\"Python interface to Metview, a meteorological workstation and batch system for accessing, examining, manipulating and visualising meteorological data.\",\"Atmosphere\"],[\"<a href=\\\"https://github.com/SunPower/PVMismatch\\\" target=\\\"_blank\\\" style = \\\"color: black\\\">PVMismatch</a>\",1039.0,\"https://github.com/SunPower/PVMismatch\",\"An explicit Python PV system IV & PV curve trace calculator which can also calculate mismatch.\",\"Renewable Energy\"],[\"<a href=\\\"https://github.com/sanpen/gridcal\\\" target=\\\"_blank\\\" style = \\\"color: black\\\">GridCal</a>\",998.0,\"https://github.com/sanpen/gridcal\",\"Aims to be a complete platform for power systems research and simulation.\",\"Energy Systems\"],[\"<a href=\\\"https://github.com/ropensci/rfishbase\\\" target=\\\"_blank\\\" style = \\\"color: black\\\">rfishbase</a>\",974.0,\"https://github.com/ropensci/rfishbase\",\"An R interface to the fishbase.org database.\",\"Biosphere\"],[\"<a href=\\\"https://github.com/yannforget/landsatxplore\\\" target=\\\"_blank\\\" style = \\\"color: black\\\">landsatxplore</a>\",948.0,\"https://github.com/yannforget/landsatxplore\",\"Provides an interface to the EarthExplorer portal to search and download Landsat Collections scenes through a command-line interface or a Python API.\",\"Sustainable Development\"],[\"<a href=\\\"https://github.com/JRCSTU/co2mpas-ta\\\" target=\\\"_blank\\\" style = \\\"color: black\\\">CO2MPAS-TA</a>\",936.0,\"https://github.com/JRCSTU/co2mpas-ta\",\"CO2MPAS is backward-looking longitudinal-dynamics CO2 and fuel-consumption simulator for light-duty vehicles.\",\"Consumption\"],[\"<a href=\\\"https://github.com/tri-amdd/beep\\\" target=\\\"_blank\\\" style = \\\"color: black\\\">beep</a>\",911.0,\"https://github.com/tri-amdd/beep\",\"A set of tools designed to support Battery Evaluation and Early Prediction of cycle life corresponding to the research of the d3batt program and the Toyota Research Institute.\",\"Energy Storage\"],[\"<a href=\\\"https://github.com/ropensci/MODIStsp\\\" target=\\\"_blank\\\" style = \\\"color: black\\\">MODIStsp</a>\",911.0,\"https://github.com/ropensci/MODIStsp\",\"An R package for automatic download and preprocessing of MODIS Land Products Time-Series.\",\"Sustainable Development\"]],\"hovertemplate\":\"Project Name: <b>%{customdata[0]}</b><br>Downloads: <b>%{customdata[1]}</b><br>Git URL: <b>%{customdata[2]}</b><br>Description: <b>%{customdata[3]}</b><br>Category: <b>%{customdata[4]}</b>\",\"legendgroup\":\"\",\"marker\":{\"color\":\"#636efa\",\"pattern\":{\"shape\":\"\"}},\"name\":\"\",\"offsetgroup\":\"\",\"orientation\":\"h\",\"showlegend\":false,\"textposition\":\"auto\",\"x\":[247853.0,233663.0,116274.0,97874.0,83024.0,48101.0,45654.0,44058.0,35844.0,34211.0,26682.0,24785.0,17674.0,17188.0,14889.0,13761.0,10723.0,9799.0,9333.0,8222.0,8094.0,7511.0,7174.0,6611.0,6520.0,6268.0,6127.0,5935.0,5713.0,5458.0,4753.0,4505.0,4331.0,4321.0,4172.0,3972.0,3737.0,3569.0,3342.0,3337.0,3319.0,3270.0,3258.0,3206.0,3128.0,2973.0,2920.0,2703.0,2588.0,2487.0,2411.0,2321.0,2304.0,2163.0,2115.0,2028.0,2027.0,2016.0,2013.0,2004.0,1980.0,1941.0,1932.0,1932.0,1886.0,1792.0,1791.0,1780.0,1770.0,1677.0,1654.0,1643.0,1612.0,1590.0,1542.0,1514.0,1494.0,1485.0,1435.0,1408.0,1405.0,1404.0,1374.0,1362.0,1339.0,1322.0,1318.0,1233.0,1204.0,1171.0,1156.0,1151.0,1135.0,1039.0,998.0,974.0,948.0,936.0,911.0,911.0],\"xaxis\":\"x\",\"y\":[\"<a href=\\\"https://github.com/pvlib/pvlib-python\\\" target=\\\"_blank\\\" style = \\\"color: black\\\">pvlib-python</a>\",\"<a href=\\\"https://github.com/kube-green/kube-green\\\" target=\\\"_blank\\\" style = \\\"color: black\\\">kube-green</a>\",\"<a href=\\\"https://github.com/openeemeter/eeweather\\\" target=\\\"_blank\\\" style = \\\"color: black\\\">eeweather</a>\",\"<a href=\\\"https://github.com/ecmwf/cfgrib\\\" target=\\\"_blank\\\" style = \\\"color: black\\\">cfgrib</a>\",\"<a href=\\\"https://github.com/mobilityhouse/ocpp\\\" target=\\\"_blank\\\" style = \\\"color: black\\\">ocpp</a>\",\"<a href=\\\"https://github.com/ecmwf/cdsapi\\\" target=\\\"_blank\\\" style = \\\"color: black\\\">cdsapi</a>\",\"<a href=\\\"https://github.com/meteostat/meteostat-python\\\" target=\\\"_blank\\\" style = \\\"color: black\\\">Meteostat Python</a>\",\"<a href=\\\"https://github.com/onaci/leaflet-velocity\\\" target=\\\"_blank\\\" style = \\\"color: black\\\">leaflet-velocity</a>\",\"<a href=\\\"https://github.com/thegreenwebfoundation/co2.js\\\" target=\\\"_blank\\\" style = \\\"color: black\\\">co2.js</a>\",\"<a href=\\\"https://github.com/intake/intake-esm\\\" target=\\\"_blank\\\" style = \\\"color: black\\\">Intake-esm</a>\",\"<a href=\\\"https://github.com/Unidata/MetPy\\\" target=\\\"_blank\\\" style = \\\"color: black\\\">MetPy</a>\",\"<a href=\\\"https://github.com/sentinel-hub/sentinelhub-py\\\" target=\\\"_blank\\\" style = \\\"color: black\\\">sentinelhub-py</a>\",\"<a href=\\\"https://github.com/sentinelsat/sentinelsat\\\" target=\\\"_blank\\\" style = \\\"color: black\\\">sentinelsat</a>\",\"<a href=\\\"https://github.com/scikit-maad/scikit-maad\\\" target=\\\"_blank\\\" style = \\\"color: black\\\">scikit-maad</a>\",\"<a href=\\\"https://github.com/openeemeter/eemeter\\\" target=\\\"_blank\\\" style = \\\"color: black\\\">eemeter</a>\",\"<a href=\\\"https://github.com/fishR-Core-Team/FSA\\\" target=\\\"_blank\\\" style = \\\"color: black\\\">Fisheries Stock Assessment</a>\",\"<a href=\\\"https://github.com/cerfacs-globc/icclim\\\" target=\\\"_blank\\\" style = \\\"color: black\\\">icclim</a>\",\"<a href=\\\"https://github.com/pybamm-team/pybamm\\\" target=\\\"_blank\\\" style = \\\"color: black\\\">PyBaMM</a>\",\"<a href=\\\"https://github.com/kapadia/usgs\\\" target=\\\"_blank\\\" style = \\\"color: black\\\">USGS</a>\",\"<a href=\\\"https://github.com/python-windrose/windrose\\\" target=\\\"_blank\\\" style = \\\"color: black\\\">windrose</a>\",\"<a href=\\\"https://github.com/ladybug-tools/uwg\\\" target=\\\"_blank\\\" style = \\\"color: black\\\">Urban Weather Generator</a>\",\"<a href=\\\"https://github.com/pytroll/satpy\\\" target=\\\"_blank\\\" style = \\\"color: black\\\">satpy</a>\",\"<a href=\\\"https://github.com/xarray-contrib/xskillscore\\\" target=\\\"_blank\\\" style = \\\"color: black\\\">xskillscore</a>\",\"<a href=\\\"https://github.com/CenterForTheBuiltEnvironment/pythermalcomfort\\\" target=\\\"_blank\\\" style = \\\"color: black\\\">pythermalcomfort</a>\",\"<a href=\\\"https://github.com/cloud-carbon-footprint/cloud-carbon-footprint\\\" target=\\\"_blank\\\" style = \\\"color: black\\\">Cloud Carbon Footprint</a>\",\"<a href=\\\"https://github.com/davidcarslaw/openair\\\" target=\\\"_blank\\\" style = \\\"color: black\\\">openair</a>\",\"<a href=\\\"https://github.com/grid-parity-exchange/Egret\\\" target=\\\"_blank\\\" style = \\\"color: black\\\">Egret</a>\",\"<a href=\\\"https://github.com/oms-netzero/fair\\\" target=\\\"_blank\\\" style = \\\"color: black\\\">FAIR</a>\",\"<a href=\\\"https://github.com/CalebBell/thermo\\\" target=\\\"_blank\\\" style = \\\"color: black\\\">thermo</a>\",\"<a href=\\\"https://github.com/OasisLMF/oasislmf\\\" target=\\\"_blank\\\" style = \\\"color: black\\\">OasisLMF</a>\",\"<a href=\\\"https://github.com/earthobservations/wetterdienst\\\" target=\\\"_blank\\\" style = \\\"color: black\\\">wetterdienst</a>\",\"<a href=\\\"https://github.com/michaeldavie/env_canada\\\" target=\\\"_blank\\\" style = \\\"color: black\\\">env_canada</a>\",\"<a href=\\\"https://github.com/Deltares/Ribasim\\\" target=\\\"_blank\\\" style = \\\"color: black\\\">Ribasim</a>\",\"<a href=\\\"https://github.com/kmax12/gridstatus\\\" target=\\\"_blank\\\" style = \\\"color: black\\\">gridstatus</a>\",\"<a href=\\\"https://github.com/eliocamp/metR\\\" target=\\\"_blank\\\" style = \\\"color: black\\\">metR</a>\",\"<a href=\\\"https://github.com/r-earthengine/ee_extra\\\" target=\\\"_blank\\\" style = \\\"color: black\\\">eeExtra</a>\",\"<a href=\\\"https://github.com/r-lidar/lidR\\\" target=\\\"_blank\\\" style = \\\"color: black\\\">lidR</a>\",\"<a href=\\\"https://github.com/dankelley/oce\\\" target=\\\"_blank\\\" style = \\\"color: black\\\">oce</a>\",\"<a href=\\\"https://github.com/ecmwf/ecmwf-opendata\\\" target=\\\"_blank\\\" style = \\\"color: black\\\">ecmwf-opendata</a>\",\"<a href=\\\"https://github.com/robinhenry/gym-anm\\\" target=\\\"_blank\\\" style = \\\"color: black\\\">Gym-ANM</a>\",\"<a href=\\\"https://github.com/usepa/wntr\\\" target=\\\"_blank\\\" style = \\\"color: black\\\">Water Network Tool for Resilience</a>\",\"<a href=\\\"https://github.com/OSUKED/ElexonDataPortal\\\" target=\\\"_blank\\\" style = \\\"color: black\\\">ElexonDataPortal</a>\",\"<a href=\\\"https://github.com/ecmwf/climetlab\\\" target=\\\"_blank\\\" style = \\\"color: black\\\">climetlab</a>\",\"<a href=\\\"https://github.com/ropengov/eurostat\\\" target=\\\"_blank\\\" style = \\\"color: black\\\">eurostat R package</a>\",\"<a href=\\\"https://github.com/squishykid/solax\\\" target=\\\"_blank\\\" style = \\\"color: black\\\">solax</a>\",\"<a href=\\\"https://github.com/kwstat/agridat\\\" target=\\\"_blank\\\" style = \\\"color: black\\\">Agridat</a>\",\"<a href=\\\"https://github.com/Open-EO/openeo-python-client\\\" target=\\\"_blank\\\" style = \\\"color: black\\\">openEO</a>\",\"<a href=\\\"https://github.com/rOpenGov/giscoR\\\" target=\\\"_blank\\\" style = \\\"color: black\\\">giscoR</a>\",\"<a href=\\\"https://github.com/wallaceEcoMod/wallace\\\" target=\\\"_blank\\\" style = \\\"color: black\\\">Wallace</a>\",\"<a href=\\\"https://github.com/ncss-tech/aqp\\\" target=\\\"_blank\\\" style = \\\"color: black\\\">AQP</a>\",\"<a href=\\\"https://github.com/open-atmos/PySDM\\\" target=\\\"_blank\\\" style = \\\"color: black\\\">PySDM</a>\",\"<a href=\\\"https://github.com/wind-python/windpowerlib\\\" target=\\\"_blank\\\" style = \\\"color: black\\\">windpowerlib</a>\",\"<a href=\\\"https://github.com/weecology/DeepForest\\\" target=\\\"_blank\\\" style = \\\"color: black\\\">DeepForest</a>\",\"<a href=\\\"https://github.com/NCAR/wrf-python\\\" target=\\\"_blank\\\" style = \\\"color: black\\\">wrf-python</a>\",\"<a href=\\\"https://github.com/jrester/tesla_powerwall\\\" target=\\\"_blank\\\" style = \\\"color: black\\\">tesla_powerwall</a>\",\"<a href=\\\"https://gitlab.windenergy.dtu.dk/TOPFARM/PyWake\\\" target=\\\"_blank\\\" style = \\\"color: black\\\">PyWake</a>\",\"<a href=\\\"https://github.com/maasglobal/maas-schemas\\\" target=\\\"_blank\\\" style = \\\"color: black\\\">MaaS Global</a>\",\"<a href=\\\"https://github.com/qpv-research-group/solcore5\\\" target=\\\"_blank\\\" style = \\\"color: black\\\">solcore5</a>\",\"<a href=\\\"https://gitlab.opengeosys.org/ogs/ogs\\\" target=\\\"_blank\\\" style = \\\"color: black\\\">OpenGeoSys 6</a>\",\"<a href=\\\"https://github.com/gclunies/noaa_coops\\\" target=\\\"_blank\\\" style = \\\"color: black\\\">noaa_coops</a>\",\"<a href=\\\"https://github.com/IndEcol/pymrio\\\" target=\\\"_blank\\\" style = \\\"color: black\\\">pymrio</a>\",\"<a href=\\\"https://github.com/rte-france/grid2op\\\" target=\\\"_blank\\\" style = \\\"color: black\\\">Grid2Op</a>\",\"<a href=\\\"https://github.com/brightway-lca/brightway2\\\" target=\\\"_blank\\\" style = \\\"color: black\\\">brightway2</a>\",\"<a href=\\\"https://github.com/jamiemkass/ENMeval\\\" target=\\\"_blank\\\" style = \\\"color: black\\\">ENMeval</a>\",\"<a href=\\\"https://github.com/sbegueria/SPEI\\\" target=\\\"_blank\\\" style = \\\"color: black\\\">SPEI</a>\",\"<a href=\\\"https://github.com/nsidc/earthaccess\\\" target=\\\"_blank\\\" style = \\\"color: black\\\">earthaccess</a>\",\"<a href=\\\"https://github.com/sunpower/pvfactors\\\" target=\\\"_blank\\\" style = \\\"color: black\\\">pvfactors</a>\",\"<a href=\\\"https://github.com/blinktaginc/node-gtfs\\\" target=\\\"_blank\\\" style = \\\"color: black\\\">node-gtfs</a>\",\"<a href=\\\"https://github.com/roocs/clisops\\\" target=\\\"_blank\\\" style = \\\"color: black\\\">clisops</a>\",\"<a href=\\\"https://github.com/oscarperpinan/solar\\\" target=\\\"_blank\\\" style = \\\"color: black\\\">solaR</a>\",\"<a href=\\\"https://github.com/mzy2240/ESA\\\" target=\\\"_blank\\\" style = \\\"color: black\\\">Easy SimAuto</a>\",\"<a href=\\\"https://github.com/SciTools/iris\\\" target=\\\"_blank\\\" style = \\\"color: black\\\">Iris</a>\",\"<a href=\\\"https://github.com/intelligent-environments-lab/CityLearn\\\" target=\\\"_blank\\\" style = \\\"color: black\\\">CityLearn</a>\",\"<a href=\\\"https://github.com/nrel/rdtools\\\" target=\\\"_blank\\\" style = \\\"color: black\\\">rdtools</a>\",\"<a href=\\\"https://github.com/fzj-iek3-vsa/tsam\\\" target=\\\"_blank\\\" style = \\\"color: black\\\">tsam</a>\",\"<a href=\\\"https://github.com/FZJ-IEK3-VSA/bslib\\\" target=\\\"_blank\\\" style = \\\"color: black\\\">bslib</a>\",\"<a href=\\\"https://github.com/fishr-core-team/fsadata\\\" target=\\\"_blank\\\" style = \\\"color: black\\\">FSAdata</a>\",\"<a href=\\\"https://github.com/arm-doe/act\\\" target=\\\"_blank\\\" style = \\\"color: black\\\">ACT</a>\",\"<a href=\\\"https://github.com/ncss-tech/soilDB\\\" target=\\\"_blank\\\" style = \\\"color: black\\\">soilDB</a>\",\"<a href=\\\"https://github.com/pyinat/pyinaturalist\\\" target=\\\"_blank\\\" style = \\\"color: black\\\">pyinaturalist</a>\",\"<a href=\\\"https://github.com/jeffreyevans/spatialeco\\\" target=\\\"_blank\\\" style = \\\"color: black\\\">spatialEco</a>\",\"<a href=\\\"https://github.com/contrailcirrus/pycontrails\\\" target=\\\"_blank\\\" style = \\\"color: black\\\">pycontrails</a>\",\"<a href=\\\"https://github.com/oemof/tespy\\\" target=\\\"_blank\\\" style = \\\"color: black\\\">tespy</a>\",\"<a href=\\\"https://github.com/digitalearthafrica/deafrica-sandbox-notebooks\\\" target=\\\"_blank\\\" style = \\\"color: black\\\">Digital Earth Africa Notebooks</a>\",\"<a href=\\\"https://github.com/NREL/OpenStudio\\\" target=\\\"_blank\\\" style = \\\"color: black\\\">OpenStudio</a>\",\"<a href=\\\"https://github.com/nco/pynco\\\" target=\\\"_blank\\\" style = \\\"color: black\\\">pynco</a>\",\"<a href=\\\"https://github.com/NEONScience/NEON-utilities\\\" target=\\\"_blank\\\" style = \\\"color: black\\\">NEON</a>\",\"<a href=\\\"https://github.com/bluegreen-labs/ecmwfr\\\" target=\\\"_blank\\\" style = \\\"color: black\\\">ecmwfr</a>\",\"<a href=\\\"https://github.com/pySTEPS/pysteps\\\" target=\\\"_blank\\\" style = \\\"color: black\\\">pySTEPS</a>\",\"<a href=\\\"https://github.com/pvlib/pvanalytics\\\" target=\\\"_blank\\\" style = \\\"color: black\\\">pvanalytics</a>\",\"<a href=\\\"https://github.com/ropensci/stplanr\\\" target=\\\"_blank\\\" style = \\\"color: black\\\">stplanr</a>\",\"<a href=\\\"https://github.com/hubblo-org/scaphandre\\\" target=\\\"_blank\\\" style = \\\"color: black\\\">Scaphandre</a>\",\"<a href=\\\"https://github.com/ecmwf/metview-python\\\" target=\\\"_blank\\\" style = \\\"color: black\\\">Metview Python bindings</a>\",\"<a href=\\\"https://github.com/SunPower/PVMismatch\\\" target=\\\"_blank\\\" style = \\\"color: black\\\">PVMismatch</a>\",\"<a href=\\\"https://github.com/sanpen/gridcal\\\" target=\\\"_blank\\\" style = \\\"color: black\\\">GridCal</a>\",\"<a href=\\\"https://github.com/ropensci/rfishbase\\\" target=\\\"_blank\\\" style = \\\"color: black\\\">rfishbase</a>\",\"<a href=\\\"https://github.com/yannforget/landsatxplore\\\" target=\\\"_blank\\\" style = \\\"color: black\\\">landsatxplore</a>\",\"<a href=\\\"https://github.com/JRCSTU/co2mpas-ta\\\" target=\\\"_blank\\\" style = \\\"color: black\\\">CO2MPAS-TA</a>\",\"<a href=\\\"https://github.com/tri-amdd/beep\\\" target=\\\"_blank\\\" style = \\\"color: black\\\">beep</a>\",\"<a href=\\\"https://github.com/ropensci/MODIStsp\\\" target=\\\"_blank\\\" style = \\\"color: black\\\">MODIStsp</a>\"],\"yaxis\":\"y\",\"type\":\"bar\"}],                        {\"template\":{\"data\":{\"barpolar\":[{\"marker\":{\"line\":{\"color\":\"#E5ECF6\",\"width\":0.5},\"pattern\":{\"fillmode\":\"overlay\",\"size\":10,\"solidity\":0.2}},\"type\":\"barpolar\"}],\"bar\":[{\"error_x\":{\"color\":\"#2a3f5f\"},\"error_y\":{\"color\":\"#2a3f5f\"},\"marker\":{\"line\":{\"color\":\"#E5ECF6\",\"width\":0.5},\"pattern\":{\"fillmode\":\"overlay\",\"size\":10,\"solidity\":0.2}},\"type\":\"bar\"}],\"carpet\":[{\"aaxis\":{\"endlinecolor\":\"#2a3f5f\",\"gridcolor\":\"white\",\"linecolor\":\"white\",\"minorgridcolor\":\"white\",\"startlinecolor\":\"#2a3f5f\"},\"baxis\":{\"endlinecolor\":\"#2a3f5f\",\"gridcolor\":\"white\",\"linecolor\":\"white\",\"minorgridcolor\":\"white\",\"startlinecolor\":\"#2a3f5f\"},\"type\":\"carpet\"}],\"choropleth\":[{\"colorbar\":{\"outlinewidth\":0,\"ticks\":\"\"},\"type\":\"choropleth\"}],\"contourcarpet\":[{\"colorbar\":{\"outlinewidth\":0,\"ticks\":\"\"},\"type\":\"contourcarpet\"}],\"contour\":[{\"colorbar\":{\"outlinewidth\":0,\"ticks\":\"\"},\"colorscale\":[[0.0,\"#0d0887\"],[0.1111111111111111,\"#46039f\"],[0.2222222222222222,\"#7201a8\"],[0.3333333333333333,\"#9c179e\"],[0.4444444444444444,\"#bd3786\"],[0.5555555555555556,\"#d8576b\"],[0.6666666666666666,\"#ed7953\"],[0.7777777777777778,\"#fb9f3a\"],[0.8888888888888888,\"#fdca26\"],[1.0,\"#f0f921\"]],\"type\":\"contour\"}],\"heatmapgl\":[{\"colorbar\":{\"outlinewidth\":0,\"ticks\":\"\"},\"colorscale\":[[0.0,\"#0d0887\"],[0.1111111111111111,\"#46039f\"],[0.2222222222222222,\"#7201a8\"],[0.3333333333333333,\"#9c179e\"],[0.4444444444444444,\"#bd3786\"],[0.5555555555555556,\"#d8576b\"],[0.6666666666666666,\"#ed7953\"],[0.7777777777777778,\"#fb9f3a\"],[0.8888888888888888,\"#fdca26\"],[1.0,\"#f0f921\"]],\"type\":\"heatmapgl\"}],\"heatmap\":[{\"colorbar\":{\"outlinewidth\":0,\"ticks\":\"\"},\"colorscale\":[[0.0,\"#0d0887\"],[0.1111111111111111,\"#46039f\"],[0.2222222222222222,\"#7201a8\"],[0.3333333333333333,\"#9c179e\"],[0.4444444444444444,\"#bd3786\"],[0.5555555555555556,\"#d8576b\"],[0.6666666666666666,\"#ed7953\"],[0.7777777777777778,\"#fb9f3a\"],[0.8888888888888888,\"#fdca26\"],[1.0,\"#f0f921\"]],\"type\":\"heatmap\"}],\"histogram2dcontour\":[{\"colorbar\":{\"outlinewidth\":0,\"ticks\":\"\"},\"colorscale\":[[0.0,\"#0d0887\"],[0.1111111111111111,\"#46039f\"],[0.2222222222222222,\"#7201a8\"],[0.3333333333333333,\"#9c179e\"],[0.4444444444444444,\"#bd3786\"],[0.5555555555555556,\"#d8576b\"],[0.6666666666666666,\"#ed7953\"],[0.7777777777777778,\"#fb9f3a\"],[0.8888888888888888,\"#fdca26\"],[1.0,\"#f0f921\"]],\"type\":\"histogram2dcontour\"}],\"histogram2d\":[{\"colorbar\":{\"outlinewidth\":0,\"ticks\":\"\"},\"colorscale\":[[0.0,\"#0d0887\"],[0.1111111111111111,\"#46039f\"],[0.2222222222222222,\"#7201a8\"],[0.3333333333333333,\"#9c179e\"],[0.4444444444444444,\"#bd3786\"],[0.5555555555555556,\"#d8576b\"],[0.6666666666666666,\"#ed7953\"],[0.7777777777777778,\"#fb9f3a\"],[0.8888888888888888,\"#fdca26\"],[1.0,\"#f0f921\"]],\"type\":\"histogram2d\"}],\"histogram\":[{\"marker\":{\"pattern\":{\"fillmode\":\"overlay\",\"size\":10,\"solidity\":0.2}},\"type\":\"histogram\"}],\"mesh3d\":[{\"colorbar\":{\"outlinewidth\":0,\"ticks\":\"\"},\"type\":\"mesh3d\"}],\"parcoords\":[{\"line\":{\"colorbar\":{\"outlinewidth\":0,\"ticks\":\"\"}},\"type\":\"parcoords\"}],\"pie\":[{\"automargin\":true,\"type\":\"pie\"}],\"scatter3d\":[{\"line\":{\"colorbar\":{\"outlinewidth\":0,\"ticks\":\"\"}},\"marker\":{\"colorbar\":{\"outlinewidth\":0,\"ticks\":\"\"}},\"type\":\"scatter3d\"}],\"scattercarpet\":[{\"marker\":{\"colorbar\":{\"outlinewidth\":0,\"ticks\":\"\"}},\"type\":\"scattercarpet\"}],\"scattergeo\":[{\"marker\":{\"colorbar\":{\"outlinewidth\":0,\"ticks\":\"\"}},\"type\":\"scattergeo\"}],\"scattergl\":[{\"marker\":{\"colorbar\":{\"outlinewidth\":0,\"ticks\":\"\"}},\"type\":\"scattergl\"}],\"scattermapbox\":[{\"marker\":{\"colorbar\":{\"outlinewidth\":0,\"ticks\":\"\"}},\"type\":\"scattermapbox\"}],\"scatterpolargl\":[{\"marker\":{\"colorbar\":{\"outlinewidth\":0,\"ticks\":\"\"}},\"type\":\"scatterpolargl\"}],\"scatterpolar\":[{\"marker\":{\"colorbar\":{\"outlinewidth\":0,\"ticks\":\"\"}},\"type\":\"scatterpolar\"}],\"scatter\":[{\"fillpattern\":{\"fillmode\":\"overlay\",\"size\":10,\"solidity\":0.2},\"type\":\"scatter\"}],\"scatterternary\":[{\"marker\":{\"colorbar\":{\"outlinewidth\":0,\"ticks\":\"\"}},\"type\":\"scatterternary\"}],\"surface\":[{\"colorbar\":{\"outlinewidth\":0,\"ticks\":\"\"},\"colorscale\":[[0.0,\"#0d0887\"],[0.1111111111111111,\"#46039f\"],[0.2222222222222222,\"#7201a8\"],[0.3333333333333333,\"#9c179e\"],[0.4444444444444444,\"#bd3786\"],[0.5555555555555556,\"#d8576b\"],[0.6666666666666666,\"#ed7953\"],[0.7777777777777778,\"#fb9f3a\"],[0.8888888888888888,\"#fdca26\"],[1.0,\"#f0f921\"]],\"type\":\"surface\"}],\"table\":[{\"cells\":{\"fill\":{\"color\":\"#EBF0F8\"},\"line\":{\"color\":\"white\"}},\"header\":{\"fill\":{\"color\":\"#C8D4E3\"},\"line\":{\"color\":\"white\"}},\"type\":\"table\"}]},\"layout\":{\"annotationdefaults\":{\"arrowcolor\":\"#2a3f5f\",\"arrowhead\":0,\"arrowwidth\":1},\"autotypenumbers\":\"strict\",\"coloraxis\":{\"colorbar\":{\"outlinewidth\":0,\"ticks\":\"\"}},\"colorscale\":{\"diverging\":[[0,\"#8e0152\"],[0.1,\"#c51b7d\"],[0.2,\"#de77ae\"],[0.3,\"#f1b6da\"],[0.4,\"#fde0ef\"],[0.5,\"#f7f7f7\"],[0.6,\"#e6f5d0\"],[0.7,\"#b8e186\"],[0.8,\"#7fbc41\"],[0.9,\"#4d9221\"],[1,\"#276419\"]],\"sequential\":[[0.0,\"#0d0887\"],[0.1111111111111111,\"#46039f\"],[0.2222222222222222,\"#7201a8\"],[0.3333333333333333,\"#9c179e\"],[0.4444444444444444,\"#bd3786\"],[0.5555555555555556,\"#d8576b\"],[0.6666666666666666,\"#ed7953\"],[0.7777777777777778,\"#fb9f3a\"],[0.8888888888888888,\"#fdca26\"],[1.0,\"#f0f921\"]],\"sequentialminus\":[[0.0,\"#0d0887\"],[0.1111111111111111,\"#46039f\"],[0.2222222222222222,\"#7201a8\"],[0.3333333333333333,\"#9c179e\"],[0.4444444444444444,\"#bd3786\"],[0.5555555555555556,\"#d8576b\"],[0.6666666666666666,\"#ed7953\"],[0.7777777777777778,\"#fb9f3a\"],[0.8888888888888888,\"#fdca26\"],[1.0,\"#f0f921\"]]},\"colorway\":[\"#636efa\",\"#EF553B\",\"#00cc96\",\"#ab63fa\",\"#FFA15A\",\"#19d3f3\",\"#FF6692\",\"#B6E880\",\"#FF97FF\",\"#FECB52\"],\"font\":{\"color\":\"#040404\",\"family\":\"Open Sans\",\"size\":15},\"geo\":{\"bgcolor\":\"white\",\"lakecolor\":\"white\",\"landcolor\":\"#E5ECF6\",\"showlakes\":true,\"showland\":true,\"subunitcolor\":\"white\"},\"hoverlabel\":{\"align\":\"left\"},\"hovermode\":\"closest\",\"mapbox\":{\"style\":\"light\"},\"paper_bgcolor\":\"white\",\"plot_bgcolor\":\"#E5ECF6\",\"polar\":{\"angularaxis\":{\"gridcolor\":\"white\",\"linecolor\":\"white\",\"ticks\":\"\"},\"bgcolor\":\"#E5ECF6\",\"radialaxis\":{\"gridcolor\":\"white\",\"linecolor\":\"white\",\"ticks\":\"\"}},\"scene\":{\"xaxis\":{\"backgroundcolor\":\"#E5ECF6\",\"gridcolor\":\"white\",\"gridwidth\":2,\"linecolor\":\"white\",\"showbackground\":true,\"ticks\":\"\",\"zerolinecolor\":\"white\"},\"yaxis\":{\"backgroundcolor\":\"#E5ECF6\",\"gridcolor\":\"white\",\"gridwidth\":2,\"linecolor\":\"white\",\"showbackground\":true,\"ticks\":\"\",\"zerolinecolor\":\"white\"},\"zaxis\":{\"backgroundcolor\":\"#E5ECF6\",\"gridcolor\":\"white\",\"gridwidth\":2,\"linecolor\":\"white\",\"showbackground\":true,\"ticks\":\"\",\"zerolinecolor\":\"white\"}},\"shapedefaults\":{\"line\":{\"color\":\"#2a3f5f\"}},\"ternary\":{\"aaxis\":{\"gridcolor\":\"white\",\"linecolor\":\"white\",\"ticks\":\"\"},\"baxis\":{\"gridcolor\":\"white\",\"linecolor\":\"white\",\"ticks\":\"\"},\"bgcolor\":\"#E5ECF6\",\"caxis\":{\"gridcolor\":\"white\",\"linecolor\":\"white\",\"ticks\":\"\"}},\"title\":{\"x\":0.05,\"font\":{\"color\":\"#040404\",\"family\":\"Open Sans\"}},\"xaxis\":{\"automargin\":true,\"gridcolor\":\"white\",\"linecolor\":\"white\",\"ticks\":\"\",\"title\":{\"standoff\":15},\"zerolinecolor\":\"white\",\"zerolinewidth\":2},\"yaxis\":{\"automargin\":true,\"gridcolor\":\"white\",\"linecolor\":\"white\",\"ticks\":\"\",\"title\":{\"standoff\":15},\"zerolinecolor\":\"white\",\"zerolinewidth\":2},\"margin\":{\"b\":0}}},\"xaxis\":{\"anchor\":\"y\",\"domain\":[0.0,1.0],\"title\":{\"text\":\"Downloads\"}},\"yaxis\":{\"anchor\":\"x\",\"domain\":[0.0,1.0],\"title\":{},\"autorange\":\"reversed\"},\"legend\":{\"tracegroupgap\":0},\"margin\":{\"t\":60},\"barmode\":\"relative\",\"coloraxis\":{\"colorbar\":{\"title\":{\"text\":\"<a href=\\\"https://report.opensustain.tech/chapters/development-distribution-score.html\\\" style = \\\"color: black >DDS</a>\"},\"orientation\":\"h\",\"y\":-0.15,\"x\":0.4}},\"hoverlabel\":{\"bgcolor\":\"white\"},\"height\":2000,\"title\":{\"text\":\"Projects with the most downloads\"},\"dragmode\":false,\"images\":[{\"sizex\":0.05,\"sizey\":0.05,\"source\":\"data:image/png;base64,iVBORw0KGgoAAAANSUhEUgAAADwAAAA8CAYAAAA6/NlyAAAD20lEQVR4nO2ZTWgcZRjHf8/spjWkFYmKmbR+oVKaCPbQU8i2tCBqEbrU7LIJVhG0PVWQih4UehAVQVAkAQ/qRW1WdhPrB+pJ1DQF6aEnQ0WqqCQbhfpFW6nJzOMhBgQ3u+/MvPORmP91n/n/nx/v7DvPvCOqyv9JTtoNJK114LWufBIh5TIbZj3uQLldhJtV2CJwlfrkpicpJtHDsmIDHtzPZjo4gM8IQkGgE1n6Tf7ZJ0W4HFf+SrIOvLvI9YsORyXPwyhdy5BZkTXgwf1s1jzHJMejAh22fG3LCnDhAHeT53WBXht+cSoS8J495Beu5nmEo5C1m7e5QgPv28fGxW7eQhmy2VDcCgV81wN0XezkE2DQcj+xKzDwzsN0XHGJGqsQFkJMWp3nGUO5J45mklCgFS7cx0GFRyzk/izCT6p8Z8ErkMT09XCgzBZnkRmEK0NmTaswicd70+9yLqRHZBmvcM7jZQ0He1qEZ6bqfBDiWusyWuGBEgOOz3RAb1+Ep05O8IIqmTllMFphR3k6oO8FUYanJvgwRE+xqu0K7yrT53t8FcDTE6U4NZk9WDB4LKnHg0EMVXgiq7DQBlgEAUYC+H15aoKXorUUr1oCF0psV9hqaibK41naoJqpJbDvs9fYSflsapKTkTuKWa3/w8oOUyOBetRmklC7TWuboY86Pu9HbSYJtQO+0dDn/Ocn+DFqM0mo9S6N8Sg5Z6GXRNRy0lIYUyHXzkSUb+y1FK+M35bWitY/tSQhaVQvAxvaV+oX6g7vtpmd1gpfMCsT13ZwWsC/GdZZP9hPCVi/NSzsktnjO2wmpwOs8rVxrThFm9HpADt62rhWGBKLn3HSAfbl0wDV/cxVy7aiUxs8pFGdAbYblp/j11yf9pX+ipqb5uBxPEDtLXT7L9oITRHYfxPwjMtVj0jjnUNRU1MDVnfkeyTooYGOSmP8cJTcdGfpRX0OAp2BdYC8KnPVUZmpGYym/1Xqb0syP/4GKg+FuPQHkGdxz76mHPON89IHrl2LemeB7nAOOoNSBzmhvZUzbfPSBgaQ+eoQSs2C1Z8IsygNdSu7mhVk4n1Yeyp1lDELVp0otwKFlQoyAQxA7x+PAR/HHZMZYOXQAs5CCTgVZ05mgAH0uoMXYdOdIB/FlZEpYAB1772E+3sRYTQO/8wBw9LtrT2VIwgl4Beb3pkEXpb2VOp4uduAVwDj4aKVMvEcNpHMj/ej8iQwjMFpq7qVpocGqwZ4WdKo3QDe/Sx9qO9fqW7NAP9bMvv2VnL5vcBOVLcBNwHXAJvUrWxses1qBg6jTG9acWgdeK3rb5uuGEmTzESgAAAAAElFTkSuQmCC\",\"x\":1,\"xanchor\":\"right\",\"xref\":\"paper\",\"y\":0,\"yanchor\":\"bottom\",\"yref\":\"paper\"}],\"showlegend\":false,\"hovermode\":\"y\",\"hoverdistance\":1000},                        {\"toImageButtonOptions\": {\"format\": \"svg\"}, \"responsive\": \"true\"}                    ).then(function(){\n",
       "                            \n",
       "var gd = document.getElementById('78925a4d-fb1a-452c-b411-280900efa9a6');\n",
       "var x = new MutationObserver(function (mutations, observer) {{\n",
       "        var display = window.getComputedStyle(gd).display;\n",
       "        if (!display || display === 'none') {{\n",
       "            console.log([gd, 'removed!']);\n",
       "            Plotly.purge(gd);\n",
       "            observer.disconnect();\n",
       "        }}\n",
       "}});\n",
       "\n",
       "// Listen for the removal of the full notebook cells\n",
       "var notebookContainer = gd.closest('#notebook-container');\n",
       "if (notebookContainer) {{\n",
       "    x.observe(notebookContainer, {childList: true});\n",
       "}}\n",
       "\n",
       "// Listen for the clearing of the current output cell\n",
       "var outputEl = gd.closest('.output');\n",
       "if (outputEl) {{\n",
       "    x.observe(outputEl, {childList: true});\n",
       "}}\n",
       "\n",
       "                        })                };                });            </script>        </div>"
      ]
     },
     "metadata": {},
     "output_type": "display_data"
    }
   ],
   "source": [
    "import numpy as np\n",
    "import pandas as pd\n",
    "import plotly.io as pio\n",
    "import plotly.graph_objects as go\n",
    "import plotly.express as px\n",
    "\n",
    "#df_extract = df_extract[df_extract[\"category\"] == \"Renewable Energy\"]\n",
    "\n",
    "top_downloaders = df_extract.nlargest(100, \"download_counts\")\n",
    "\n",
    "fig = px.bar(\n",
    "    top_downloaders,\n",
    "    x=top_downloaders[\"download_counts\"],\n",
    "    y=top_downloaders[\"project_names\"],\n",
    "    custom_data=[\"project_names\", \"download_counts\", \"git_url\", \"description\",\"category\"],\n",
    "    orientation=\"h\",\n",
    ")\n",
    "\n",
    "fig.update_layout(\n",
    "    height=2000,  # Added parameter\n",
    "    #width=700,\n",
    "    xaxis_title=\"Downloads\",\n",
    "    yaxis_title=None,\n",
    "    title=\"Projects with the most downloads\",\n",
    "    coloraxis_colorbar=dict(\n",
    "        title='<a href=\"https://report.opensustain.tech/chapters/development-distribution-score.html\" style = \"color: black >DDS</a>',\n",
    "        orientation='h',\n",
    "        y=-0.15,\n",
    "        x=0.4\n",
    "    ),\n",
    "    hoverlabel=dict(bgcolor=\"white\"),\n",
    "    dragmode=False,\n",
    ")\n",
    "\n",
    "fig.add_layout_image(\n",
    "    dict(\n",
    "        source=logo_img,\n",
    "        xref=\"paper\",\n",
    "        yref=\"paper\",\n",
    "        x=1,\n",
    "        y=0,\n",
    "        sizex=0.05,\n",
    "        sizey=0.05,\n",
    "        xanchor=\"right\",\n",
    "        yanchor=\"bottom\",\n",
    "    )\n",
    ")\n",
    "\n",
    "fig.update_traces(\n",
    "    hovertemplate=\"<br>\".join(\n",
    "        [\n",
    "            \"Project Name: <b>%{customdata[0]}</b>\",\n",
    "            \"Downloads: <b>%{customdata[1]}</b>\",\n",
    "            \"Git URL: <b>%{customdata[2]}</b>\",\n",
    "            \"Description: <b>%{customdata[3]}</b>\",\n",
    "            \"Category: <b>%{customdata[4]}</b>\"\n",
    "        ]\n",
    "    )\n",
    ")\n",
    "\n",
    "fig[\"layout\"][\"yaxis\"][\"autorange\"] = \"reversed\"\n",
    "fig.update(layout_showlegend=False)\n",
    "fig.update_layout(hovermode=\"y\",hoverdistance=1000)\n",
    "\n",
    "config = {\n",
    "  'toImageButtonOptions': {\n",
    "    'format': 'svg', # one of png, svg, jpeg, webp\n",
    "  },\n",
    "  'responsive':'true'\n",
    "}\n",
    "fig.show(config=config)"
   ]
  },
  {
   "cell_type": "code",
   "execution_count": null,
   "id": "77c313d0",
   "metadata": {},
   "outputs": [],
   "source": []
  }
 ],
 "metadata": {
  "kernelspec": {
   "display_name": "Python 3.8 (XPython)",
   "language": "python",
   "name": "xpython"
  },
  "language_info": {
   "file_extension": ".py",
   "mimetype": "text/x-python",
   "name": "python",
   "version": "3.8.9"
  }
 },
 "nbformat": 4,
 "nbformat_minor": 5
}
